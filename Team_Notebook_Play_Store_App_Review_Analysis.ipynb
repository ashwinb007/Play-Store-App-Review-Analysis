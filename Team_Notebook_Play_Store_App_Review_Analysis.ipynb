{
  "nbformat": 4,
  "nbformat_minor": 0,
  "metadata": {
    "colab": {
      "provenance": [],
      "collapsed_sections": [
        "55JBThqvWNXQ",
        "pyZuBZHiX0G3",
        "8dX85rnSYJ_v",
        "OmY8hzmTZ5cY",
        "UN5Iij66mp_n",
        "G3DYVG-4pyPQ",
        "w3kE_98VrDH-",
        "ncmt6ncXs4cC",
        "FrRkqX55Q0gB",
        "2O1-Hqk3tD9o",
        "zPrF1vHUukfh",
        "rZ_iQT4WvkDe",
        "qqcVVNj6wOOL",
        "Pwyxgzs7xNLv",
        "3zEPEQ3FZMAM",
        "RQvSxmrTxxM9"
      ],
      "include_colab_link": true
    },
    "kernelspec": {
      "name": "python3",
      "display_name": "Python 3"
    },
    "language_info": {
      "name": "python"
    }
  },
  "cells": [
    {
      "cell_type": "markdown",
      "metadata": {
        "id": "view-in-github",
        "colab_type": "text"
      },
      "source": [
        "<a href=\"https://colab.research.google.com/github/ashwinb007/Play-Store-App-Review-Analysis/blob/main/Team_Notebook_Play_Store_App_Review_Analysis.ipynb\" target=\"_parent\"><img src=\"https://colab.research.google.com/assets/colab-badge.svg\" alt=\"Open In Colab\"/></a>"
      ]
    },
    {
      "cell_type": "markdown",
      "source": [
        "# **Project Name**    - Play Store App Review Analysis\n",
        "\n"
      ],
      "metadata": {
        "id": "keyf5nLOREfR"
      }
    },
    {
      "cell_type": "markdown",
      "source": [
        "**Project Type**    - EDA\n",
        "##### **Contribution**    - Team\n",
        "##### **Team Member 1 -** Ashwin Babu\n",
        "##### **Team Member 2 -** Amar Singh Chouhan\n",
        "##### **Team Member 3 -** Hitesh Malvi\n",
        "##### **Team Member 4 -** Ninad Rathod\n",
        "##### **Team Member 5 -** Vikas Chandra"
      ],
      "metadata": {
        "id": "4GTYFAhWlG2j"
      }
    },
    {
      "cell_type": "markdown",
      "source": [
        "# **Project Summary -**"
      ],
      "metadata": {
        "id": "c3pj0PQslibR"
      }
    },
    {
      "cell_type": "markdown",
      "source": [
        "**PlayStore**\n",
        "\n",
        "*Play Store and formerly Android Market, is a digital distribution service operated and developed by Google. It has enormous potential to drive app-making businesses to success. Actionable insights can be drawn for developers to work on and capture the Android market.*"
      ],
      "metadata": {
        "id": "nzv61hAgRmsK"
      }
    },
    {
      "cell_type": "markdown",
      "source": [
        "**Data**\n",
        "\n",
        "*In this notebook, we will do a comprehensive analysis of the Android app market and users review by comparing over ten thousand apps and reveiws repectively in Google Play across different categories. We'll look for insights in the data to devise strategies to drive growth and retention.*\n",
        "\n",
        "*Each app (row) has values for catergory, rating, size, and more. Another dataset contains customer reviews of the android apps.*\n",
        "\n",
        "*Also, we will explore and analyze the data to discover key factors responsible for app engagement and success.*\n",
        "\n"
      ],
      "metadata": {
        "id": "M_xzGelkSM-1"
      }
    },
    {
      "cell_type": "markdown",
      "source": [
        "# **GitHub Link -**"
      ],
      "metadata": {
        "id": "YvMzMqFULSd7"
      }
    },
    {
      "cell_type": "markdown",
      "source": [
        "https://github.com/ashwinb007/Play-Store-App-Review-Analysis"
      ],
      "metadata": {
        "id": "CqKO3SxgLRVV"
      }
    },
    {
      "cell_type": "markdown",
      "source": [
        "# Importing libraries"
      ],
      "metadata": {
        "id": "0_NgeFwmS23Z"
      }
    },
    {
      "cell_type": "code",
      "source": [
        "import numpy as np\n",
        "import pandas as pd\n",
        "from matplotlib import pyplot as plt \n",
        "%matplotlib inline\n",
        "import seaborn as sns \n",
        "\n",
        "import plotly  \n",
        "plotly.offline.init_notebook_mode(connected=True)\n",
        "import plotly.graph_objs as go\n",
        "\n",
        "import plotly.express as px\n",
        "\n",
        "# for visualization google colab\n",
        "import plotly.io as iplot\n",
        "iplot.renderers.default = 'colab'"
      ],
      "metadata": {
        "colab": {
          "base_uri": "https://localhost:8080/",
          "height": 17
        },
        "id": "ZhTTdnydS8sQ",
        "outputId": "52c46859-9380-466b-aea6-d2e1781ec715"
      },
      "execution_count": null,
      "outputs": [
        {
          "output_type": "display_data",
          "data": {
            "text/html": [
              "        <script type=\"text/javascript\">\n",
              "        window.PlotlyConfig = {MathJaxConfig: 'local'};\n",
              "        if (window.MathJax) {MathJax.Hub.Config({SVG: {font: \"STIX-Web\"}});}\n",
              "        if (typeof require !== 'undefined') {\n",
              "        require.undef(\"plotly\");\n",
              "        requirejs.config({\n",
              "            paths: {\n",
              "                'plotly': ['https://cdn.plot.ly/plotly-2.8.3.min']\n",
              "            }\n",
              "        });\n",
              "        require(['plotly'], function(Plotly) {\n",
              "            window._Plotly = Plotly;\n",
              "        });\n",
              "        }\n",
              "        </script>\n",
              "        "
            ]
          },
          "metadata": {}
        }
      ]
    },
    {
      "cell_type": "markdown",
      "source": [
        "# Mounting drive and importing data"
      ],
      "metadata": {
        "id": "QVosS4GxTlop"
      }
    },
    {
      "cell_type": "code",
      "source": [
        "from google.colab import drive\n",
        "drive.mount('/content/drive', force_remount=True)"
      ],
      "metadata": {
        "colab": {
          "base_uri": "https://localhost:8080/"
        },
        "id": "5fKMqd5JTqyG",
        "outputId": "80aa9e86-9dc1-4340-b406-3457d413e847"
      },
      "execution_count": null,
      "outputs": [
        {
          "output_type": "stream",
          "name": "stdout",
          "text": [
            "Mounted at /content/drive\n"
          ]
        }
      ]
    },
    {
      "cell_type": "code",
      "source": [
        "play_store = pd.read_csv('/content/drive/MyDrive/Copy of Play Store Data.csv')\n",
        "user_review = pd.read_csv('/content/drive/MyDrive/Copy of User Reviews.csv')"
      ],
      "metadata": {
        "id": "e0izTuUlTuNw"
      },
      "execution_count": null,
      "outputs": []
    },
    {
      "cell_type": "code",
      "source": [
        "play_store"
      ],
      "metadata": {
        "colab": {
          "base_uri": "https://localhost:8080/",
          "height": 1000
        },
        "id": "uoU-7qnLUZVy",
        "outputId": "5fe5ef2d-30a2-4f43-99b5-50edfe597945"
      },
      "execution_count": null,
      "outputs": [
        {
          "output_type": "execute_result",
          "data": {
            "text/plain": [
              "                                                     App             Category  \\\n",
              "0         Photo Editor & Candy Camera & Grid & ScrapBook       ART_AND_DESIGN   \n",
              "1                                    Coloring book moana       ART_AND_DESIGN   \n",
              "2      U Launcher Lite – FREE Live Cool Themes, Hide ...       ART_AND_DESIGN   \n",
              "3                                  Sketch - Draw & Paint       ART_AND_DESIGN   \n",
              "4                  Pixel Draw - Number Art Coloring Book       ART_AND_DESIGN   \n",
              "...                                                  ...                  ...   \n",
              "10836                                   Sya9a Maroc - FR               FAMILY   \n",
              "10837                   Fr. Mike Schmitz Audio Teachings               FAMILY   \n",
              "10838                             Parkinson Exercices FR              MEDICAL   \n",
              "10839                      The SCP Foundation DB fr nn5n  BOOKS_AND_REFERENCE   \n",
              "10840      iHoroscope - 2018 Daily Horoscope & Astrology            LIFESTYLE   \n",
              "\n",
              "       Rating Reviews                Size     Installs  Type Price  \\\n",
              "0         4.1     159                 19M      10,000+  Free     0   \n",
              "1         3.9     967                 14M     500,000+  Free     0   \n",
              "2         4.7   87510                8.7M   5,000,000+  Free     0   \n",
              "3         4.5  215644                 25M  50,000,000+  Free     0   \n",
              "4         4.3     967                2.8M     100,000+  Free     0   \n",
              "...       ...     ...                 ...          ...   ...   ...   \n",
              "10836     4.5      38                 53M       5,000+  Free     0   \n",
              "10837     5.0       4                3.6M         100+  Free     0   \n",
              "10838     NaN       3                9.5M       1,000+  Free     0   \n",
              "10839     4.5     114  Varies with device       1,000+  Free     0   \n",
              "10840     4.5  398307                 19M  10,000,000+  Free     0   \n",
              "\n",
              "      Content Rating                     Genres      Last Updated  \\\n",
              "0           Everyone               Art & Design   January 7, 2018   \n",
              "1           Everyone  Art & Design;Pretend Play  January 15, 2018   \n",
              "2           Everyone               Art & Design    August 1, 2018   \n",
              "3               Teen               Art & Design      June 8, 2018   \n",
              "4           Everyone    Art & Design;Creativity     June 20, 2018   \n",
              "...              ...                        ...               ...   \n",
              "10836       Everyone                  Education     July 25, 2017   \n",
              "10837       Everyone                  Education      July 6, 2018   \n",
              "10838       Everyone                    Medical  January 20, 2017   \n",
              "10839     Mature 17+          Books & Reference  January 19, 2015   \n",
              "10840       Everyone                  Lifestyle     July 25, 2018   \n",
              "\n",
              "              Current Ver         Android Ver  \n",
              "0                   1.0.0        4.0.3 and up  \n",
              "1                   2.0.0        4.0.3 and up  \n",
              "2                   1.2.4        4.0.3 and up  \n",
              "3      Varies with device          4.2 and up  \n",
              "4                     1.1          4.4 and up  \n",
              "...                   ...                 ...  \n",
              "10836                1.48          4.1 and up  \n",
              "10837                 1.0          4.1 and up  \n",
              "10838                 1.0          2.2 and up  \n",
              "10839  Varies with device  Varies with device  \n",
              "10840  Varies with device  Varies with device  \n",
              "\n",
              "[10841 rows x 13 columns]"
            ],
            "text/html": [
              "\n",
              "  <div id=\"df-238b7d10-9867-41c0-82d7-4f3508535211\">\n",
              "    <div class=\"colab-df-container\">\n",
              "      <div>\n",
              "<style scoped>\n",
              "    .dataframe tbody tr th:only-of-type {\n",
              "        vertical-align: middle;\n",
              "    }\n",
              "\n",
              "    .dataframe tbody tr th {\n",
              "        vertical-align: top;\n",
              "    }\n",
              "\n",
              "    .dataframe thead th {\n",
              "        text-align: right;\n",
              "    }\n",
              "</style>\n",
              "<table border=\"1\" class=\"dataframe\">\n",
              "  <thead>\n",
              "    <tr style=\"text-align: right;\">\n",
              "      <th></th>\n",
              "      <th>App</th>\n",
              "      <th>Category</th>\n",
              "      <th>Rating</th>\n",
              "      <th>Reviews</th>\n",
              "      <th>Size</th>\n",
              "      <th>Installs</th>\n",
              "      <th>Type</th>\n",
              "      <th>Price</th>\n",
              "      <th>Content Rating</th>\n",
              "      <th>Genres</th>\n",
              "      <th>Last Updated</th>\n",
              "      <th>Current Ver</th>\n",
              "      <th>Android Ver</th>\n",
              "    </tr>\n",
              "  </thead>\n",
              "  <tbody>\n",
              "    <tr>\n",
              "      <th>0</th>\n",
              "      <td>Photo Editor &amp; Candy Camera &amp; Grid &amp; ScrapBook</td>\n",
              "      <td>ART_AND_DESIGN</td>\n",
              "      <td>4.1</td>\n",
              "      <td>159</td>\n",
              "      <td>19M</td>\n",
              "      <td>10,000+</td>\n",
              "      <td>Free</td>\n",
              "      <td>0</td>\n",
              "      <td>Everyone</td>\n",
              "      <td>Art &amp; Design</td>\n",
              "      <td>January 7, 2018</td>\n",
              "      <td>1.0.0</td>\n",
              "      <td>4.0.3 and up</td>\n",
              "    </tr>\n",
              "    <tr>\n",
              "      <th>1</th>\n",
              "      <td>Coloring book moana</td>\n",
              "      <td>ART_AND_DESIGN</td>\n",
              "      <td>3.9</td>\n",
              "      <td>967</td>\n",
              "      <td>14M</td>\n",
              "      <td>500,000+</td>\n",
              "      <td>Free</td>\n",
              "      <td>0</td>\n",
              "      <td>Everyone</td>\n",
              "      <td>Art &amp; Design;Pretend Play</td>\n",
              "      <td>January 15, 2018</td>\n",
              "      <td>2.0.0</td>\n",
              "      <td>4.0.3 and up</td>\n",
              "    </tr>\n",
              "    <tr>\n",
              "      <th>2</th>\n",
              "      <td>U Launcher Lite – FREE Live Cool Themes, Hide ...</td>\n",
              "      <td>ART_AND_DESIGN</td>\n",
              "      <td>4.7</td>\n",
              "      <td>87510</td>\n",
              "      <td>8.7M</td>\n",
              "      <td>5,000,000+</td>\n",
              "      <td>Free</td>\n",
              "      <td>0</td>\n",
              "      <td>Everyone</td>\n",
              "      <td>Art &amp; Design</td>\n",
              "      <td>August 1, 2018</td>\n",
              "      <td>1.2.4</td>\n",
              "      <td>4.0.3 and up</td>\n",
              "    </tr>\n",
              "    <tr>\n",
              "      <th>3</th>\n",
              "      <td>Sketch - Draw &amp; Paint</td>\n",
              "      <td>ART_AND_DESIGN</td>\n",
              "      <td>4.5</td>\n",
              "      <td>215644</td>\n",
              "      <td>25M</td>\n",
              "      <td>50,000,000+</td>\n",
              "      <td>Free</td>\n",
              "      <td>0</td>\n",
              "      <td>Teen</td>\n",
              "      <td>Art &amp; Design</td>\n",
              "      <td>June 8, 2018</td>\n",
              "      <td>Varies with device</td>\n",
              "      <td>4.2 and up</td>\n",
              "    </tr>\n",
              "    <tr>\n",
              "      <th>4</th>\n",
              "      <td>Pixel Draw - Number Art Coloring Book</td>\n",
              "      <td>ART_AND_DESIGN</td>\n",
              "      <td>4.3</td>\n",
              "      <td>967</td>\n",
              "      <td>2.8M</td>\n",
              "      <td>100,000+</td>\n",
              "      <td>Free</td>\n",
              "      <td>0</td>\n",
              "      <td>Everyone</td>\n",
              "      <td>Art &amp; Design;Creativity</td>\n",
              "      <td>June 20, 2018</td>\n",
              "      <td>1.1</td>\n",
              "      <td>4.4 and up</td>\n",
              "    </tr>\n",
              "    <tr>\n",
              "      <th>...</th>\n",
              "      <td>...</td>\n",
              "      <td>...</td>\n",
              "      <td>...</td>\n",
              "      <td>...</td>\n",
              "      <td>...</td>\n",
              "      <td>...</td>\n",
              "      <td>...</td>\n",
              "      <td>...</td>\n",
              "      <td>...</td>\n",
              "      <td>...</td>\n",
              "      <td>...</td>\n",
              "      <td>...</td>\n",
              "      <td>...</td>\n",
              "    </tr>\n",
              "    <tr>\n",
              "      <th>10836</th>\n",
              "      <td>Sya9a Maroc - FR</td>\n",
              "      <td>FAMILY</td>\n",
              "      <td>4.5</td>\n",
              "      <td>38</td>\n",
              "      <td>53M</td>\n",
              "      <td>5,000+</td>\n",
              "      <td>Free</td>\n",
              "      <td>0</td>\n",
              "      <td>Everyone</td>\n",
              "      <td>Education</td>\n",
              "      <td>July 25, 2017</td>\n",
              "      <td>1.48</td>\n",
              "      <td>4.1 and up</td>\n",
              "    </tr>\n",
              "    <tr>\n",
              "      <th>10837</th>\n",
              "      <td>Fr. Mike Schmitz Audio Teachings</td>\n",
              "      <td>FAMILY</td>\n",
              "      <td>5.0</td>\n",
              "      <td>4</td>\n",
              "      <td>3.6M</td>\n",
              "      <td>100+</td>\n",
              "      <td>Free</td>\n",
              "      <td>0</td>\n",
              "      <td>Everyone</td>\n",
              "      <td>Education</td>\n",
              "      <td>July 6, 2018</td>\n",
              "      <td>1.0</td>\n",
              "      <td>4.1 and up</td>\n",
              "    </tr>\n",
              "    <tr>\n",
              "      <th>10838</th>\n",
              "      <td>Parkinson Exercices FR</td>\n",
              "      <td>MEDICAL</td>\n",
              "      <td>NaN</td>\n",
              "      <td>3</td>\n",
              "      <td>9.5M</td>\n",
              "      <td>1,000+</td>\n",
              "      <td>Free</td>\n",
              "      <td>0</td>\n",
              "      <td>Everyone</td>\n",
              "      <td>Medical</td>\n",
              "      <td>January 20, 2017</td>\n",
              "      <td>1.0</td>\n",
              "      <td>2.2 and up</td>\n",
              "    </tr>\n",
              "    <tr>\n",
              "      <th>10839</th>\n",
              "      <td>The SCP Foundation DB fr nn5n</td>\n",
              "      <td>BOOKS_AND_REFERENCE</td>\n",
              "      <td>4.5</td>\n",
              "      <td>114</td>\n",
              "      <td>Varies with device</td>\n",
              "      <td>1,000+</td>\n",
              "      <td>Free</td>\n",
              "      <td>0</td>\n",
              "      <td>Mature 17+</td>\n",
              "      <td>Books &amp; Reference</td>\n",
              "      <td>January 19, 2015</td>\n",
              "      <td>Varies with device</td>\n",
              "      <td>Varies with device</td>\n",
              "    </tr>\n",
              "    <tr>\n",
              "      <th>10840</th>\n",
              "      <td>iHoroscope - 2018 Daily Horoscope &amp; Astrology</td>\n",
              "      <td>LIFESTYLE</td>\n",
              "      <td>4.5</td>\n",
              "      <td>398307</td>\n",
              "      <td>19M</td>\n",
              "      <td>10,000,000+</td>\n",
              "      <td>Free</td>\n",
              "      <td>0</td>\n",
              "      <td>Everyone</td>\n",
              "      <td>Lifestyle</td>\n",
              "      <td>July 25, 2018</td>\n",
              "      <td>Varies with device</td>\n",
              "      <td>Varies with device</td>\n",
              "    </tr>\n",
              "  </tbody>\n",
              "</table>\n",
              "<p>10841 rows × 13 columns</p>\n",
              "</div>\n",
              "      <button class=\"colab-df-convert\" onclick=\"convertToInteractive('df-238b7d10-9867-41c0-82d7-4f3508535211')\"\n",
              "              title=\"Convert this dataframe to an interactive table.\"\n",
              "              style=\"display:none;\">\n",
              "        \n",
              "  <svg xmlns=\"http://www.w3.org/2000/svg\" height=\"24px\"viewBox=\"0 0 24 24\"\n",
              "       width=\"24px\">\n",
              "    <path d=\"M0 0h24v24H0V0z\" fill=\"none\"/>\n",
              "    <path d=\"M18.56 5.44l.94 2.06.94-2.06 2.06-.94-2.06-.94-.94-2.06-.94 2.06-2.06.94zm-11 1L8.5 8.5l.94-2.06 2.06-.94-2.06-.94L8.5 2.5l-.94 2.06-2.06.94zm10 10l.94 2.06.94-2.06 2.06-.94-2.06-.94-.94-2.06-.94 2.06-2.06.94z\"/><path d=\"M17.41 7.96l-1.37-1.37c-.4-.4-.92-.59-1.43-.59-.52 0-1.04.2-1.43.59L10.3 9.45l-7.72 7.72c-.78.78-.78 2.05 0 2.83L4 21.41c.39.39.9.59 1.41.59.51 0 1.02-.2 1.41-.59l7.78-7.78 2.81-2.81c.8-.78.8-2.07 0-2.86zM5.41 20L4 18.59l7.72-7.72 1.47 1.35L5.41 20z\"/>\n",
              "  </svg>\n",
              "      </button>\n",
              "      \n",
              "  <style>\n",
              "    .colab-df-container {\n",
              "      display:flex;\n",
              "      flex-wrap:wrap;\n",
              "      gap: 12px;\n",
              "    }\n",
              "\n",
              "    .colab-df-convert {\n",
              "      background-color: #E8F0FE;\n",
              "      border: none;\n",
              "      border-radius: 50%;\n",
              "      cursor: pointer;\n",
              "      display: none;\n",
              "      fill: #1967D2;\n",
              "      height: 32px;\n",
              "      padding: 0 0 0 0;\n",
              "      width: 32px;\n",
              "    }\n",
              "\n",
              "    .colab-df-convert:hover {\n",
              "      background-color: #E2EBFA;\n",
              "      box-shadow: 0px 1px 2px rgba(60, 64, 67, 0.3), 0px 1px 3px 1px rgba(60, 64, 67, 0.15);\n",
              "      fill: #174EA6;\n",
              "    }\n",
              "\n",
              "    [theme=dark] .colab-df-convert {\n",
              "      background-color: #3B4455;\n",
              "      fill: #D2E3FC;\n",
              "    }\n",
              "\n",
              "    [theme=dark] .colab-df-convert:hover {\n",
              "      background-color: #434B5C;\n",
              "      box-shadow: 0px 1px 3px 1px rgba(0, 0, 0, 0.15);\n",
              "      filter: drop-shadow(0px 1px 2px rgba(0, 0, 0, 0.3));\n",
              "      fill: #FFFFFF;\n",
              "    }\n",
              "  </style>\n",
              "\n",
              "      <script>\n",
              "        const buttonEl =\n",
              "          document.querySelector('#df-238b7d10-9867-41c0-82d7-4f3508535211 button.colab-df-convert');\n",
              "        buttonEl.style.display =\n",
              "          google.colab.kernel.accessAllowed ? 'block' : 'none';\n",
              "\n",
              "        async function convertToInteractive(key) {\n",
              "          const element = document.querySelector('#df-238b7d10-9867-41c0-82d7-4f3508535211');\n",
              "          const dataTable =\n",
              "            await google.colab.kernel.invokeFunction('convertToInteractive',\n",
              "                                                     [key], {});\n",
              "          if (!dataTable) return;\n",
              "\n",
              "          const docLinkHtml = 'Like what you see? Visit the ' +\n",
              "            '<a target=\"_blank\" href=https://colab.research.google.com/notebooks/data_table.ipynb>data table notebook</a>'\n",
              "            + ' to learn more about interactive tables.';\n",
              "          element.innerHTML = '';\n",
              "          dataTable['output_type'] = 'display_data';\n",
              "          await google.colab.output.renderOutput(dataTable, element);\n",
              "          const docLink = document.createElement('div');\n",
              "          docLink.innerHTML = docLinkHtml;\n",
              "          element.appendChild(docLink);\n",
              "        }\n",
              "      </script>\n",
              "    </div>\n",
              "  </div>\n",
              "  "
            ]
          },
          "metadata": {},
          "execution_count": 4
        }
      ]
    },
    {
      "cell_type": "code",
      "source": [
        "user_review"
      ],
      "metadata": {
        "colab": {
          "base_uri": "https://localhost:8080/",
          "height": 468
        },
        "id": "N4Grtaf6UmqF",
        "outputId": "d17d87ec-45fa-4349-e3c7-4ddad04966d9"
      },
      "execution_count": null,
      "outputs": [
        {
          "output_type": "execute_result",
          "data": {
            "text/plain": [
              "                               App  \\\n",
              "0            10 Best Foods for You   \n",
              "1            10 Best Foods for You   \n",
              "2            10 Best Foods for You   \n",
              "3            10 Best Foods for You   \n",
              "4            10 Best Foods for You   \n",
              "...                            ...   \n",
              "64290  Houzz Interior Design Ideas   \n",
              "64291  Houzz Interior Design Ideas   \n",
              "64292  Houzz Interior Design Ideas   \n",
              "64293  Houzz Interior Design Ideas   \n",
              "64294  Houzz Interior Design Ideas   \n",
              "\n",
              "                                       Translated_Review Sentiment  \\\n",
              "0      I like eat delicious food. That's I'm cooking ...  Positive   \n",
              "1        This help eating healthy exercise regular basis  Positive   \n",
              "2                                                    NaN       NaN   \n",
              "3             Works great especially going grocery store  Positive   \n",
              "4                                           Best idea us  Positive   \n",
              "...                                                  ...       ...   \n",
              "64290                                                NaN       NaN   \n",
              "64291                                                NaN       NaN   \n",
              "64292                                                NaN       NaN   \n",
              "64293                                                NaN       NaN   \n",
              "64294                                                NaN       NaN   \n",
              "\n",
              "       Sentiment_Polarity  Sentiment_Subjectivity  \n",
              "0                    1.00                0.533333  \n",
              "1                    0.25                0.288462  \n",
              "2                     NaN                     NaN  \n",
              "3                    0.40                0.875000  \n",
              "4                    1.00                0.300000  \n",
              "...                   ...                     ...  \n",
              "64290                 NaN                     NaN  \n",
              "64291                 NaN                     NaN  \n",
              "64292                 NaN                     NaN  \n",
              "64293                 NaN                     NaN  \n",
              "64294                 NaN                     NaN  \n",
              "\n",
              "[64295 rows x 5 columns]"
            ],
            "text/html": [
              "\n",
              "  <div id=\"df-c50c3ffc-0357-4859-b5f8-9fa963fa2e20\">\n",
              "    <div class=\"colab-df-container\">\n",
              "      <div>\n",
              "<style scoped>\n",
              "    .dataframe tbody tr th:only-of-type {\n",
              "        vertical-align: middle;\n",
              "    }\n",
              "\n",
              "    .dataframe tbody tr th {\n",
              "        vertical-align: top;\n",
              "    }\n",
              "\n",
              "    .dataframe thead th {\n",
              "        text-align: right;\n",
              "    }\n",
              "</style>\n",
              "<table border=\"1\" class=\"dataframe\">\n",
              "  <thead>\n",
              "    <tr style=\"text-align: right;\">\n",
              "      <th></th>\n",
              "      <th>App</th>\n",
              "      <th>Translated_Review</th>\n",
              "      <th>Sentiment</th>\n",
              "      <th>Sentiment_Polarity</th>\n",
              "      <th>Sentiment_Subjectivity</th>\n",
              "    </tr>\n",
              "  </thead>\n",
              "  <tbody>\n",
              "    <tr>\n",
              "      <th>0</th>\n",
              "      <td>10 Best Foods for You</td>\n",
              "      <td>I like eat delicious food. That's I'm cooking ...</td>\n",
              "      <td>Positive</td>\n",
              "      <td>1.00</td>\n",
              "      <td>0.533333</td>\n",
              "    </tr>\n",
              "    <tr>\n",
              "      <th>1</th>\n",
              "      <td>10 Best Foods for You</td>\n",
              "      <td>This help eating healthy exercise regular basis</td>\n",
              "      <td>Positive</td>\n",
              "      <td>0.25</td>\n",
              "      <td>0.288462</td>\n",
              "    </tr>\n",
              "    <tr>\n",
              "      <th>2</th>\n",
              "      <td>10 Best Foods for You</td>\n",
              "      <td>NaN</td>\n",
              "      <td>NaN</td>\n",
              "      <td>NaN</td>\n",
              "      <td>NaN</td>\n",
              "    </tr>\n",
              "    <tr>\n",
              "      <th>3</th>\n",
              "      <td>10 Best Foods for You</td>\n",
              "      <td>Works great especially going grocery store</td>\n",
              "      <td>Positive</td>\n",
              "      <td>0.40</td>\n",
              "      <td>0.875000</td>\n",
              "    </tr>\n",
              "    <tr>\n",
              "      <th>4</th>\n",
              "      <td>10 Best Foods for You</td>\n",
              "      <td>Best idea us</td>\n",
              "      <td>Positive</td>\n",
              "      <td>1.00</td>\n",
              "      <td>0.300000</td>\n",
              "    </tr>\n",
              "    <tr>\n",
              "      <th>...</th>\n",
              "      <td>...</td>\n",
              "      <td>...</td>\n",
              "      <td>...</td>\n",
              "      <td>...</td>\n",
              "      <td>...</td>\n",
              "    </tr>\n",
              "    <tr>\n",
              "      <th>64290</th>\n",
              "      <td>Houzz Interior Design Ideas</td>\n",
              "      <td>NaN</td>\n",
              "      <td>NaN</td>\n",
              "      <td>NaN</td>\n",
              "      <td>NaN</td>\n",
              "    </tr>\n",
              "    <tr>\n",
              "      <th>64291</th>\n",
              "      <td>Houzz Interior Design Ideas</td>\n",
              "      <td>NaN</td>\n",
              "      <td>NaN</td>\n",
              "      <td>NaN</td>\n",
              "      <td>NaN</td>\n",
              "    </tr>\n",
              "    <tr>\n",
              "      <th>64292</th>\n",
              "      <td>Houzz Interior Design Ideas</td>\n",
              "      <td>NaN</td>\n",
              "      <td>NaN</td>\n",
              "      <td>NaN</td>\n",
              "      <td>NaN</td>\n",
              "    </tr>\n",
              "    <tr>\n",
              "      <th>64293</th>\n",
              "      <td>Houzz Interior Design Ideas</td>\n",
              "      <td>NaN</td>\n",
              "      <td>NaN</td>\n",
              "      <td>NaN</td>\n",
              "      <td>NaN</td>\n",
              "    </tr>\n",
              "    <tr>\n",
              "      <th>64294</th>\n",
              "      <td>Houzz Interior Design Ideas</td>\n",
              "      <td>NaN</td>\n",
              "      <td>NaN</td>\n",
              "      <td>NaN</td>\n",
              "      <td>NaN</td>\n",
              "    </tr>\n",
              "  </tbody>\n",
              "</table>\n",
              "<p>64295 rows × 5 columns</p>\n",
              "</div>\n",
              "      <button class=\"colab-df-convert\" onclick=\"convertToInteractive('df-c50c3ffc-0357-4859-b5f8-9fa963fa2e20')\"\n",
              "              title=\"Convert this dataframe to an interactive table.\"\n",
              "              style=\"display:none;\">\n",
              "        \n",
              "  <svg xmlns=\"http://www.w3.org/2000/svg\" height=\"24px\"viewBox=\"0 0 24 24\"\n",
              "       width=\"24px\">\n",
              "    <path d=\"M0 0h24v24H0V0z\" fill=\"none\"/>\n",
              "    <path d=\"M18.56 5.44l.94 2.06.94-2.06 2.06-.94-2.06-.94-.94-2.06-.94 2.06-2.06.94zm-11 1L8.5 8.5l.94-2.06 2.06-.94-2.06-.94L8.5 2.5l-.94 2.06-2.06.94zm10 10l.94 2.06.94-2.06 2.06-.94-2.06-.94-.94-2.06-.94 2.06-2.06.94z\"/><path d=\"M17.41 7.96l-1.37-1.37c-.4-.4-.92-.59-1.43-.59-.52 0-1.04.2-1.43.59L10.3 9.45l-7.72 7.72c-.78.78-.78 2.05 0 2.83L4 21.41c.39.39.9.59 1.41.59.51 0 1.02-.2 1.41-.59l7.78-7.78 2.81-2.81c.8-.78.8-2.07 0-2.86zM5.41 20L4 18.59l7.72-7.72 1.47 1.35L5.41 20z\"/>\n",
              "  </svg>\n",
              "      </button>\n",
              "      \n",
              "  <style>\n",
              "    .colab-df-container {\n",
              "      display:flex;\n",
              "      flex-wrap:wrap;\n",
              "      gap: 12px;\n",
              "    }\n",
              "\n",
              "    .colab-df-convert {\n",
              "      background-color: #E8F0FE;\n",
              "      border: none;\n",
              "      border-radius: 50%;\n",
              "      cursor: pointer;\n",
              "      display: none;\n",
              "      fill: #1967D2;\n",
              "      height: 32px;\n",
              "      padding: 0 0 0 0;\n",
              "      width: 32px;\n",
              "    }\n",
              "\n",
              "    .colab-df-convert:hover {\n",
              "      background-color: #E2EBFA;\n",
              "      box-shadow: 0px 1px 2px rgba(60, 64, 67, 0.3), 0px 1px 3px 1px rgba(60, 64, 67, 0.15);\n",
              "      fill: #174EA6;\n",
              "    }\n",
              "\n",
              "    [theme=dark] .colab-df-convert {\n",
              "      background-color: #3B4455;\n",
              "      fill: #D2E3FC;\n",
              "    }\n",
              "\n",
              "    [theme=dark] .colab-df-convert:hover {\n",
              "      background-color: #434B5C;\n",
              "      box-shadow: 0px 1px 3px 1px rgba(0, 0, 0, 0.15);\n",
              "      filter: drop-shadow(0px 1px 2px rgba(0, 0, 0, 0.3));\n",
              "      fill: #FFFFFF;\n",
              "    }\n",
              "  </style>\n",
              "\n",
              "      <script>\n",
              "        const buttonEl =\n",
              "          document.querySelector('#df-c50c3ffc-0357-4859-b5f8-9fa963fa2e20 button.colab-df-convert');\n",
              "        buttonEl.style.display =\n",
              "          google.colab.kernel.accessAllowed ? 'block' : 'none';\n",
              "\n",
              "        async function convertToInteractive(key) {\n",
              "          const element = document.querySelector('#df-c50c3ffc-0357-4859-b5f8-9fa963fa2e20');\n",
              "          const dataTable =\n",
              "            await google.colab.kernel.invokeFunction('convertToInteractive',\n",
              "                                                     [key], {});\n",
              "          if (!dataTable) return;\n",
              "\n",
              "          const docLinkHtml = 'Like what you see? Visit the ' +\n",
              "            '<a target=\"_blank\" href=https://colab.research.google.com/notebooks/data_table.ipynb>data table notebook</a>'\n",
              "            + ' to learn more about interactive tables.';\n",
              "          element.innerHTML = '';\n",
              "          dataTable['output_type'] = 'display_data';\n",
              "          await google.colab.output.renderOutput(dataTable, element);\n",
              "          const docLink = document.createElement('div');\n",
              "          docLink.innerHTML = docLinkHtml;\n",
              "          element.appendChild(docLink);\n",
              "        }\n",
              "      </script>\n",
              "    </div>\n",
              "  </div>\n",
              "  "
            ]
          },
          "metadata": {},
          "execution_count": 5
        }
      ]
    },
    {
      "cell_type": "markdown",
      "source": [
        "# Analysing the Dataset"
      ],
      "metadata": {
        "id": "4bpMnYnhUwUp"
      }
    },
    {
      "cell_type": "markdown",
      "source": [
        "## PlayStore Analysis"
      ],
      "metadata": {
        "id": "auiWglDfVwiB"
      }
    },
    {
      "cell_type": "code",
      "source": [
        "play_store.head()"
      ],
      "metadata": {
        "colab": {
          "base_uri": "https://localhost:8080/",
          "height": 617
        },
        "id": "niRXSWxbU04F",
        "outputId": "6000768b-8f46-458b-f9cc-778f6b3ca453"
      },
      "execution_count": null,
      "outputs": [
        {
          "output_type": "execute_result",
          "data": {
            "text/plain": [
              "                                                 App        Category  Rating  \\\n",
              "0     Photo Editor & Candy Camera & Grid & ScrapBook  ART_AND_DESIGN     4.1   \n",
              "1                                Coloring book moana  ART_AND_DESIGN     3.9   \n",
              "2  U Launcher Lite – FREE Live Cool Themes, Hide ...  ART_AND_DESIGN     4.7   \n",
              "3                              Sketch - Draw & Paint  ART_AND_DESIGN     4.5   \n",
              "4              Pixel Draw - Number Art Coloring Book  ART_AND_DESIGN     4.3   \n",
              "\n",
              "  Reviews  Size     Installs  Type Price Content Rating  \\\n",
              "0     159   19M      10,000+  Free     0       Everyone   \n",
              "1     967   14M     500,000+  Free     0       Everyone   \n",
              "2   87510  8.7M   5,000,000+  Free     0       Everyone   \n",
              "3  215644   25M  50,000,000+  Free     0           Teen   \n",
              "4     967  2.8M     100,000+  Free     0       Everyone   \n",
              "\n",
              "                      Genres      Last Updated         Current Ver  \\\n",
              "0               Art & Design   January 7, 2018               1.0.0   \n",
              "1  Art & Design;Pretend Play  January 15, 2018               2.0.0   \n",
              "2               Art & Design    August 1, 2018               1.2.4   \n",
              "3               Art & Design      June 8, 2018  Varies with device   \n",
              "4    Art & Design;Creativity     June 20, 2018                 1.1   \n",
              "\n",
              "    Android Ver  \n",
              "0  4.0.3 and up  \n",
              "1  4.0.3 and up  \n",
              "2  4.0.3 and up  \n",
              "3    4.2 and up  \n",
              "4    4.4 and up  "
            ],
            "text/html": [
              "\n",
              "  <div id=\"df-00be6138-1a7c-4b16-a231-e56fe03b9187\">\n",
              "    <div class=\"colab-df-container\">\n",
              "      <div>\n",
              "<style scoped>\n",
              "    .dataframe tbody tr th:only-of-type {\n",
              "        vertical-align: middle;\n",
              "    }\n",
              "\n",
              "    .dataframe tbody tr th {\n",
              "        vertical-align: top;\n",
              "    }\n",
              "\n",
              "    .dataframe thead th {\n",
              "        text-align: right;\n",
              "    }\n",
              "</style>\n",
              "<table border=\"1\" class=\"dataframe\">\n",
              "  <thead>\n",
              "    <tr style=\"text-align: right;\">\n",
              "      <th></th>\n",
              "      <th>App</th>\n",
              "      <th>Category</th>\n",
              "      <th>Rating</th>\n",
              "      <th>Reviews</th>\n",
              "      <th>Size</th>\n",
              "      <th>Installs</th>\n",
              "      <th>Type</th>\n",
              "      <th>Price</th>\n",
              "      <th>Content Rating</th>\n",
              "      <th>Genres</th>\n",
              "      <th>Last Updated</th>\n",
              "      <th>Current Ver</th>\n",
              "      <th>Android Ver</th>\n",
              "    </tr>\n",
              "  </thead>\n",
              "  <tbody>\n",
              "    <tr>\n",
              "      <th>0</th>\n",
              "      <td>Photo Editor &amp; Candy Camera &amp; Grid &amp; ScrapBook</td>\n",
              "      <td>ART_AND_DESIGN</td>\n",
              "      <td>4.1</td>\n",
              "      <td>159</td>\n",
              "      <td>19M</td>\n",
              "      <td>10,000+</td>\n",
              "      <td>Free</td>\n",
              "      <td>0</td>\n",
              "      <td>Everyone</td>\n",
              "      <td>Art &amp; Design</td>\n",
              "      <td>January 7, 2018</td>\n",
              "      <td>1.0.0</td>\n",
              "      <td>4.0.3 and up</td>\n",
              "    </tr>\n",
              "    <tr>\n",
              "      <th>1</th>\n",
              "      <td>Coloring book moana</td>\n",
              "      <td>ART_AND_DESIGN</td>\n",
              "      <td>3.9</td>\n",
              "      <td>967</td>\n",
              "      <td>14M</td>\n",
              "      <td>500,000+</td>\n",
              "      <td>Free</td>\n",
              "      <td>0</td>\n",
              "      <td>Everyone</td>\n",
              "      <td>Art &amp; Design;Pretend Play</td>\n",
              "      <td>January 15, 2018</td>\n",
              "      <td>2.0.0</td>\n",
              "      <td>4.0.3 and up</td>\n",
              "    </tr>\n",
              "    <tr>\n",
              "      <th>2</th>\n",
              "      <td>U Launcher Lite – FREE Live Cool Themes, Hide ...</td>\n",
              "      <td>ART_AND_DESIGN</td>\n",
              "      <td>4.7</td>\n",
              "      <td>87510</td>\n",
              "      <td>8.7M</td>\n",
              "      <td>5,000,000+</td>\n",
              "      <td>Free</td>\n",
              "      <td>0</td>\n",
              "      <td>Everyone</td>\n",
              "      <td>Art &amp; Design</td>\n",
              "      <td>August 1, 2018</td>\n",
              "      <td>1.2.4</td>\n",
              "      <td>4.0.3 and up</td>\n",
              "    </tr>\n",
              "    <tr>\n",
              "      <th>3</th>\n",
              "      <td>Sketch - Draw &amp; Paint</td>\n",
              "      <td>ART_AND_DESIGN</td>\n",
              "      <td>4.5</td>\n",
              "      <td>215644</td>\n",
              "      <td>25M</td>\n",
              "      <td>50,000,000+</td>\n",
              "      <td>Free</td>\n",
              "      <td>0</td>\n",
              "      <td>Teen</td>\n",
              "      <td>Art &amp; Design</td>\n",
              "      <td>June 8, 2018</td>\n",
              "      <td>Varies with device</td>\n",
              "      <td>4.2 and up</td>\n",
              "    </tr>\n",
              "    <tr>\n",
              "      <th>4</th>\n",
              "      <td>Pixel Draw - Number Art Coloring Book</td>\n",
              "      <td>ART_AND_DESIGN</td>\n",
              "      <td>4.3</td>\n",
              "      <td>967</td>\n",
              "      <td>2.8M</td>\n",
              "      <td>100,000+</td>\n",
              "      <td>Free</td>\n",
              "      <td>0</td>\n",
              "      <td>Everyone</td>\n",
              "      <td>Art &amp; Design;Creativity</td>\n",
              "      <td>June 20, 2018</td>\n",
              "      <td>1.1</td>\n",
              "      <td>4.4 and up</td>\n",
              "    </tr>\n",
              "  </tbody>\n",
              "</table>\n",
              "</div>\n",
              "      <button class=\"colab-df-convert\" onclick=\"convertToInteractive('df-00be6138-1a7c-4b16-a231-e56fe03b9187')\"\n",
              "              title=\"Convert this dataframe to an interactive table.\"\n",
              "              style=\"display:none;\">\n",
              "        \n",
              "  <svg xmlns=\"http://www.w3.org/2000/svg\" height=\"24px\"viewBox=\"0 0 24 24\"\n",
              "       width=\"24px\">\n",
              "    <path d=\"M0 0h24v24H0V0z\" fill=\"none\"/>\n",
              "    <path d=\"M18.56 5.44l.94 2.06.94-2.06 2.06-.94-2.06-.94-.94-2.06-.94 2.06-2.06.94zm-11 1L8.5 8.5l.94-2.06 2.06-.94-2.06-.94L8.5 2.5l-.94 2.06-2.06.94zm10 10l.94 2.06.94-2.06 2.06-.94-2.06-.94-.94-2.06-.94 2.06-2.06.94z\"/><path d=\"M17.41 7.96l-1.37-1.37c-.4-.4-.92-.59-1.43-.59-.52 0-1.04.2-1.43.59L10.3 9.45l-7.72 7.72c-.78.78-.78 2.05 0 2.83L4 21.41c.39.39.9.59 1.41.59.51 0 1.02-.2 1.41-.59l7.78-7.78 2.81-2.81c.8-.78.8-2.07 0-2.86zM5.41 20L4 18.59l7.72-7.72 1.47 1.35L5.41 20z\"/>\n",
              "  </svg>\n",
              "      </button>\n",
              "      \n",
              "  <style>\n",
              "    .colab-df-container {\n",
              "      display:flex;\n",
              "      flex-wrap:wrap;\n",
              "      gap: 12px;\n",
              "    }\n",
              "\n",
              "    .colab-df-convert {\n",
              "      background-color: #E8F0FE;\n",
              "      border: none;\n",
              "      border-radius: 50%;\n",
              "      cursor: pointer;\n",
              "      display: none;\n",
              "      fill: #1967D2;\n",
              "      height: 32px;\n",
              "      padding: 0 0 0 0;\n",
              "      width: 32px;\n",
              "    }\n",
              "\n",
              "    .colab-df-convert:hover {\n",
              "      background-color: #E2EBFA;\n",
              "      box-shadow: 0px 1px 2px rgba(60, 64, 67, 0.3), 0px 1px 3px 1px rgba(60, 64, 67, 0.15);\n",
              "      fill: #174EA6;\n",
              "    }\n",
              "\n",
              "    [theme=dark] .colab-df-convert {\n",
              "      background-color: #3B4455;\n",
              "      fill: #D2E3FC;\n",
              "    }\n",
              "\n",
              "    [theme=dark] .colab-df-convert:hover {\n",
              "      background-color: #434B5C;\n",
              "      box-shadow: 0px 1px 3px 1px rgba(0, 0, 0, 0.15);\n",
              "      filter: drop-shadow(0px 1px 2px rgba(0, 0, 0, 0.3));\n",
              "      fill: #FFFFFF;\n",
              "    }\n",
              "  </style>\n",
              "\n",
              "      <script>\n",
              "        const buttonEl =\n",
              "          document.querySelector('#df-00be6138-1a7c-4b16-a231-e56fe03b9187 button.colab-df-convert');\n",
              "        buttonEl.style.display =\n",
              "          google.colab.kernel.accessAllowed ? 'block' : 'none';\n",
              "\n",
              "        async function convertToInteractive(key) {\n",
              "          const element = document.querySelector('#df-00be6138-1a7c-4b16-a231-e56fe03b9187');\n",
              "          const dataTable =\n",
              "            await google.colab.kernel.invokeFunction('convertToInteractive',\n",
              "                                                     [key], {});\n",
              "          if (!dataTable) return;\n",
              "\n",
              "          const docLinkHtml = 'Like what you see? Visit the ' +\n",
              "            '<a target=\"_blank\" href=https://colab.research.google.com/notebooks/data_table.ipynb>data table notebook</a>'\n",
              "            + ' to learn more about interactive tables.';\n",
              "          element.innerHTML = '';\n",
              "          dataTable['output_type'] = 'display_data';\n",
              "          await google.colab.output.renderOutput(dataTable, element);\n",
              "          const docLink = document.createElement('div');\n",
              "          docLink.innerHTML = docLinkHtml;\n",
              "          element.appendChild(docLink);\n",
              "        }\n",
              "      </script>\n",
              "    </div>\n",
              "  </div>\n",
              "  "
            ]
          },
          "metadata": {},
          "execution_count": 6
        }
      ]
    },
    {
      "cell_type": "code",
      "source": [
        "play_store.shape"
      ],
      "metadata": {
        "colab": {
          "base_uri": "https://localhost:8080/"
        },
        "id": "JWHLoxCnWDRQ",
        "outputId": "762f844b-748d-4340-ac5e-8ea877169a8a"
      },
      "execution_count": null,
      "outputs": [
        {
          "output_type": "execute_result",
          "data": {
            "text/plain": [
              "(10841, 13)"
            ]
          },
          "metadata": {},
          "execution_count": 14
        }
      ]
    },
    {
      "cell_type": "code",
      "source": [
        "play_store.info()"
      ],
      "metadata": {
        "colab": {
          "base_uri": "https://localhost:8080/"
        },
        "id": "PQlWTkeiVOo9",
        "outputId": "1a83e4be-c79d-4a80-d2e1-a2d56430bd2f"
      },
      "execution_count": null,
      "outputs": [
        {
          "output_type": "stream",
          "name": "stdout",
          "text": [
            "<class 'pandas.core.frame.DataFrame'>\n",
            "RangeIndex: 10841 entries, 0 to 10840\n",
            "Data columns (total 13 columns):\n",
            " #   Column          Non-Null Count  Dtype  \n",
            "---  ------          --------------  -----  \n",
            " 0   App             10841 non-null  object \n",
            " 1   Category        10841 non-null  object \n",
            " 2   Rating          9367 non-null   float64\n",
            " 3   Reviews         10841 non-null  object \n",
            " 4   Size            10841 non-null  object \n",
            " 5   Installs        10841 non-null  object \n",
            " 6   Type            10840 non-null  object \n",
            " 7   Price           10841 non-null  object \n",
            " 8   Content Rating  10840 non-null  object \n",
            " 9   Genres          10841 non-null  object \n",
            " 10  Last Updated    10841 non-null  object \n",
            " 11  Current Ver     10833 non-null  object \n",
            " 12  Android Ver     10838 non-null  object \n",
            "dtypes: float64(1), object(12)\n",
            "memory usage: 1.1+ MB\n"
          ]
        }
      ]
    },
    {
      "cell_type": "code",
      "source": [
        "play_store.describe(include = 'all')"
      ],
      "metadata": {
        "colab": {
          "base_uri": "https://localhost:8080/",
          "height": 490
        },
        "id": "3_OdzLWxVSbL",
        "outputId": "f7caf1c8-1030-4712-a404-eea7a4e86ab7"
      },
      "execution_count": null,
      "outputs": [
        {
          "output_type": "execute_result",
          "data": {
            "text/plain": [
              "           App Category       Rating Reviews                Size    Installs  \\\n",
              "count    10841    10841  9367.000000   10841               10841       10841   \n",
              "unique    9660       34          NaN    6002                 462          22   \n",
              "top     ROBLOX   FAMILY          NaN       0  Varies with device  1,000,000+   \n",
              "freq         9     1972          NaN     596                1695        1579   \n",
              "mean       NaN      NaN     4.193338     NaN                 NaN         NaN   \n",
              "std        NaN      NaN     0.537431     NaN                 NaN         NaN   \n",
              "min        NaN      NaN     1.000000     NaN                 NaN         NaN   \n",
              "25%        NaN      NaN     4.000000     NaN                 NaN         NaN   \n",
              "50%        NaN      NaN     4.300000     NaN                 NaN         NaN   \n",
              "75%        NaN      NaN     4.500000     NaN                 NaN         NaN   \n",
              "max        NaN      NaN    19.000000     NaN                 NaN         NaN   \n",
              "\n",
              "         Type  Price Content Rating Genres    Last Updated  \\\n",
              "count   10840  10841          10840  10841           10841   \n",
              "unique      3     93              6    120            1378   \n",
              "top      Free      0       Everyone  Tools  August 3, 2018   \n",
              "freq    10039  10040           8714    842             326   \n",
              "mean      NaN    NaN            NaN    NaN             NaN   \n",
              "std       NaN    NaN            NaN    NaN             NaN   \n",
              "min       NaN    NaN            NaN    NaN             NaN   \n",
              "25%       NaN    NaN            NaN    NaN             NaN   \n",
              "50%       NaN    NaN            NaN    NaN             NaN   \n",
              "75%       NaN    NaN            NaN    NaN             NaN   \n",
              "max       NaN    NaN            NaN    NaN             NaN   \n",
              "\n",
              "               Current Ver Android Ver  \n",
              "count                10833       10838  \n",
              "unique                2832          33  \n",
              "top     Varies with device  4.1 and up  \n",
              "freq                  1459        2451  \n",
              "mean                   NaN         NaN  \n",
              "std                    NaN         NaN  \n",
              "min                    NaN         NaN  \n",
              "25%                    NaN         NaN  \n",
              "50%                    NaN         NaN  \n",
              "75%                    NaN         NaN  \n",
              "max                    NaN         NaN  "
            ],
            "text/html": [
              "\n",
              "  <div id=\"df-e6cf60a0-df23-4a40-bf8d-cbd5f5a50ca4\">\n",
              "    <div class=\"colab-df-container\">\n",
              "      <div>\n",
              "<style scoped>\n",
              "    .dataframe tbody tr th:only-of-type {\n",
              "        vertical-align: middle;\n",
              "    }\n",
              "\n",
              "    .dataframe tbody tr th {\n",
              "        vertical-align: top;\n",
              "    }\n",
              "\n",
              "    .dataframe thead th {\n",
              "        text-align: right;\n",
              "    }\n",
              "</style>\n",
              "<table border=\"1\" class=\"dataframe\">\n",
              "  <thead>\n",
              "    <tr style=\"text-align: right;\">\n",
              "      <th></th>\n",
              "      <th>App</th>\n",
              "      <th>Category</th>\n",
              "      <th>Rating</th>\n",
              "      <th>Reviews</th>\n",
              "      <th>Size</th>\n",
              "      <th>Installs</th>\n",
              "      <th>Type</th>\n",
              "      <th>Price</th>\n",
              "      <th>Content Rating</th>\n",
              "      <th>Genres</th>\n",
              "      <th>Last Updated</th>\n",
              "      <th>Current Ver</th>\n",
              "      <th>Android Ver</th>\n",
              "    </tr>\n",
              "  </thead>\n",
              "  <tbody>\n",
              "    <tr>\n",
              "      <th>count</th>\n",
              "      <td>10841</td>\n",
              "      <td>10841</td>\n",
              "      <td>9367.000000</td>\n",
              "      <td>10841</td>\n",
              "      <td>10841</td>\n",
              "      <td>10841</td>\n",
              "      <td>10840</td>\n",
              "      <td>10841</td>\n",
              "      <td>10840</td>\n",
              "      <td>10841</td>\n",
              "      <td>10841</td>\n",
              "      <td>10833</td>\n",
              "      <td>10838</td>\n",
              "    </tr>\n",
              "    <tr>\n",
              "      <th>unique</th>\n",
              "      <td>9660</td>\n",
              "      <td>34</td>\n",
              "      <td>NaN</td>\n",
              "      <td>6002</td>\n",
              "      <td>462</td>\n",
              "      <td>22</td>\n",
              "      <td>3</td>\n",
              "      <td>93</td>\n",
              "      <td>6</td>\n",
              "      <td>120</td>\n",
              "      <td>1378</td>\n",
              "      <td>2832</td>\n",
              "      <td>33</td>\n",
              "    </tr>\n",
              "    <tr>\n",
              "      <th>top</th>\n",
              "      <td>ROBLOX</td>\n",
              "      <td>FAMILY</td>\n",
              "      <td>NaN</td>\n",
              "      <td>0</td>\n",
              "      <td>Varies with device</td>\n",
              "      <td>1,000,000+</td>\n",
              "      <td>Free</td>\n",
              "      <td>0</td>\n",
              "      <td>Everyone</td>\n",
              "      <td>Tools</td>\n",
              "      <td>August 3, 2018</td>\n",
              "      <td>Varies with device</td>\n",
              "      <td>4.1 and up</td>\n",
              "    </tr>\n",
              "    <tr>\n",
              "      <th>freq</th>\n",
              "      <td>9</td>\n",
              "      <td>1972</td>\n",
              "      <td>NaN</td>\n",
              "      <td>596</td>\n",
              "      <td>1695</td>\n",
              "      <td>1579</td>\n",
              "      <td>10039</td>\n",
              "      <td>10040</td>\n",
              "      <td>8714</td>\n",
              "      <td>842</td>\n",
              "      <td>326</td>\n",
              "      <td>1459</td>\n",
              "      <td>2451</td>\n",
              "    </tr>\n",
              "    <tr>\n",
              "      <th>mean</th>\n",
              "      <td>NaN</td>\n",
              "      <td>NaN</td>\n",
              "      <td>4.193338</td>\n",
              "      <td>NaN</td>\n",
              "      <td>NaN</td>\n",
              "      <td>NaN</td>\n",
              "      <td>NaN</td>\n",
              "      <td>NaN</td>\n",
              "      <td>NaN</td>\n",
              "      <td>NaN</td>\n",
              "      <td>NaN</td>\n",
              "      <td>NaN</td>\n",
              "      <td>NaN</td>\n",
              "    </tr>\n",
              "    <tr>\n",
              "      <th>std</th>\n",
              "      <td>NaN</td>\n",
              "      <td>NaN</td>\n",
              "      <td>0.537431</td>\n",
              "      <td>NaN</td>\n",
              "      <td>NaN</td>\n",
              "      <td>NaN</td>\n",
              "      <td>NaN</td>\n",
              "      <td>NaN</td>\n",
              "      <td>NaN</td>\n",
              "      <td>NaN</td>\n",
              "      <td>NaN</td>\n",
              "      <td>NaN</td>\n",
              "      <td>NaN</td>\n",
              "    </tr>\n",
              "    <tr>\n",
              "      <th>min</th>\n",
              "      <td>NaN</td>\n",
              "      <td>NaN</td>\n",
              "      <td>1.000000</td>\n",
              "      <td>NaN</td>\n",
              "      <td>NaN</td>\n",
              "      <td>NaN</td>\n",
              "      <td>NaN</td>\n",
              "      <td>NaN</td>\n",
              "      <td>NaN</td>\n",
              "      <td>NaN</td>\n",
              "      <td>NaN</td>\n",
              "      <td>NaN</td>\n",
              "      <td>NaN</td>\n",
              "    </tr>\n",
              "    <tr>\n",
              "      <th>25%</th>\n",
              "      <td>NaN</td>\n",
              "      <td>NaN</td>\n",
              "      <td>4.000000</td>\n",
              "      <td>NaN</td>\n",
              "      <td>NaN</td>\n",
              "      <td>NaN</td>\n",
              "      <td>NaN</td>\n",
              "      <td>NaN</td>\n",
              "      <td>NaN</td>\n",
              "      <td>NaN</td>\n",
              "      <td>NaN</td>\n",
              "      <td>NaN</td>\n",
              "      <td>NaN</td>\n",
              "    </tr>\n",
              "    <tr>\n",
              "      <th>50%</th>\n",
              "      <td>NaN</td>\n",
              "      <td>NaN</td>\n",
              "      <td>4.300000</td>\n",
              "      <td>NaN</td>\n",
              "      <td>NaN</td>\n",
              "      <td>NaN</td>\n",
              "      <td>NaN</td>\n",
              "      <td>NaN</td>\n",
              "      <td>NaN</td>\n",
              "      <td>NaN</td>\n",
              "      <td>NaN</td>\n",
              "      <td>NaN</td>\n",
              "      <td>NaN</td>\n",
              "    </tr>\n",
              "    <tr>\n",
              "      <th>75%</th>\n",
              "      <td>NaN</td>\n",
              "      <td>NaN</td>\n",
              "      <td>4.500000</td>\n",
              "      <td>NaN</td>\n",
              "      <td>NaN</td>\n",
              "      <td>NaN</td>\n",
              "      <td>NaN</td>\n",
              "      <td>NaN</td>\n",
              "      <td>NaN</td>\n",
              "      <td>NaN</td>\n",
              "      <td>NaN</td>\n",
              "      <td>NaN</td>\n",
              "      <td>NaN</td>\n",
              "    </tr>\n",
              "    <tr>\n",
              "      <th>max</th>\n",
              "      <td>NaN</td>\n",
              "      <td>NaN</td>\n",
              "      <td>19.000000</td>\n",
              "      <td>NaN</td>\n",
              "      <td>NaN</td>\n",
              "      <td>NaN</td>\n",
              "      <td>NaN</td>\n",
              "      <td>NaN</td>\n",
              "      <td>NaN</td>\n",
              "      <td>NaN</td>\n",
              "      <td>NaN</td>\n",
              "      <td>NaN</td>\n",
              "      <td>NaN</td>\n",
              "    </tr>\n",
              "  </tbody>\n",
              "</table>\n",
              "</div>\n",
              "      <button class=\"colab-df-convert\" onclick=\"convertToInteractive('df-e6cf60a0-df23-4a40-bf8d-cbd5f5a50ca4')\"\n",
              "              title=\"Convert this dataframe to an interactive table.\"\n",
              "              style=\"display:none;\">\n",
              "        \n",
              "  <svg xmlns=\"http://www.w3.org/2000/svg\" height=\"24px\"viewBox=\"0 0 24 24\"\n",
              "       width=\"24px\">\n",
              "    <path d=\"M0 0h24v24H0V0z\" fill=\"none\"/>\n",
              "    <path d=\"M18.56 5.44l.94 2.06.94-2.06 2.06-.94-2.06-.94-.94-2.06-.94 2.06-2.06.94zm-11 1L8.5 8.5l.94-2.06 2.06-.94-2.06-.94L8.5 2.5l-.94 2.06-2.06.94zm10 10l.94 2.06.94-2.06 2.06-.94-2.06-.94-.94-2.06-.94 2.06-2.06.94z\"/><path d=\"M17.41 7.96l-1.37-1.37c-.4-.4-.92-.59-1.43-.59-.52 0-1.04.2-1.43.59L10.3 9.45l-7.72 7.72c-.78.78-.78 2.05 0 2.83L4 21.41c.39.39.9.59 1.41.59.51 0 1.02-.2 1.41-.59l7.78-7.78 2.81-2.81c.8-.78.8-2.07 0-2.86zM5.41 20L4 18.59l7.72-7.72 1.47 1.35L5.41 20z\"/>\n",
              "  </svg>\n",
              "      </button>\n",
              "      \n",
              "  <style>\n",
              "    .colab-df-container {\n",
              "      display:flex;\n",
              "      flex-wrap:wrap;\n",
              "      gap: 12px;\n",
              "    }\n",
              "\n",
              "    .colab-df-convert {\n",
              "      background-color: #E8F0FE;\n",
              "      border: none;\n",
              "      border-radius: 50%;\n",
              "      cursor: pointer;\n",
              "      display: none;\n",
              "      fill: #1967D2;\n",
              "      height: 32px;\n",
              "      padding: 0 0 0 0;\n",
              "      width: 32px;\n",
              "    }\n",
              "\n",
              "    .colab-df-convert:hover {\n",
              "      background-color: #E2EBFA;\n",
              "      box-shadow: 0px 1px 2px rgba(60, 64, 67, 0.3), 0px 1px 3px 1px rgba(60, 64, 67, 0.15);\n",
              "      fill: #174EA6;\n",
              "    }\n",
              "\n",
              "    [theme=dark] .colab-df-convert {\n",
              "      background-color: #3B4455;\n",
              "      fill: #D2E3FC;\n",
              "    }\n",
              "\n",
              "    [theme=dark] .colab-df-convert:hover {\n",
              "      background-color: #434B5C;\n",
              "      box-shadow: 0px 1px 3px 1px rgba(0, 0, 0, 0.15);\n",
              "      filter: drop-shadow(0px 1px 2px rgba(0, 0, 0, 0.3));\n",
              "      fill: #FFFFFF;\n",
              "    }\n",
              "  </style>\n",
              "\n",
              "      <script>\n",
              "        const buttonEl =\n",
              "          document.querySelector('#df-e6cf60a0-df23-4a40-bf8d-cbd5f5a50ca4 button.colab-df-convert');\n",
              "        buttonEl.style.display =\n",
              "          google.colab.kernel.accessAllowed ? 'block' : 'none';\n",
              "\n",
              "        async function convertToInteractive(key) {\n",
              "          const element = document.querySelector('#df-e6cf60a0-df23-4a40-bf8d-cbd5f5a50ca4');\n",
              "          const dataTable =\n",
              "            await google.colab.kernel.invokeFunction('convertToInteractive',\n",
              "                                                     [key], {});\n",
              "          if (!dataTable) return;\n",
              "\n",
              "          const docLinkHtml = 'Like what you see? Visit the ' +\n",
              "            '<a target=\"_blank\" href=https://colab.research.google.com/notebooks/data_table.ipynb>data table notebook</a>'\n",
              "            + ' to learn more about interactive tables.';\n",
              "          element.innerHTML = '';\n",
              "          dataTable['output_type'] = 'display_data';\n",
              "          await google.colab.output.renderOutput(dataTable, element);\n",
              "          const docLink = document.createElement('div');\n",
              "          docLink.innerHTML = docLinkHtml;\n",
              "          element.appendChild(docLink);\n",
              "        }\n",
              "      </script>\n",
              "    </div>\n",
              "  </div>\n",
              "  "
            ]
          },
          "metadata": {},
          "execution_count": 10
        }
      ]
    },
    {
      "cell_type": "code",
      "source": [
        "play_store.columns"
      ],
      "metadata": {
        "colab": {
          "base_uri": "https://localhost:8080/"
        },
        "id": "fV6OUBfLVb5e",
        "outputId": "89b0f123-cfd5-40c8-8918-a23e39f38565"
      },
      "execution_count": null,
      "outputs": [
        {
          "output_type": "execute_result",
          "data": {
            "text/plain": [
              "Index(['App', 'Category', 'Rating', 'Reviews', 'Size', 'Installs', 'Type',\n",
              "       'Price', 'Content Rating', 'Genres', 'Last Updated', 'Current Ver',\n",
              "       'Android Ver'],\n",
              "      dtype='object')"
            ]
          },
          "metadata": {},
          "execution_count": 12
        }
      ]
    },
    {
      "cell_type": "markdown",
      "source": [
        "## User Review Anaylsis\n"
      ],
      "metadata": {
        "id": "55JBThqvWNXQ"
      }
    },
    {
      "cell_type": "code",
      "source": [
        "user_review.head()"
      ],
      "metadata": {
        "colab": {
          "base_uri": "https://localhost:8080/",
          "height": 206
        },
        "id": "qiBccaD8WU4f",
        "outputId": "9a77c935-e8b1-4f45-f840-691c66f6d0f0"
      },
      "execution_count": null,
      "outputs": [
        {
          "output_type": "execute_result",
          "data": {
            "text/plain": [
              "                     App                                  Translated_Review  \\\n",
              "0  10 Best Foods for You  I like eat delicious food. That's I'm cooking ...   \n",
              "1  10 Best Foods for You    This help eating healthy exercise regular basis   \n",
              "2  10 Best Foods for You                                                NaN   \n",
              "3  10 Best Foods for You         Works great especially going grocery store   \n",
              "4  10 Best Foods for You                                       Best idea us   \n",
              "\n",
              "  Sentiment  Sentiment_Polarity  Sentiment_Subjectivity  \n",
              "0  Positive                1.00                0.533333  \n",
              "1  Positive                0.25                0.288462  \n",
              "2       NaN                 NaN                     NaN  \n",
              "3  Positive                0.40                0.875000  \n",
              "4  Positive                1.00                0.300000  "
            ],
            "text/html": [
              "\n",
              "  <div id=\"df-e497c0e0-4c33-4da7-87ff-f32d6b6865b3\">\n",
              "    <div class=\"colab-df-container\">\n",
              "      <div>\n",
              "<style scoped>\n",
              "    .dataframe tbody tr th:only-of-type {\n",
              "        vertical-align: middle;\n",
              "    }\n",
              "\n",
              "    .dataframe tbody tr th {\n",
              "        vertical-align: top;\n",
              "    }\n",
              "\n",
              "    .dataframe thead th {\n",
              "        text-align: right;\n",
              "    }\n",
              "</style>\n",
              "<table border=\"1\" class=\"dataframe\">\n",
              "  <thead>\n",
              "    <tr style=\"text-align: right;\">\n",
              "      <th></th>\n",
              "      <th>App</th>\n",
              "      <th>Translated_Review</th>\n",
              "      <th>Sentiment</th>\n",
              "      <th>Sentiment_Polarity</th>\n",
              "      <th>Sentiment_Subjectivity</th>\n",
              "    </tr>\n",
              "  </thead>\n",
              "  <tbody>\n",
              "    <tr>\n",
              "      <th>0</th>\n",
              "      <td>10 Best Foods for You</td>\n",
              "      <td>I like eat delicious food. That's I'm cooking ...</td>\n",
              "      <td>Positive</td>\n",
              "      <td>1.00</td>\n",
              "      <td>0.533333</td>\n",
              "    </tr>\n",
              "    <tr>\n",
              "      <th>1</th>\n",
              "      <td>10 Best Foods for You</td>\n",
              "      <td>This help eating healthy exercise regular basis</td>\n",
              "      <td>Positive</td>\n",
              "      <td>0.25</td>\n",
              "      <td>0.288462</td>\n",
              "    </tr>\n",
              "    <tr>\n",
              "      <th>2</th>\n",
              "      <td>10 Best Foods for You</td>\n",
              "      <td>NaN</td>\n",
              "      <td>NaN</td>\n",
              "      <td>NaN</td>\n",
              "      <td>NaN</td>\n",
              "    </tr>\n",
              "    <tr>\n",
              "      <th>3</th>\n",
              "      <td>10 Best Foods for You</td>\n",
              "      <td>Works great especially going grocery store</td>\n",
              "      <td>Positive</td>\n",
              "      <td>0.40</td>\n",
              "      <td>0.875000</td>\n",
              "    </tr>\n",
              "    <tr>\n",
              "      <th>4</th>\n",
              "      <td>10 Best Foods for You</td>\n",
              "      <td>Best idea us</td>\n",
              "      <td>Positive</td>\n",
              "      <td>1.00</td>\n",
              "      <td>0.300000</td>\n",
              "    </tr>\n",
              "  </tbody>\n",
              "</table>\n",
              "</div>\n",
              "      <button class=\"colab-df-convert\" onclick=\"convertToInteractive('df-e497c0e0-4c33-4da7-87ff-f32d6b6865b3')\"\n",
              "              title=\"Convert this dataframe to an interactive table.\"\n",
              "              style=\"display:none;\">\n",
              "        \n",
              "  <svg xmlns=\"http://www.w3.org/2000/svg\" height=\"24px\"viewBox=\"0 0 24 24\"\n",
              "       width=\"24px\">\n",
              "    <path d=\"M0 0h24v24H0V0z\" fill=\"none\"/>\n",
              "    <path d=\"M18.56 5.44l.94 2.06.94-2.06 2.06-.94-2.06-.94-.94-2.06-.94 2.06-2.06.94zm-11 1L8.5 8.5l.94-2.06 2.06-.94-2.06-.94L8.5 2.5l-.94 2.06-2.06.94zm10 10l.94 2.06.94-2.06 2.06-.94-2.06-.94-.94-2.06-.94 2.06-2.06.94z\"/><path d=\"M17.41 7.96l-1.37-1.37c-.4-.4-.92-.59-1.43-.59-.52 0-1.04.2-1.43.59L10.3 9.45l-7.72 7.72c-.78.78-.78 2.05 0 2.83L4 21.41c.39.39.9.59 1.41.59.51 0 1.02-.2 1.41-.59l7.78-7.78 2.81-2.81c.8-.78.8-2.07 0-2.86zM5.41 20L4 18.59l7.72-7.72 1.47 1.35L5.41 20z\"/>\n",
              "  </svg>\n",
              "      </button>\n",
              "      \n",
              "  <style>\n",
              "    .colab-df-container {\n",
              "      display:flex;\n",
              "      flex-wrap:wrap;\n",
              "      gap: 12px;\n",
              "    }\n",
              "\n",
              "    .colab-df-convert {\n",
              "      background-color: #E8F0FE;\n",
              "      border: none;\n",
              "      border-radius: 50%;\n",
              "      cursor: pointer;\n",
              "      display: none;\n",
              "      fill: #1967D2;\n",
              "      height: 32px;\n",
              "      padding: 0 0 0 0;\n",
              "      width: 32px;\n",
              "    }\n",
              "\n",
              "    .colab-df-convert:hover {\n",
              "      background-color: #E2EBFA;\n",
              "      box-shadow: 0px 1px 2px rgba(60, 64, 67, 0.3), 0px 1px 3px 1px rgba(60, 64, 67, 0.15);\n",
              "      fill: #174EA6;\n",
              "    }\n",
              "\n",
              "    [theme=dark] .colab-df-convert {\n",
              "      background-color: #3B4455;\n",
              "      fill: #D2E3FC;\n",
              "    }\n",
              "\n",
              "    [theme=dark] .colab-df-convert:hover {\n",
              "      background-color: #434B5C;\n",
              "      box-shadow: 0px 1px 3px 1px rgba(0, 0, 0, 0.15);\n",
              "      filter: drop-shadow(0px 1px 2px rgba(0, 0, 0, 0.3));\n",
              "      fill: #FFFFFF;\n",
              "    }\n",
              "  </style>\n",
              "\n",
              "      <script>\n",
              "        const buttonEl =\n",
              "          document.querySelector('#df-e497c0e0-4c33-4da7-87ff-f32d6b6865b3 button.colab-df-convert');\n",
              "        buttonEl.style.display =\n",
              "          google.colab.kernel.accessAllowed ? 'block' : 'none';\n",
              "\n",
              "        async function convertToInteractive(key) {\n",
              "          const element = document.querySelector('#df-e497c0e0-4c33-4da7-87ff-f32d6b6865b3');\n",
              "          const dataTable =\n",
              "            await google.colab.kernel.invokeFunction('convertToInteractive',\n",
              "                                                     [key], {});\n",
              "          if (!dataTable) return;\n",
              "\n",
              "          const docLinkHtml = 'Like what you see? Visit the ' +\n",
              "            '<a target=\"_blank\" href=https://colab.research.google.com/notebooks/data_table.ipynb>data table notebook</a>'\n",
              "            + ' to learn more about interactive tables.';\n",
              "          element.innerHTML = '';\n",
              "          dataTable['output_type'] = 'display_data';\n",
              "          await google.colab.output.renderOutput(dataTable, element);\n",
              "          const docLink = document.createElement('div');\n",
              "          docLink.innerHTML = docLinkHtml;\n",
              "          element.appendChild(docLink);\n",
              "        }\n",
              "      </script>\n",
              "    </div>\n",
              "  </div>\n",
              "  "
            ]
          },
          "metadata": {},
          "execution_count": 15
        }
      ]
    },
    {
      "cell_type": "code",
      "source": [
        "user_review.shape"
      ],
      "metadata": {
        "colab": {
          "base_uri": "https://localhost:8080/"
        },
        "id": "KmXVFxqFWnum",
        "outputId": "75d0ee31-70de-4af8-a2ff-556d45a7ac83"
      },
      "execution_count": null,
      "outputs": [
        {
          "output_type": "execute_result",
          "data": {
            "text/plain": [
              "(64295, 5)"
            ]
          },
          "metadata": {},
          "execution_count": 16
        }
      ]
    },
    {
      "cell_type": "code",
      "source": [
        "user_review.info()"
      ],
      "metadata": {
        "colab": {
          "base_uri": "https://localhost:8080/"
        },
        "id": "btSTwrmRWthN",
        "outputId": "b2195d70-82e7-415a-feba-476497de7cc1"
      },
      "execution_count": null,
      "outputs": [
        {
          "output_type": "stream",
          "name": "stdout",
          "text": [
            "<class 'pandas.core.frame.DataFrame'>\n",
            "RangeIndex: 64295 entries, 0 to 64294\n",
            "Data columns (total 5 columns):\n",
            " #   Column                  Non-Null Count  Dtype  \n",
            "---  ------                  --------------  -----  \n",
            " 0   App                     64295 non-null  object \n",
            " 1   Translated_Review       37427 non-null  object \n",
            " 2   Sentiment               37432 non-null  object \n",
            " 3   Sentiment_Polarity      37432 non-null  float64\n",
            " 4   Sentiment_Subjectivity  37432 non-null  float64\n",
            "dtypes: float64(2), object(3)\n",
            "memory usage: 2.5+ MB\n"
          ]
        }
      ]
    },
    {
      "cell_type": "code",
      "source": [
        "user_review.describe(include = 'all')"
      ],
      "metadata": {
        "colab": {
          "base_uri": "https://localhost:8080/",
          "height": 394
        },
        "id": "MAY8eTfYW3sM",
        "outputId": "8636aaf6-abe6-414f-98b9-a9f1d11df536"
      },
      "execution_count": null,
      "outputs": [
        {
          "output_type": "execute_result",
          "data": {
            "text/plain": [
              "                        App Translated_Review Sentiment  Sentiment_Polarity  \\\n",
              "count                 64295             37427     37432        37432.000000   \n",
              "unique                 1074             27994         3                 NaN   \n",
              "top     Angry Birds Classic              Good  Positive                 NaN   \n",
              "freq                    320               247     23998                 NaN   \n",
              "mean                    NaN               NaN       NaN            0.182146   \n",
              "std                     NaN               NaN       NaN            0.351301   \n",
              "min                     NaN               NaN       NaN           -1.000000   \n",
              "25%                     NaN               NaN       NaN            0.000000   \n",
              "50%                     NaN               NaN       NaN            0.150000   \n",
              "75%                     NaN               NaN       NaN            0.400000   \n",
              "max                     NaN               NaN       NaN            1.000000   \n",
              "\n",
              "        Sentiment_Subjectivity  \n",
              "count             37432.000000  \n",
              "unique                     NaN  \n",
              "top                        NaN  \n",
              "freq                       NaN  \n",
              "mean                  0.492704  \n",
              "std                   0.259949  \n",
              "min                   0.000000  \n",
              "25%                   0.357143  \n",
              "50%                   0.514286  \n",
              "75%                   0.650000  \n",
              "max                   1.000000  "
            ],
            "text/html": [
              "\n",
              "  <div id=\"df-a3b78f62-2db0-49ef-bd25-6d262910f767\">\n",
              "    <div class=\"colab-df-container\">\n",
              "      <div>\n",
              "<style scoped>\n",
              "    .dataframe tbody tr th:only-of-type {\n",
              "        vertical-align: middle;\n",
              "    }\n",
              "\n",
              "    .dataframe tbody tr th {\n",
              "        vertical-align: top;\n",
              "    }\n",
              "\n",
              "    .dataframe thead th {\n",
              "        text-align: right;\n",
              "    }\n",
              "</style>\n",
              "<table border=\"1\" class=\"dataframe\">\n",
              "  <thead>\n",
              "    <tr style=\"text-align: right;\">\n",
              "      <th></th>\n",
              "      <th>App</th>\n",
              "      <th>Translated_Review</th>\n",
              "      <th>Sentiment</th>\n",
              "      <th>Sentiment_Polarity</th>\n",
              "      <th>Sentiment_Subjectivity</th>\n",
              "    </tr>\n",
              "  </thead>\n",
              "  <tbody>\n",
              "    <tr>\n",
              "      <th>count</th>\n",
              "      <td>64295</td>\n",
              "      <td>37427</td>\n",
              "      <td>37432</td>\n",
              "      <td>37432.000000</td>\n",
              "      <td>37432.000000</td>\n",
              "    </tr>\n",
              "    <tr>\n",
              "      <th>unique</th>\n",
              "      <td>1074</td>\n",
              "      <td>27994</td>\n",
              "      <td>3</td>\n",
              "      <td>NaN</td>\n",
              "      <td>NaN</td>\n",
              "    </tr>\n",
              "    <tr>\n",
              "      <th>top</th>\n",
              "      <td>Angry Birds Classic</td>\n",
              "      <td>Good</td>\n",
              "      <td>Positive</td>\n",
              "      <td>NaN</td>\n",
              "      <td>NaN</td>\n",
              "    </tr>\n",
              "    <tr>\n",
              "      <th>freq</th>\n",
              "      <td>320</td>\n",
              "      <td>247</td>\n",
              "      <td>23998</td>\n",
              "      <td>NaN</td>\n",
              "      <td>NaN</td>\n",
              "    </tr>\n",
              "    <tr>\n",
              "      <th>mean</th>\n",
              "      <td>NaN</td>\n",
              "      <td>NaN</td>\n",
              "      <td>NaN</td>\n",
              "      <td>0.182146</td>\n",
              "      <td>0.492704</td>\n",
              "    </tr>\n",
              "    <tr>\n",
              "      <th>std</th>\n",
              "      <td>NaN</td>\n",
              "      <td>NaN</td>\n",
              "      <td>NaN</td>\n",
              "      <td>0.351301</td>\n",
              "      <td>0.259949</td>\n",
              "    </tr>\n",
              "    <tr>\n",
              "      <th>min</th>\n",
              "      <td>NaN</td>\n",
              "      <td>NaN</td>\n",
              "      <td>NaN</td>\n",
              "      <td>-1.000000</td>\n",
              "      <td>0.000000</td>\n",
              "    </tr>\n",
              "    <tr>\n",
              "      <th>25%</th>\n",
              "      <td>NaN</td>\n",
              "      <td>NaN</td>\n",
              "      <td>NaN</td>\n",
              "      <td>0.000000</td>\n",
              "      <td>0.357143</td>\n",
              "    </tr>\n",
              "    <tr>\n",
              "      <th>50%</th>\n",
              "      <td>NaN</td>\n",
              "      <td>NaN</td>\n",
              "      <td>NaN</td>\n",
              "      <td>0.150000</td>\n",
              "      <td>0.514286</td>\n",
              "    </tr>\n",
              "    <tr>\n",
              "      <th>75%</th>\n",
              "      <td>NaN</td>\n",
              "      <td>NaN</td>\n",
              "      <td>NaN</td>\n",
              "      <td>0.400000</td>\n",
              "      <td>0.650000</td>\n",
              "    </tr>\n",
              "    <tr>\n",
              "      <th>max</th>\n",
              "      <td>NaN</td>\n",
              "      <td>NaN</td>\n",
              "      <td>NaN</td>\n",
              "      <td>1.000000</td>\n",
              "      <td>1.000000</td>\n",
              "    </tr>\n",
              "  </tbody>\n",
              "</table>\n",
              "</div>\n",
              "      <button class=\"colab-df-convert\" onclick=\"convertToInteractive('df-a3b78f62-2db0-49ef-bd25-6d262910f767')\"\n",
              "              title=\"Convert this dataframe to an interactive table.\"\n",
              "              style=\"display:none;\">\n",
              "        \n",
              "  <svg xmlns=\"http://www.w3.org/2000/svg\" height=\"24px\"viewBox=\"0 0 24 24\"\n",
              "       width=\"24px\">\n",
              "    <path d=\"M0 0h24v24H0V0z\" fill=\"none\"/>\n",
              "    <path d=\"M18.56 5.44l.94 2.06.94-2.06 2.06-.94-2.06-.94-.94-2.06-.94 2.06-2.06.94zm-11 1L8.5 8.5l.94-2.06 2.06-.94-2.06-.94L8.5 2.5l-.94 2.06-2.06.94zm10 10l.94 2.06.94-2.06 2.06-.94-2.06-.94-.94-2.06-.94 2.06-2.06.94z\"/><path d=\"M17.41 7.96l-1.37-1.37c-.4-.4-.92-.59-1.43-.59-.52 0-1.04.2-1.43.59L10.3 9.45l-7.72 7.72c-.78.78-.78 2.05 0 2.83L4 21.41c.39.39.9.59 1.41.59.51 0 1.02-.2 1.41-.59l7.78-7.78 2.81-2.81c.8-.78.8-2.07 0-2.86zM5.41 20L4 18.59l7.72-7.72 1.47 1.35L5.41 20z\"/>\n",
              "  </svg>\n",
              "      </button>\n",
              "      \n",
              "  <style>\n",
              "    .colab-df-container {\n",
              "      display:flex;\n",
              "      flex-wrap:wrap;\n",
              "      gap: 12px;\n",
              "    }\n",
              "\n",
              "    .colab-df-convert {\n",
              "      background-color: #E8F0FE;\n",
              "      border: none;\n",
              "      border-radius: 50%;\n",
              "      cursor: pointer;\n",
              "      display: none;\n",
              "      fill: #1967D2;\n",
              "      height: 32px;\n",
              "      padding: 0 0 0 0;\n",
              "      width: 32px;\n",
              "    }\n",
              "\n",
              "    .colab-df-convert:hover {\n",
              "      background-color: #E2EBFA;\n",
              "      box-shadow: 0px 1px 2px rgba(60, 64, 67, 0.3), 0px 1px 3px 1px rgba(60, 64, 67, 0.15);\n",
              "      fill: #174EA6;\n",
              "    }\n",
              "\n",
              "    [theme=dark] .colab-df-convert {\n",
              "      background-color: #3B4455;\n",
              "      fill: #D2E3FC;\n",
              "    }\n",
              "\n",
              "    [theme=dark] .colab-df-convert:hover {\n",
              "      background-color: #434B5C;\n",
              "      box-shadow: 0px 1px 3px 1px rgba(0, 0, 0, 0.15);\n",
              "      filter: drop-shadow(0px 1px 2px rgba(0, 0, 0, 0.3));\n",
              "      fill: #FFFFFF;\n",
              "    }\n",
              "  </style>\n",
              "\n",
              "      <script>\n",
              "        const buttonEl =\n",
              "          document.querySelector('#df-a3b78f62-2db0-49ef-bd25-6d262910f767 button.colab-df-convert');\n",
              "        buttonEl.style.display =\n",
              "          google.colab.kernel.accessAllowed ? 'block' : 'none';\n",
              "\n",
              "        async function convertToInteractive(key) {\n",
              "          const element = document.querySelector('#df-a3b78f62-2db0-49ef-bd25-6d262910f767');\n",
              "          const dataTable =\n",
              "            await google.colab.kernel.invokeFunction('convertToInteractive',\n",
              "                                                     [key], {});\n",
              "          if (!dataTable) return;\n",
              "\n",
              "          const docLinkHtml = 'Like what you see? Visit the ' +\n",
              "            '<a target=\"_blank\" href=https://colab.research.google.com/notebooks/data_table.ipynb>data table notebook</a>'\n",
              "            + ' to learn more about interactive tables.';\n",
              "          element.innerHTML = '';\n",
              "          dataTable['output_type'] = 'display_data';\n",
              "          await google.colab.output.renderOutput(dataTable, element);\n",
              "          const docLink = document.createElement('div');\n",
              "          docLink.innerHTML = docLinkHtml;\n",
              "          element.appendChild(docLink);\n",
              "        }\n",
              "      </script>\n",
              "    </div>\n",
              "  </div>\n",
              "  "
            ]
          },
          "metadata": {},
          "execution_count": 18
        }
      ]
    },
    {
      "cell_type": "code",
      "source": [
        "user_review.columns"
      ],
      "metadata": {
        "colab": {
          "base_uri": "https://localhost:8080/"
        },
        "id": "EML3-1_GW8XJ",
        "outputId": "cc22257e-d255-40cb-9910-9123b16d897a"
      },
      "execution_count": null,
      "outputs": [
        {
          "output_type": "execute_result",
          "data": {
            "text/plain": [
              "Index(['App', 'Translated_Review', 'Sentiment', 'Sentiment_Polarity',\n",
              "       'Sentiment_Subjectivity'],\n",
              "      dtype='object')"
            ]
          },
          "metadata": {},
          "execution_count": 21
        }
      ]
    },
    {
      "cell_type": "markdown",
      "source": [
        "# Cleaning the dataset"
      ],
      "metadata": {
        "id": "tNdmCkKFXdu3"
      }
    },
    {
      "cell_type": "markdown",
      "source": [
        "## Duplicate Data"
      ],
      "metadata": {
        "id": "pyZuBZHiX0G3"
      }
    },
    {
      "cell_type": "code",
      "source": [
        "#Copying the database for comparison after cleaning the data\n",
        "play_store_original = play_store.copy()\n",
        "play_store_original.shape"
      ],
      "metadata": {
        "colab": {
          "base_uri": "https://localhost:8080/"
        },
        "id": "Ap2AO5V9XiwG",
        "outputId": "46590e28-ebcc-4cae-879e-0618d0e09dce"
      },
      "execution_count": null,
      "outputs": [
        {
          "output_type": "execute_result",
          "data": {
            "text/plain": [
              "(10840, 13)"
            ]
          },
          "metadata": {},
          "execution_count": 48
        }
      ]
    },
    {
      "cell_type": "code",
      "source": [
        "#Let's only keep the unique data and remove the duplicate data from the app in column.\n",
        "play_store.drop_duplicates(subset= 'App', inplace=True)\n",
        "print(f'The number of rows and columns in playstore before is {play_store_original.shape} and \\n after cleaning the data by removing duplicates is{play_store.shape}')"
      ],
      "metadata": {
        "colab": {
          "base_uri": "https://localhost:8080/"
        },
        "id": "0LSIY8VXX_Lw",
        "outputId": "f0341a4c-f7a5-48a3-c2f8-62440666fc93"
      },
      "execution_count": null,
      "outputs": [
        {
          "output_type": "stream",
          "name": "stdout",
          "text": [
            "The number of rows and columns in playstore before is (10840, 13) and \n",
            " after cleaning the data by removing duplicates is(9659, 13)\n"
          ]
        }
      ]
    },
    {
      "cell_type": "markdown",
      "source": [
        "## Conversion of columns for analysing dataset"
      ],
      "metadata": {
        "id": "8dX85rnSYJ_v"
      }
    },
    {
      "cell_type": "code",
      "source": [
        "#As some of the values are non-numerical value so let's convert the categorical variables the into numerical.\n",
        "play_store['Size'].unique()"
      ],
      "metadata": {
        "colab": {
          "base_uri": "https://localhost:8080/"
        },
        "id": "Un5NIoKDYX0o",
        "outputId": "3ab3d8cd-0da4-49f6-9210-108fcc099b73"
      },
      "execution_count": null,
      "outputs": [
        {
          "output_type": "execute_result",
          "data": {
            "text/plain": [
              "array([1.90e+01, 1.40e+01, 8.70e+00, 2.50e+01, 2.80e+00, 5.60e+00,\n",
              "       2.90e+01, 3.30e+01, 3.10e+00, 2.80e+01, 1.20e+01, 2.00e+01,\n",
              "       2.10e+01, 3.70e+01, 2.70e+00, 5.50e+00, 1.70e+01, 3.90e+01,\n",
              "       3.10e+01, 4.20e+00, 7.00e+00, 2.30e+01, 6.00e+00, 6.10e+00,\n",
              "       4.60e+00, 9.20e+00, 5.20e+00, 1.10e+01, 2.40e+01,      nan,\n",
              "       9.40e+00, 1.50e+01, 1.00e+01, 1.20e+00, 2.60e+01, 8.00e+00,\n",
              "       7.90e+00, 5.60e+01, 5.70e+01, 3.50e+01, 5.40e+01, 2.01e-01,\n",
              "       3.60e+00, 5.70e+00, 8.60e+00, 2.40e+00, 2.70e+01, 2.50e+00,\n",
              "       1.60e+01, 3.40e+00, 8.90e+00, 3.90e+00, 2.90e+00, 3.80e+01,\n",
              "       3.20e+01, 5.40e+00, 1.80e+01, 1.10e+00, 2.20e+00, 4.50e+00,\n",
              "       9.80e+00, 5.20e+01, 9.00e+00, 6.70e+00, 3.00e+01, 2.60e+00,\n",
              "       7.10e+00, 3.70e+00, 2.20e+01, 7.40e+00, 6.40e+00, 3.20e+00,\n",
              "       8.20e+00, 9.90e+00, 4.90e+00, 9.50e+00, 5.00e+00, 5.90e+00,\n",
              "       1.30e+01, 7.30e+01, 6.80e+00, 3.50e+00, 4.00e+00, 2.30e+00,\n",
              "       7.20e+00, 2.10e+00, 4.20e+01, 7.30e+00, 9.10e+00, 5.50e+01,\n",
              "       2.30e-02, 6.50e+00, 1.50e+00, 7.50e+00, 5.10e+01, 4.10e+01,\n",
              "       4.80e+01, 8.50e+00, 4.60e+01, 8.30e+00, 4.30e+00, 4.70e+00,\n",
              "       3.30e+00, 4.00e+01, 7.80e+00, 8.80e+00, 6.60e+00, 5.10e+00,\n",
              "       6.10e+01, 6.60e+01, 7.90e-02, 8.40e+00, 1.18e-01, 4.40e+01,\n",
              "       6.95e-01, 1.60e+00, 6.20e+00, 1.80e-02, 5.30e+01, 1.40e+00,\n",
              "       3.00e+00, 5.80e+00, 3.80e+00, 9.60e+00, 4.50e+01, 6.30e+01,\n",
              "       4.90e+01, 7.70e+01, 4.40e+00, 4.80e+00, 7.00e+01, 6.90e+00,\n",
              "       9.30e+00, 8.10e+00, 3.60e+01, 8.40e+01, 9.70e+01, 2.00e+00,\n",
              "       1.90e+00, 1.80e+00, 5.30e+00, 4.70e+01, 5.56e-01, 5.26e-01,\n",
              "       7.60e+01, 7.60e+00, 5.90e+01, 9.70e+00, 7.80e+01, 7.20e+01,\n",
              "       4.30e+01, 7.70e+00, 6.30e+00, 3.34e-01, 3.40e+01, 9.30e+01,\n",
              "       6.50e+01, 7.90e+01, 1.00e+02, 5.80e+01, 5.00e+01, 6.80e+01,\n",
              "       6.40e+01, 6.70e+01, 6.00e+01, 9.40e+01, 2.32e-01, 9.90e+01,\n",
              "       6.24e-01, 9.50e+01, 8.50e-03, 4.10e-02, 2.92e-01, 1.10e-02,\n",
              "       8.00e+01, 1.70e+00, 7.40e+01, 6.20e+01, 6.90e+01, 7.50e+01,\n",
              "       9.80e+01, 8.50e+01, 8.20e+01, 9.60e+01, 8.70e+01, 7.10e+01,\n",
              "       8.60e+01, 9.10e+01, 8.10e+01, 9.20e+01, 8.30e+01, 8.80e+01,\n",
              "       7.04e-01, 8.62e-01, 8.99e-01, 3.78e-01, 2.66e-01, 3.75e-01,\n",
              "       1.30e+00, 9.75e-01, 9.80e-01, 4.10e+00, 8.90e+01, 6.96e-01,\n",
              "       5.44e-01, 5.25e-01, 9.20e-01, 7.79e-01, 8.53e-01, 7.20e-01,\n",
              "       7.13e-01, 7.72e-01, 3.18e-01, 5.80e-02, 2.41e-01, 1.96e-01,\n",
              "       8.57e-01, 5.10e-02, 9.53e-01, 8.65e-01, 2.51e-01, 9.30e-01,\n",
              "       5.40e-01, 3.13e-01, 7.46e-01, 2.03e-01, 2.60e-02, 3.14e-01,\n",
              "       2.39e-01, 3.71e-01, 2.20e-01, 7.30e-01, 7.56e-01, 9.10e-02,\n",
              "       2.93e-01, 1.70e-02, 7.40e-02, 1.40e-02, 3.17e-01, 7.80e-02,\n",
              "       9.24e-01, 9.02e-01, 8.18e-01, 8.10e-02, 9.39e-01, 1.69e-01,\n",
              "       4.50e-02, 4.75e-01, 9.65e-01, 9.00e+01, 5.45e-01, 6.10e-02,\n",
              "       2.83e-01, 6.55e-01, 7.14e-01, 9.30e-02, 8.72e-01, 1.21e-01,\n",
              "       3.22e-01, 1.00e+00, 9.76e-01, 1.72e-01, 2.38e-01, 5.49e-01,\n",
              "       2.06e-01, 9.54e-01, 4.44e-01, 7.17e-01, 2.10e-01, 6.09e-01,\n",
              "       3.08e-01, 7.05e-01, 3.06e-01, 9.04e-01, 4.73e-01, 1.75e-01,\n",
              "       3.50e-01, 3.83e-01, 4.54e-01, 4.21e-01, 7.00e-02, 8.12e-01,\n",
              "       4.42e-01, 8.42e-01, 4.17e-01, 4.12e-01, 4.59e-01, 4.78e-01,\n",
              "       3.35e-01, 7.82e-01, 7.21e-01, 4.30e-01, 4.29e-01, 1.92e-01,\n",
              "       2.00e-01, 4.60e-01, 7.28e-01, 4.96e-01, 8.16e-01, 4.14e-01,\n",
              "       5.06e-01, 8.87e-01, 6.13e-01, 2.43e-01, 5.69e-01, 7.78e-01,\n",
              "       6.83e-01, 5.92e-01, 3.19e-01, 1.86e-01, 8.40e-01, 6.47e-01,\n",
              "       1.91e-01, 3.73e-01, 4.37e-01, 5.98e-01, 7.16e-01, 5.85e-01,\n",
              "       9.82e-01, 2.22e-01, 2.19e-01, 5.50e-02, 9.48e-01, 3.23e-01,\n",
              "       6.91e-01, 5.11e-01, 9.51e-01, 9.63e-01, 2.50e-02, 5.54e-01,\n",
              "       3.51e-01, 2.70e-02, 8.20e-02, 2.08e-01, 9.13e-01, 5.14e-01,\n",
              "       5.51e-01, 2.90e-02, 1.03e-01, 8.98e-01, 7.43e-01, 1.16e-01,\n",
              "       1.53e-01, 2.09e-01, 3.53e-01, 4.99e-01, 1.73e-01, 5.97e-01,\n",
              "       8.09e-01, 1.22e-01, 4.11e-01, 4.00e-01, 8.01e-01, 7.87e-01,\n",
              "       2.37e-01, 5.00e-02, 6.43e-01, 9.86e-01, 9.70e-02, 5.16e-01,\n",
              "       8.37e-01, 7.80e-01, 9.61e-01, 2.69e-01, 2.00e-02, 4.98e-01,\n",
              "       6.00e-01, 7.49e-01, 6.42e-01, 8.81e-01, 7.20e-02, 6.56e-01,\n",
              "       6.01e-01, 2.21e-01, 2.28e-01, 1.08e-01, 9.40e-01, 1.76e-01,\n",
              "       3.30e-02, 6.63e-01, 3.40e-02, 9.42e-01, 2.59e-01, 1.64e-01,\n",
              "       4.58e-01, 2.45e-01, 6.29e-01, 2.80e-02, 2.88e-01, 7.75e-01,\n",
              "       7.85e-01, 6.36e-01, 9.16e-01, 9.94e-01, 3.09e-01, 4.85e-01,\n",
              "       9.14e-01, 9.03e-01, 6.08e-01, 5.00e-01, 5.40e-02, 5.62e-01,\n",
              "       8.47e-01, 9.57e-01, 6.88e-01, 8.11e-01, 2.70e-01, 4.80e-02,\n",
              "       3.29e-01, 5.23e-01, 9.21e-01, 8.74e-01, 9.81e-01, 7.84e-01,\n",
              "       2.80e-01, 2.40e-02, 5.18e-01, 7.54e-01, 8.92e-01, 1.54e-01,\n",
              "       8.60e-01, 3.64e-01, 3.87e-01, 6.26e-01, 1.61e-01, 8.79e-01,\n",
              "       3.90e-02, 9.70e-01, 1.70e-01, 1.41e-01, 1.60e-01, 1.44e-01,\n",
              "       1.43e-01, 1.90e-01, 3.76e-01, 1.93e-01, 2.46e-01, 7.30e-02,\n",
              "       6.58e-01, 9.92e-01, 2.53e-01, 4.20e-01, 4.04e-01, 4.70e-01,\n",
              "       2.26e-01, 2.40e-01, 8.90e-02, 2.34e-01, 2.57e-01, 8.61e-01,\n",
              "       4.67e-01, 1.57e-01, 4.40e-02, 6.76e-01, 6.70e-02, 5.52e-01,\n",
              "       8.85e-01, 1.02e+00, 5.82e-01, 6.19e-01])"
            ]
          },
          "metadata": {},
          "execution_count": 52
        }
      ]
    },
    {
      "cell_type": "code",
      "source": [
        "play_store['Size'] = play_store['Size'].apply(lambda x: str(x).replace('Varies with device', 'NaN') if 'Varies with device' in str(x) else x)\n",
        "play_store['Size'] = play_store['Size'].apply(lambda x: str(x).replace('M', '') if 'M' in str(x) else x)\n",
        "play_store['Size'] = play_store['Size'].apply(lambda x: str(x).replace(',', '') if 'M' in str(x) else x)\n",
        "play_store['Size'] = play_store['Size'].apply(lambda x: float(str(x).replace('k', '')) / 1000 if 'k' in str(x) else x)"
      ],
      "metadata": {
        "id": "bph9r_NjYhUX"
      },
      "execution_count": null,
      "outputs": []
    },
    {
      "cell_type": "code",
      "source": [
        "play_store['Size'].unique()"
      ],
      "metadata": {
        "colab": {
          "base_uri": "https://localhost:8080/"
        },
        "id": "_4ADV6fvYsZX",
        "outputId": "4152f680-c18a-4501-f64e-124f8eceac93"
      },
      "execution_count": null,
      "outputs": [
        {
          "output_type": "execute_result",
          "data": {
            "text/plain": [
              "array([1.90e+01, 1.40e+01, 8.70e+00, 2.50e+01, 2.80e+00, 5.60e+00,\n",
              "       2.90e+01, 3.30e+01, 3.10e+00, 2.80e+01, 1.20e+01, 2.00e+01,\n",
              "       2.10e+01, 3.70e+01, 2.70e+00, 5.50e+00, 1.70e+01, 3.90e+01,\n",
              "       3.10e+01, 4.20e+00, 7.00e+00, 2.30e+01, 6.00e+00, 6.10e+00,\n",
              "       4.60e+00, 9.20e+00, 5.20e+00, 1.10e+01, 2.40e+01,      nan,\n",
              "       9.40e+00, 1.50e+01, 1.00e+01, 1.20e+00, 2.60e+01, 8.00e+00,\n",
              "       7.90e+00, 5.60e+01, 5.70e+01, 3.50e+01, 5.40e+01, 2.01e-01,\n",
              "       3.60e+00, 5.70e+00, 8.60e+00, 2.40e+00, 2.70e+01, 2.50e+00,\n",
              "       1.60e+01, 3.40e+00, 8.90e+00, 3.90e+00, 2.90e+00, 3.80e+01,\n",
              "       3.20e+01, 5.40e+00, 1.80e+01, 1.10e+00, 2.20e+00, 4.50e+00,\n",
              "       9.80e+00, 5.20e+01, 9.00e+00, 6.70e+00, 3.00e+01, 2.60e+00,\n",
              "       7.10e+00, 3.70e+00, 2.20e+01, 7.40e+00, 6.40e+00, 3.20e+00,\n",
              "       8.20e+00, 9.90e+00, 4.90e+00, 9.50e+00, 5.00e+00, 5.90e+00,\n",
              "       1.30e+01, 7.30e+01, 6.80e+00, 3.50e+00, 4.00e+00, 2.30e+00,\n",
              "       7.20e+00, 2.10e+00, 4.20e+01, 7.30e+00, 9.10e+00, 5.50e+01,\n",
              "       2.30e-02, 6.50e+00, 1.50e+00, 7.50e+00, 5.10e+01, 4.10e+01,\n",
              "       4.80e+01, 8.50e+00, 4.60e+01, 8.30e+00, 4.30e+00, 4.70e+00,\n",
              "       3.30e+00, 4.00e+01, 7.80e+00, 8.80e+00, 6.60e+00, 5.10e+00,\n",
              "       6.10e+01, 6.60e+01, 7.90e-02, 8.40e+00, 1.18e-01, 4.40e+01,\n",
              "       6.95e-01, 1.60e+00, 6.20e+00, 1.80e-02, 5.30e+01, 1.40e+00,\n",
              "       3.00e+00, 5.80e+00, 3.80e+00, 9.60e+00, 4.50e+01, 6.30e+01,\n",
              "       4.90e+01, 7.70e+01, 4.40e+00, 4.80e+00, 7.00e+01, 6.90e+00,\n",
              "       9.30e+00, 8.10e+00, 3.60e+01, 8.40e+01, 9.70e+01, 2.00e+00,\n",
              "       1.90e+00, 1.80e+00, 5.30e+00, 4.70e+01, 5.56e-01, 5.26e-01,\n",
              "       7.60e+01, 7.60e+00, 5.90e+01, 9.70e+00, 7.80e+01, 7.20e+01,\n",
              "       4.30e+01, 7.70e+00, 6.30e+00, 3.34e-01, 3.40e+01, 9.30e+01,\n",
              "       6.50e+01, 7.90e+01, 1.00e+02, 5.80e+01, 5.00e+01, 6.80e+01,\n",
              "       6.40e+01, 6.70e+01, 6.00e+01, 9.40e+01, 2.32e-01, 9.90e+01,\n",
              "       6.24e-01, 9.50e+01, 8.50e-03, 4.10e-02, 2.92e-01, 1.10e-02,\n",
              "       8.00e+01, 1.70e+00, 7.40e+01, 6.20e+01, 6.90e+01, 7.50e+01,\n",
              "       9.80e+01, 8.50e+01, 8.20e+01, 9.60e+01, 8.70e+01, 7.10e+01,\n",
              "       8.60e+01, 9.10e+01, 8.10e+01, 9.20e+01, 8.30e+01, 8.80e+01,\n",
              "       7.04e-01, 8.62e-01, 8.99e-01, 3.78e-01, 2.66e-01, 3.75e-01,\n",
              "       1.30e+00, 9.75e-01, 9.80e-01, 4.10e+00, 8.90e+01, 6.96e-01,\n",
              "       5.44e-01, 5.25e-01, 9.20e-01, 7.79e-01, 8.53e-01, 7.20e-01,\n",
              "       7.13e-01, 7.72e-01, 3.18e-01, 5.80e-02, 2.41e-01, 1.96e-01,\n",
              "       8.57e-01, 5.10e-02, 9.53e-01, 8.65e-01, 2.51e-01, 9.30e-01,\n",
              "       5.40e-01, 3.13e-01, 7.46e-01, 2.03e-01, 2.60e-02, 3.14e-01,\n",
              "       2.39e-01, 3.71e-01, 2.20e-01, 7.30e-01, 7.56e-01, 9.10e-02,\n",
              "       2.93e-01, 1.70e-02, 7.40e-02, 1.40e-02, 3.17e-01, 7.80e-02,\n",
              "       9.24e-01, 9.02e-01, 8.18e-01, 8.10e-02, 9.39e-01, 1.69e-01,\n",
              "       4.50e-02, 4.75e-01, 9.65e-01, 9.00e+01, 5.45e-01, 6.10e-02,\n",
              "       2.83e-01, 6.55e-01, 7.14e-01, 9.30e-02, 8.72e-01, 1.21e-01,\n",
              "       3.22e-01, 1.00e+00, 9.76e-01, 1.72e-01, 2.38e-01, 5.49e-01,\n",
              "       2.06e-01, 9.54e-01, 4.44e-01, 7.17e-01, 2.10e-01, 6.09e-01,\n",
              "       3.08e-01, 7.05e-01, 3.06e-01, 9.04e-01, 4.73e-01, 1.75e-01,\n",
              "       3.50e-01, 3.83e-01, 4.54e-01, 4.21e-01, 7.00e-02, 8.12e-01,\n",
              "       4.42e-01, 8.42e-01, 4.17e-01, 4.12e-01, 4.59e-01, 4.78e-01,\n",
              "       3.35e-01, 7.82e-01, 7.21e-01, 4.30e-01, 4.29e-01, 1.92e-01,\n",
              "       2.00e-01, 4.60e-01, 7.28e-01, 4.96e-01, 8.16e-01, 4.14e-01,\n",
              "       5.06e-01, 8.87e-01, 6.13e-01, 2.43e-01, 5.69e-01, 7.78e-01,\n",
              "       6.83e-01, 5.92e-01, 3.19e-01, 1.86e-01, 8.40e-01, 6.47e-01,\n",
              "       1.91e-01, 3.73e-01, 4.37e-01, 5.98e-01, 7.16e-01, 5.85e-01,\n",
              "       9.82e-01, 2.22e-01, 2.19e-01, 5.50e-02, 9.48e-01, 3.23e-01,\n",
              "       6.91e-01, 5.11e-01, 9.51e-01, 9.63e-01, 2.50e-02, 5.54e-01,\n",
              "       3.51e-01, 2.70e-02, 8.20e-02, 2.08e-01, 9.13e-01, 5.14e-01,\n",
              "       5.51e-01, 2.90e-02, 1.03e-01, 8.98e-01, 7.43e-01, 1.16e-01,\n",
              "       1.53e-01, 2.09e-01, 3.53e-01, 4.99e-01, 1.73e-01, 5.97e-01,\n",
              "       8.09e-01, 1.22e-01, 4.11e-01, 4.00e-01, 8.01e-01, 7.87e-01,\n",
              "       2.37e-01, 5.00e-02, 6.43e-01, 9.86e-01, 9.70e-02, 5.16e-01,\n",
              "       8.37e-01, 7.80e-01, 9.61e-01, 2.69e-01, 2.00e-02, 4.98e-01,\n",
              "       6.00e-01, 7.49e-01, 6.42e-01, 8.81e-01, 7.20e-02, 6.56e-01,\n",
              "       6.01e-01, 2.21e-01, 2.28e-01, 1.08e-01, 9.40e-01, 1.76e-01,\n",
              "       3.30e-02, 6.63e-01, 3.40e-02, 9.42e-01, 2.59e-01, 1.64e-01,\n",
              "       4.58e-01, 2.45e-01, 6.29e-01, 2.80e-02, 2.88e-01, 7.75e-01,\n",
              "       7.85e-01, 6.36e-01, 9.16e-01, 9.94e-01, 3.09e-01, 4.85e-01,\n",
              "       9.14e-01, 9.03e-01, 6.08e-01, 5.00e-01, 5.40e-02, 5.62e-01,\n",
              "       8.47e-01, 9.57e-01, 6.88e-01, 8.11e-01, 2.70e-01, 4.80e-02,\n",
              "       3.29e-01, 5.23e-01, 9.21e-01, 8.74e-01, 9.81e-01, 7.84e-01,\n",
              "       2.80e-01, 2.40e-02, 5.18e-01, 7.54e-01, 8.92e-01, 1.54e-01,\n",
              "       8.60e-01, 3.64e-01, 3.87e-01, 6.26e-01, 1.61e-01, 8.79e-01,\n",
              "       3.90e-02, 9.70e-01, 1.70e-01, 1.41e-01, 1.60e-01, 1.44e-01,\n",
              "       1.43e-01, 1.90e-01, 3.76e-01, 1.93e-01, 2.46e-01, 7.30e-02,\n",
              "       6.58e-01, 9.92e-01, 2.53e-01, 4.20e-01, 4.04e-01, 4.70e-01,\n",
              "       2.26e-01, 2.40e-01, 8.90e-02, 2.34e-01, 2.57e-01, 8.61e-01,\n",
              "       4.67e-01, 1.57e-01, 4.40e-02, 6.76e-01, 6.70e-02, 5.52e-01,\n",
              "       8.85e-01, 1.02e+00, 5.82e-01, 6.19e-01])"
            ]
          },
          "metadata": {},
          "execution_count": 54
        }
      ]
    },
    {
      "cell_type": "code",
      "source": [
        "play_store['Installs'].unique()"
      ],
      "metadata": {
        "colab": {
          "base_uri": "https://localhost:8080/"
        },
        "id": "Oofufw_4Yxb4",
        "outputId": "f3ab44b7-a937-4b06-e9c3-0a1204454202"
      },
      "execution_count": null,
      "outputs": [
        {
          "output_type": "execute_result",
          "data": {
            "text/plain": [
              "array([1.e+04, 5.e+05, 5.e+06, 5.e+07, 1.e+05, 5.e+04, 1.e+06, 1.e+07,\n",
              "       5.e+03, 1.e+08, 1.e+09, 1.e+03, 5.e+08, 5.e+01, 1.e+02, 5.e+02,\n",
              "       1.e+01, 1.e+00, 5.e+00, 0.e+00])"
            ]
          },
          "metadata": {},
          "execution_count": 55
        }
      ]
    },
    {
      "cell_type": "code",
      "source": [
        "play_store = play_store[~(play_store['Installs'] == \"Free\")].reset_index(drop=True)"
      ],
      "metadata": {
        "id": "4xtZko4JY5LF"
      },
      "execution_count": null,
      "outputs": []
    },
    {
      "cell_type": "code",
      "source": [
        "play_store['Installs'] = play_store['Installs'].apply(lambda x: x.replace('+', '') if '+' in str(x) else x)\n",
        "play_store['Installs'] = play_store['Installs'].apply(lambda x: x.replace(',', '') if ',' in str(x) else x)\n",
        "play_store['Installs'] = play_store['Installs'].apply(lambda x: int(x))"
      ],
      "metadata": {
        "id": "BDx55bd4Y8wv"
      },
      "execution_count": null,
      "outputs": []
    },
    {
      "cell_type": "code",
      "source": [
        "play_store['Installs'].unique()"
      ],
      "metadata": {
        "colab": {
          "base_uri": "https://localhost:8080/"
        },
        "id": "tZdVAWCiZAdC",
        "outputId": "fdcf5531-e66a-4eee-df65-867810c34e65"
      },
      "execution_count": null,
      "outputs": [
        {
          "output_type": "execute_result",
          "data": {
            "text/plain": [
              "array([     10000,     500000,    5000000,   50000000,     100000,\n",
              "            50000,    1000000,   10000000,       5000,  100000000,\n",
              "       1000000000,       1000,  500000000,         50,        100,\n",
              "              500,         10,          1,          5,          0])"
            ]
          },
          "metadata": {},
          "execution_count": 58
        }
      ]
    },
    {
      "cell_type": "code",
      "source": [
        "play_store['Price'].unique()"
      ],
      "metadata": {
        "colab": {
          "base_uri": "https://localhost:8080/"
        },
        "id": "A7MLlx3WZbGe",
        "outputId": "e6aa0974-1cf3-4bfc-b770-80815ce693ef"
      },
      "execution_count": null,
      "outputs": [
        {
          "output_type": "execute_result",
          "data": {
            "text/plain": [
              "array([  0.  ,   4.99,   3.99,   6.99,   1.49,   2.99,   7.99,   5.99,\n",
              "         3.49,   1.99,   9.99,   7.49,   0.99,   9.  ,   5.49,  10.  ,\n",
              "        24.99,  11.99,  79.99,  16.99,  14.99,   1.  ,  29.99,  12.99,\n",
              "         2.49,  10.99,   1.5 ,  19.99,  15.99,  33.99,  74.99,  39.99,\n",
              "         3.95,   4.49,   1.7 ,   8.99,   2.  ,   3.88,  25.99, 399.99,\n",
              "        17.99, 400.  ,   3.02,   1.76,   4.84,   4.77,   1.61,   2.5 ,\n",
              "         1.59,   6.49,   1.29,   5.  ,  13.99, 299.99, 379.99,  37.99,\n",
              "        18.99, 389.99,  19.9 ,   8.49,   1.75,  14.  ,   4.85,  46.99,\n",
              "       109.99, 154.99,   3.08,   2.59,   4.8 ,   1.96,  19.4 ,   3.9 ,\n",
              "         4.59,  15.46,   3.04,   4.29,   2.6 ,   3.28,   4.6 ,  28.99,\n",
              "         2.95,   2.9 ,   1.97, 200.  ,  89.99,   2.56,  30.99,   3.61,\n",
              "       394.99,   1.26,   1.2 ,   1.04])"
            ]
          },
          "metadata": {},
          "execution_count": 59
        }
      ]
    },
    {
      "cell_type": "code",
      "source": [
        "play_store['Price'] = play_store['Price'].apply(lambda x: x.replace('$', '') if '$' in str(x) else x)"
      ],
      "metadata": {
        "id": "iT1P_BVNSzua"
      },
      "execution_count": null,
      "outputs": []
    },
    {
      "cell_type": "code",
      "source": [
        "play_store['Size'] = play_store['Size'].apply(lambda x: float(x))\n",
        "play_store['Installs'] = play_store['Installs'].apply(lambda x: float(x))\n",
        "play_store['Price'] = play_store['Price'].apply(lambda x: float(x))\n",
        "play_store['Reviews'] = play_store['Reviews'].apply(lambda x: int(x))"
      ],
      "metadata": {
        "id": "Tue5oeaGZef2"
      },
      "execution_count": null,
      "outputs": []
    },
    {
      "cell_type": "code",
      "source": [
        "play_store.dtypes"
      ],
      "metadata": {
        "colab": {
          "base_uri": "https://localhost:8080/"
        },
        "id": "Bb0C9_CtZl4M",
        "outputId": "b604f8d5-2b31-42a3-a03b-a14872c72cd5"
      },
      "execution_count": null,
      "outputs": [
        {
          "output_type": "execute_result",
          "data": {
            "text/plain": [
              "App                object\n",
              "Category           object\n",
              "Rating            float64\n",
              "Reviews             int64\n",
              "Size              float64\n",
              "Installs          float64\n",
              "Type               object\n",
              "Price             float64\n",
              "Content Rating     object\n",
              "Genres             object\n",
              "Last Updated       object\n",
              "Current Ver        object\n",
              "Android Ver        object\n",
              "dtype: object"
            ]
          },
          "metadata": {},
          "execution_count": 62
        }
      ]
    },
    {
      "cell_type": "markdown",
      "source": [
        "## Null values"
      ],
      "metadata": {
        "id": "OmY8hzmTZ5cY"
      }
    },
    {
      "cell_type": "code",
      "source": [
        "## Let's get the ratio of missing values for each feature\n",
        "play_store_na = (play_store.isnull().sum() / len(play_store)) * 100\n",
        "play_store_na = play_store_na.drop(play_store_na[play_store_na == 0].index).sort_values(ascending=False)\n",
        "missing_data = pd.DataFrame({'Missing Ratio' :play_store_na})\n",
        "missing_data"
      ],
      "metadata": {
        "colab": {
          "base_uri": "https://localhost:8080/"
        },
        "id": "bMkoYLznZpnS",
        "outputId": "30f507a3-29a5-4bf5-c08f-493bbe2cba55"
      },
      "execution_count": null,
      "outputs": [
        {
          "output_type": "execute_result",
          "data": {
            "text/plain": [
              "             Missing Ratio\n",
              "Rating           15.146495\n",
              "Size             12.703178\n",
              "Current Ver       0.082824\n",
              "Android Ver       0.020706\n",
              "Type              0.010353"
            ],
            "text/html": [
              "\n",
              "  <div id=\"df-3de1508e-2fdc-401e-9c80-19cc0037a6c9\">\n",
              "    <div class=\"colab-df-container\">\n",
              "      <div>\n",
              "<style scoped>\n",
              "    .dataframe tbody tr th:only-of-type {\n",
              "        vertical-align: middle;\n",
              "    }\n",
              "\n",
              "    .dataframe tbody tr th {\n",
              "        vertical-align: top;\n",
              "    }\n",
              "\n",
              "    .dataframe thead th {\n",
              "        text-align: right;\n",
              "    }\n",
              "</style>\n",
              "<table border=\"1\" class=\"dataframe\">\n",
              "  <thead>\n",
              "    <tr style=\"text-align: right;\">\n",
              "      <th></th>\n",
              "      <th>Missing Ratio</th>\n",
              "    </tr>\n",
              "  </thead>\n",
              "  <tbody>\n",
              "    <tr>\n",
              "      <th>Rating</th>\n",
              "      <td>15.146495</td>\n",
              "    </tr>\n",
              "    <tr>\n",
              "      <th>Size</th>\n",
              "      <td>12.703178</td>\n",
              "    </tr>\n",
              "    <tr>\n",
              "      <th>Current Ver</th>\n",
              "      <td>0.082824</td>\n",
              "    </tr>\n",
              "    <tr>\n",
              "      <th>Android Ver</th>\n",
              "      <td>0.020706</td>\n",
              "    </tr>\n",
              "    <tr>\n",
              "      <th>Type</th>\n",
              "      <td>0.010353</td>\n",
              "    </tr>\n",
              "  </tbody>\n",
              "</table>\n",
              "</div>\n",
              "      <button class=\"colab-df-convert\" onclick=\"convertToInteractive('df-3de1508e-2fdc-401e-9c80-19cc0037a6c9')\"\n",
              "              title=\"Convert this dataframe to an interactive table.\"\n",
              "              style=\"display:none;\">\n",
              "        \n",
              "  <svg xmlns=\"http://www.w3.org/2000/svg\" height=\"24px\"viewBox=\"0 0 24 24\"\n",
              "       width=\"24px\">\n",
              "    <path d=\"M0 0h24v24H0V0z\" fill=\"none\"/>\n",
              "    <path d=\"M18.56 5.44l.94 2.06.94-2.06 2.06-.94-2.06-.94-.94-2.06-.94 2.06-2.06.94zm-11 1L8.5 8.5l.94-2.06 2.06-.94-2.06-.94L8.5 2.5l-.94 2.06-2.06.94zm10 10l.94 2.06.94-2.06 2.06-.94-2.06-.94-.94-2.06-.94 2.06-2.06.94z\"/><path d=\"M17.41 7.96l-1.37-1.37c-.4-.4-.92-.59-1.43-.59-.52 0-1.04.2-1.43.59L10.3 9.45l-7.72 7.72c-.78.78-.78 2.05 0 2.83L4 21.41c.39.39.9.59 1.41.59.51 0 1.02-.2 1.41-.59l7.78-7.78 2.81-2.81c.8-.78.8-2.07 0-2.86zM5.41 20L4 18.59l7.72-7.72 1.47 1.35L5.41 20z\"/>\n",
              "  </svg>\n",
              "      </button>\n",
              "      \n",
              "  <style>\n",
              "    .colab-df-container {\n",
              "      display:flex;\n",
              "      flex-wrap:wrap;\n",
              "      gap: 12px;\n",
              "    }\n",
              "\n",
              "    .colab-df-convert {\n",
              "      background-color: #E8F0FE;\n",
              "      border: none;\n",
              "      border-radius: 50%;\n",
              "      cursor: pointer;\n",
              "      display: none;\n",
              "      fill: #1967D2;\n",
              "      height: 32px;\n",
              "      padding: 0 0 0 0;\n",
              "      width: 32px;\n",
              "    }\n",
              "\n",
              "    .colab-df-convert:hover {\n",
              "      background-color: #E2EBFA;\n",
              "      box-shadow: 0px 1px 2px rgba(60, 64, 67, 0.3), 0px 1px 3px 1px rgba(60, 64, 67, 0.15);\n",
              "      fill: #174EA6;\n",
              "    }\n",
              "\n",
              "    [theme=dark] .colab-df-convert {\n",
              "      background-color: #3B4455;\n",
              "      fill: #D2E3FC;\n",
              "    }\n",
              "\n",
              "    [theme=dark] .colab-df-convert:hover {\n",
              "      background-color: #434B5C;\n",
              "      box-shadow: 0px 1px 3px 1px rgba(0, 0, 0, 0.15);\n",
              "      filter: drop-shadow(0px 1px 2px rgba(0, 0, 0, 0.3));\n",
              "      fill: #FFFFFF;\n",
              "    }\n",
              "  </style>\n",
              "\n",
              "      <script>\n",
              "        const buttonEl =\n",
              "          document.querySelector('#df-3de1508e-2fdc-401e-9c80-19cc0037a6c9 button.colab-df-convert');\n",
              "        buttonEl.style.display =\n",
              "          google.colab.kernel.accessAllowed ? 'block' : 'none';\n",
              "\n",
              "        async function convertToInteractive(key) {\n",
              "          const element = document.querySelector('#df-3de1508e-2fdc-401e-9c80-19cc0037a6c9');\n",
              "          const dataTable =\n",
              "            await google.colab.kernel.invokeFunction('convertToInteractive',\n",
              "                                                     [key], {});\n",
              "          if (!dataTable) return;\n",
              "\n",
              "          const docLinkHtml = 'Like what you see? Visit the ' +\n",
              "            '<a target=\"_blank\" href=https://colab.research.google.com/notebooks/data_table.ipynb>data table notebook</a>'\n",
              "            + ' to learn more about interactive tables.';\n",
              "          element.innerHTML = '';\n",
              "          dataTable['output_type'] = 'display_data';\n",
              "          await google.colab.output.renderOutput(dataTable, element);\n",
              "          const docLink = document.createElement('div');\n",
              "          docLink.innerHTML = docLinkHtml;\n",
              "          element.appendChild(docLink);\n",
              "        }\n",
              "      </script>\n",
              "    </div>\n",
              "  </div>\n",
              "  "
            ]
          },
          "metadata": {},
          "execution_count": 63
        }
      ]
    },
    {
      "cell_type": "code",
      "source": [
        "## Drop the Null values in Rating column\n",
        "play_store.dropna(subset =['Rating'], inplace = True)\n",
        "print(\"The number of rows and columns in play_store_df after dropping the NAs from 'Rating' is\",play_store.shape)"
      ],
      "metadata": {
        "colab": {
          "base_uri": "https://localhost:8080/"
        },
        "id": "mg9fRkBIaDKx",
        "outputId": "350d4cc2-7f1a-474a-961f-11ef0afafaac"
      },
      "execution_count": null,
      "outputs": [
        {
          "output_type": "stream",
          "name": "stdout",
          "text": [
            "The number of rows and columns in play_store_df after dropping the NAs from 'Rating' is (8196, 13)\n"
          ]
        }
      ]
    },
    {
      "cell_type": "code",
      "source": [
        "## Recalculate the missing value ratio\n",
        "play_store_na = (play_store.isnull().sum() / len(play_store)) * 100\n",
        "play_store_na = play_store_na.drop(play_store_na[play_store_na == 0].index).sort_values(ascending=False)\n",
        "missing_data = pd.DataFrame({'Missing Ratio' :play_store_na})\n",
        "missing_data"
      ],
      "metadata": {
        "colab": {
          "base_uri": "https://localhost:8080/"
        },
        "id": "FBf6098raIe9",
        "outputId": "09becae1-6b68-4b29-f728-927184ee0ce2"
      },
      "execution_count": null,
      "outputs": [
        {
          "output_type": "execute_result",
          "data": {
            "text/plain": [
              "             Missing Ratio\n",
              "Size             14.263055\n",
              "Current Ver       0.048804\n",
              "Android Ver       0.024402"
            ],
            "text/html": [
              "\n",
              "  <div id=\"df-d1293bb1-cae3-4f9e-a71a-91ee6cb388d3\">\n",
              "    <div class=\"colab-df-container\">\n",
              "      <div>\n",
              "<style scoped>\n",
              "    .dataframe tbody tr th:only-of-type {\n",
              "        vertical-align: middle;\n",
              "    }\n",
              "\n",
              "    .dataframe tbody tr th {\n",
              "        vertical-align: top;\n",
              "    }\n",
              "\n",
              "    .dataframe thead th {\n",
              "        text-align: right;\n",
              "    }\n",
              "</style>\n",
              "<table border=\"1\" class=\"dataframe\">\n",
              "  <thead>\n",
              "    <tr style=\"text-align: right;\">\n",
              "      <th></th>\n",
              "      <th>Missing Ratio</th>\n",
              "    </tr>\n",
              "  </thead>\n",
              "  <tbody>\n",
              "    <tr>\n",
              "      <th>Size</th>\n",
              "      <td>14.263055</td>\n",
              "    </tr>\n",
              "    <tr>\n",
              "      <th>Current Ver</th>\n",
              "      <td>0.048804</td>\n",
              "    </tr>\n",
              "    <tr>\n",
              "      <th>Android Ver</th>\n",
              "      <td>0.024402</td>\n",
              "    </tr>\n",
              "  </tbody>\n",
              "</table>\n",
              "</div>\n",
              "      <button class=\"colab-df-convert\" onclick=\"convertToInteractive('df-d1293bb1-cae3-4f9e-a71a-91ee6cb388d3')\"\n",
              "              title=\"Convert this dataframe to an interactive table.\"\n",
              "              style=\"display:none;\">\n",
              "        \n",
              "  <svg xmlns=\"http://www.w3.org/2000/svg\" height=\"24px\"viewBox=\"0 0 24 24\"\n",
              "       width=\"24px\">\n",
              "    <path d=\"M0 0h24v24H0V0z\" fill=\"none\"/>\n",
              "    <path d=\"M18.56 5.44l.94 2.06.94-2.06 2.06-.94-2.06-.94-.94-2.06-.94 2.06-2.06.94zm-11 1L8.5 8.5l.94-2.06 2.06-.94-2.06-.94L8.5 2.5l-.94 2.06-2.06.94zm10 10l.94 2.06.94-2.06 2.06-.94-2.06-.94-.94-2.06-.94 2.06-2.06.94z\"/><path d=\"M17.41 7.96l-1.37-1.37c-.4-.4-.92-.59-1.43-.59-.52 0-1.04.2-1.43.59L10.3 9.45l-7.72 7.72c-.78.78-.78 2.05 0 2.83L4 21.41c.39.39.9.59 1.41.59.51 0 1.02-.2 1.41-.59l7.78-7.78 2.81-2.81c.8-.78.8-2.07 0-2.86zM5.41 20L4 18.59l7.72-7.72 1.47 1.35L5.41 20z\"/>\n",
              "  </svg>\n",
              "      </button>\n",
              "      \n",
              "  <style>\n",
              "    .colab-df-container {\n",
              "      display:flex;\n",
              "      flex-wrap:wrap;\n",
              "      gap: 12px;\n",
              "    }\n",
              "\n",
              "    .colab-df-convert {\n",
              "      background-color: #E8F0FE;\n",
              "      border: none;\n",
              "      border-radius: 50%;\n",
              "      cursor: pointer;\n",
              "      display: none;\n",
              "      fill: #1967D2;\n",
              "      height: 32px;\n",
              "      padding: 0 0 0 0;\n",
              "      width: 32px;\n",
              "    }\n",
              "\n",
              "    .colab-df-convert:hover {\n",
              "      background-color: #E2EBFA;\n",
              "      box-shadow: 0px 1px 2px rgba(60, 64, 67, 0.3), 0px 1px 3px 1px rgba(60, 64, 67, 0.15);\n",
              "      fill: #174EA6;\n",
              "    }\n",
              "\n",
              "    [theme=dark] .colab-df-convert {\n",
              "      background-color: #3B4455;\n",
              "      fill: #D2E3FC;\n",
              "    }\n",
              "\n",
              "    [theme=dark] .colab-df-convert:hover {\n",
              "      background-color: #434B5C;\n",
              "      box-shadow: 0px 1px 3px 1px rgba(0, 0, 0, 0.15);\n",
              "      filter: drop-shadow(0px 1px 2px rgba(0, 0, 0, 0.3));\n",
              "      fill: #FFFFFF;\n",
              "    }\n",
              "  </style>\n",
              "\n",
              "      <script>\n",
              "        const buttonEl =\n",
              "          document.querySelector('#df-d1293bb1-cae3-4f9e-a71a-91ee6cb388d3 button.colab-df-convert');\n",
              "        buttonEl.style.display =\n",
              "          google.colab.kernel.accessAllowed ? 'block' : 'none';\n",
              "\n",
              "        async function convertToInteractive(key) {\n",
              "          const element = document.querySelector('#df-d1293bb1-cae3-4f9e-a71a-91ee6cb388d3');\n",
              "          const dataTable =\n",
              "            await google.colab.kernel.invokeFunction('convertToInteractive',\n",
              "                                                     [key], {});\n",
              "          if (!dataTable) return;\n",
              "\n",
              "          const docLinkHtml = 'Like what you see? Visit the ' +\n",
              "            '<a target=\"_blank\" href=https://colab.research.google.com/notebooks/data_table.ipynb>data table notebook</a>'\n",
              "            + ' to learn more about interactive tables.';\n",
              "          element.innerHTML = '';\n",
              "          dataTable['output_type'] = 'display_data';\n",
              "          await google.colab.output.renderOutput(dataTable, element);\n",
              "          const docLink = document.createElement('div');\n",
              "          docLink.innerHTML = docLinkHtml;\n",
              "          element.appendChild(docLink);\n",
              "        }\n",
              "      </script>\n",
              "    </div>\n",
              "  </div>\n",
              "  "
            ]
          },
          "metadata": {},
          "execution_count": 65
        }
      ]
    },
    {
      "cell_type": "markdown",
      "source": [
        "*Since the ratio of missing values for the rest of the columns is less (<0.05), we proceed to fill these with the mode values instead of dropping these rows.*"
      ],
      "metadata": {
        "id": "rjDuVuijaVgJ"
      }
    },
    {
      "cell_type": "code",
      "source": [
        "## Fill the three columns with the mode value\n",
        "play_store['Current Ver'] = play_store['Current Ver'].fillna(play_store['Current Ver'].mode()[0])\n",
        "play_store['Android Ver'] = play_store['Android Ver'].fillna(play_store['Android Ver'].mode()[0])\n",
        "play_store['Content Rating'] = play_store['Content Rating'].fillna(play_store['Content Rating'].mode()[0])"
      ],
      "metadata": {
        "id": "7Ozabnh6aQIE"
      },
      "execution_count": null,
      "outputs": []
    },
    {
      "cell_type": "markdown",
      "source": [
        "# **Exploratry Data Analysis(EDA)**"
      ],
      "metadata": {
        "id": "IBWkw1M3afe0"
      }
    },
    {
      "cell_type": "markdown",
      "source": [
        "## Top 5 apps of free type by size."
      ],
      "metadata": {
        "id": "UN5Iij66mp_n"
      }
    },
    {
      "cell_type": "code",
      "source": [
        "free_apps = play_store[play_store['Type'] == 'Free']"
      ],
      "metadata": {
        "id": "MijRRiwXmtpx"
      },
      "execution_count": null,
      "outputs": []
    },
    {
      "cell_type": "code",
      "source": [
        "top_free_apps = free_apps[free_apps['Size'] == free_apps['Size'].max()]\n",
        "t5free_apps=top_free_apps.nlargest(5,'Size')\n",
        "t5free_apps.head()"
      ],
      "metadata": {
        "colab": {
          "base_uri": "https://localhost:8080/",
          "height": 496
        },
        "id": "YAieEi1-mz-3",
        "outputId": "10b29fdb-8e79-4bb8-a101-4a1c2d937625"
      },
      "execution_count": null,
      "outputs": [
        {
          "output_type": "execute_result",
          "data": {
            "text/plain": [
              "                                    App   Category  Rating  Reviews   Size  \\\n",
              "1080                          Post Bank    FINANCE     4.5    60449  100.0   \n",
              "1565     Talking Babsy Baby: Baby Games  LIFESTYLE     4.0   140995  100.0   \n",
              "1758             Hungry Shark Evolution       GAME     4.5  6074334  100.0   \n",
              "1793  Mini Golf King - Multiplayer Game       GAME     4.5   531458  100.0   \n",
              "1988             Hungry Shark Evolution       GAME     4.5  6074627  100.0   \n",
              "\n",
              "         Installs  Type  Price Content Rating                  Genres  \\\n",
              "1080    1000000.0  Free    0.0       Everyone                 Finance   \n",
              "1565   10000000.0  Free    0.0       Everyone  Lifestyle;Pretend Play   \n",
              "1758  100000000.0  Free    0.0           Teen                  Arcade   \n",
              "1793    5000000.0  Free    0.0       Everyone                  Sports   \n",
              "1988  100000000.0  Free    0.0           Teen                  Arcade   \n",
              "\n",
              "       Last Updated Current Ver   Android Ver  \n",
              "1080  July 23, 2018      2.9.12    4.0 and up  \n",
              "1565  July 16, 2018         9.0    4.0 and up  \n",
              "1758  July 25, 2018       6.0.0    4.1 and up  \n",
              "1793  July 20, 2018      3.04.1  4.0.3 and up  \n",
              "1988  July 25, 2018       6.0.0    4.1 and up  "
            ],
            "text/html": [
              "\n",
              "  <div id=\"df-20c78f33-37a2-4a93-b846-13b8fb0e9ca2\">\n",
              "    <div class=\"colab-df-container\">\n",
              "      <div>\n",
              "<style scoped>\n",
              "    .dataframe tbody tr th:only-of-type {\n",
              "        vertical-align: middle;\n",
              "    }\n",
              "\n",
              "    .dataframe tbody tr th {\n",
              "        vertical-align: top;\n",
              "    }\n",
              "\n",
              "    .dataframe thead th {\n",
              "        text-align: right;\n",
              "    }\n",
              "</style>\n",
              "<table border=\"1\" class=\"dataframe\">\n",
              "  <thead>\n",
              "    <tr style=\"text-align: right;\">\n",
              "      <th></th>\n",
              "      <th>App</th>\n",
              "      <th>Category</th>\n",
              "      <th>Rating</th>\n",
              "      <th>Reviews</th>\n",
              "      <th>Size</th>\n",
              "      <th>Installs</th>\n",
              "      <th>Type</th>\n",
              "      <th>Price</th>\n",
              "      <th>Content Rating</th>\n",
              "      <th>Genres</th>\n",
              "      <th>Last Updated</th>\n",
              "      <th>Current Ver</th>\n",
              "      <th>Android Ver</th>\n",
              "    </tr>\n",
              "  </thead>\n",
              "  <tbody>\n",
              "    <tr>\n",
              "      <th>1080</th>\n",
              "      <td>Post Bank</td>\n",
              "      <td>FINANCE</td>\n",
              "      <td>4.5</td>\n",
              "      <td>60449</td>\n",
              "      <td>100.0</td>\n",
              "      <td>1000000.0</td>\n",
              "      <td>Free</td>\n",
              "      <td>0.0</td>\n",
              "      <td>Everyone</td>\n",
              "      <td>Finance</td>\n",
              "      <td>July 23, 2018</td>\n",
              "      <td>2.9.12</td>\n",
              "      <td>4.0 and up</td>\n",
              "    </tr>\n",
              "    <tr>\n",
              "      <th>1565</th>\n",
              "      <td>Talking Babsy Baby: Baby Games</td>\n",
              "      <td>LIFESTYLE</td>\n",
              "      <td>4.0</td>\n",
              "      <td>140995</td>\n",
              "      <td>100.0</td>\n",
              "      <td>10000000.0</td>\n",
              "      <td>Free</td>\n",
              "      <td>0.0</td>\n",
              "      <td>Everyone</td>\n",
              "      <td>Lifestyle;Pretend Play</td>\n",
              "      <td>July 16, 2018</td>\n",
              "      <td>9.0</td>\n",
              "      <td>4.0 and up</td>\n",
              "    </tr>\n",
              "    <tr>\n",
              "      <th>1758</th>\n",
              "      <td>Hungry Shark Evolution</td>\n",
              "      <td>GAME</td>\n",
              "      <td>4.5</td>\n",
              "      <td>6074334</td>\n",
              "      <td>100.0</td>\n",
              "      <td>100000000.0</td>\n",
              "      <td>Free</td>\n",
              "      <td>0.0</td>\n",
              "      <td>Teen</td>\n",
              "      <td>Arcade</td>\n",
              "      <td>July 25, 2018</td>\n",
              "      <td>6.0.0</td>\n",
              "      <td>4.1 and up</td>\n",
              "    </tr>\n",
              "    <tr>\n",
              "      <th>1793</th>\n",
              "      <td>Mini Golf King - Multiplayer Game</td>\n",
              "      <td>GAME</td>\n",
              "      <td>4.5</td>\n",
              "      <td>531458</td>\n",
              "      <td>100.0</td>\n",
              "      <td>5000000.0</td>\n",
              "      <td>Free</td>\n",
              "      <td>0.0</td>\n",
              "      <td>Everyone</td>\n",
              "      <td>Sports</td>\n",
              "      <td>July 20, 2018</td>\n",
              "      <td>3.04.1</td>\n",
              "      <td>4.0.3 and up</td>\n",
              "    </tr>\n",
              "    <tr>\n",
              "      <th>1988</th>\n",
              "      <td>Hungry Shark Evolution</td>\n",
              "      <td>GAME</td>\n",
              "      <td>4.5</td>\n",
              "      <td>6074627</td>\n",
              "      <td>100.0</td>\n",
              "      <td>100000000.0</td>\n",
              "      <td>Free</td>\n",
              "      <td>0.0</td>\n",
              "      <td>Teen</td>\n",
              "      <td>Arcade</td>\n",
              "      <td>July 25, 2018</td>\n",
              "      <td>6.0.0</td>\n",
              "      <td>4.1 and up</td>\n",
              "    </tr>\n",
              "  </tbody>\n",
              "</table>\n",
              "</div>\n",
              "      <button class=\"colab-df-convert\" onclick=\"convertToInteractive('df-20c78f33-37a2-4a93-b846-13b8fb0e9ca2')\"\n",
              "              title=\"Convert this dataframe to an interactive table.\"\n",
              "              style=\"display:none;\">\n",
              "        \n",
              "  <svg xmlns=\"http://www.w3.org/2000/svg\" height=\"24px\"viewBox=\"0 0 24 24\"\n",
              "       width=\"24px\">\n",
              "    <path d=\"M0 0h24v24H0V0z\" fill=\"none\"/>\n",
              "    <path d=\"M18.56 5.44l.94 2.06.94-2.06 2.06-.94-2.06-.94-.94-2.06-.94 2.06-2.06.94zm-11 1L8.5 8.5l.94-2.06 2.06-.94-2.06-.94L8.5 2.5l-.94 2.06-2.06.94zm10 10l.94 2.06.94-2.06 2.06-.94-2.06-.94-.94-2.06-.94 2.06-2.06.94z\"/><path d=\"M17.41 7.96l-1.37-1.37c-.4-.4-.92-.59-1.43-.59-.52 0-1.04.2-1.43.59L10.3 9.45l-7.72 7.72c-.78.78-.78 2.05 0 2.83L4 21.41c.39.39.9.59 1.41.59.51 0 1.02-.2 1.41-.59l7.78-7.78 2.81-2.81c.8-.78.8-2.07 0-2.86zM5.41 20L4 18.59l7.72-7.72 1.47 1.35L5.41 20z\"/>\n",
              "  </svg>\n",
              "      </button>\n",
              "      \n",
              "  <style>\n",
              "    .colab-df-container {\n",
              "      display:flex;\n",
              "      flex-wrap:wrap;\n",
              "      gap: 12px;\n",
              "    }\n",
              "\n",
              "    .colab-df-convert {\n",
              "      background-color: #E8F0FE;\n",
              "      border: none;\n",
              "      border-radius: 50%;\n",
              "      cursor: pointer;\n",
              "      display: none;\n",
              "      fill: #1967D2;\n",
              "      height: 32px;\n",
              "      padding: 0 0 0 0;\n",
              "      width: 32px;\n",
              "    }\n",
              "\n",
              "    .colab-df-convert:hover {\n",
              "      background-color: #E2EBFA;\n",
              "      box-shadow: 0px 1px 2px rgba(60, 64, 67, 0.3), 0px 1px 3px 1px rgba(60, 64, 67, 0.15);\n",
              "      fill: #174EA6;\n",
              "    }\n",
              "\n",
              "    [theme=dark] .colab-df-convert {\n",
              "      background-color: #3B4455;\n",
              "      fill: #D2E3FC;\n",
              "    }\n",
              "\n",
              "    [theme=dark] .colab-df-convert:hover {\n",
              "      background-color: #434B5C;\n",
              "      box-shadow: 0px 1px 3px 1px rgba(0, 0, 0, 0.15);\n",
              "      filter: drop-shadow(0px 1px 2px rgba(0, 0, 0, 0.3));\n",
              "      fill: #FFFFFF;\n",
              "    }\n",
              "  </style>\n",
              "\n",
              "      <script>\n",
              "        const buttonEl =\n",
              "          document.querySelector('#df-20c78f33-37a2-4a93-b846-13b8fb0e9ca2 button.colab-df-convert');\n",
              "        buttonEl.style.display =\n",
              "          google.colab.kernel.accessAllowed ? 'block' : 'none';\n",
              "\n",
              "        async function convertToInteractive(key) {\n",
              "          const element = document.querySelector('#df-20c78f33-37a2-4a93-b846-13b8fb0e9ca2');\n",
              "          const dataTable =\n",
              "            await google.colab.kernel.invokeFunction('convertToInteractive',\n",
              "                                                     [key], {});\n",
              "          if (!dataTable) return;\n",
              "\n",
              "          const docLinkHtml = 'Like what you see? Visit the ' +\n",
              "            '<a target=\"_blank\" href=https://colab.research.google.com/notebooks/data_table.ipynb>data table notebook</a>'\n",
              "            + ' to learn more about interactive tables.';\n",
              "          element.innerHTML = '';\n",
              "          dataTable['output_type'] = 'display_data';\n",
              "          await google.colab.output.renderOutput(dataTable, element);\n",
              "          const docLink = document.createElement('div');\n",
              "          docLink.innerHTML = docLinkHtml;\n",
              "          element.appendChild(docLink);\n",
              "        }\n",
              "      </script>\n",
              "    </div>\n",
              "  </div>\n",
              "  "
            ]
          },
          "metadata": {},
          "execution_count": 45
        }
      ]
    },
    {
      "cell_type": "markdown",
      "source": [
        "## Content rating by different ages"
      ],
      "metadata": {
        "id": "G3DYVG-4pyPQ"
      }
    },
    {
      "cell_type": "code",
      "source": [
        "content_rating_df = play_store['Content Rating'].value_counts()\n",
        "print(content_rating_df)"
      ],
      "metadata": {
        "colab": {
          "base_uri": "https://localhost:8080/"
        },
        "id": "QCXnRxAypzJR",
        "outputId": "96f89eef-e867-44af-ca51-9d8870cb9247"
      },
      "execution_count": null,
      "outputs": [
        {
          "output_type": "stream",
          "name": "stdout",
          "text": [
            "Everyone           6618\n",
            "Teen                912\n",
            "Mature 17+          357\n",
            "Everyone 10+        305\n",
            "Adults only 18+       3\n",
            "Unrated               1\n",
            "Name: Content Rating, dtype: int64\n"
          ]
        }
      ]
    },
    {
      "cell_type": "code",
      "source": [
        "content_rating_df = [go.Histogram(\n",
        "        x = play_store['Content Rating'],\n",
        "        xbins = {'start': 0.5, 'size': 1, 'end' :6})]\n",
        " \n",
        "plotly.offline.iplot(content_rating_df, filename='Rating')"
      ],
      "metadata": {
        "colab": {
          "base_uri": "https://localhost:8080/",
          "height": 542
        },
        "id": "a8aF-j8HZlB2",
        "outputId": "2ffed2bf-5d48-4536-b1e0-124bdc700f2e"
      },
      "execution_count": null,
      "outputs": [
        {
          "output_type": "display_data",
          "data": {
            "text/html": [
              "<html>\n",
              "<head><meta charset=\"utf-8\" /></head>\n",
              "<body>\n",
              "    <div>            <script src=\"https://cdnjs.cloudflare.com/ajax/libs/mathjax/2.7.5/MathJax.js?config=TeX-AMS-MML_SVG\"></script><script type=\"text/javascript\">if (window.MathJax) {MathJax.Hub.Config({SVG: {font: \"STIX-Web\"}});}</script>                <script type=\"text/javascript\">window.PlotlyConfig = {MathJaxConfig: 'local'};</script>\n",
              "        <script src=\"https://cdn.plot.ly/plotly-2.8.3.min.js\"></script>                <div id=\"3fa92e8e-7deb-411f-a1cd-663a4e1372fd\" class=\"plotly-graph-div\" style=\"height:525px; width:100%;\"></div>            <script type=\"text/javascript\">                                    window.PLOTLYENV=window.PLOTLYENV || {};                                    if (document.getElementById(\"3fa92e8e-7deb-411f-a1cd-663a4e1372fd\")) {                    Plotly.newPlot(                        \"3fa92e8e-7deb-411f-a1cd-663a4e1372fd\",                        [{\"x\":[\"Everyone\",\"Everyone\",\"Everyone\",\"Teen\",\"Everyone\",\"Everyone\",\"Everyone\",\"Everyone\",\"Everyone\",\"Everyone\",\"Everyone\",\"Everyone\",\"Teen\",\"Everyone\",\"Everyone\",\"Everyone\",\"Everyone\",\"Everyone\",\"Everyone\",\"Everyone\",\"Everyone\",\"Everyone\",\"Everyone 10+\",\"Everyone\",\"Everyone\",\"Everyone\",\"Everyone\",\"Everyone\",\"Everyone\",\"Everyone\",\"Everyone\",\"Everyone\",\"Everyone\",\"Teen\",\"Everyone\",\"Everyone\",\"Everyone\",\"Everyone\",\"Everyone\",\"Everyone\",\"Everyone\",\"Everyone\",\"Everyone\",\"Everyone\",\"Everyone\",\"Everyone\",\"Everyone\",\"Everyone\",\"Everyone\",\"Everyone\",\"Everyone\",\"Everyone\",\"Everyone\",\"Everyone\",\"Everyone\",\"Everyone\",\"Everyone\",\"Everyone\",\"Everyone\",\"Everyone\",\"Everyone\",\"Everyone\",\"Everyone\",\"Everyone\",\"Everyone\",\"Everyone\",\"Everyone\",\"Everyone\",\"Everyone\",\"Everyone\",\"Everyone\",\"Teen\",\"Everyone\",\"Everyone\",\"Everyone\",\"Everyone\",\"Everyone 10+\",\"Everyone\",\"Everyone\",\"Everyone\",\"Everyone\",\"Everyone\",\"Everyone\",\"Everyone\",\"Everyone\",\"Everyone\",\"Everyone\",\"Everyone\",\"Everyone\",\"Everyone\",\"Everyone\",\"Everyone\",\"Everyone\",\"Everyone\",\"Everyone\",\"Everyone\",\"Everyone\",\"Everyone\",\"Everyone\",\"Everyone\",\"Everyone\",\"Everyone\",\"Everyone\",\"Everyone\",\"Everyone\",\"Everyone\",\"Everyone\",\"Everyone\",\"Everyone\",\"Everyone\",\"Everyone\",\"Teen\",\"Everyone\",\"Everyone\",\"Everyone\",\"Everyone\",\"Everyone\",\"Everyone\",\"Everyone\",\"Everyone\",\"Everyone\",\"Everyone\",\"Everyone\",\"Everyone\",\"Everyone\",\"Everyone\",\"Everyone\",\"Mature 17+\",\"Everyone\",\"Everyone\",\"Everyone\",\"Everyone\",\"Teen\",\"Everyone\",\"Everyone 10+\",\"Everyone\",\"Teen\",\"Everyone\",\"Everyone\",\"Teen\",\"Everyone\",\"Teen\",\"Everyone\",\"Everyone\",\"Teen\",\"Teen\",\"Everyone\",\"Everyone\",\"Everyone\",\"Everyone\",\"Teen\",\"Everyone\",\"Everyone\",\"Everyone\",\"Everyone\",\"Everyone\",\"Everyone\",\"Teen\",\"Mature 17+\",\"Everyone\",\"Everyone\",\"Everyone\",\"Mature 17+\",\"Everyone\",\"Everyone\",\"Everyone\",\"Everyone\",\"Everyone\",\"Everyone\",\"Everyone\",\"Everyone\",\"Everyone\",\"Everyone\",\"Everyone\",\"Everyone\",\"Everyone\",\"Everyone 10+\",\"Everyone\",\"Everyone\",\"Everyone\",\"Everyone\",\"Everyone\",\"Everyone\",\"Everyone\",\"Everyone\",\"Everyone\",\"Everyone\",\"Everyone\",\"Everyone\",\"Everyone\",\"Everyone\",\"Everyone\",\"Everyone\",\"Everyone\",\"Everyone\",\"Everyone\",\"Everyone\",\"Everyone\",\"Everyone\",\"Everyone\",\"Everyone\",\"Everyone\",\"Everyone\",\"Everyone\",\"Everyone\",\"Everyone\",\"Everyone\",\"Everyone\",\"Everyone\",\"Everyone\",\"Everyone\",\"Everyone\",\"Everyone\",\"Everyone\",\"Everyone\",\"Everyone\",\"Everyone\",\"Everyone\",\"Everyone\",\"Everyone\",\"Everyone\",\"Everyone\",\"Everyone\",\"Everyone\",\"Everyone\",\"Everyone\",\"Everyone\",\"Everyone\",\"Everyone\",\"Everyone\",\"Everyone\",\"Everyone\",\"Everyone\",\"Everyone\",\"Everyone\",\"Everyone\",\"Everyone\",\"Everyone\",\"Everyone\",\"Everyone\",\"Everyone\",\"Everyone\",\"Everyone\",\"Everyone\",\"Everyone\",\"Everyone\",\"Everyone\",\"Everyone\",\"Everyone\",\"Everyone\",\"Teen\",\"Adults only 18+\",\"Teen\",\"Everyone\",\"Everyone\",\"Mature 17+\",\"Mature 17+\",\"Teen\",\"Teen\",\"Everyone\",\"Everyone\",\"Everyone 10+\",\"Everyone\",\"Teen\",\"Teen\",\"Mature 17+\",\"Mature 17+\",\"Everyone\",\"Teen\",\"Teen\",\"Teen\",\"Teen\",\"Everyone\",\"Everyone\",\"Everyone\",\"Teen\",\"Mature 17+\",\"Teen\",\"Everyone 10+\",\"Mature 17+\",\"Everyone\",\"Everyone\",\"Everyone\",\"Teen\",\"Everyone\",\"Everyone\",\"Everyone\",\"Everyone\",\"Everyone\",\"Teen\",\"Everyone\",\"Everyone\",\"Everyone\",\"Everyone\",\"Everyone\",\"Everyone\",\"Everyone\",\"Everyone\",\"Everyone\",\"Everyone\",\"Everyone\",\"Everyone\",\"Everyone\",\"Everyone\",\"Everyone\",\"Everyone\",\"Everyone\",\"Everyone\",\"Everyone\",\"Everyone\",\"Everyone\",\"Everyone\",\"Everyone\",\"Everyone\",\"Mature 17+\",\"Teen\",\"Everyone\",\"Everyone\",\"Teen\",\"Everyone\",\"Everyone\",\"Everyone\",\"Mature 17+\",\"Everyone\",\"Everyone\",\"Everyone\",\"Everyone\",\"Everyone\",\"Everyone\",\"Teen\",\"Teen\",\"Everyone\",\"Everyone\",\"Everyone\",\"Everyone\",\"Everyone\",\"Everyone\",\"Everyone\",\"Everyone\",\"Everyone\",\"Everyone\",\"Everyone\",\"Everyone\",\"Everyone\",\"Everyone\",\"Everyone\",\"Everyone\",\"Everyone\",\"Everyone\",\"Everyone\",\"Everyone\",\"Everyone\",\"Everyone\",\"Everyone\",\"Everyone\",\"Everyone\",\"Everyone\",\"Everyone\",\"Everyone\",\"Everyone\",\"Everyone\",\"Everyone\",\"Everyone\",\"Everyone\",\"Everyone\",\"Everyone\",\"Mature 17+\",\"Mature 17+\",\"Everyone\",\"Everyone\",\"Everyone\",\"Everyone\",\"Everyone\",\"Everyone\",\"Everyone\",\"Everyone\",\"Everyone\",\"Everyone\",\"Everyone\",\"Everyone\",\"Everyone\",\"Everyone\",\"Everyone\",\"Everyone\",\"Everyone\",\"Everyone\",\"Everyone\",\"Everyone\",\"Everyone\",\"Everyone\",\"Everyone\",\"Everyone\",\"Everyone\",\"Everyone\",\"Mature 17+\",\"Everyone\",\"Mature 17+\",\"Mature 17+\",\"Mature 17+\",\"Mature 17+\",\"Mature 17+\",\"Mature 17+\",\"Mature 17+\",\"Mature 17+\",\"Mature 17+\",\"Mature 17+\",\"Mature 17+\",\"Mature 17+\",\"Mature 17+\",\"Mature 17+\",\"Mature 17+\",\"Mature 17+\",\"Mature 17+\",\"Mature 17+\",\"Mature 17+\",\"Mature 17+\",\"Mature 17+\",\"Mature 17+\",\"Mature 17+\",\"Mature 17+\",\"Mature 17+\",\"Mature 17+\",\"Mature 17+\",\"Mature 17+\",\"Mature 17+\",\"Mature 17+\",\"Mature 17+\",\"Mature 17+\",\"Mature 17+\",\"Mature 17+\",\"Mature 17+\",\"Mature 17+\",\"Mature 17+\",\"Mature 17+\",\"Mature 17+\",\"Mature 17+\",\"Mature 17+\",\"Mature 17+\",\"Mature 17+\",\"Everyone\",\"Mature 17+\",\"Mature 17+\",\"Mature 17+\",\"Teen\",\"Mature 17+\",\"Mature 17+\",\"Mature 17+\",\"Mature 17+\",\"Mature 17+\",\"Mature 17+\",\"Mature 17+\",\"Mature 17+\",\"Mature 17+\",\"Mature 17+\",\"Mature 17+\",\"Mature 17+\",\"Mature 17+\",\"Mature 17+\",\"Mature 17+\",\"Mature 17+\",\"Teen\",\"Mature 17+\",\"Mature 17+\",\"Mature 17+\",\"Mature 17+\",\"Mature 17+\",\"Mature 17+\",\"Mature 17+\",\"Mature 17+\",\"Mature 17+\",\"Mature 17+\",\"Mature 17+\",\"Mature 17+\",\"Mature 17+\",\"Mature 17+\",\"Mature 17+\",\"Mature 17+\",\"Mature 17+\",\"Mature 17+\",\"Mature 17+\",\"Mature 17+\",\"Mature 17+\",\"Mature 17+\",\"Mature 17+\",\"Mature 17+\",\"Mature 17+\",\"Mature 17+\",\"Everyone\",\"Mature 17+\",\"Everyone\",\"Mature 17+\",\"Mature 17+\",\"Mature 17+\",\"Mature 17+\",\"Mature 17+\",\"Mature 17+\",\"Mature 17+\",\"Mature 17+\",\"Mature 17+\",\"Mature 17+\",\"Mature 17+\",\"Mature 17+\",\"Mature 17+\",\"Teen\",\"Mature 17+\",\"Mature 17+\",\"Mature 17+\",\"Mature 17+\",\"Mature 17+\",\"Mature 17+\",\"Mature 17+\",\"Mature 17+\",\"Mature 17+\",\"Mature 17+\",\"Mature 17+\",\"Mature 17+\",\"Mature 17+\",\"Mature 17+\",\"Mature 17+\",\"Mature 17+\",\"Mature 17+\",\"Mature 17+\",\"Mature 17+\",\"Everyone\",\"Everyone 10+\",\"Everyone\",\"Everyone\",\"Everyone\",\"Everyone\",\"Everyone\",\"Everyone\",\"Everyone\",\"Everyone\",\"Everyone\",\"Everyone\",\"Everyone\",\"Everyone\",\"Everyone\",\"Everyone\",\"Everyone\",\"Everyone\",\"Everyone\",\"Everyone\",\"Everyone\",\"Mature 17+\",\"Everyone\",\"Everyone\",\"Mature 17+\",\"Mature 17+\",\"Everyone\",\"Everyone\",\"Everyone\",\"Everyone\",\"Everyone\",\"Everyone\",\"Everyone\",\"Everyone\",\"Everyone\",\"Everyone\",\"Everyone\",\"Everyone\",\"Everyone\",\"Everyone\",\"Everyone\",\"Everyone 10+\",\"Everyone\",\"Everyone\",\"Everyone\",\"Everyone\",\"Everyone\",\"Everyone\",\"Everyone\",\"Everyone\",\"Everyone\",\"Everyone\",\"Everyone\",\"Everyone\",\"Everyone\",\"Everyone\",\"Everyone\",\"Everyone\",\"Everyone\",\"Everyone\",\"Everyone\",\"Everyone\",\"Everyone\",\"Everyone\",\"Everyone\",\"Everyone\",\"Everyone\",\"Everyone\",\"Everyone\",\"Everyone\",\"Everyone\",\"Everyone\",\"Everyone\",\"Everyone\",\"Everyone\",\"Everyone\",\"Everyone\",\"Everyone\",\"Everyone\",\"Everyone\",\"Everyone\",\"Everyone\",\"Everyone\",\"Everyone\",\"Everyone\",\"Everyone\",\"Everyone\",\"Everyone\",\"Everyone 10+\",\"Everyone\",\"Everyone\",\"Everyone\",\"Everyone\",\"Everyone\",\"Everyone\",\"Everyone\",\"Everyone\",\"Everyone\",\"Everyone\",\"Everyone\",\"Everyone\",\"Everyone\",\"Everyone\",\"Everyone\",\"Everyone\",\"Everyone\",\"Everyone\",\"Everyone\",\"Everyone\",\"Everyone\",\"Everyone\",\"Teen\",\"Everyone\",\"Everyone\",\"Everyone\",\"Everyone\",\"Everyone\",\"Everyone\",\"Teen\",\"Everyone\",\"Teen\",\"Teen\",\"Everyone\",\"Everyone\",\"Everyone\",\"Everyone\",\"Everyone\",\"Teen\",\"Teen\",\"Teen\",\"Teen\",\"Everyone\",\"Teen\",\"Everyone\",\"Everyone\",\"Mature 17+\",\"Everyone\",\"Everyone\",\"Teen\",\"Teen\",\"Everyone\",\"Teen\",\"Everyone\",\"Everyone\",\"Everyone\",\"Everyone\",\"Everyone\",\"Everyone\",\"Everyone\",\"Teen\",\"Everyone\",\"Teen\",\"Teen\",\"Teen\",\"Teen\",\"Everyone\",\"Everyone\",\"Teen\",\"Teen\",\"Teen\",\"Everyone\",\"Teen\",\"Everyone\",\"Everyone\",\"Everyone\",\"Teen\",\"Teen\",\"Teen\",\"Teen\",\"Teen\",\"Teen\",\"Teen\",\"Teen\",\"Teen\",\"Mature 17+\",\"Everyone\",\"Teen\",\"Everyone 10+\",\"Teen\",\"Teen\",\"Teen\",\"Teen\",\"Teen\",\"Teen\",\"Teen\",\"Teen\",\"Teen\",\"Teen\",\"Mature 17+\",\"Teen\",\"Teen\",\"Teen\",\"Teen\",\"Everyone\",\"Teen\",\"Everyone 10+\",\"Teen\",\"Teen\",\"Everyone\",\"Mature 17+\",\"Teen\",\"Teen\",\"Teen\",\"Everyone\",\"Teen\",\"Everyone\",\"Teen\",\"Everyone\",\"Teen\",\"Everyone\",\"Everyone\",\"Everyone\",\"Teen\",\"Teen\",\"Teen\",\"Mature 17+\",\"Teen\",\"Mature 17+\",\"Everyone\",\"Everyone\",\"Everyone\",\"Everyone\",\"Everyone\",\"Everyone\",\"Everyone\",\"Teen\",\"Everyone\",\"Everyone\",\"Everyone\",\"Everyone\",\"Everyone\",\"Everyone\",\"Everyone\",\"Everyone\",\"Teen\",\"Everyone\",\"Everyone\",\"Teen\",\"Everyone\",\"Everyone 10+\",\"Everyone\",\"Everyone\",\"Everyone\",\"Everyone\",\"Everyone\",\"Teen\",\"Everyone 10+\",\"Everyone\",\"Everyone\",\"Everyone\",\"Everyone\",\"Everyone\",\"Teen\",\"Everyone\",\"Everyone\",\"Everyone\",\"Everyone\",\"Everyone\",\"Everyone\",\"Everyone\",\"Everyone\",\"Everyone\",\"Everyone\",\"Everyone\",\"Everyone\",\"Everyone\",\"Everyone\",\"Everyone\",\"Everyone\",\"Everyone\",\"Everyone\",\"Everyone\",\"Everyone\",\"Everyone\",\"Everyone\",\"Everyone\",\"Everyone\",\"Everyone\",\"Everyone\",\"Everyone\",\"Everyone\",\"Everyone\",\"Everyone\",\"Everyone\",\"Everyone\",\"Everyone\",\"Everyone\",\"Everyone\",\"Everyone\",\"Everyone\",\"Everyone\",\"Everyone\",\"Everyone\",\"Everyone\",\"Everyone\",\"Everyone\",\"Everyone\",\"Everyone\",\"Everyone\",\"Everyone\",\"Everyone\",\"Everyone\",\"Everyone\",\"Everyone\",\"Everyone\",\"Everyone\",\"Everyone\",\"Everyone\",\"Everyone\",\"Everyone\",\"Everyone\",\"Everyone\",\"Everyone\",\"Everyone\",\"Everyone\",\"Everyone\",\"Everyone\",\"Everyone\",\"Everyone\",\"Everyone\",\"Everyone\",\"Everyone\",\"Everyone\",\"Everyone\",\"Everyone\",\"Everyone\",\"Everyone\",\"Everyone\",\"Everyone\",\"Everyone\",\"Everyone\",\"Everyone\",\"Everyone\",\"Everyone\",\"Everyone\",\"Everyone\",\"Everyone\",\"Everyone\",\"Everyone\",\"Everyone\",\"Everyone\",\"Everyone\",\"Everyone\",\"Everyone\",\"Everyone\",\"Everyone\",\"Everyone\",\"Everyone\",\"Everyone\",\"Everyone\",\"Everyone\",\"Everyone\",\"Everyone\",\"Everyone\",\"Everyone\",\"Everyone\",\"Everyone\",\"Everyone\",\"Everyone\",\"Everyone\",\"Everyone\",\"Everyone\",\"Everyone\",\"Everyone\",\"Everyone\",\"Everyone\",\"Everyone\",\"Everyone\",\"Everyone\",\"Everyone\",\"Everyone\",\"Everyone\",\"Teen\",\"Everyone\",\"Everyone\",\"Everyone\",\"Everyone\",\"Everyone\",\"Everyone\",\"Everyone\",\"Everyone\",\"Everyone\",\"Everyone\",\"Everyone\",\"Everyone\",\"Everyone\",\"Everyone\",\"Everyone\",\"Everyone 10+\",\"Everyone\",\"Everyone\",\"Everyone\",\"Everyone\",\"Everyone\",\"Everyone\",\"Everyone\",\"Everyone\",\"Everyone\",\"Everyone\",\"Everyone\",\"Everyone\",\"Everyone\",\"Everyone\",\"Everyone\",\"Everyone\",\"Teen\",\"Everyone\",\"Everyone\",\"Everyone\",\"Everyone\",\"Teen\",\"Everyone\",\"Everyone\",\"Everyone\",\"Everyone 10+\",\"Everyone\",\"Everyone\",\"Everyone\",\"Everyone\",\"Everyone\",\"Everyone\",\"Everyone\",\"Teen\",\"Everyone\",\"Everyone\",\"Everyone\",\"Teen\",\"Everyone\",\"Everyone\",\"Everyone\",\"Everyone\",\"Everyone\",\"Everyone\",\"Everyone\",\"Everyone\",\"Everyone\",\"Everyone\",\"Everyone\",\"Everyone\",\"Everyone\",\"Everyone\",\"Everyone\",\"Everyone\",\"Everyone\",\"Everyone\",\"Everyone\",\"Everyone\",\"Everyone\",\"Everyone\",\"Everyone\",\"Everyone\",\"Everyone\",\"Everyone\",\"Everyone\",\"Everyone\",\"Everyone\",\"Everyone\",\"Everyone\",\"Everyone\",\"Everyone\",\"Everyone\",\"Everyone\",\"Everyone\",\"Everyone\",\"Everyone\",\"Everyone\",\"Everyone\",\"Teen\",\"Everyone\",\"Everyone\",\"Everyone\",\"Everyone\",\"Everyone\",\"Everyone\",\"Everyone\",\"Everyone\",\"Everyone\",\"Everyone\",\"Everyone\",\"Everyone\",\"Everyone\",\"Everyone\",\"Everyone\",\"Everyone\",\"Mature 17+\",\"Everyone\",\"Teen\",\"Everyone\",\"Teen\",\"Teen\",\"Everyone\",\"Everyone\",\"Everyone\",\"Everyone\",\"Everyone\",\"Everyone\",\"Everyone\",\"Everyone\",\"Teen\",\"Everyone\",\"Everyone\",\"Everyone\",\"Everyone\",\"Everyone\",\"Everyone\",\"Everyone\",\"Everyone\",\"Everyone\",\"Everyone\",\"Everyone\",\"Everyone\",\"Everyone\",\"Everyone\",\"Everyone\",\"Everyone\",\"Everyone\",\"Teen\",\"Everyone\",\"Everyone\",\"Everyone\",\"Everyone\",\"Everyone\",\"Everyone\",\"Everyone\",\"Everyone\",\"Everyone\",\"Everyone\",\"Everyone\",\"Everyone\",\"Everyone\",\"Everyone\",\"Everyone\",\"Teen\",\"Teen\",\"Everyone\",\"Everyone\",\"Everyone 10+\",\"Everyone\",\"Everyone\",\"Everyone\",\"Everyone\",\"Teen\",\"Everyone\",\"Everyone\",\"Everyone\",\"Everyone\",\"Everyone\",\"Teen\",\"Everyone 10+\",\"Everyone\",\"Everyone\",\"Everyone\",\"Everyone\",\"Everyone\",\"Everyone\",\"Everyone\",\"Everyone 10+\",\"Everyone\",\"Everyone\",\"Everyone\",\"Everyone\",\"Everyone\",\"Everyone\",\"Teen\",\"Everyone\",\"Everyone\",\"Everyone\",\"Everyone\",\"Everyone\",\"Everyone\",\"Everyone\",\"Everyone\",\"Teen\",\"Everyone\",\"Everyone\",\"Everyone\",\"Everyone 10+\",\"Everyone\",\"Everyone\",\"Teen\",\"Everyone\",\"Everyone\",\"Everyone\",\"Everyone\",\"Everyone\",\"Everyone\",\"Everyone\",\"Everyone\",\"Everyone\",\"Everyone\",\"Everyone\",\"Everyone\",\"Everyone\",\"Everyone\",\"Everyone\",\"Everyone\",\"Everyone\",\"Everyone\",\"Everyone\",\"Everyone\",\"Everyone\",\"Everyone\",\"Everyone\",\"Everyone\",\"Everyone\",\"Everyone\",\"Teen\",\"Everyone\",\"Everyone\",\"Everyone\",\"Everyone\",\"Everyone\",\"Everyone\",\"Everyone\",\"Everyone\",\"Everyone\",\"Everyone\",\"Teen\",\"Everyone\",\"Everyone\",\"Everyone\",\"Everyone\",\"Everyone\",\"Everyone\",\"Everyone\",\"Everyone\",\"Everyone\",\"Everyone\",\"Everyone\",\"Everyone\",\"Everyone\",\"Everyone\",\"Everyone\",\"Everyone\",\"Everyone\",\"Everyone\",\"Everyone\",\"Everyone\",\"Everyone\",\"Everyone\",\"Everyone\",\"Everyone\",\"Everyone\",\"Everyone\",\"Everyone\",\"Everyone\",\"Everyone\",\"Everyone\",\"Everyone\",\"Everyone\",\"Everyone\",\"Everyone\",\"Everyone\",\"Everyone\",\"Everyone\",\"Everyone\",\"Everyone\",\"Everyone\",\"Everyone\",\"Everyone\",\"Everyone\",\"Everyone\",\"Everyone\",\"Everyone\",\"Everyone\",\"Everyone\",\"Everyone\",\"Everyone\",\"Everyone\",\"Everyone\",\"Everyone\",\"Teen\",\"Everyone\",\"Everyone\",\"Everyone\",\"Everyone\",\"Everyone\",\"Everyone\",\"Everyone\",\"Everyone 10+\",\"Everyone\",\"Everyone\",\"Everyone\",\"Everyone\",\"Everyone\",\"Everyone\",\"Everyone\",\"Everyone\",\"Everyone\",\"Everyone\",\"Everyone\",\"Teen\",\"Everyone\",\"Everyone\",\"Everyone\",\"Everyone\",\"Everyone\",\"Everyone\",\"Everyone\",\"Everyone\",\"Everyone\",\"Everyone\",\"Mature 17+\",\"Everyone\",\"Everyone\",\"Everyone\",\"Everyone\",\"Everyone\",\"Teen\",\"Everyone\",\"Everyone\",\"Everyone\",\"Everyone\",\"Everyone\",\"Everyone\",\"Everyone\",\"Everyone\",\"Everyone\",\"Teen\",\"Everyone\",\"Everyone\",\"Everyone\",\"Everyone\",\"Everyone\",\"Everyone\",\"Everyone\",\"Teen\",\"Everyone\",\"Teen\",\"Everyone\",\"Everyone\",\"Everyone\",\"Everyone\",\"Everyone\",\"Everyone\",\"Everyone\",\"Everyone\",\"Everyone\",\"Everyone\",\"Everyone\",\"Everyone\",\"Everyone\",\"Everyone\",\"Everyone\",\"Everyone\",\"Everyone\",\"Everyone\",\"Everyone\",\"Everyone\",\"Everyone\",\"Everyone\",\"Teen\",\"Everyone 10+\",\"Everyone 10+\",\"Everyone\",\"Everyone\",\"Everyone\",\"Everyone\",\"Everyone\",\"Everyone 10+\",\"Everyone\",\"Everyone\",\"Everyone\",\"Everyone\",\"Everyone\",\"Everyone 10+\",\"Everyone\",\"Everyone\",\"Mature 17+\",\"Everyone 10+\",\"Teen\",\"Everyone\",\"Everyone\",\"Everyone\",\"Everyone\",\"Everyone\",\"Everyone\",\"Everyone\",\"Teen\",\"Everyone\",\"Everyone\",\"Teen\",\"Everyone\",\"Everyone\",\"Everyone 10+\",\"Everyone\",\"Everyone\",\"Everyone\",\"Everyone\",\"Everyone\",\"Everyone\",\"Everyone 10+\",\"Everyone\",\"Everyone 10+\",\"Everyone\",\"Everyone\",\"Everyone\",\"Everyone\",\"Mature 17+\",\"Everyone\",\"Everyone\",\"Everyone\",\"Everyone\",\"Everyone\",\"Everyone\",\"Teen\",\"Teen\",\"Everyone\",\"Everyone\",\"Teen\",\"Everyone\",\"Everyone\",\"Everyone\",\"Everyone\",\"Everyone\",\"Everyone\",\"Everyone\",\"Everyone\",\"Everyone\",\"Everyone\",\"Everyone\",\"Teen\",\"Everyone\",\"Everyone\",\"Everyone\",\"Teen\",\"Teen\",\"Everyone\",\"Teen\",\"Everyone 10+\",\"Everyone\",\"Everyone\",\"Everyone\",\"Everyone\",\"Everyone\",\"Everyone\",\"Everyone\",\"Everyone\",\"Everyone\",\"Everyone\",\"Everyone\",\"Everyone\",\"Teen\",\"Teen\",\"Everyone\",\"Everyone 10+\",\"Everyone 10+\",\"Everyone 10+\",\"Teen\",\"Everyone\",\"Everyone\",\"Everyone\",\"Everyone\",\"Everyone\",\"Teen\",\"Teen\",\"Teen\",\"Teen\",\"Everyone\",\"Teen\",\"Teen\",\"Everyone 10+\",\"Everyone\",\"Everyone\",\"Everyone\",\"Everyone\",\"Teen\",\"Everyone\",\"Everyone\",\"Everyone\",\"Everyone\",\"Teen\",\"Teen\",\"Mature 17+\",\"Everyone\",\"Teen\",\"Teen\",\"Teen\",\"Everyone 10+\",\"Teen\",\"Everyone 10+\",\"Teen\",\"Mature 17+\",\"Teen\",\"Teen\",\"Everyone\",\"Everyone 10+\",\"Everyone\",\"Teen\",\"Everyone\",\"Everyone\",\"Teen\",\"Teen\",\"Everyone\",\"Everyone\",\"Teen\",\"Teen\",\"Everyone\",\"Teen\",\"Everyone 10+\",\"Teen\",\"Everyone\",\"Mature 17+\",\"Everyone 10+\",\"Mature 17+\",\"Teen\",\"Everyone\",\"Teen\",\"Teen\",\"Everyone 10+\",\"Teen\",\"Teen\",\"Teen\",\"Teen\",\"Everyone\",\"Everyone\",\"Everyone\",\"Everyone\",\"Everyone\",\"Everyone\",\"Everyone 10+\",\"Teen\",\"Teen\",\"Everyone\",\"Everyone 10+\",\"Everyone\",\"Teen\",\"Mature 17+\",\"Teen\",\"Teen\",\"Everyone\",\"Everyone 10+\",\"Teen\",\"Teen\",\"Everyone\",\"Everyone\",\"Everyone 10+\",\"Teen\",\"Everyone\",\"Everyone 10+\",\"Everyone 10+\",\"Teen\",\"Everyone\",\"Everyone 10+\",\"Everyone\",\"Everyone 10+\",\"Teen\",\"Everyone\",\"Mature 17+\",\"Teen\",\"Everyone 10+\",\"Everyone 10+\",\"Teen\",\"Teen\",\"Everyone\",\"Everyone\",\"Everyone\",\"Everyone\",\"Everyone\",\"Teen\",\"Everyone\",\"Everyone\",\"Everyone\",\"Everyone\",\"Everyone\",\"Teen\",\"Everyone\",\"Everyone 10+\",\"Everyone\",\"Everyone 10+\",\"Everyone\",\"Everyone\",\"Everyone\",\"Everyone\",\"Everyone\",\"Everyone\",\"Everyone\",\"Everyone\",\"Everyone\",\"Everyone\",\"Everyone\",\"Everyone\",\"Everyone\",\"Everyone\",\"Everyone\",\"Everyone\",\"Everyone\",\"Everyone\",\"Everyone\",\"Everyone\",\"Everyone\",\"Everyone\",\"Everyone\",\"Everyone\",\"Everyone\",\"Everyone\",\"Everyone\",\"Everyone\",\"Everyone\",\"Everyone\",\"Everyone\",\"Everyone\",\"Everyone\",\"Everyone 10+\",\"Everyone\",\"Everyone\",\"Everyone\",\"Everyone\",\"Everyone\",\"Everyone\",\"Everyone\",\"Everyone\",\"Everyone\",\"Everyone\",\"Everyone\",\"Everyone\",\"Everyone\",\"Everyone\",\"Everyone\",\"Everyone\",\"Everyone 10+\",\"Everyone\",\"Everyone\",\"Everyone\",\"Everyone\",\"Everyone 10+\",\"Everyone\",\"Everyone\",\"Everyone\",\"Everyone\",\"Everyone\",\"Everyone\",\"Everyone\",\"Everyone\",\"Everyone\",\"Everyone\",\"Everyone\",\"Everyone\",\"Everyone\",\"Everyone\",\"Everyone\",\"Everyone\",\"Everyone\",\"Everyone\",\"Everyone\",\"Everyone 10+\",\"Everyone\",\"Everyone\",\"Everyone\",\"Everyone\",\"Everyone\",\"Everyone\",\"Everyone\",\"Everyone\",\"Everyone\",\"Everyone\",\"Everyone\",\"Everyone\",\"Everyone\",\"Everyone\",\"Everyone\",\"Everyone\",\"Everyone\",\"Everyone\",\"Everyone\",\"Everyone\",\"Everyone\",\"Everyone\",\"Everyone\",\"Everyone\",\"Everyone\",\"Everyone 10+\",\"Everyone\",\"Everyone\",\"Everyone\",\"Everyone\",\"Everyone\",\"Everyone\",\"Everyone\",\"Everyone\",\"Everyone\",\"Everyone\",\"Everyone\",\"Everyone\",\"Everyone\",\"Everyone\",\"Everyone\",\"Everyone\",\"Everyone\",\"Everyone\",\"Everyone\",\"Everyone\",\"Everyone\",\"Everyone\",\"Everyone\",\"Everyone\",\"Everyone\",\"Everyone\",\"Everyone\",\"Everyone\",\"Everyone\",\"Everyone\",\"Everyone\",\"Everyone\",\"Everyone\",\"Everyone\",\"Everyone\",\"Everyone\",\"Everyone\",\"Everyone\",\"Everyone\",\"Everyone\",\"Everyone\",\"Everyone\",\"Everyone\",\"Everyone\",\"Everyone\",\"Everyone\",\"Everyone\",\"Everyone\",\"Everyone\",\"Everyone\",\"Everyone\",\"Everyone\",\"Everyone\",\"Everyone\",\"Everyone\",\"Everyone\",\"Everyone\",\"Everyone\",\"Everyone\",\"Everyone\",\"Everyone\",\"Everyone\",\"Everyone\",\"Everyone\",\"Everyone\",\"Everyone\",\"Everyone\",\"Everyone\",\"Everyone 10+\",\"Everyone 10+\",\"Everyone\",\"Everyone\",\"Everyone\",\"Everyone\",\"Everyone\",\"Everyone 10+\",\"Everyone\",\"Everyone\",\"Everyone\",\"Mature 17+\",\"Everyone\",\"Everyone\",\"Everyone\",\"Everyone\",\"Everyone\",\"Everyone\",\"Everyone\",\"Everyone\",\"Everyone\",\"Everyone\",\"Everyone\",\"Everyone\",\"Everyone\",\"Everyone\",\"Teen\",\"Everyone\",\"Everyone\",\"Everyone\",\"Everyone\",\"Everyone\",\"Everyone\",\"Everyone\",\"Everyone\",\"Everyone\",\"Everyone\",\"Everyone\",\"Everyone\",\"Everyone\",\"Everyone\",\"Everyone\",\"Everyone\",\"Everyone\",\"Everyone\",\"Everyone\",\"Everyone 10+\",\"Everyone\",\"Everyone\",\"Everyone\",\"Everyone\",\"Everyone\",\"Everyone\",\"Everyone\",\"Everyone\",\"Everyone\",\"Everyone\",\"Everyone\",\"Everyone\",\"Everyone\",\"Everyone\",\"Everyone\",\"Everyone\",\"Everyone\",\"Everyone\",\"Everyone\",\"Everyone\",\"Everyone\",\"Everyone\",\"Everyone\",\"Everyone\",\"Everyone\",\"Everyone\",\"Everyone\",\"Everyone\",\"Everyone\",\"Everyone\",\"Everyone\",\"Everyone\",\"Everyone\",\"Everyone\",\"Everyone\",\"Everyone\",\"Everyone\",\"Everyone\",\"Everyone\",\"Everyone\",\"Everyone\",\"Everyone\",\"Everyone\",\"Everyone\",\"Everyone\",\"Everyone\",\"Everyone\",\"Everyone\",\"Everyone\",\"Everyone\",\"Everyone\",\"Everyone\",\"Everyone\",\"Everyone\",\"Everyone\",\"Everyone\",\"Everyone\",\"Everyone\",\"Everyone\",\"Everyone\",\"Everyone\",\"Everyone\",\"Everyone\",\"Everyone\",\"Everyone\",\"Everyone\",\"Everyone\",\"Everyone\",\"Everyone\",\"Everyone\",\"Everyone\",\"Everyone\",\"Mature 17+\",\"Everyone 10+\",\"Everyone\",\"Everyone\",\"Everyone\",\"Everyone\",\"Everyone\",\"Everyone\",\"Everyone\",\"Everyone\",\"Everyone\",\"Everyone\",\"Everyone\",\"Everyone\",\"Everyone\",\"Everyone\",\"Everyone\",\"Everyone\",\"Everyone\",\"Everyone\",\"Everyone\",\"Everyone\",\"Everyone\",\"Everyone\",\"Everyone\",\"Everyone\",\"Everyone\",\"Everyone\",\"Everyone\",\"Everyone\",\"Everyone\",\"Everyone\",\"Everyone\",\"Everyone\",\"Everyone\",\"Everyone\",\"Everyone\",\"Everyone\",\"Everyone\",\"Everyone\",\"Everyone\",\"Everyone\",\"Everyone\",\"Everyone\",\"Everyone\",\"Everyone\",\"Everyone\",\"Everyone\",\"Everyone\",\"Everyone\",\"Everyone\",\"Everyone\",\"Everyone\",\"Everyone\",\"Everyone\",\"Everyone\",\"Everyone\",\"Everyone\",\"Everyone\",\"Everyone\",\"Everyone\",\"Everyone\",\"Everyone\",\"Everyone\",\"Everyone\",\"Everyone\",\"Everyone\",\"Everyone\",\"Everyone\",\"Everyone\",\"Everyone\",\"Everyone\",\"Mature 17+\",\"Everyone\",\"Everyone\",\"Everyone\",\"Teen\",\"Everyone\",\"Everyone\",\"Everyone\",\"Everyone\",\"Everyone\",\"Mature 17+\",\"Everyone\",\"Everyone\",\"Everyone\",\"Everyone\",\"Everyone\",\"Everyone\",\"Everyone\",\"Teen\",\"Teen\",\"Teen\",\"Everyone\",\"Mature 17+\",\"Everyone\",\"Teen\",\"Everyone\",\"Teen\",\"Everyone\",\"Teen\",\"Everyone\",\"Everyone\",\"Teen\",\"Teen\",\"Everyone\",\"Mature 17+\",\"Everyone\",\"Everyone\",\"Everyone\",\"Everyone\",\"Teen\",\"Teen\",\"Everyone\",\"Everyone\",\"Mature 17+\",\"Everyone\",\"Teen\",\"Teen\",\"Mature 17+\",\"Everyone 10+\",\"Everyone\",\"Everyone\",\"Mature 17+\",\"Mature 17+\",\"Teen\",\"Teen\",\"Everyone\",\"Everyone\",\"Teen\",\"Everyone\",\"Teen\",\"Everyone\",\"Mature 17+\",\"Everyone\",\"Everyone\",\"Everyone\",\"Mature 17+\",\"Mature 17+\",\"Mature 17+\",\"Everyone\",\"Mature 17+\",\"Teen\",\"Mature 17+\",\"Mature 17+\",\"Everyone\",\"Teen\",\"Teen\",\"Teen\",\"Teen\",\"Teen\",\"Teen\",\"Mature 17+\",\"Everyone\",\"Teen\",\"Teen\",\"Mature 17+\",\"Teen\",\"Everyone\",\"Mature 17+\",\"Mature 17+\",\"Mature 17+\",\"Mature 17+\",\"Everyone\",\"Everyone\",\"Mature 17+\",\"Teen\",\"Mature 17+\",\"Mature 17+\",\"Teen\",\"Everyone\",\"Everyone\",\"Everyone\",\"Everyone\",\"Everyone\",\"Teen\",\"Everyone\",\"Teen\",\"Teen\",\"Teen\",\"Everyone\",\"Everyone\",\"Everyone\",\"Everyone\",\"Everyone\",\"Everyone\",\"Everyone\",\"Everyone\",\"Everyone\",\"Teen\",\"Everyone\",\"Everyone\",\"Teen\",\"Everyone\",\"Everyone\",\"Everyone\",\"Everyone\",\"Everyone\",\"Teen\",\"Everyone\",\"Teen\",\"Everyone\",\"Everyone\",\"Everyone\",\"Everyone\",\"Everyone\",\"Everyone\",\"Everyone\",\"Everyone\",\"Everyone\",\"Everyone\",\"Everyone\",\"Everyone\",\"Teen\",\"Everyone\",\"Everyone\",\"Everyone\",\"Teen\",\"Everyone\",\"Everyone\",\"Everyone\",\"Everyone\",\"Everyone\",\"Everyone\",\"Everyone\",\"Everyone\",\"Everyone\",\"Everyone\",\"Everyone\",\"Everyone\",\"Teen\",\"Everyone\",\"Everyone\",\"Everyone\",\"Everyone\",\"Everyone\",\"Everyone\",\"Everyone\",\"Everyone\",\"Everyone\",\"Everyone\",\"Everyone\",\"Everyone\",\"Everyone\",\"Everyone\",\"Everyone\",\"Teen\",\"Everyone\",\"Everyone\",\"Teen\",\"Everyone\",\"Teen\",\"Everyone\",\"Everyone\",\"Everyone\",\"Teen\",\"Everyone\",\"Everyone\",\"Everyone\",\"Everyone\",\"Teen\",\"Everyone\",\"Teen\",\"Everyone\",\"Teen\",\"Everyone\",\"Everyone\",\"Everyone\",\"Everyone\",\"Everyone\",\"Everyone\",\"Everyone\",\"Everyone\",\"Everyone\",\"Everyone\",\"Everyone\",\"Everyone\",\"Everyone\",\"Everyone\",\"Everyone\",\"Everyone\",\"Everyone\",\"Everyone\",\"Everyone\",\"Everyone\",\"Everyone\",\"Everyone\",\"Everyone\",\"Everyone\",\"Everyone\",\"Everyone\",\"Everyone\",\"Everyone\",\"Mature 17+\",\"Everyone\",\"Everyone\",\"Everyone\",\"Everyone\",\"Everyone\",\"Everyone\",\"Everyone\",\"Everyone\",\"Everyone\",\"Everyone\",\"Everyone\",\"Everyone\",\"Everyone\",\"Everyone\",\"Everyone\",\"Everyone\",\"Everyone\",\"Everyone\",\"Everyone\",\"Everyone\",\"Everyone\",\"Everyone\",\"Everyone\",\"Everyone\",\"Everyone\",\"Everyone\",\"Everyone\",\"Everyone\",\"Everyone\",\"Everyone\",\"Teen\",\"Everyone\",\"Mature 17+\",\"Everyone\",\"Everyone\",\"Everyone\",\"Everyone\",\"Everyone\",\"Everyone\",\"Everyone\",\"Everyone\",\"Everyone\",\"Everyone\",\"Everyone\",\"Everyone\",\"Everyone\",\"Everyone\",\"Everyone\",\"Everyone\",\"Everyone\",\"Everyone\",\"Everyone\",\"Everyone\",\"Everyone\",\"Everyone\",\"Everyone\",\"Everyone\",\"Everyone\",\"Everyone\",\"Everyone\",\"Everyone\",\"Everyone\",\"Everyone\",\"Everyone\",\"Everyone\",\"Everyone\",\"Everyone\",\"Everyone\",\"Everyone\",\"Everyone\",\"Everyone\",\"Everyone\",\"Everyone\",\"Everyone\",\"Teen\",\"Everyone\",\"Everyone\",\"Everyone\",\"Everyone\",\"Everyone\",\"Everyone\",\"Everyone\",\"Everyone\",\"Everyone\",\"Everyone\",\"Everyone\",\"Everyone\",\"Everyone\",\"Teen\",\"Everyone\",\"Everyone\",\"Mature 17+\",\"Everyone\",\"Everyone\",\"Everyone\",\"Everyone\",\"Everyone\",\"Everyone\",\"Everyone\",\"Everyone\",\"Everyone\",\"Everyone\",\"Everyone 10+\",\"Everyone\",\"Everyone\",\"Everyone\",\"Everyone\",\"Everyone 10+\",\"Everyone\",\"Everyone\",\"Everyone\",\"Everyone\",\"Everyone\",\"Everyone\",\"Everyone\",\"Everyone\",\"Mature 17+\",\"Everyone\",\"Mature 17+\",\"Everyone\",\"Everyone\",\"Everyone\",\"Everyone\",\"Everyone\",\"Everyone\",\"Everyone\",\"Everyone\",\"Everyone\",\"Everyone\",\"Everyone\",\"Everyone\",\"Everyone\",\"Everyone\",\"Everyone\",\"Everyone 10+\",\"Everyone\",\"Teen\",\"Everyone\",\"Everyone\",\"Everyone\",\"Everyone\",\"Everyone\",\"Everyone\",\"Everyone\",\"Everyone\",\"Everyone\",\"Everyone\",\"Everyone\",\"Everyone\",\"Everyone\",\"Everyone\",\"Everyone\",\"Everyone\",\"Everyone\",\"Everyone\",\"Teen\",\"Everyone\",\"Everyone\",\"Everyone\",\"Everyone\",\"Everyone\",\"Everyone\",\"Everyone\",\"Everyone 10+\",\"Everyone\",\"Everyone\",\"Everyone\",\"Everyone\",\"Everyone\",\"Everyone\",\"Everyone\",\"Mature 17+\",\"Adults only 18+\",\"Everyone\",\"Everyone\",\"Everyone\",\"Everyone\",\"Everyone\",\"Everyone\",\"Everyone\",\"Everyone\",\"Everyone\",\"Everyone\",\"Everyone\",\"Teen\",\"Everyone\",\"Everyone\",\"Everyone\",\"Everyone\",\"Everyone\",\"Everyone\",\"Everyone\",\"Everyone\",\"Everyone\",\"Everyone\",\"Everyone\",\"Everyone\",\"Everyone\",\"Everyone\",\"Everyone\",\"Everyone\",\"Everyone\",\"Everyone\",\"Everyone\",\"Everyone\",\"Everyone\",\"Everyone\",\"Everyone\",\"Everyone\",\"Everyone\",\"Everyone\",\"Everyone\",\"Everyone\",\"Everyone\",\"Everyone\",\"Everyone\",\"Everyone\",\"Everyone\",\"Mature 17+\",\"Everyone\",\"Everyone\",\"Everyone\",\"Everyone\",\"Everyone\",\"Everyone\",\"Everyone\",\"Everyone\",\"Everyone\",\"Everyone\",\"Everyone\",\"Everyone\",\"Everyone\",\"Everyone\",\"Everyone\",\"Everyone\",\"Everyone\",\"Teen\",\"Everyone\",\"Everyone\",\"Everyone\",\"Everyone\",\"Everyone\",\"Everyone\",\"Everyone\",\"Everyone\",\"Everyone\",\"Everyone\",\"Everyone\",\"Everyone\",\"Everyone\",\"Everyone\",\"Everyone\",\"Everyone\",\"Everyone\",\"Everyone\",\"Everyone\",\"Everyone\",\"Everyone\",\"Everyone\",\"Everyone\",\"Everyone\",\"Teen\",\"Everyone\",\"Everyone\",\"Everyone\",\"Everyone\",\"Everyone\",\"Everyone\",\"Everyone\",\"Everyone\",\"Everyone\",\"Everyone\",\"Everyone\",\"Everyone\",\"Everyone\",\"Everyone\",\"Everyone\",\"Everyone\",\"Everyone\",\"Everyone\",\"Teen\",\"Everyone\",\"Everyone\",\"Everyone\",\"Everyone\",\"Everyone\",\"Everyone\",\"Everyone\",\"Everyone\",\"Everyone\",\"Everyone\",\"Everyone\",\"Everyone\",\"Everyone\",\"Everyone\",\"Everyone\",\"Everyone\",\"Teen\",\"Everyone\",\"Everyone\",\"Everyone\",\"Everyone\",\"Everyone\",\"Everyone\",\"Everyone\",\"Everyone\",\"Everyone\",\"Everyone\",\"Everyone\",\"Everyone\",\"Everyone\",\"Everyone\",\"Everyone\",\"Everyone\",\"Everyone\",\"Everyone\",\"Everyone\",\"Everyone\",\"Everyone\",\"Everyone\",\"Everyone\",\"Everyone\",\"Everyone\",\"Everyone\",\"Everyone\",\"Everyone\",\"Everyone\",\"Everyone\",\"Everyone\",\"Everyone\",\"Everyone\",\"Everyone\",\"Everyone\",\"Everyone\",\"Everyone\",\"Everyone\",\"Everyone\",\"Everyone\",\"Everyone\",\"Everyone\",\"Everyone\",\"Everyone\",\"Everyone\",\"Everyone\",\"Everyone\",\"Everyone\",\"Everyone\",\"Everyone\",\"Everyone\",\"Everyone\",\"Everyone\",\"Everyone\",\"Everyone\",\"Everyone\",\"Everyone\",\"Everyone\",\"Everyone\",\"Everyone\",\"Everyone\",\"Everyone\",\"Everyone\",\"Everyone\",\"Everyone\",\"Everyone\",\"Everyone\",\"Everyone\",\"Everyone\",\"Everyone\",\"Everyone\",\"Everyone\",\"Everyone\",\"Everyone\",\"Everyone\",\"Everyone\",\"Everyone\",\"Everyone\",\"Everyone\",\"Everyone\",\"Everyone\",\"Everyone\",\"Everyone\",\"Everyone\",\"Everyone\",\"Everyone\",\"Everyone\",\"Everyone\",\"Everyone\",\"Everyone\",\"Everyone\",\"Everyone\",\"Everyone\",\"Everyone\",\"Everyone\",\"Everyone\",\"Everyone\",\"Everyone\",\"Everyone\",\"Everyone\",\"Everyone\",\"Everyone\",\"Everyone\",\"Everyone\",\"Everyone\",\"Everyone\",\"Everyone\",\"Everyone\",\"Everyone\",\"Everyone\",\"Everyone\",\"Everyone\",\"Everyone\",\"Everyone\",\"Everyone\",\"Everyone\",\"Everyone\",\"Everyone\",\"Everyone 10+\",\"Teen\",\"Everyone\",\"Mature 17+\",\"Everyone\",\"Everyone\",\"Everyone\",\"Teen\",\"Everyone 10+\",\"Everyone\",\"Everyone 10+\",\"Everyone\",\"Everyone\",\"Everyone\",\"Everyone\",\"Everyone\",\"Everyone\",\"Everyone\",\"Teen\",\"Everyone\",\"Everyone\",\"Everyone\",\"Everyone\",\"Everyone\",\"Everyone\",\"Everyone\",\"Everyone\",\"Everyone\",\"Everyone\",\"Everyone\",\"Everyone\",\"Everyone\",\"Everyone\",\"Everyone\",\"Everyone\",\"Everyone\",\"Everyone\",\"Everyone\",\"Everyone\",\"Everyone\",\"Everyone\",\"Everyone\",\"Everyone\",\"Everyone\",\"Everyone\",\"Everyone\",\"Everyone\",\"Everyone\",\"Everyone\",\"Everyone\",\"Everyone\",\"Everyone\",\"Everyone\",\"Everyone\",\"Everyone\",\"Everyone\",\"Everyone\",\"Teen\",\"Everyone\",\"Everyone\",\"Teen\",\"Everyone\",\"Everyone\",\"Everyone\",\"Everyone\",\"Everyone\",\"Everyone\",\"Everyone\",\"Everyone\",\"Teen\",\"Teen\",\"Everyone\",\"Everyone\",\"Everyone\",\"Everyone\",\"Everyone\",\"Everyone\",\"Everyone\",\"Everyone\",\"Everyone\",\"Everyone\",\"Everyone\",\"Everyone\",\"Everyone\",\"Everyone\",\"Everyone\",\"Everyone\",\"Everyone\",\"Everyone\",\"Everyone\",\"Everyone\",\"Everyone\",\"Everyone\",\"Everyone\",\"Everyone\",\"Everyone\",\"Everyone\",\"Everyone\",\"Everyone\",\"Everyone\",\"Everyone\",\"Everyone\",\"Everyone\",\"Everyone\",\"Everyone\",\"Everyone\",\"Everyone\",\"Everyone\",\"Everyone\",\"Everyone\",\"Everyone\",\"Everyone\",\"Everyone\",\"Everyone\",\"Everyone\",\"Everyone\",\"Everyone\",\"Everyone\",\"Everyone\",\"Everyone\",\"Everyone\",\"Everyone\",\"Everyone\",\"Everyone\",\"Everyone\",\"Everyone\",\"Everyone\",\"Everyone\",\"Everyone\",\"Everyone\",\"Everyone\",\"Everyone\",\"Everyone\",\"Everyone\",\"Everyone\",\"Everyone\",\"Everyone\",\"Everyone\",\"Everyone\",\"Everyone\",\"Everyone\",\"Everyone\",\"Everyone\",\"Everyone\",\"Everyone\",\"Everyone\",\"Everyone\",\"Everyone\",\"Everyone\",\"Everyone\",\"Everyone\",\"Everyone\",\"Everyone\",\"Everyone\",\"Everyone\",\"Everyone\",\"Everyone\",\"Everyone\",\"Everyone\",\"Everyone\",\"Everyone\",\"Everyone\",\"Everyone\",\"Everyone\",\"Everyone\",\"Everyone\",\"Everyone\",\"Everyone\",\"Everyone\",\"Everyone\",\"Everyone\",\"Everyone\",\"Everyone\",\"Everyone\",\"Everyone\",\"Everyone\",\"Everyone\",\"Everyone\",\"Everyone\",\"Everyone\",\"Everyone\",\"Everyone\",\"Everyone\",\"Everyone\",\"Everyone\",\"Everyone\",\"Everyone\",\"Everyone\",\"Everyone\",\"Everyone\",\"Everyone\",\"Everyone\",\"Everyone\",\"Everyone\",\"Everyone\",\"Everyone\",\"Everyone\",\"Mature 17+\",\"Everyone\",\"Everyone\",\"Teen\",\"Everyone\",\"Everyone\",\"Everyone\",\"Everyone\",\"Everyone\",\"Everyone\",\"Everyone\",\"Everyone\",\"Everyone\",\"Everyone\",\"Everyone\",\"Everyone\",\"Everyone\",\"Everyone\",\"Everyone\",\"Everyone\",\"Everyone\",\"Everyone\",\"Everyone\",\"Everyone\",\"Everyone\",\"Everyone\",\"Everyone\",\"Everyone\",\"Everyone\",\"Everyone\",\"Everyone\",\"Everyone\",\"Everyone\",\"Everyone\",\"Everyone\",\"Everyone\",\"Everyone\",\"Everyone\",\"Everyone\",\"Everyone\",\"Everyone\",\"Everyone\",\"Everyone\",\"Everyone\",\"Everyone\",\"Everyone\",\"Everyone\",\"Everyone\",\"Everyone\",\"Everyone\",\"Everyone\",\"Everyone\",\"Everyone\",\"Everyone\",\"Everyone\",\"Everyone\",\"Everyone\",\"Everyone\",\"Everyone\",\"Everyone\",\"Everyone\",\"Everyone\",\"Everyone\",\"Everyone\",\"Everyone\",\"Everyone\",\"Everyone\",\"Everyone\",\"Everyone\",\"Everyone\",\"Everyone\",\"Everyone\",\"Teen\",\"Everyone\",\"Everyone\",\"Everyone\",\"Everyone\",\"Teen\",\"Everyone\",\"Everyone\",\"Everyone\",\"Teen\",\"Everyone\",\"Everyone\",\"Everyone\",\"Teen\",\"Everyone\",\"Everyone\",\"Everyone\",\"Teen\",\"Everyone\",\"Teen\",\"Everyone\",\"Everyone\",\"Everyone\",\"Everyone\",\"Teen\",\"Everyone\",\"Teen\",\"Teen\",\"Everyone\",\"Everyone\",\"Everyone\",\"Everyone\",\"Everyone\",\"Teen\",\"Everyone\",\"Everyone\",\"Everyone\",\"Everyone\",\"Everyone\",\"Everyone\",\"Everyone\",\"Everyone\",\"Everyone 10+\",\"Everyone\",\"Everyone\",\"Teen\",\"Teen\",\"Teen\",\"Everyone\",\"Everyone 10+\",\"Teen\",\"Everyone\",\"Everyone 10+\",\"Everyone\",\"Everyone 10+\",\"Everyone\",\"Everyone 10+\",\"Teen\",\"Everyone 10+\",\"Everyone\",\"Everyone\",\"Everyone 10+\",\"Everyone\",\"Teen\",\"Teen\",\"Teen\",\"Teen\",\"Everyone\",\"Everyone\",\"Everyone\",\"Teen\",\"Mature 17+\",\"Everyone\",\"Teen\",\"Teen\",\"Mature 17+\",\"Mature 17+\",\"Everyone\",\"Everyone\",\"Everyone\",\"Everyone 10+\",\"Everyone 10+\",\"Everyone 10+\",\"Mature 17+\",\"Teen\",\"Teen\",\"Everyone\",\"Everyone\",\"Everyone\",\"Everyone\",\"Everyone\",\"Everyone 10+\",\"Everyone 10+\",\"Everyone\",\"Everyone\",\"Teen\",\"Teen\",\"Teen\",\"Teen\",\"Everyone\",\"Everyone\",\"Everyone\",\"Teen\",\"Everyone 10+\",\"Everyone\",\"Everyone 10+\",\"Everyone\",\"Everyone 10+\",\"Mature 17+\",\"Everyone 10+\",\"Everyone 10+\",\"Teen\",\"Everyone 10+\",\"Teen\",\"Teen\",\"Teen\",\"Everyone\",\"Everyone 10+\",\"Everyone\",\"Everyone 10+\",\"Everyone 10+\",\"Everyone 10+\",\"Mature 17+\",\"Everyone 10+\",\"Everyone 10+\",\"Teen\",\"Everyone 10+\",\"Everyone\",\"Everyone\",\"Everyone 10+\",\"Everyone 10+\",\"Teen\",\"Everyone 10+\",\"Everyone\",\"Everyone 10+\",\"Mature 17+\",\"Everyone\",\"Everyone\",\"Everyone\",\"Everyone\",\"Everyone\",\"Everyone\",\"Everyone\",\"Everyone\",\"Everyone\",\"Everyone\",\"Everyone\",\"Everyone\",\"Everyone\",\"Everyone\",\"Everyone\",\"Everyone\",\"Everyone\",\"Everyone\",\"Everyone\",\"Everyone\",\"Everyone\",\"Everyone\",\"Everyone\",\"Everyone\",\"Everyone\",\"Everyone\",\"Everyone\",\"Everyone\",\"Everyone\",\"Everyone\",\"Everyone\",\"Everyone\",\"Everyone\",\"Everyone\",\"Everyone\",\"Everyone\",\"Everyone\",\"Everyone\",\"Everyone\",\"Everyone\",\"Everyone\",\"Everyone\",\"Everyone\",\"Everyone\",\"Everyone\",\"Everyone\",\"Everyone\",\"Everyone\",\"Everyone\",\"Everyone\",\"Everyone\",\"Everyone\",\"Mature 17+\",\"Everyone\",\"Everyone\",\"Teen\",\"Teen\",\"Everyone\",\"Everyone\",\"Everyone\",\"Everyone\",\"Everyone\",\"Everyone\",\"Everyone\",\"Teen\",\"Mature 17+\",\"Everyone\",\"Everyone\",\"Teen\",\"Teen\",\"Everyone\",\"Everyone\",\"Everyone\",\"Everyone\",\"Everyone\",\"Teen\",\"Everyone\",\"Everyone 10+\",\"Everyone\",\"Teen\",\"Mature 17+\",\"Everyone\",\"Everyone\",\"Everyone\",\"Everyone\",\"Everyone\",\"Everyone\",\"Everyone 10+\",\"Everyone\",\"Everyone 10+\",\"Teen\",\"Everyone\",\"Everyone\",\"Everyone\",\"Teen\",\"Everyone 10+\",\"Everyone\",\"Teen\",\"Everyone\",\"Mature 17+\",\"Everyone\",\"Everyone\",\"Teen\",\"Everyone\",\"Everyone\",\"Everyone\",\"Mature 17+\",\"Everyone 10+\",\"Everyone\",\"Everyone\",\"Everyone\",\"Everyone\",\"Everyone\",\"Teen\",\"Everyone\",\"Everyone\",\"Everyone\",\"Everyone\",\"Everyone\",\"Teen\",\"Everyone\",\"Everyone\",\"Everyone\",\"Everyone\",\"Everyone\",\"Everyone\",\"Mature 17+\",\"Everyone\",\"Everyone\",\"Teen\",\"Everyone\",\"Teen\",\"Everyone\",\"Everyone\",\"Everyone 10+\",\"Everyone\",\"Everyone\",\"Everyone\",\"Everyone\",\"Everyone\",\"Everyone\",\"Mature 17+\",\"Everyone\",\"Everyone\",\"Everyone\",\"Everyone\",\"Everyone\",\"Everyone\",\"Everyone\",\"Everyone\",\"Everyone\",\"Everyone\",\"Everyone\",\"Everyone\",\"Everyone\",\"Everyone\",\"Everyone\",\"Everyone\",\"Everyone\",\"Everyone\",\"Everyone\",\"Everyone\",\"Everyone\",\"Everyone\",\"Teen\",\"Teen\",\"Mature 17+\",\"Mature 17+\",\"Everyone\",\"Everyone\",\"Everyone\",\"Everyone 10+\",\"Everyone\",\"Teen\",\"Everyone\",\"Everyone\",\"Everyone\",\"Teen\",\"Everyone\",\"Everyone\",\"Everyone\",\"Everyone\",\"Everyone\",\"Everyone\",\"Everyone\",\"Everyone\",\"Teen\",\"Everyone\",\"Everyone\",\"Everyone\",\"Teen\",\"Teen\",\"Everyone\",\"Everyone\",\"Teen\",\"Mature 17+\",\"Everyone\",\"Everyone\",\"Everyone\",\"Everyone\",\"Everyone\",\"Everyone\",\"Everyone 10+\",\"Everyone\",\"Everyone\",\"Everyone\",\"Everyone\",\"Everyone\",\"Everyone\",\"Teen\",\"Everyone\",\"Everyone\",\"Everyone\",\"Everyone 10+\",\"Everyone\",\"Everyone\",\"Everyone\",\"Everyone\",\"Everyone\",\"Everyone\",\"Everyone\",\"Everyone\",\"Everyone\",\"Everyone\",\"Everyone\",\"Teen\",\"Everyone\",\"Teen\",\"Everyone\",\"Teen\",\"Everyone\",\"Everyone\",\"Everyone\",\"Everyone\",\"Everyone\",\"Everyone\",\"Everyone\",\"Everyone\",\"Mature 17+\",\"Everyone\",\"Everyone\",\"Everyone\",\"Everyone\",\"Everyone\",\"Everyone\",\"Teen\",\"Everyone\",\"Teen\",\"Everyone\",\"Everyone\",\"Everyone\",\"Everyone\",\"Everyone\",\"Everyone\",\"Everyone\",\"Everyone\",\"Everyone\",\"Everyone\",\"Everyone\",\"Everyone\",\"Everyone\",\"Everyone\",\"Everyone\",\"Everyone\",\"Everyone\",\"Everyone\",\"Everyone\",\"Everyone\",\"Everyone\",\"Everyone\",\"Everyone\",\"Everyone\",\"Everyone\",\"Mature 17+\",\"Everyone\",\"Everyone\",\"Everyone\",\"Everyone\",\"Mature 17+\",\"Everyone\",\"Everyone\",\"Everyone\",\"Everyone\",\"Everyone\",\"Everyone 10+\",\"Everyone\",\"Everyone\",\"Everyone\",\"Everyone\",\"Everyone\",\"Everyone\",\"Everyone\",\"Everyone\",\"Everyone\",\"Everyone\",\"Everyone\",\"Everyone\",\"Everyone\",\"Everyone\",\"Everyone\",\"Everyone\",\"Everyone\",\"Everyone\",\"Everyone\",\"Everyone\",\"Everyone\",\"Everyone\",\"Everyone\",\"Everyone\",\"Everyone\",\"Everyone\",\"Teen\",\"Everyone\",\"Everyone\",\"Everyone\",\"Everyone\",\"Everyone 10+\",\"Everyone\",\"Everyone\",\"Teen\",\"Everyone\",\"Everyone\",\"Everyone\",\"Teen\",\"Everyone\",\"Everyone\",\"Everyone\",\"Everyone\",\"Everyone\",\"Everyone\",\"Everyone\",\"Everyone\",\"Everyone\",\"Everyone\",\"Mature 17+\",\"Everyone\",\"Everyone\",\"Everyone\",\"Teen\",\"Teen\",\"Everyone\",\"Everyone\",\"Everyone\",\"Everyone\",\"Teen\",\"Everyone\",\"Everyone\",\"Teen\",\"Everyone\",\"Everyone\",\"Teen\",\"Everyone\",\"Mature 17+\",\"Everyone\",\"Everyone\",\"Everyone\",\"Everyone\",\"Everyone\",\"Everyone\",\"Everyone\",\"Everyone\",\"Everyone\",\"Everyone\",\"Everyone\",\"Teen\",\"Everyone\",\"Everyone\",\"Mature 17+\",\"Everyone\",\"Everyone\",\"Everyone 10+\",\"Everyone 10+\",\"Everyone\",\"Everyone\",\"Everyone\",\"Everyone\",\"Everyone\",\"Everyone\",\"Teen\",\"Everyone\",\"Everyone\",\"Everyone\",\"Everyone\",\"Everyone\",\"Everyone\",\"Everyone\",\"Everyone\",\"Mature 17+\",\"Everyone\",\"Everyone\",\"Everyone\",\"Everyone\",\"Everyone\",\"Everyone\",\"Everyone 10+\",\"Everyone\",\"Everyone\",\"Everyone\",\"Everyone\",\"Everyone\",\"Everyone\",\"Everyone\",\"Everyone\",\"Everyone\",\"Everyone\",\"Everyone\",\"Everyone\",\"Everyone\",\"Everyone\",\"Everyone\",\"Everyone\",\"Everyone\",\"Everyone\",\"Everyone\",\"Everyone\",\"Everyone\",\"Everyone\",\"Everyone\",\"Everyone\",\"Everyone\",\"Teen\",\"Everyone\",\"Everyone 10+\",\"Everyone 10+\",\"Teen\",\"Everyone\",\"Everyone\",\"Everyone\",\"Everyone 10+\",\"Everyone\",\"Everyone\",\"Everyone 10+\",\"Everyone\",\"Everyone\",\"Everyone\",\"Everyone\",\"Everyone 10+\",\"Teen\",\"Everyone 10+\",\"Everyone\",\"Everyone 10+\",\"Everyone\",\"Everyone\",\"Everyone\",\"Everyone\",\"Everyone\",\"Everyone\",\"Everyone\",\"Everyone\",\"Everyone\",\"Everyone\",\"Teen\",\"Everyone\",\"Everyone\",\"Everyone 10+\",\"Everyone\",\"Everyone\",\"Everyone\",\"Everyone 10+\",\"Everyone\",\"Teen\",\"Teen\",\"Everyone\",\"Everyone\",\"Everyone\",\"Everyone\",\"Everyone\",\"Everyone\",\"Everyone\",\"Everyone\",\"Everyone\",\"Everyone\",\"Mature 17+\",\"Everyone\",\"Everyone\",\"Everyone\",\"Everyone\",\"Everyone\",\"Everyone\",\"Teen\",\"Everyone\",\"Everyone\",\"Everyone\",\"Everyone\",\"Everyone\",\"Everyone\",\"Everyone\",\"Everyone\",\"Everyone\",\"Everyone\",\"Mature 17+\",\"Everyone\",\"Everyone\",\"Everyone\",\"Everyone\",\"Everyone\",\"Everyone\",\"Everyone\",\"Everyone\",\"Everyone\",\"Everyone\",\"Everyone\",\"Everyone\",\"Everyone\",\"Everyone\",\"Everyone\",\"Everyone\",\"Everyone\",\"Everyone\",\"Everyone\",\"Everyone\",\"Everyone\",\"Everyone\",\"Everyone\",\"Everyone\",\"Everyone\",\"Everyone\",\"Mature 17+\",\"Everyone\",\"Everyone\",\"Everyone\",\"Everyone\",\"Teen\",\"Everyone\",\"Everyone\",\"Everyone\",\"Everyone\",\"Teen\",\"Teen\",\"Everyone\",\"Everyone\",\"Everyone\",\"Teen\",\"Everyone\",\"Everyone\",\"Everyone\",\"Everyone\",\"Everyone\",\"Everyone\",\"Everyone\",\"Everyone\",\"Everyone\",\"Everyone\",\"Everyone\",\"Everyone\",\"Everyone\",\"Everyone\",\"Everyone\",\"Everyone\",\"Everyone\",\"Everyone\",\"Everyone\",\"Everyone\",\"Everyone\",\"Everyone\",\"Everyone\",\"Everyone\",\"Everyone\",\"Everyone\",\"Everyone\",\"Everyone\",\"Everyone\",\"Everyone\",\"Everyone\",\"Everyone\",\"Everyone\",\"Everyone\",\"Everyone\",\"Everyone\",\"Teen\",\"Teen\",\"Everyone\",\"Teen\",\"Everyone\",\"Everyone\",\"Mature 17+\",\"Everyone\",\"Everyone\",\"Everyone\",\"Everyone\",\"Everyone\",\"Everyone\",\"Everyone\",\"Everyone\",\"Teen\",\"Everyone\",\"Everyone\",\"Everyone\",\"Everyone\",\"Teen\",\"Teen\",\"Everyone\",\"Everyone\",\"Everyone\",\"Everyone\",\"Mature 17+\",\"Everyone\",\"Everyone\",\"Everyone\",\"Everyone\",\"Everyone\",\"Everyone\",\"Everyone\",\"Everyone\",\"Everyone\",\"Everyone\",\"Everyone\",\"Everyone\",\"Everyone\",\"Everyone\",\"Everyone\",\"Everyone\",\"Everyone\",\"Everyone\",\"Teen\",\"Teen\",\"Everyone\",\"Everyone\",\"Teen\",\"Everyone\",\"Everyone\",\"Teen\",\"Everyone\",\"Everyone 10+\",\"Everyone\",\"Everyone\",\"Everyone\",\"Everyone\",\"Everyone\",\"Everyone\",\"Mature 17+\",\"Everyone\",\"Teen\",\"Everyone 10+\",\"Mature 17+\",\"Everyone\",\"Mature 17+\",\"Everyone\",\"Everyone\",\"Everyone\",\"Everyone\",\"Everyone\",\"Everyone\",\"Everyone\",\"Everyone\",\"Everyone\",\"Everyone\",\"Everyone 10+\",\"Everyone\",\"Everyone\",\"Everyone\",\"Everyone\",\"Mature 17+\",\"Everyone\",\"Teen\",\"Everyone\",\"Everyone\",\"Everyone\",\"Everyone\",\"Everyone\",\"Teen\",\"Mature 17+\",\"Everyone\",\"Everyone\",\"Everyone\",\"Teen\",\"Everyone\",\"Everyone\",\"Everyone\",\"Everyone\",\"Everyone\",\"Teen\",\"Teen\",\"Teen\",\"Everyone\",\"Teen\",\"Teen\",\"Everyone 10+\",\"Mature 17+\",\"Teen\",\"Everyone\",\"Everyone\",\"Everyone\",\"Everyone\",\"Everyone\",\"Teen\",\"Everyone\",\"Everyone\",\"Mature 17+\",\"Everyone\",\"Everyone\",\"Teen\",\"Everyone\",\"Everyone\",\"Teen\",\"Everyone\",\"Everyone\",\"Everyone 10+\",\"Everyone\",\"Everyone\",\"Teen\",\"Everyone\",\"Everyone\",\"Everyone\",\"Mature 17+\",\"Mature 17+\",\"Mature 17+\",\"Teen\",\"Everyone\",\"Everyone\",\"Everyone\",\"Everyone\",\"Everyone\",\"Everyone\",\"Everyone 10+\",\"Everyone\",\"Everyone\",\"Everyone\",\"Everyone\",\"Everyone\",\"Everyone\",\"Everyone\",\"Everyone\",\"Everyone\",\"Everyone\",\"Everyone\",\"Everyone\",\"Everyone\",\"Everyone\",\"Teen\",\"Everyone\",\"Everyone\",\"Everyone\",\"Everyone\",\"Everyone\",\"Everyone\",\"Everyone\",\"Everyone\",\"Everyone\",\"Everyone\",\"Everyone\",\"Everyone\",\"Everyone\",\"Everyone\",\"Everyone\",\"Everyone\",\"Everyone\",\"Everyone\",\"Everyone\",\"Everyone\",\"Teen\",\"Everyone\",\"Teen\",\"Everyone 10+\",\"Everyone\",\"Everyone\",\"Everyone\",\"Everyone\",\"Everyone\",\"Everyone\",\"Everyone\",\"Teen\",\"Teen\",\"Everyone\",\"Everyone\",\"Everyone\",\"Everyone\",\"Mature 17+\",\"Everyone\",\"Everyone\",\"Everyone\",\"Everyone\",\"Everyone\",\"Everyone\",\"Everyone\",\"Everyone\",\"Teen\",\"Everyone\",\"Everyone\",\"Everyone\",\"Teen\",\"Teen\",\"Teen\",\"Everyone\",\"Everyone\",\"Teen\",\"Teen\",\"Everyone\",\"Teen\",\"Everyone\",\"Everyone\",\"Teen\",\"Everyone\",\"Teen\",\"Mature 17+\",\"Teen\",\"Teen\",\"Everyone 10+\",\"Teen\",\"Everyone\",\"Teen\",\"Teen\",\"Mature 17+\",\"Teen\",\"Everyone\",\"Teen\",\"Teen\",\"Everyone\",\"Everyone\",\"Teen\",\"Everyone\",\"Everyone 10+\",\"Mature 17+\",\"Teen\",\"Everyone\",\"Teen\",\"Teen\",\"Everyone\",\"Teen\",\"Everyone\",\"Everyone\",\"Everyone\",\"Teen\",\"Everyone 10+\",\"Everyone\",\"Everyone\",\"Everyone\",\"Teen\",\"Everyone\",\"Everyone\",\"Everyone\",\"Everyone\",\"Everyone\",\"Everyone\",\"Everyone\",\"Everyone\",\"Everyone\",\"Everyone\",\"Everyone\",\"Everyone\",\"Everyone\",\"Everyone\",\"Everyone\",\"Everyone\",\"Everyone\",\"Everyone\",\"Everyone\",\"Everyone\",\"Everyone\",\"Everyone\",\"Everyone\",\"Everyone\",\"Everyone\",\"Everyone\",\"Everyone\",\"Everyone\",\"Everyone\",\"Everyone\",\"Everyone\",\"Everyone\",\"Everyone\",\"Everyone\",\"Everyone\",\"Everyone\",\"Everyone\",\"Everyone\",\"Everyone\",\"Everyone\",\"Everyone\",\"Teen\",\"Everyone\",\"Everyone\",\"Everyone\",\"Everyone\",\"Everyone\",\"Everyone\",\"Everyone\",\"Everyone\",\"Everyone\",\"Everyone\",\"Everyone\",\"Everyone\",\"Everyone\",\"Everyone\",\"Everyone\",\"Everyone\",\"Everyone\",\"Everyone\",\"Everyone\",\"Everyone\",\"Everyone\",\"Everyone\",\"Everyone\",\"Everyone\",\"Everyone\",\"Everyone\",\"Everyone\",\"Everyone\",\"Everyone\",\"Everyone\",\"Everyone\",\"Everyone\",\"Everyone\",\"Everyone\",\"Everyone\",\"Everyone\",\"Everyone\",\"Everyone\",\"Everyone\",\"Everyone\",\"Everyone\",\"Everyone\",\"Everyone\",\"Everyone\",\"Everyone\",\"Everyone\",\"Everyone\",\"Everyone\",\"Everyone\",\"Everyone\",\"Everyone\",\"Everyone\",\"Everyone\",\"Everyone\",\"Everyone\",\"Teen\",\"Everyone\",\"Everyone\",\"Everyone\",\"Everyone\",\"Everyone\",\"Everyone\",\"Everyone\",\"Everyone\",\"Everyone\",\"Everyone\",\"Everyone\",\"Everyone\",\"Everyone\",\"Everyone\",\"Everyone\",\"Everyone\",\"Everyone\",\"Everyone\",\"Everyone\",\"Everyone\",\"Everyone\",\"Everyone\",\"Everyone\",\"Everyone\",\"Everyone\",\"Everyone\",\"Everyone\",\"Everyone\",\"Everyone\",\"Everyone\",\"Everyone\",\"Everyone\",\"Everyone\",\"Everyone\",\"Everyone\",\"Teen\",\"Everyone\",\"Everyone\",\"Teen\",\"Everyone\",\"Everyone\",\"Everyone\",\"Teen\",\"Teen\",\"Everyone\",\"Everyone\",\"Teen\",\"Everyone\",\"Everyone\",\"Everyone\",\"Everyone\",\"Everyone\",\"Everyone\",\"Everyone 10+\",\"Everyone 10+\",\"Everyone\",\"Everyone\",\"Everyone 10+\",\"Everyone\",\"Everyone\",\"Everyone\",\"Everyone\",\"Everyone\",\"Everyone\",\"Everyone\",\"Everyone\",\"Everyone\",\"Everyone\",\"Everyone\",\"Everyone\",\"Everyone\",\"Everyone\",\"Everyone\",\"Everyone\",\"Everyone\",\"Everyone\",\"Everyone\",\"Teen\",\"Everyone\",\"Everyone\",\"Mature 17+\",\"Everyone\",\"Everyone\",\"Everyone\",\"Everyone\",\"Everyone\",\"Everyone\",\"Everyone\",\"Everyone\",\"Everyone\",\"Everyone\",\"Everyone\",\"Everyone\",\"Everyone\",\"Teen\",\"Everyone\",\"Teen\",\"Teen\",\"Everyone\",\"Everyone 10+\",\"Everyone\",\"Everyone\",\"Everyone\",\"Everyone\",\"Everyone\",\"Everyone\",\"Everyone\",\"Everyone\",\"Everyone\",\"Everyone\",\"Everyone\",\"Everyone\",\"Everyone\",\"Everyone\",\"Everyone\",\"Everyone\",\"Everyone\",\"Everyone\",\"Everyone\",\"Everyone\",\"Teen\",\"Everyone\",\"Everyone\",\"Everyone\",\"Everyone\",\"Everyone\",\"Everyone\",\"Everyone\",\"Everyone\",\"Everyone\",\"Everyone\",\"Everyone\",\"Everyone\",\"Everyone\",\"Everyone\",\"Everyone\",\"Teen\",\"Everyone\",\"Everyone\",\"Everyone\",\"Teen\",\"Everyone\",\"Everyone\",\"Everyone\",\"Mature 17+\",\"Everyone\",\"Everyone\",\"Everyone\",\"Everyone\",\"Everyone\",\"Everyone\",\"Everyone\",\"Everyone\",\"Everyone 10+\",\"Everyone\",\"Everyone\",\"Everyone\",\"Everyone\",\"Everyone\",\"Everyone\",\"Everyone\",\"Everyone\",\"Everyone\",\"Everyone\",\"Everyone\",\"Everyone\",\"Everyone\",\"Everyone\",\"Everyone\",\"Everyone\",\"Everyone\",\"Everyone\",\"Everyone\",\"Everyone\",\"Everyone\",\"Everyone\",\"Everyone\",\"Everyone\",\"Everyone\",\"Everyone\",\"Everyone\",\"Everyone\",\"Everyone\",\"Everyone\",\"Everyone\",\"Everyone\",\"Everyone\",\"Teen\",\"Everyone\",\"Everyone\",\"Everyone\",\"Everyone\",\"Everyone\",\"Everyone\",\"Everyone\",\"Everyone\",\"Teen\",\"Everyone\",\"Everyone\",\"Everyone\",\"Everyone\",\"Everyone\",\"Everyone\",\"Everyone\",\"Everyone\",\"Everyone\",\"Everyone\",\"Everyone\",\"Everyone\",\"Everyone\",\"Everyone\",\"Everyone\",\"Everyone\",\"Everyone 10+\",\"Everyone 10+\",\"Everyone\",\"Everyone\",\"Everyone\",\"Everyone\",\"Teen\",\"Teen\",\"Teen\",\"Everyone\",\"Everyone\",\"Everyone\",\"Everyone\",\"Everyone\",\"Everyone\",\"Teen\",\"Everyone\",\"Everyone\",\"Mature 17+\",\"Everyone\",\"Everyone\",\"Teen\",\"Everyone\",\"Teen\",\"Everyone\",\"Everyone\",\"Teen\",\"Everyone 10+\",\"Everyone\",\"Everyone\",\"Everyone 10+\",\"Everyone\",\"Everyone\",\"Everyone\",\"Everyone\",\"Everyone\",\"Everyone\",\"Everyone\",\"Everyone\",\"Everyone\",\"Teen\",\"Everyone\",\"Everyone\",\"Everyone\",\"Everyone\",\"Everyone\",\"Everyone\",\"Everyone\",\"Everyone\",\"Everyone\",\"Everyone\",\"Everyone\",\"Everyone\",\"Everyone\",\"Everyone\",\"Everyone\",\"Everyone\",\"Everyone\",\"Everyone 10+\",\"Everyone\",\"Everyone\",\"Everyone\",\"Everyone\",\"Everyone\",\"Everyone\",\"Everyone\",\"Everyone\",\"Everyone\",\"Everyone\",\"Everyone\",\"Everyone\",\"Everyone\",\"Everyone\",\"Everyone\",\"Everyone\",\"Everyone\",\"Teen\",\"Teen\",\"Everyone\",\"Everyone\",\"Everyone\",\"Everyone\",\"Everyone\",\"Everyone\",\"Everyone\",\"Everyone\",\"Everyone\",\"Everyone\",\"Everyone\",\"Everyone\",\"Everyone\",\"Everyone\",\"Everyone 10+\",\"Everyone\",\"Teen\",\"Everyone\",\"Everyone\",\"Everyone\",\"Everyone 10+\",\"Everyone\",\"Everyone\",\"Everyone\",\"Teen\",\"Everyone\",\"Everyone\",\"Everyone\",\"Everyone 10+\",\"Everyone\",\"Everyone\",\"Everyone\",\"Everyone\",\"Everyone\",\"Everyone\",\"Everyone\",\"Teen\",\"Everyone\",\"Teen\",\"Everyone\",\"Mature 17+\",\"Everyone\",\"Everyone\",\"Teen\",\"Everyone\",\"Teen\",\"Teen\",\"Mature 17+\",\"Everyone\",\"Teen\",\"Mature 17+\",\"Teen\",\"Everyone\",\"Mature 17+\",\"Teen\",\"Everyone\",\"Everyone 10+\",\"Teen\",\"Everyone 10+\",\"Mature 17+\",\"Everyone\",\"Everyone\",\"Teen\",\"Mature 17+\",\"Everyone\",\"Everyone\",\"Everyone\",\"Everyone\",\"Mature 17+\",\"Everyone\",\"Teen\",\"Everyone\",\"Everyone\",\"Everyone\",\"Teen\",\"Everyone\",\"Everyone\",\"Everyone\",\"Everyone\",\"Everyone\",\"Everyone\",\"Everyone\",\"Everyone\",\"Everyone\",\"Everyone\",\"Everyone\",\"Everyone\",\"Everyone\",\"Everyone\",\"Everyone\",\"Everyone\",\"Everyone\",\"Everyone\",\"Everyone\",\"Everyone\",\"Everyone\",\"Everyone\",\"Everyone\",\"Everyone\",\"Everyone\",\"Everyone\",\"Everyone\",\"Everyone\",\"Everyone\",\"Everyone\",\"Everyone\",\"Everyone\",\"Everyone\",\"Teen\",\"Mature 17+\",\"Everyone\",\"Everyone\",\"Teen\",\"Everyone\",\"Everyone 10+\",\"Everyone 10+\",\"Everyone\",\"Everyone\",\"Everyone\",\"Everyone\",\"Everyone\",\"Everyone\",\"Everyone\",\"Everyone\",\"Everyone\",\"Mature 17+\",\"Everyone\",\"Everyone\",\"Everyone 10+\",\"Everyone 10+\",\"Teen\",\"Everyone 10+\",\"Teen\",\"Everyone\",\"Mature 17+\",\"Teen\",\"Teen\",\"Teen\",\"Teen\",\"Everyone\",\"Mature 17+\",\"Everyone\",\"Everyone\",\"Everyone\",\"Everyone 10+\",\"Everyone\",\"Teen\",\"Everyone 10+\",\"Everyone\",\"Everyone\",\"Everyone\",\"Everyone\",\"Everyone\",\"Everyone\",\"Everyone\",\"Everyone\",\"Teen\",\"Everyone\",\"Everyone\",\"Everyone\",\"Everyone\",\"Everyone 10+\",\"Everyone\",\"Everyone\",\"Everyone\",\"Everyone\",\"Everyone\",\"Everyone\",\"Everyone\",\"Everyone\",\"Everyone\",\"Everyone\",\"Teen\",\"Everyone\",\"Everyone\",\"Everyone\",\"Everyone\",\"Everyone\",\"Everyone\",\"Everyone\",\"Everyone\",\"Everyone\",\"Everyone\",\"Everyone\",\"Everyone\",\"Everyone 10+\",\"Everyone\",\"Everyone 10+\",\"Everyone\",\"Everyone\",\"Everyone\",\"Teen\",\"Everyone\",\"Everyone\",\"Everyone\",\"Everyone\",\"Everyone\",\"Everyone\",\"Everyone\",\"Everyone 10+\",\"Everyone\",\"Everyone\",\"Everyone\",\"Everyone\",\"Everyone\",\"Teen\",\"Everyone\",\"Everyone\",\"Everyone\",\"Everyone 10+\",\"Teen\",\"Teen\",\"Teen\",\"Mature 17+\",\"Everyone 10+\",\"Everyone 10+\",\"Teen\",\"Teen\",\"Everyone\",\"Teen\",\"Everyone\",\"Teen\",\"Everyone\",\"Teen\",\"Teen\",\"Teen\",\"Teen\",\"Teen\",\"Teen\",\"Teen\",\"Teen\",\"Everyone 10+\",\"Teen\",\"Teen\",\"Teen\",\"Teen\",\"Everyone 10+\",\"Teen\",\"Everyone\",\"Teen\",\"Teen\",\"Teen\",\"Everyone\",\"Teen\",\"Mature 17+\",\"Everyone\",\"Everyone\",\"Everyone\",\"Everyone\",\"Everyone\",\"Everyone\",\"Everyone\",\"Everyone\",\"Everyone\",\"Everyone\",\"Everyone\",\"Everyone\",\"Everyone\",\"Everyone\",\"Everyone\",\"Everyone\",\"Everyone\",\"Everyone\",\"Everyone\",\"Everyone\",\"Everyone\",\"Teen\",\"Everyone\",\"Everyone\",\"Everyone\",\"Teen\",\"Everyone\",\"Teen\",\"Everyone\",\"Everyone\",\"Everyone\",\"Everyone\",\"Everyone\",\"Everyone\",\"Teen\",\"Everyone\",\"Everyone\",\"Everyone\",\"Teen\",\"Everyone\",\"Everyone\",\"Everyone\",\"Everyone\",\"Everyone\",\"Everyone\",\"Everyone\",\"Teen\",\"Everyone\",\"Everyone\",\"Everyone\",\"Everyone\",\"Everyone\",\"Everyone\",\"Everyone\",\"Everyone\",\"Everyone\",\"Everyone\",\"Everyone\",\"Everyone\",\"Everyone\",\"Everyone\",\"Everyone\",\"Everyone\",\"Everyone\",\"Teen\",\"Everyone\",\"Everyone\",\"Everyone\",\"Everyone\",\"Everyone\",\"Everyone\",\"Everyone\",\"Everyone\",\"Everyone\",\"Everyone\",\"Everyone\",\"Everyone\",\"Everyone\",\"Everyone\",\"Everyone\",\"Everyone\",\"Everyone\",\"Everyone\",\"Everyone\",\"Teen\",\"Everyone\",\"Everyone\",\"Teen\",\"Everyone\",\"Teen\",\"Everyone\",\"Everyone 10+\",\"Everyone\",\"Everyone\",\"Everyone\",\"Everyone\",\"Everyone\",\"Everyone\",\"Everyone\",\"Everyone\",\"Everyone\",\"Everyone\",\"Everyone 10+\",\"Everyone 10+\",\"Everyone\",\"Everyone\",\"Everyone\",\"Everyone\",\"Everyone\",\"Everyone\",\"Everyone\",\"Everyone\",\"Everyone 10+\",\"Everyone\",\"Everyone\",\"Everyone\",\"Everyone\",\"Teen\",\"Everyone\",\"Everyone\",\"Teen\",\"Everyone\",\"Everyone\",\"Everyone\",\"Teen\",\"Everyone\",\"Everyone\",\"Everyone\",\"Everyone\",\"Everyone\",\"Everyone\",\"Everyone\",\"Teen\",\"Everyone\",\"Teen\",\"Teen\",\"Everyone\",\"Everyone\",\"Everyone\",\"Everyone\",\"Everyone\",\"Everyone 10+\",\"Mature 17+\",\"Everyone\",\"Mature 17+\",\"Everyone\",\"Everyone\",\"Everyone\",\"Everyone\",\"Mature 17+\",\"Everyone\",\"Mature 17+\",\"Teen\",\"Mature 17+\",\"Everyone\",\"Everyone\",\"Everyone\",\"Everyone\",\"Everyone\",\"Everyone\",\"Everyone\",\"Everyone\",\"Everyone\",\"Everyone\",\"Everyone\",\"Everyone\",\"Everyone\",\"Everyone\",\"Everyone\",\"Everyone\",\"Everyone\",\"Everyone\",\"Everyone\",\"Everyone\",\"Everyone\",\"Teen\",\"Everyone\",\"Everyone\",\"Everyone\",\"Everyone\",\"Everyone\",\"Everyone\",\"Everyone\",\"Everyone\",\"Everyone\",\"Everyone\",\"Everyone\",\"Everyone\",\"Everyone\",\"Everyone\",\"Everyone\",\"Everyone\",\"Everyone\",\"Everyone\",\"Everyone\",\"Everyone\",\"Everyone\",\"Everyone\",\"Everyone\",\"Everyone\",\"Everyone\",\"Everyone\",\"Everyone\",\"Everyone\",\"Everyone\",\"Everyone\",\"Everyone\",\"Everyone\",\"Everyone\",\"Everyone\",\"Everyone\",\"Everyone\",\"Everyone\",\"Everyone\",\"Everyone\",\"Everyone\",\"Everyone\",\"Everyone\",\"Everyone\",\"Everyone\",\"Everyone\",\"Everyone 10+\",\"Everyone\",\"Everyone\",\"Everyone\",\"Everyone\",\"Everyone\",\"Everyone\",\"Everyone\",\"Everyone 10+\",\"Everyone\",\"Everyone\",\"Everyone\",\"Everyone\",\"Everyone\",\"Everyone\",\"Everyone\",\"Everyone\",\"Everyone\",\"Everyone\",\"Everyone\",\"Everyone\",\"Everyone\",\"Everyone\",\"Everyone\",\"Teen\",\"Everyone\",\"Everyone\",\"Everyone\",\"Everyone\",\"Everyone\",\"Everyone\",\"Everyone\",\"Everyone\",\"Everyone\",\"Everyone\",\"Everyone\",\"Everyone\",\"Everyone\",\"Everyone\",\"Teen\",\"Everyone\",\"Everyone\",\"Everyone\",\"Everyone\",\"Everyone\",\"Everyone\",\"Everyone\",\"Everyone\",\"Everyone\",\"Everyone\",\"Everyone\",\"Teen\",\"Everyone\",\"Everyone\",\"Everyone\",\"Everyone\",\"Everyone\",\"Everyone\",\"Everyone\",\"Everyone\",\"Everyone\",\"Everyone\",\"Everyone\",\"Everyone\",\"Everyone\",\"Everyone\",\"Everyone\",\"Everyone\",\"Everyone\",\"Everyone\",\"Everyone\",\"Everyone\",\"Everyone\",\"Teen\",\"Everyone\",\"Everyone\",\"Everyone\",\"Everyone\",\"Everyone\",\"Everyone\",\"Everyone\",\"Everyone\",\"Everyone\",\"Everyone\",\"Everyone\",\"Everyone\",\"Everyone\",\"Everyone\",\"Everyone\",\"Everyone\",\"Everyone\",\"Everyone\",\"Everyone\",\"Everyone\",\"Teen\",\"Teen\",\"Everyone\",\"Teen\",\"Teen\",\"Everyone\",\"Everyone\",\"Teen\",\"Everyone\",\"Everyone\",\"Teen\",\"Everyone\",\"Everyone\",\"Everyone\",\"Everyone\",\"Everyone\",\"Teen\",\"Everyone\",\"Everyone\",\"Teen\",\"Everyone\",\"Teen\",\"Teen\",\"Teen\",\"Teen\",\"Everyone\",\"Everyone\",\"Everyone\",\"Everyone 10+\",\"Teen\",\"Everyone 10+\",\"Everyone 10+\",\"Everyone\",\"Teen\",\"Everyone\",\"Everyone\",\"Everyone\",\"Everyone\",\"Teen\",\"Teen\",\"Teen\",\"Everyone\",\"Everyone\",\"Everyone\",\"Everyone\",\"Teen\",\"Everyone\",\"Mature 17+\",\"Mature 17+\",\"Mature 17+\",\"Mature 17+\",\"Teen\",\"Mature 17+\",\"Everyone\",\"Mature 17+\",\"Everyone\",\"Teen\",\"Everyone\",\"Everyone\",\"Mature 17+\",\"Everyone\",\"Teen\",\"Everyone\",\"Everyone\",\"Everyone\",\"Everyone\",\"Everyone\",\"Everyone\",\"Everyone\",\"Everyone\",\"Everyone\",\"Everyone\",\"Everyone\",\"Everyone\",\"Everyone\",\"Everyone\",\"Everyone\",\"Everyone\",\"Everyone\",\"Everyone\",\"Everyone\",\"Everyone\",\"Everyone\",\"Everyone\",\"Everyone\",\"Everyone\",\"Everyone\",\"Teen\",\"Everyone\",\"Everyone\",\"Everyone\",\"Everyone\",\"Teen\",\"Everyone\",\"Teen\",\"Teen\",\"Everyone\",\"Everyone\",\"Everyone\",\"Teen\",\"Teen\",\"Everyone\",\"Teen\",\"Everyone\",\"Everyone\",\"Everyone\",\"Everyone\",\"Everyone\",\"Everyone\",\"Everyone\",\"Everyone 10+\",\"Everyone\",\"Teen\",\"Everyone\",\"Everyone\",\"Everyone\",\"Everyone\",\"Everyone\",\"Everyone\",\"Everyone\",\"Teen\",\"Everyone\",\"Everyone\",\"Everyone\",\"Everyone\",\"Everyone\",\"Everyone\",\"Everyone\",\"Everyone\",\"Everyone\",\"Everyone\",\"Everyone\",\"Everyone\",\"Everyone\",\"Everyone\",\"Everyone\",\"Everyone\",\"Everyone\",\"Everyone\",\"Everyone\",\"Everyone\",\"Everyone\",\"Everyone\",\"Teen\",\"Everyone\",\"Everyone\",\"Everyone\",\"Everyone\",\"Everyone\",\"Mature 17+\",\"Everyone\",\"Everyone\",\"Everyone\",\"Everyone\",\"Everyone\",\"Teen\",\"Everyone\",\"Mature 17+\",\"Everyone\",\"Everyone\",\"Everyone\",\"Everyone\",\"Everyone\",\"Everyone\",\"Everyone\",\"Mature 17+\",\"Everyone\",\"Everyone\",\"Everyone\",\"Mature 17+\",\"Everyone\",\"Mature 17+\",\"Everyone\",\"Everyone\",\"Everyone\",\"Everyone\",\"Everyone\",\"Everyone\",\"Teen\",\"Everyone\",\"Everyone\",\"Everyone\",\"Everyone\",\"Teen\",\"Everyone\",\"Everyone\",\"Everyone\",\"Everyone\",\"Everyone\",\"Everyone\",\"Everyone\",\"Everyone\",\"Everyone\",\"Everyone\",\"Everyone\",\"Teen\",\"Everyone\",\"Teen\",\"Everyone\",\"Mature 17+\",\"Everyone\",\"Everyone\",\"Everyone\",\"Teen\",\"Teen\",\"Everyone\",\"Teen\",\"Everyone\",\"Everyone\",\"Teen\",\"Everyone\",\"Everyone\",\"Teen\",\"Everyone\",\"Teen\",\"Everyone\",\"Teen\",\"Everyone\",\"Everyone\",\"Everyone\",\"Everyone\",\"Everyone\",\"Everyone\",\"Everyone\",\"Everyone\",\"Everyone\",\"Everyone\",\"Mature 17+\",\"Teen\",\"Everyone\",\"Mature 17+\",\"Everyone\",\"Everyone\",\"Everyone\",\"Teen\",\"Everyone\",\"Everyone\",\"Everyone\",\"Everyone\",\"Everyone\",\"Everyone\",\"Everyone\",\"Everyone\",\"Everyone\",\"Everyone\",\"Everyone\",\"Everyone\",\"Everyone\",\"Everyone\",\"Everyone\",\"Everyone\",\"Everyone\",\"Everyone\",\"Teen\",\"Mature 17+\",\"Mature 17+\",\"Teen\",\"Mature 17+\",\"Mature 17+\",\"Teen\",\"Teen\",\"Teen\",\"Everyone\",\"Teen\",\"Teen\",\"Teen\",\"Teen\",\"Teen\",\"Mature 17+\",\"Mature 17+\",\"Everyone\",\"Everyone\",\"Teen\",\"Everyone\",\"Everyone\",\"Adults only 18+\",\"Teen\",\"Everyone\",\"Everyone\",\"Teen\",\"Everyone\",\"Everyone\",\"Everyone\",\"Everyone\",\"Everyone\",\"Everyone\",\"Everyone\",\"Everyone\",\"Teen\",\"Everyone\",\"Everyone\",\"Everyone\",\"Everyone\",\"Everyone\",\"Everyone\",\"Everyone\",\"Everyone\",\"Everyone\",\"Everyone\",\"Everyone\",\"Everyone\",\"Everyone\",\"Everyone\",\"Everyone\",\"Everyone\",\"Everyone\",\"Everyone\",\"Everyone\",\"Everyone\",\"Everyone\",\"Everyone\",\"Everyone\",\"Everyone\",\"Everyone\",\"Everyone\",\"Everyone\",\"Everyone\",\"Everyone\",\"Everyone\",\"Everyone\",\"Everyone\",\"Everyone\",\"Everyone\",\"Everyone\",\"Everyone\",\"Everyone\",\"Everyone\",\"Everyone\",\"Everyone\",\"Everyone\",\"Everyone\",\"Everyone\",\"Everyone\",\"Everyone\",\"Everyone\",\"Everyone\",\"Everyone\",\"Everyone\",\"Everyone\",\"Everyone\",\"Everyone\",\"Everyone\",\"Everyone\",\"Everyone\",\"Everyone\",\"Everyone\",\"Teen\",\"Everyone\",\"Everyone\",\"Everyone\",\"Everyone\",\"Everyone\",\"Everyone\",\"Everyone\",\"Everyone\",\"Everyone\",\"Everyone\",\"Everyone\",\"Everyone\",\"Everyone 10+\",\"Everyone\",\"Everyone\",\"Everyone\",\"Everyone\",\"Teen\",\"Teen\",\"Everyone\",\"Teen\",\"Teen\",\"Everyone\",\"Teen\",\"Teen\",\"Everyone\",\"Everyone\",\"Teen\",\"Everyone 10+\",\"Teen\",\"Everyone\",\"Teen\",\"Everyone\",\"Everyone\",\"Everyone\",\"Everyone\",\"Everyone\",\"Everyone\",\"Everyone\",\"Everyone\",\"Everyone\",\"Everyone\",\"Everyone\",\"Everyone\",\"Everyone\",\"Everyone\",\"Everyone\",\"Everyone\",\"Everyone\",\"Everyone\",\"Everyone\",\"Everyone\",\"Everyone\",\"Everyone\",\"Everyone\",\"Everyone\",\"Everyone\",\"Everyone\",\"Everyone\",\"Everyone\",\"Everyone\",\"Everyone\",\"Everyone 10+\",\"Everyone\",\"Everyone\",\"Everyone\",\"Everyone\",\"Everyone\",\"Everyone\",\"Everyone 10+\",\"Everyone\",\"Everyone\",\"Everyone\",\"Everyone\",\"Everyone 10+\",\"Everyone\",\"Everyone\",\"Everyone\",\"Everyone\",\"Everyone\",\"Everyone\",\"Everyone\",\"Everyone\",\"Everyone\",\"Everyone\",\"Everyone\",\"Everyone\",\"Everyone\",\"Everyone\",\"Everyone\",\"Everyone\",\"Everyone 10+\",\"Everyone\",\"Everyone\",\"Everyone\",\"Everyone\",\"Everyone\",\"Everyone\",\"Everyone\",\"Everyone\",\"Everyone\",\"Everyone\",\"Everyone\",\"Everyone\",\"Everyone\",\"Teen\",\"Everyone\",\"Everyone\",\"Everyone\",\"Teen\",\"Everyone\",\"Everyone\",\"Everyone\",\"Everyone\",\"Teen\",\"Everyone\",\"Teen\",\"Everyone 10+\",\"Teen\",\"Everyone\",\"Teen\",\"Teen\",\"Everyone\",\"Everyone\",\"Everyone\",\"Everyone\",\"Everyone\",\"Teen\",\"Everyone\",\"Everyone\",\"Teen\",\"Everyone\",\"Everyone\",\"Everyone\",\"Everyone\",\"Everyone\",\"Everyone\",\"Mature 17+\",\"Everyone\",\"Everyone\",\"Everyone\",\"Everyone\",\"Everyone\",\"Everyone\",\"Teen\",\"Everyone\",\"Everyone\",\"Everyone\",\"Everyone\",\"Everyone\",\"Everyone\",\"Teen\",\"Teen\",\"Everyone\",\"Everyone\",\"Everyone\",\"Everyone\",\"Everyone\",\"Everyone\",\"Everyone\",\"Teen\",\"Everyone\",\"Everyone\",\"Everyone\",\"Everyone\",\"Everyone\",\"Everyone\",\"Everyone\",\"Everyone\",\"Everyone\",\"Everyone\",\"Everyone\",\"Everyone\",\"Everyone\",\"Teen\",\"Everyone\",\"Everyone\",\"Everyone\",\"Everyone\",\"Everyone\",\"Everyone\",\"Everyone\",\"Everyone\",\"Everyone\",\"Everyone\",\"Everyone\",\"Mature 17+\",\"Everyone\",\"Everyone\",\"Everyone\",\"Everyone\",\"Everyone\",\"Everyone\",\"Everyone\",\"Everyone\",\"Everyone\",\"Everyone\",\"Everyone\",\"Everyone\",\"Everyone\",\"Everyone\",\"Everyone\",\"Everyone\",\"Everyone\",\"Everyone\",\"Everyone\",\"Everyone\",\"Everyone\",\"Everyone\",\"Everyone\",\"Everyone\",\"Everyone\",\"Everyone\",\"Mature 17+\",\"Everyone\",\"Everyone 10+\",\"Everyone\",\"Everyone\",\"Everyone\",\"Everyone\",\"Everyone\",\"Everyone\",\"Everyone\",\"Everyone\",\"Everyone\",\"Everyone 10+\",\"Everyone\",\"Everyone\",\"Everyone\",\"Everyone\",\"Teen\",\"Teen\",\"Everyone\",\"Everyone\",\"Everyone\",\"Everyone\",\"Everyone\",\"Everyone\",\"Everyone\",\"Everyone\",\"Everyone\",\"Everyone\",\"Everyone\",\"Everyone\",\"Everyone\",\"Everyone\",\"Everyone\",\"Everyone\",\"Everyone\",\"Everyone\",\"Everyone\",\"Everyone\",\"Everyone\",\"Everyone\",\"Everyone\",\"Everyone\",\"Everyone\",\"Everyone\",\"Mature 17+\",\"Everyone\",\"Everyone\",\"Everyone 10+\",\"Everyone\",\"Everyone\",\"Everyone\",\"Everyone\",\"Everyone\",\"Everyone\",\"Everyone\",\"Everyone\",\"Everyone\",\"Everyone\",\"Everyone\",\"Everyone\",\"Everyone\",\"Everyone\",\"Everyone\",\"Everyone\",\"Everyone\",\"Everyone\",\"Everyone\",\"Everyone\",\"Everyone\",\"Everyone\",\"Teen\",\"Everyone\",\"Everyone\",\"Everyone\",\"Everyone\",\"Teen\",\"Teen\",\"Everyone\",\"Everyone\",\"Everyone\",\"Everyone\",\"Everyone\",\"Everyone 10+\",\"Everyone\",\"Everyone\",\"Everyone\",\"Everyone\",\"Everyone\",\"Everyone\",\"Everyone\",\"Everyone\",\"Everyone\",\"Everyone\",\"Teen\",\"Everyone\",\"Everyone\",\"Teen\",\"Everyone\",\"Everyone\",\"Everyone\",\"Everyone\",\"Everyone\",\"Everyone\",\"Everyone\",\"Everyone\",\"Everyone\",\"Everyone\",\"Everyone\",\"Everyone\",\"Everyone\",\"Everyone\",\"Everyone\",\"Everyone\",\"Teen\",\"Everyone\",\"Everyone\",\"Everyone\",\"Everyone\",\"Everyone\",\"Mature 17+\",\"Everyone\",\"Everyone\",\"Everyone\",\"Everyone\",\"Everyone\",\"Everyone\",\"Everyone\",\"Everyone\",\"Everyone\",\"Everyone\",\"Teen\",\"Everyone\",\"Mature 17+\",\"Everyone\",\"Everyone\",\"Teen\",\"Everyone\",\"Everyone\",\"Everyone\",\"Everyone\",\"Everyone\",\"Everyone\",\"Everyone\",\"Everyone\",\"Everyone\",\"Everyone\",\"Mature 17+\",\"Everyone\",\"Teen\",\"Everyone\",\"Everyone\",\"Everyone\",\"Everyone\",\"Everyone\",\"Everyone\",\"Everyone\",\"Everyone\",\"Everyone\",\"Everyone\",\"Everyone\",\"Teen\",\"Everyone\",\"Everyone\",\"Everyone\",\"Teen\",\"Teen\",\"Teen\",\"Everyone\",\"Everyone\",\"Everyone\",\"Everyone\",\"Everyone\",\"Teen\",\"Teen\",\"Mature 17+\",\"Everyone\",\"Teen\",\"Everyone\",\"Everyone\",\"Everyone\",\"Everyone\",\"Everyone\",\"Everyone\",\"Everyone\",\"Everyone\",\"Everyone\",\"Everyone\",\"Everyone\",\"Mature 17+\",\"Everyone\",\"Everyone\",\"Everyone\",\"Everyone\",\"Everyone\",\"Everyone\",\"Everyone\",\"Everyone\",\"Everyone\",\"Everyone\",\"Everyone\",\"Everyone\",\"Everyone\",\"Everyone\",\"Everyone\",\"Everyone\",\"Everyone\",\"Teen\",\"Everyone\",\"Everyone\",\"Teen\",\"Everyone\",\"Everyone\",\"Everyone\",\"Everyone\",\"Everyone\",\"Everyone\",\"Everyone\",\"Everyone\",\"Everyone\",\"Everyone\",\"Everyone\",\"Everyone\",\"Everyone\",\"Everyone\",\"Everyone\",\"Everyone\",\"Everyone\",\"Everyone\",\"Everyone\",\"Everyone 10+\",\"Everyone\",\"Everyone\",\"Everyone\",\"Everyone\",\"Everyone 10+\",\"Everyone 10+\",\"Everyone\",\"Everyone 10+\",\"Everyone\",\"Everyone\",\"Everyone 10+\",\"Everyone\",\"Everyone\",\"Everyone\",\"Everyone\",\"Everyone\",\"Teen\",\"Everyone\",\"Everyone\",\"Everyone\",\"Everyone\",\"Everyone\",\"Everyone\",\"Everyone\",\"Everyone\",\"Everyone\",\"Teen\",\"Everyone\",\"Everyone\",\"Everyone\",\"Everyone\",\"Everyone\",\"Everyone\",\"Everyone\",\"Everyone\",\"Mature 17+\",\"Everyone\",\"Teen\",\"Everyone\",\"Everyone\",\"Everyone\",\"Everyone\",\"Everyone\",\"Everyone 10+\",\"Everyone\",\"Teen\",\"Everyone\",\"Teen\",\"Everyone\",\"Everyone\",\"Everyone\",\"Teen\",\"Everyone\",\"Mature 17+\",\"Everyone\",\"Everyone\",\"Everyone\",\"Everyone\",\"Everyone\",\"Everyone\",\"Everyone\",\"Teen\",\"Everyone\",\"Teen\",\"Teen\",\"Everyone\",\"Everyone\",\"Everyone\",\"Everyone\",\"Everyone\",\"Teen\",\"Everyone\",\"Teen\",\"Everyone\",\"Everyone\",\"Everyone\",\"Teen\",\"Everyone\",\"Everyone\",\"Everyone\",\"Everyone\",\"Everyone\",\"Everyone 10+\",\"Teen\",\"Everyone\",\"Everyone\",\"Everyone\",\"Everyone\",\"Everyone\",\"Everyone\",\"Everyone\",\"Everyone\",\"Everyone\",\"Everyone\",\"Everyone\",\"Everyone\",\"Everyone 10+\",\"Everyone\",\"Everyone\",\"Everyone\",\"Everyone\",\"Everyone\",\"Everyone\",\"Everyone 10+\",\"Everyone\",\"Everyone\",\"Everyone\",\"Everyone\",\"Everyone\",\"Everyone\",\"Everyone\",\"Everyone\",\"Everyone\",\"Everyone\",\"Everyone\",\"Everyone\",\"Everyone\",\"Everyone\",\"Mature 17+\",\"Everyone\",\"Everyone\",\"Everyone\",\"Everyone\",\"Everyone 10+\",\"Everyone\",\"Everyone\",\"Mature 17+\",\"Everyone\",\"Everyone\",\"Everyone\",\"Everyone\",\"Teen\",\"Everyone\",\"Mature 17+\",\"Everyone\",\"Everyone\",\"Everyone\",\"Teen\",\"Everyone\",\"Everyone\",\"Everyone\",\"Everyone\",\"Everyone\",\"Everyone\",\"Teen\",\"Mature 17+\",\"Everyone\",\"Everyone\",\"Everyone\",\"Everyone\",\"Everyone\",\"Everyone 10+\",\"Everyone\",\"Everyone\",\"Teen\",\"Everyone\",\"Mature 17+\",\"Everyone\",\"Teen\",\"Everyone 10+\",\"Mature 17+\",\"Teen\",\"Mature 17+\",\"Mature 17+\",\"Everyone\",\"Teen\",\"Everyone\",\"Everyone\",\"Mature 17+\",\"Everyone\",\"Everyone\",\"Everyone\",\"Teen\",\"Teen\",\"Mature 17+\",\"Everyone\",\"Mature 17+\",\"Everyone\",\"Everyone\",\"Everyone\",\"Mature 17+\",\"Mature 17+\",\"Everyone\",\"Everyone\",\"Everyone\",\"Everyone\",\"Everyone\",\"Everyone 10+\",\"Everyone\",\"Teen\",\"Everyone\",\"Everyone\",\"Mature 17+\",\"Everyone\",\"Everyone\",\"Everyone\",\"Mature 17+\",\"Everyone\",\"Everyone\",\"Everyone\",\"Everyone\",\"Everyone\",\"Mature 17+\",\"Everyone\",\"Teen\",\"Everyone\",\"Everyone\",\"Everyone\",\"Everyone\",\"Teen\",\"Teen\",\"Everyone\",\"Mature 17+\",\"Mature 17+\",\"Everyone\",\"Everyone\",\"Teen\",\"Everyone\",\"Everyone\",\"Everyone\",\"Everyone\",\"Everyone\",\"Everyone\",\"Everyone\",\"Everyone\",\"Everyone\",\"Everyone\",\"Everyone\",\"Everyone\",\"Everyone\",\"Everyone\",\"Everyone\",\"Everyone\",\"Everyone\",\"Everyone\",\"Everyone\",\"Everyone\",\"Everyone\",\"Everyone\",\"Everyone\",\"Everyone\",\"Everyone\",\"Everyone\",\"Everyone\",\"Everyone\",\"Everyone\",\"Everyone\",\"Everyone\",\"Everyone\",\"Everyone\",\"Everyone\",\"Everyone\",\"Everyone\",\"Everyone\",\"Everyone\",\"Everyone\",\"Everyone\",\"Everyone\",\"Everyone\",\"Everyone\",\"Everyone\",\"Everyone\",\"Everyone\",\"Everyone 10+\",\"Everyone\",\"Everyone 10+\",\"Everyone\",\"Everyone\",\"Everyone 10+\",\"Everyone\",\"Everyone\",\"Everyone 10+\",\"Everyone\",\"Everyone\",\"Everyone\",\"Everyone\",\"Mature 17+\",\"Everyone 10+\",\"Everyone\",\"Everyone\",\"Everyone 10+\",\"Everyone\",\"Everyone\",\"Everyone\",\"Everyone\",\"Everyone\",\"Everyone\",\"Everyone\",\"Everyone\",\"Everyone 10+\",\"Everyone\",\"Everyone 10+\",\"Everyone\",\"Everyone\",\"Everyone 10+\",\"Everyone\",\"Everyone 10+\",\"Everyone\",\"Everyone 10+\",\"Everyone\",\"Everyone\",\"Everyone\",\"Everyone\",\"Everyone\",\"Everyone\",\"Everyone\",\"Everyone\",\"Everyone\",\"Everyone\",\"Everyone\",\"Everyone\",\"Everyone\",\"Everyone\",\"Everyone\",\"Everyone\",\"Everyone\",\"Teen\",\"Everyone\",\"Everyone\",\"Everyone\",\"Everyone\",\"Everyone\",\"Everyone\",\"Everyone\",\"Everyone\",\"Everyone\",\"Everyone\",\"Everyone\",\"Everyone\",\"Everyone\",\"Everyone\",\"Everyone\",\"Teen\",\"Everyone\",\"Teen\",\"Everyone\",\"Everyone\",\"Teen\",\"Everyone\",\"Everyone\",\"Everyone\",\"Teen\",\"Everyone\",\"Everyone\",\"Everyone 10+\",\"Everyone\",\"Everyone\",\"Teen\",\"Everyone\",\"Everyone\",\"Everyone\",\"Everyone\",\"Everyone\",\"Teen\",\"Everyone\",\"Everyone\",\"Everyone\",\"Everyone\",\"Everyone\",\"Everyone\",\"Everyone\",\"Everyone\",\"Everyone\",\"Teen\",\"Everyone\",\"Everyone\",\"Everyone\",\"Everyone\",\"Everyone\",\"Teen\",\"Everyone\",\"Everyone\",\"Everyone\",\"Everyone\",\"Everyone\",\"Everyone\",\"Everyone 10+\",\"Everyone\",\"Everyone 10+\",\"Everyone 10+\",\"Everyone\",\"Everyone\",\"Everyone\",\"Everyone\",\"Everyone\",\"Everyone\",\"Everyone\",\"Everyone\",\"Everyone\",\"Everyone\",\"Everyone\",\"Everyone\",\"Teen\",\"Teen\",\"Everyone\",\"Everyone\",\"Teen\",\"Everyone\",\"Everyone\",\"Everyone\",\"Teen\",\"Everyone\",\"Teen\",\"Everyone\",\"Everyone 10+\",\"Everyone\",\"Everyone\",\"Everyone\",\"Everyone\",\"Everyone\",\"Everyone\",\"Everyone\",\"Everyone\",\"Everyone\",\"Everyone\",\"Everyone\",\"Everyone\",\"Everyone\",\"Everyone\",\"Everyone 10+\",\"Everyone\",\"Everyone\",\"Everyone\",\"Everyone\",\"Everyone\",\"Everyone\",\"Everyone\",\"Everyone\",\"Everyone\",\"Everyone\",\"Everyone\",\"Everyone\",\"Everyone\",\"Everyone\",\"Everyone\",\"Everyone\",\"Everyone\",\"Everyone\",\"Teen\",\"Everyone\",\"Everyone\",\"Everyone\",\"Everyone\",\"Everyone\",\"Everyone\",\"Everyone\",\"Everyone\",\"Everyone\",\"Everyone\",\"Everyone\",\"Mature 17+\",\"Everyone\",\"Mature 17+\",\"Mature 17+\",\"Teen\",\"Everyone\",\"Teen\",\"Everyone\",\"Everyone\",\"Everyone\",\"Teen\",\"Everyone\",\"Teen\",\"Everyone\",\"Everyone\",\"Teen\",\"Everyone\",\"Everyone\",\"Everyone\",\"Everyone\",\"Teen\",\"Everyone\",\"Teen\",\"Teen\",\"Everyone\",\"Teen\",\"Everyone\",\"Teen\",\"Everyone\",\"Everyone\",\"Teen\",\"Everyone\",\"Everyone\",\"Everyone\",\"Teen\",\"Everyone\",\"Everyone\",\"Everyone\",\"Everyone\",\"Everyone\",\"Everyone\",\"Everyone\",\"Everyone\",\"Everyone\",\"Everyone\",\"Everyone\",\"Everyone\",\"Everyone\",\"Everyone\",\"Everyone\",\"Everyone\",\"Everyone\",\"Everyone\",\"Everyone\",\"Everyone\",\"Everyone\",\"Everyone\",\"Everyone\",\"Everyone\",\"Everyone\",\"Teen\",\"Everyone\",\"Mature 17+\",\"Everyone\",\"Everyone\",\"Everyone\",\"Everyone\",\"Everyone\",\"Everyone\",\"Everyone\",\"Teen\",\"Everyone\",\"Everyone\",\"Everyone\",\"Everyone\",\"Everyone\",\"Teen\",\"Everyone\",\"Everyone\",\"Everyone\",\"Everyone\",\"Everyone\",\"Everyone\",\"Everyone\",\"Everyone\",\"Everyone\",\"Everyone\",\"Everyone\",\"Everyone\",\"Everyone\",\"Everyone\",\"Everyone\",\"Everyone\",\"Everyone\",\"Everyone\",\"Everyone\",\"Everyone\",\"Everyone\",\"Everyone\",\"Everyone\",\"Everyone\",\"Everyone\",\"Everyone\",\"Everyone\",\"Everyone\",\"Everyone\",\"Everyone\",\"Everyone\",\"Everyone\",\"Everyone\",\"Teen\",\"Teen\",\"Everyone\",\"Everyone\",\"Everyone\",\"Everyone\",\"Everyone\",\"Everyone\",\"Everyone\",\"Everyone\",\"Everyone\",\"Teen\",\"Everyone\",\"Everyone\",\"Everyone\",\"Everyone\",\"Everyone\",\"Everyone\",\"Everyone\",\"Everyone\",\"Everyone\",\"Everyone\",\"Everyone\",\"Everyone\",\"Everyone\",\"Everyone\",\"Everyone\",\"Everyone\",\"Everyone\",\"Everyone\",\"Everyone\",\"Everyone\",\"Everyone\",\"Everyone\",\"Everyone\",\"Everyone\",\"Everyone\",\"Everyone\",\"Everyone\",\"Everyone\",\"Everyone\",\"Everyone\",\"Everyone\",\"Everyone\",\"Everyone\",\"Everyone\",\"Everyone\",\"Everyone\",\"Everyone\",\"Everyone\",\"Everyone\",\"Everyone\",\"Everyone\",\"Teen\",\"Mature 17+\",\"Everyone\",\"Everyone\",\"Everyone\",\"Everyone\",\"Everyone\",\"Everyone\",\"Everyone\",\"Everyone\",\"Everyone\",\"Teen\",\"Teen\",\"Everyone\",\"Everyone\",\"Everyone\",\"Teen\",\"Everyone\",\"Everyone\",\"Teen\",\"Everyone\",\"Everyone\",\"Everyone\",\"Everyone\",\"Everyone\",\"Everyone\",\"Everyone\",\"Everyone\",\"Everyone\",\"Teen\",\"Everyone\",\"Teen\",\"Teen\",\"Teen\",\"Everyone\",\"Everyone\",\"Everyone\",\"Everyone\",\"Everyone\",\"Everyone\",\"Everyone\",\"Everyone\",\"Everyone\",\"Everyone\",\"Everyone\",\"Everyone\",\"Everyone\",\"Everyone\",\"Everyone\",\"Everyone\",\"Everyone\",\"Everyone\",\"Everyone\",\"Everyone\",\"Everyone\",\"Everyone\",\"Everyone\",\"Everyone\",\"Everyone\",\"Everyone\",\"Everyone\",\"Everyone\",\"Everyone\",\"Everyone\",\"Everyone\",\"Everyone\",\"Everyone 10+\",\"Everyone\",\"Everyone\",\"Everyone\",\"Everyone\",\"Everyone\",\"Everyone\",\"Everyone\",\"Everyone\",\"Everyone\",\"Everyone\",\"Everyone\",\"Everyone\",\"Everyone 10+\",\"Everyone\",\"Teen\",\"Everyone\",\"Everyone\",\"Everyone\",\"Everyone\",\"Everyone\",\"Everyone 10+\",\"Everyone\",\"Everyone 10+\",\"Everyone\",\"Everyone 10+\",\"Everyone\",\"Teen\",\"Everyone\",\"Everyone\",\"Everyone\",\"Everyone\",\"Everyone\",\"Everyone\",\"Everyone\",\"Everyone\",\"Everyone\",\"Teen\",\"Everyone\",\"Mature 17+\",\"Teen\",\"Everyone\",\"Everyone\",\"Everyone\",\"Everyone\",\"Everyone\",\"Everyone\",\"Everyone\",\"Everyone\",\"Everyone\",\"Everyone\",\"Everyone\",\"Everyone\",\"Everyone\",\"Everyone\",\"Everyone\",\"Everyone\",\"Everyone\",\"Teen\",\"Teen\",\"Everyone\",\"Everyone\",\"Everyone\",\"Everyone\",\"Everyone\",\"Everyone\",\"Mature 17+\",\"Teen\",\"Everyone\",\"Everyone\",\"Everyone\",\"Everyone 10+\",\"Everyone\",\"Everyone\",\"Teen\",\"Everyone\",\"Everyone\",\"Mature 17+\",\"Everyone\",\"Everyone\",\"Everyone\",\"Everyone\",\"Everyone\",\"Everyone\",\"Everyone\",\"Everyone\",\"Everyone\",\"Everyone\",\"Everyone\",\"Everyone\",\"Everyone\",\"Everyone\",\"Everyone\",\"Everyone\",\"Everyone\",\"Everyone\",\"Everyone\",\"Everyone\",\"Everyone\",\"Everyone\",\"Everyone\",\"Everyone\",\"Teen\",\"Everyone\",\"Everyone\",\"Everyone\",\"Everyone\",\"Everyone\",\"Everyone\",\"Everyone\",\"Everyone\",\"Everyone 10+\",\"Everyone\",\"Teen\",\"Teen\",\"Teen\",\"Teen\",\"Mature 17+\",\"Everyone 10+\",\"Everyone\",\"Everyone\",\"Everyone 10+\",\"Everyone\",\"Teen\",\"Teen\",\"Everyone\",\"Everyone\",\"Everyone\",\"Teen\",\"Everyone\",\"Everyone\",\"Unrated\",\"Everyone\",\"Everyone\",\"Everyone\",\"Everyone\",\"Teen\",\"Everyone 10+\",\"Everyone\",\"Mature 17+\",\"Everyone\",\"Everyone\",\"Everyone\",\"Everyone\",\"Everyone\",\"Everyone\",\"Everyone\",\"Everyone\",\"Everyone 10+\",\"Everyone\",\"Everyone\",\"Everyone\",\"Everyone\",\"Everyone\",\"Teen\",\"Everyone\",\"Everyone\",\"Everyone\",\"Everyone\",\"Everyone\",\"Everyone\",\"Everyone\",\"Everyone\",\"Everyone\",\"Everyone\",\"Everyone\",\"Everyone\",\"Everyone\",\"Everyone 10+\",\"Everyone\",\"Everyone\",\"Teen\",\"Everyone\",\"Everyone 10+\",\"Everyone\",\"Everyone\",\"Everyone\",\"Everyone\",\"Everyone\",\"Everyone\",\"Everyone\",\"Everyone\",\"Everyone\",\"Everyone\",\"Everyone\",\"Everyone\",\"Everyone\",\"Everyone\",\"Everyone\",\"Everyone\",\"Everyone\",\"Everyone\",\"Everyone\",\"Everyone\",\"Everyone\",\"Everyone\",\"Everyone\",\"Everyone\",\"Everyone\",\"Everyone\",\"Everyone\",\"Everyone\",\"Everyone\",\"Everyone\",\"Everyone\",\"Everyone\",\"Everyone\",\"Everyone\",\"Everyone\",\"Everyone\",\"Everyone\",\"Everyone\",\"Everyone\",\"Everyone\",\"Everyone\",\"Everyone\",\"Teen\",\"Everyone\",\"Everyone\",\"Teen\",\"Teen\",\"Teen\",\"Teen\",\"Teen\",\"Everyone\",\"Everyone\",\"Teen\",\"Teen\",\"Everyone 10+\",\"Everyone\",\"Teen\",\"Everyone\",\"Teen\",\"Everyone\",\"Mature 17+\",\"Everyone\",\"Everyone\",\"Everyone\",\"Everyone 10+\",\"Everyone 10+\",\"Teen\",\"Everyone\",\"Mature 17+\",\"Everyone\",\"Everyone\",\"Everyone\",\"Everyone 10+\",\"Everyone\",\"Everyone\",\"Teen\",\"Everyone\",\"Teen\",\"Everyone\",\"Everyone 10+\",\"Everyone\",\"Mature 17+\",\"Everyone\",\"Everyone\",\"Teen\",\"Everyone\",\"Everyone\",\"Everyone\",\"Everyone\",\"Everyone 10+\",\"Everyone\",\"Everyone\",\"Everyone 10+\",\"Everyone 10+\",\"Everyone\",\"Everyone 10+\",\"Mature 17+\",\"Everyone\",\"Everyone\",\"Everyone\",\"Everyone\",\"Everyone\",\"Everyone\",\"Everyone\",\"Everyone\",\"Everyone\",\"Everyone\",\"Everyone\",\"Everyone\",\"Everyone\",\"Everyone\",\"Everyone\",\"Everyone\",\"Everyone\",\"Everyone\",\"Everyone\",\"Everyone\",\"Everyone\",\"Everyone\",\"Everyone\",\"Everyone\",\"Everyone\",\"Mature 17+\",\"Everyone\",\"Everyone\",\"Everyone\",\"Everyone\",\"Everyone\",\"Everyone\",\"Everyone\",\"Everyone\",\"Teen\",\"Teen\",\"Everyone\",\"Everyone\",\"Everyone\",\"Everyone\",\"Everyone\",\"Everyone\",\"Everyone\",\"Everyone\",\"Everyone\",\"Everyone\",\"Everyone\",\"Mature 17+\",\"Everyone\",\"Everyone\",\"Everyone\",\"Everyone\",\"Everyone\",\"Everyone\",\"Everyone\",\"Everyone\",\"Everyone\",\"Everyone\",\"Everyone\",\"Everyone\",\"Everyone\",\"Everyone\",\"Everyone\",\"Everyone\",\"Everyone\",\"Everyone\",\"Everyone\",\"Everyone\",\"Mature 17+\",\"Everyone 10+\",\"Teen\",\"Everyone\",\"Everyone\",\"Everyone\",\"Everyone\",\"Teen\",\"Everyone\",\"Everyone\",\"Everyone\",\"Everyone\",\"Everyone\",\"Everyone\",\"Everyone\",\"Everyone\",\"Everyone\",\"Everyone\",\"Everyone\",\"Everyone\",\"Everyone\",\"Everyone\",\"Everyone\",\"Everyone\",\"Everyone\",\"Everyone\",\"Everyone\",\"Everyone 10+\",\"Everyone\",\"Everyone 10+\",\"Everyone\",\"Teen\",\"Everyone\",\"Everyone 10+\",\"Everyone\",\"Everyone\",\"Everyone\",\"Everyone\",\"Everyone\",\"Everyone\",\"Teen\",\"Teen\",\"Everyone 10+\",\"Everyone\",\"Everyone 10+\",\"Everyone\",\"Everyone\",\"Everyone\",\"Teen\",\"Everyone\",\"Everyone\",\"Teen\",\"Everyone 10+\",\"Everyone 10+\",\"Everyone\",\"Everyone\",\"Everyone\",\"Everyone\",\"Everyone\",\"Everyone\",\"Everyone\",\"Everyone\",\"Teen\",\"Everyone\",\"Teen\",\"Everyone\",\"Everyone\",\"Everyone\",\"Everyone\",\"Everyone\",\"Everyone\",\"Everyone\",\"Everyone\",\"Everyone\",\"Everyone\",\"Everyone\",\"Everyone\",\"Everyone\",\"Everyone\",\"Everyone\",\"Everyone\",\"Everyone\",\"Everyone\",\"Everyone\",\"Everyone\",\"Everyone\",\"Everyone\",\"Everyone\",\"Everyone\",\"Mature 17+\",\"Everyone\",\"Teen\",\"Everyone\",\"Everyone\",\"Everyone\",\"Everyone\",\"Everyone\",\"Mature 17+\",\"Everyone\",\"Everyone\",\"Everyone\",\"Everyone\",\"Teen\",\"Everyone\",\"Everyone\",\"Teen\",\"Everyone\",\"Teen\",\"Everyone\",\"Teen\",\"Everyone\",\"Everyone\",\"Everyone\",\"Teen\",\"Teen\",\"Mature 17+\",\"Everyone\",\"Everyone\",\"Everyone\",\"Everyone\",\"Everyone\",\"Everyone\",\"Everyone\",\"Everyone\",\"Everyone\",\"Everyone\",\"Everyone\",\"Everyone\",\"Everyone 10+\",\"Teen\",\"Everyone 10+\",\"Everyone\",\"Everyone\",\"Everyone\",\"Everyone\",\"Everyone\",\"Everyone\",\"Everyone\",\"Everyone\",\"Everyone\",\"Everyone\",\"Everyone 10+\",\"Everyone\",\"Everyone\",\"Everyone\",\"Everyone\",\"Teen\",\"Everyone\",\"Everyone\",\"Everyone\",\"Everyone\",\"Everyone\",\"Everyone\",\"Teen\",\"Everyone\",\"Everyone\",\"Everyone\",\"Mature 17+\",\"Everyone\",\"Everyone\",\"Everyone\",\"Everyone\",\"Everyone 10+\",\"Everyone\",\"Everyone\",\"Everyone\",\"Everyone\",\"Everyone\",\"Everyone\",\"Mature 17+\",\"Everyone\",\"Everyone\",\"Everyone\",\"Everyone\",\"Everyone\",\"Everyone\",\"Everyone\",\"Everyone\",\"Everyone\",\"Everyone\",\"Everyone\",\"Everyone\",\"Everyone\",\"Everyone\",\"Everyone\",\"Everyone\",\"Mature 17+\",\"Everyone\",\"Mature 17+\",\"Teen\",\"Everyone\",\"Everyone\",\"Everyone\",\"Everyone\",\"Everyone\",\"Everyone\",\"Everyone\",\"Everyone\",\"Everyone\",\"Everyone\",\"Everyone\",\"Everyone\",\"Everyone\",\"Everyone\",\"Everyone\",\"Everyone\",\"Everyone\",\"Everyone\",\"Everyone\",\"Everyone\",\"Everyone\",\"Everyone\",\"Everyone\",\"Everyone\",\"Everyone\",\"Everyone\",\"Everyone\",\"Everyone\",\"Everyone\",\"Everyone\",\"Everyone\",\"Everyone\",\"Everyone\",\"Everyone\",\"Everyone\",\"Everyone\",\"Everyone\",\"Everyone\",\"Everyone\",\"Everyone\",\"Everyone\",\"Everyone\",\"Everyone\",\"Everyone\",\"Everyone\",\"Everyone\",\"Everyone\",\"Everyone\",\"Everyone\",\"Everyone\",\"Everyone\",\"Everyone\",\"Everyone\",\"Everyone\",\"Everyone\",\"Everyone\",\"Everyone\",\"Everyone\",\"Everyone\",\"Everyone\",\"Everyone\",\"Everyone\",\"Everyone\",\"Everyone\",\"Everyone\",\"Everyone\",\"Everyone\",\"Everyone\",\"Everyone\",\"Everyone\",\"Everyone\",\"Everyone\",\"Everyone 10+\",\"Everyone\",\"Everyone\",\"Everyone\",\"Everyone\",\"Everyone\",\"Everyone\",\"Everyone\",\"Everyone\",\"Teen\",\"Everyone\",\"Everyone\",\"Everyone\",\"Everyone\",\"Everyone\",\"Everyone\",\"Everyone\",\"Everyone\",\"Everyone\",\"Everyone\",\"Everyone\",\"Everyone\",\"Teen\",\"Everyone\",\"Everyone\",\"Everyone\",\"Everyone\",\"Everyone\",\"Everyone\",\"Everyone\",\"Everyone\",\"Everyone\",\"Everyone\",\"Teen\",\"Everyone\",\"Everyone\",\"Everyone\",\"Everyone\",\"Everyone\",\"Everyone\",\"Everyone\",\"Everyone\",\"Everyone\",\"Everyone\",\"Everyone\",\"Everyone\",\"Everyone\",\"Everyone\",\"Everyone\",\"Everyone\",\"Everyone\",\"Everyone\",\"Everyone\",\"Everyone\",\"Everyone\",\"Everyone\",\"Everyone\",\"Everyone\",\"Everyone\",\"Everyone\",\"Everyone\",\"Everyone\",\"Everyone\",\"Everyone\",\"Everyone\",\"Everyone\",\"Everyone\",\"Everyone\",\"Everyone\",\"Everyone\",\"Everyone\",\"Everyone\",\"Everyone\",\"Everyone\",\"Everyone\",\"Everyone\",\"Everyone\",\"Everyone\",\"Everyone\",\"Everyone\",\"Everyone\",\"Everyone\",\"Teen\",\"Everyone\",\"Everyone\",\"Everyone 10+\",\"Everyone\",\"Everyone\",\"Everyone\",\"Everyone\",\"Everyone\",\"Everyone\",\"Everyone\",\"Everyone\",\"Everyone\",\"Everyone\",\"Everyone\",\"Everyone\",\"Everyone\",\"Everyone\",\"Everyone\",\"Teen\",\"Everyone\",\"Everyone\",\"Everyone\",\"Everyone\",\"Everyone\",\"Everyone\",\"Everyone\",\"Everyone\",\"Everyone\",\"Everyone\",\"Everyone\",\"Everyone\",\"Everyone\",\"Everyone\",\"Everyone\",\"Everyone\",\"Teen\",\"Everyone\",\"Teen\",\"Everyone\",\"Everyone\",\"Everyone\",\"Everyone\",\"Everyone\",\"Everyone\",\"Teen\",\"Everyone\",\"Everyone\",\"Mature 17+\",\"Everyone\",\"Everyone\",\"Everyone 10+\",\"Everyone\",\"Everyone\",\"Everyone\",\"Everyone\",\"Everyone\",\"Everyone\",\"Everyone\",\"Everyone\",\"Everyone\",\"Teen\",\"Everyone\",\"Everyone\",\"Everyone\",\"Everyone\",\"Everyone\",\"Everyone\",\"Everyone\",\"Everyone\",\"Everyone\",\"Everyone\",\"Everyone\",\"Everyone\",\"Everyone\",\"Everyone\",\"Everyone\",\"Everyone\",\"Everyone\",\"Everyone\",\"Teen\",\"Everyone\",\"Everyone\",\"Everyone\",\"Everyone\",\"Everyone\",\"Teen\",\"Everyone\",\"Everyone\",\"Everyone\",\"Everyone\",\"Everyone\",\"Everyone\",\"Everyone\",\"Everyone\",\"Everyone\",\"Everyone\",\"Everyone\",\"Everyone\",\"Everyone\",\"Everyone\",\"Everyone\",\"Everyone\",\"Teen\",\"Everyone\",\"Everyone\",\"Everyone\",\"Everyone\",\"Teen\",\"Everyone\",\"Everyone\",\"Everyone\",\"Everyone\",\"Everyone\",\"Everyone\",\"Everyone\",\"Everyone\",\"Everyone\",\"Everyone\",\"Everyone\",\"Everyone\",\"Everyone\",\"Teen\",\"Everyone\",\"Everyone 10+\",\"Everyone\",\"Everyone\",\"Teen\",\"Everyone 10+\",\"Everyone 10+\",\"Everyone 10+\",\"Everyone\",\"Everyone\",\"Everyone\",\"Everyone\",\"Everyone\",\"Everyone\",\"Everyone\",\"Everyone\",\"Everyone\",\"Everyone\",\"Teen\",\"Everyone\",\"Everyone\",\"Everyone\",\"Teen\",\"Mature 17+\",\"Everyone\",\"Everyone 10+\",\"Everyone\",\"Everyone 10+\",\"Everyone\",\"Everyone\",\"Everyone\",\"Everyone\",\"Everyone\",\"Everyone\",\"Everyone\",\"Teen\",\"Everyone\",\"Everyone\",\"Everyone\",\"Everyone\",\"Everyone\",\"Everyone\",\"Everyone\",\"Teen\",\"Teen\",\"Everyone\",\"Teen\",\"Everyone\",\"Everyone\",\"Everyone\",\"Teen\",\"Everyone\",\"Everyone\",\"Everyone\",\"Everyone\",\"Everyone\",\"Teen\",\"Everyone\",\"Everyone\",\"Everyone\",\"Everyone\",\"Everyone\",\"Everyone\",\"Everyone\",\"Everyone\",\"Everyone\",\"Everyone\",\"Everyone\",\"Everyone\",\"Everyone\",\"Everyone\",\"Everyone\",\"Everyone\",\"Everyone\",\"Everyone\",\"Everyone\",\"Everyone\",\"Everyone\",\"Everyone\",\"Everyone\",\"Everyone\",\"Everyone\",\"Everyone\",\"Everyone\",\"Teen\",\"Everyone\",\"Everyone\",\"Everyone\",\"Everyone\",\"Everyone\",\"Everyone\",\"Everyone\",\"Teen\",\"Everyone\",\"Everyone\",\"Everyone\",\"Everyone\",\"Everyone\",\"Everyone\",\"Teen\",\"Everyone\",\"Everyone\",\"Everyone\",\"Everyone\",\"Everyone\",\"Everyone\",\"Everyone\",\"Everyone\",\"Everyone\",\"Everyone\",\"Everyone\",\"Teen\",\"Teen\",\"Everyone\",\"Everyone\",\"Everyone\",\"Everyone\",\"Everyone\",\"Everyone\",\"Everyone\",\"Everyone\",\"Everyone\",\"Everyone\",\"Teen\",\"Everyone\",\"Everyone\",\"Everyone\",\"Everyone\",\"Everyone\",\"Everyone 10+\",\"Everyone\",\"Everyone\",\"Everyone\",\"Everyone\",\"Everyone\",\"Everyone\",\"Everyone\",\"Everyone\",\"Everyone\",\"Everyone\",\"Everyone\",\"Everyone\",\"Everyone\",\"Everyone\",\"Teen\",\"Everyone\",\"Everyone\",\"Everyone\",\"Everyone\",\"Everyone\",\"Everyone\",\"Everyone\",\"Teen\",\"Mature 17+\",\"Everyone\",\"Everyone\",\"Teen\",\"Everyone\",\"Mature 17+\",\"Everyone\",\"Everyone 10+\",\"Everyone\",\"Everyone\",\"Everyone\",\"Everyone\",\"Everyone\",\"Everyone\",\"Everyone\",\"Everyone\",\"Everyone\",\"Everyone\",\"Everyone\",\"Everyone\",\"Everyone\",\"Everyone\",\"Everyone 10+\",\"Everyone\",\"Everyone\",\"Teen\",\"Mature 17+\",\"Everyone\",\"Mature 17+\",\"Teen\",\"Everyone\",\"Everyone\",\"Teen\",\"Everyone\",\"Everyone\",\"Everyone\",\"Everyone\",\"Everyone\",\"Teen\",\"Everyone\",\"Everyone\",\"Teen\",\"Teen\",\"Everyone\",\"Everyone\",\"Teen\",\"Everyone\",\"Teen\",\"Everyone\",\"Teen\",\"Everyone\",\"Everyone\",\"Everyone\",\"Everyone\",\"Everyone\",\"Everyone\",\"Everyone\",\"Everyone\",\"Everyone\",\"Everyone\",\"Everyone\",\"Everyone\",\"Everyone\",\"Mature 17+\",\"Everyone\",\"Everyone\",\"Everyone\",\"Everyone\",\"Mature 17+\",\"Everyone\",\"Everyone\",\"Everyone\",\"Everyone\",\"Everyone\",\"Everyone 10+\",\"Everyone\",\"Everyone\",\"Everyone\",\"Everyone\",\"Everyone\",\"Everyone\",\"Everyone\",\"Everyone\",\"Everyone\",\"Everyone\",\"Everyone\",\"Everyone\",\"Everyone\",\"Teen\",\"Teen\",\"Mature 17+\",\"Everyone\",\"Everyone\",\"Everyone\",\"Everyone\",\"Everyone\",\"Teen\",\"Everyone 10+\",\"Teen\",\"Everyone\",\"Everyone\",\"Everyone\",\"Everyone\",\"Teen\",\"Everyone\",\"Teen\",\"Everyone\",\"Everyone\",\"Everyone\",\"Everyone\",\"Everyone\",\"Everyone\",\"Teen\",\"Everyone\",\"Everyone\",\"Everyone\",\"Everyone 10+\",\"Everyone\",\"Everyone\",\"Everyone\",\"Everyone\",\"Everyone\",\"Everyone\",\"Everyone\",\"Everyone\",\"Everyone\",\"Teen\",\"Everyone\",\"Everyone\",\"Everyone\",\"Everyone\",\"Everyone\",\"Everyone\",\"Everyone\",\"Teen\",\"Everyone\",\"Teen\",\"Teen\",\"Everyone\",\"Everyone\",\"Everyone\",\"Everyone\",\"Everyone\",\"Everyone\",\"Everyone\",\"Everyone\",\"Everyone\",\"Everyone\",\"Everyone\",\"Everyone\",\"Everyone 10+\",\"Teen\",\"Everyone\",\"Everyone\",\"Everyone\",\"Everyone\",\"Everyone\",\"Everyone\",\"Everyone\",\"Everyone\",\"Everyone\",\"Everyone\",\"Everyone\",\"Everyone 10+\",\"Everyone\",\"Teen\",\"Everyone\",\"Everyone\",\"Teen\",\"Everyone\",\"Everyone\",\"Everyone\",\"Everyone\",\"Everyone\",\"Everyone\",\"Everyone 10+\",\"Everyone\",\"Everyone\",\"Everyone\",\"Everyone\",\"Everyone\",\"Everyone\",\"Everyone\",\"Everyone\",\"Everyone\",\"Teen\",\"Everyone 10+\",\"Everyone\",\"Teen\",\"Everyone 10+\",\"Everyone\",\"Everyone 10+\",\"Teen\",\"Teen\",\"Teen\",\"Everyone\",\"Everyone\",\"Everyone\",\"Teen\",\"Mature 17+\",\"Everyone\",\"Teen\",\"Teen\",\"Teen\",\"Teen\",\"Everyone\",\"Teen\",\"Teen\",\"Teen\",\"Everyone\",\"Teen\",\"Teen\",\"Teen\",\"Teen\",\"Everyone\",\"Teen\",\"Everyone\",\"Teen\",\"Everyone\",\"Everyone 10+\",\"Teen\",\"Teen\",\"Everyone\",\"Everyone\",\"Teen\",\"Everyone\",\"Everyone\",\"Everyone\",\"Everyone 10+\",\"Everyone\",\"Everyone\",\"Everyone\",\"Everyone\",\"Everyone\",\"Mature 17+\",\"Everyone\",\"Everyone\",\"Everyone\",\"Everyone\",\"Everyone\",\"Everyone\",\"Everyone\",\"Everyone\",\"Everyone\",\"Everyone\",\"Everyone\",\"Teen\",\"Everyone\",\"Everyone\",\"Teen\",\"Everyone\",\"Everyone\",\"Everyone\",\"Everyone\",\"Everyone\",\"Everyone\",\"Everyone\",\"Everyone\",\"Everyone\",\"Everyone\",\"Everyone\",\"Everyone\",\"Everyone\",\"Everyone\",\"Everyone\",\"Everyone\",\"Everyone\",\"Everyone\",\"Everyone\",\"Everyone\",\"Everyone\",\"Teen\",\"Everyone\",\"Everyone\",\"Everyone\",\"Everyone 10+\",\"Mature 17+\",\"Teen\",\"Everyone\",\"Everyone\",\"Everyone\",\"Everyone 10+\",\"Mature 17+\",\"Teen\",\"Teen\",\"Teen\",\"Everyone 10+\",\"Everyone\",\"Everyone\",\"Everyone\",\"Teen\",\"Teen\",\"Teen\",\"Everyone 10+\",\"Everyone\",\"Teen\",\"Everyone\",\"Everyone\",\"Everyone 10+\",\"Everyone\",\"Everyone\",\"Everyone\",\"Everyone\",\"Everyone\",\"Everyone\",\"Everyone\",\"Teen\",\"Everyone\",\"Everyone\",\"Teen\",\"Teen\",\"Teen\",\"Teen\",\"Teen\",\"Teen\",\"Everyone 10+\",\"Teen\",\"Teen\",\"Everyone\",\"Everyone 10+\",\"Everyone\",\"Everyone 10+\",\"Teen\",\"Teen\",\"Everyone\",\"Teen\",\"Everyone\",\"Everyone\",\"Teen\",\"Everyone\",\"Teen\",\"Everyone\",\"Everyone\",\"Teen\",\"Everyone 10+\",\"Everyone\",\"Everyone\",\"Teen\",\"Everyone\",\"Everyone\",\"Everyone\",\"Everyone\",\"Everyone\",\"Everyone\",\"Everyone\",\"Everyone\",\"Everyone\",\"Everyone\",\"Everyone\",\"Everyone\",\"Everyone\",\"Everyone\",\"Everyone\",\"Everyone\",\"Everyone\",\"Everyone\",\"Everyone\",\"Everyone\",\"Everyone\",\"Everyone\",\"Everyone\",\"Everyone\",\"Everyone\",\"Everyone\",\"Everyone\",\"Everyone\",\"Everyone\",\"Everyone\",\"Everyone\",\"Everyone\",\"Everyone\",\"Everyone\",\"Everyone 10+\",\"Everyone\",\"Everyone\",\"Everyone\",\"Everyone\",\"Everyone\",\"Everyone\",\"Everyone\",\"Everyone\",\"Everyone\",\"Everyone\",\"Everyone\",\"Everyone\",\"Teen\",\"Everyone\",\"Teen\",\"Everyone\",\"Everyone\",\"Everyone 10+\",\"Everyone\",\"Mature 17+\",\"Teen\",\"Everyone\",\"Everyone\",\"Everyone\",\"Everyone\",\"Everyone\",\"Everyone\",\"Everyone\",\"Everyone\",\"Everyone\",\"Everyone\",\"Everyone\",\"Everyone\",\"Everyone\",\"Everyone\",\"Everyone\",\"Everyone\",\"Everyone\",\"Everyone\",\"Everyone\",\"Everyone\",\"Everyone\",\"Everyone\",\"Everyone\",\"Everyone\",\"Everyone\",\"Everyone\",\"Everyone\",\"Everyone\",\"Everyone\",\"Everyone\",\"Everyone 10+\",\"Everyone\",\"Teen\",\"Everyone\",\"Everyone\",\"Everyone\",\"Everyone\",\"Everyone\",\"Everyone\",\"Everyone\",\"Everyone\",\"Everyone\",\"Everyone\",\"Everyone\",\"Everyone\",\"Everyone\",\"Everyone\",\"Everyone 10+\",\"Everyone\",\"Everyone\",\"Everyone\",\"Everyone\",\"Everyone\",\"Everyone\",\"Everyone\",\"Teen\",\"Everyone\",\"Everyone\",\"Everyone\",\"Everyone\",\"Everyone\",\"Everyone\",\"Everyone\",\"Everyone\",\"Everyone\",\"Everyone\",\"Everyone\",\"Everyone\",\"Everyone\",\"Everyone\",\"Everyone\",\"Everyone\",\"Everyone\",\"Everyone\",\"Everyone\",\"Everyone\",\"Everyone 10+\",\"Everyone\",\"Everyone\",\"Everyone\",\"Everyone\",\"Everyone\",\"Everyone\",\"Everyone\",\"Everyone\",\"Everyone\",\"Teen\",\"Everyone\",\"Everyone\",\"Everyone\",\"Everyone\",\"Everyone\",\"Teen\",\"Everyone\",\"Everyone\",\"Everyone\",\"Everyone\",\"Teen\",\"Mature 17+\",\"Everyone\",\"Everyone 10+\",\"Everyone 10+\",\"Everyone 10+\",\"Teen\",\"Everyone\",\"Everyone\",\"Teen\",\"Everyone 10+\",\"Everyone\",\"Everyone\",\"Everyone\",\"Everyone\",\"Everyone 10+\",\"Teen\",\"Everyone\",\"Everyone\",\"Everyone\",\"Everyone\",\"Everyone\",\"Everyone\",\"Everyone\",\"Teen\",\"Everyone\",\"Teen\",\"Everyone\",\"Everyone\",\"Everyone\",\"Everyone\",\"Everyone\",\"Everyone\",\"Everyone\",\"Everyone\",\"Everyone\",\"Everyone\",\"Everyone\",\"Everyone\",\"Everyone\",\"Everyone\",\"Everyone\",\"Everyone\",\"Everyone 10+\",\"Everyone\",\"Everyone\",\"Everyone\",\"Everyone\",\"Everyone\",\"Everyone\",\"Teen\",\"Everyone\",\"Everyone\",\"Everyone\",\"Everyone 10+\",\"Everyone\",\"Everyone\",\"Everyone\",\"Everyone 10+\",\"Everyone\",\"Everyone\",\"Everyone\",\"Everyone\",\"Teen\",\"Everyone\",\"Everyone\",\"Everyone\",\"Everyone\",\"Everyone\",\"Everyone\",\"Everyone\",\"Everyone\",\"Everyone\",\"Everyone\",\"Everyone\",\"Everyone\",\"Teen\",\"Everyone\",\"Everyone\",\"Everyone\",\"Everyone\",\"Everyone\",\"Everyone\",\"Everyone\",\"Everyone\",\"Everyone\",\"Everyone\",\"Everyone\",\"Teen\",\"Everyone\",\"Everyone\",\"Everyone 10+\",\"Everyone\",\"Everyone\",\"Everyone\",\"Everyone\",\"Everyone\",\"Everyone\",\"Everyone\",\"Everyone\",\"Everyone\",\"Everyone\",\"Everyone\",\"Everyone\",\"Everyone\",\"Everyone\",\"Everyone\",\"Everyone\",\"Everyone\",\"Everyone\",\"Teen\",\"Everyone\",\"Everyone\",\"Everyone\",\"Everyone\",\"Everyone\",\"Everyone\",\"Everyone\",\"Everyone\",\"Everyone\",\"Everyone\",\"Everyone\",\"Everyone\",\"Everyone\",\"Everyone\",\"Everyone\",\"Everyone\",\"Everyone\",\"Everyone\",\"Everyone\",\"Everyone\",\"Everyone\",\"Everyone\",\"Mature 17+\",\"Everyone\",\"Everyone\",\"Teen\",\"Everyone\",\"Everyone\",\"Teen\",\"Teen\",\"Everyone\",\"Teen\",\"Everyone\",\"Everyone\",\"Everyone\",\"Everyone\",\"Everyone\",\"Everyone 10+\",\"Teen\",\"Teen\",\"Teen\",\"Everyone\",\"Teen\",\"Everyone\",\"Teen\",\"Teen\",\"Teen\",\"Everyone\",\"Everyone\",\"Everyone\",\"Everyone\",\"Teen\",\"Everyone\",\"Teen\",\"Everyone\",\"Everyone\",\"Everyone\",\"Teen\",\"Teen\",\"Everyone\",\"Everyone\",\"Everyone\",\"Everyone\",\"Everyone\",\"Everyone\",\"Everyone\",\"Teen\",\"Everyone\",\"Teen\",\"Teen\",\"Everyone\",\"Mature 17+\",\"Everyone\",\"Everyone\",\"Everyone\",\"Everyone\",\"Everyone\",\"Everyone\",\"Everyone\",\"Everyone\",\"Everyone\",\"Everyone\",\"Everyone\",\"Everyone\",\"Everyone\",\"Everyone\",\"Teen\",\"Everyone\",\"Everyone\",\"Everyone\",\"Everyone\",\"Everyone\",\"Everyone\",\"Everyone\",\"Everyone\",\"Everyone\",\"Everyone\",\"Everyone\",\"Everyone\",\"Everyone\",\"Teen\",\"Everyone\",\"Everyone\",\"Everyone\",\"Everyone\",\"Teen\",\"Everyone\",\"Everyone\",\"Everyone\",\"Teen\",\"Everyone\",\"Everyone\",\"Everyone\",\"Everyone\",\"Everyone\",\"Everyone\",\"Everyone\",\"Everyone\",\"Everyone\",\"Everyone\",\"Everyone\",\"Teen\",\"Everyone\",\"Everyone\",\"Everyone\",\"Everyone\",\"Everyone\",\"Everyone\",\"Everyone\",\"Everyone 10+\",\"Everyone\",\"Everyone\",\"Everyone\",\"Everyone\",\"Everyone\",\"Everyone\",\"Everyone\",\"Everyone\",\"Everyone\",\"Everyone\",\"Everyone\",\"Everyone\",\"Everyone\",\"Everyone\",\"Everyone\",\"Everyone\",\"Teen\",\"Everyone\",\"Teen\",\"Everyone\",\"Everyone\",\"Everyone\",\"Everyone\",\"Everyone\",\"Everyone\",\"Everyone\",\"Everyone\",\"Everyone\",\"Everyone\",\"Everyone\",\"Everyone\",\"Everyone\",\"Everyone\",\"Everyone\",\"Everyone\",\"Everyone\",\"Teen\",\"Everyone\",\"Teen\",\"Everyone\",\"Mature 17+\",\"Everyone\",\"Everyone 10+\",\"Everyone\",\"Everyone 10+\",\"Everyone\",\"Everyone\",\"Everyone\",\"Everyone 10+\",\"Everyone 10+\",\"Mature 17+\",\"Mature 17+\",\"Everyone\",\"Everyone\",\"Everyone\",\"Everyone\",\"Teen\",\"Everyone\",\"Teen\",\"Teen\",\"Everyone\",\"Everyone\",\"Mature 17+\",\"Teen\",\"Everyone\",\"Teen\",\"Everyone\",\"Teen\",\"Teen\",\"Teen\",\"Teen\",\"Everyone\",\"Everyone\",\"Everyone\",\"Everyone\",\"Everyone 10+\",\"Teen\",\"Teen\",\"Everyone\",\"Everyone\",\"Everyone\",\"Everyone\",\"Teen\",\"Teen\",\"Everyone\",\"Everyone\",\"Teen\",\"Everyone\",\"Everyone\",\"Teen\",\"Everyone\",\"Everyone\",\"Everyone\",\"Everyone\",\"Everyone\",\"Everyone\",\"Everyone\",\"Everyone\",\"Everyone\",\"Everyone\",\"Everyone\",\"Everyone\",\"Everyone\",\"Everyone\",\"Everyone\",\"Everyone\",\"Everyone\",\"Everyone\",\"Everyone\",\"Everyone\",\"Everyone\",\"Everyone\",\"Everyone\",\"Everyone\",\"Everyone\",\"Everyone\",\"Everyone\",\"Everyone\",\"Everyone\",\"Everyone\",\"Everyone\",\"Everyone\",\"Everyone\",\"Everyone\",\"Everyone\",\"Everyone\",\"Everyone\",\"Everyone\",\"Everyone\",\"Everyone\",\"Teen\",\"Everyone\",\"Everyone\",\"Everyone\",\"Teen\",\"Everyone\",\"Everyone\",\"Everyone\",\"Everyone\",\"Teen\",\"Everyone\",\"Teen\",\"Everyone\",\"Everyone\",\"Mature 17+\",\"Everyone\",\"Everyone\",\"Everyone\",\"Mature 17+\",\"Everyone\",\"Everyone\",\"Teen\",\"Everyone\",\"Teen\",\"Everyone\",\"Teen\",\"Everyone\",\"Everyone\",\"Everyone\",\"Everyone\",\"Everyone\",\"Everyone\",\"Everyone\",\"Everyone\",\"Everyone\",\"Everyone\",\"Everyone\",\"Everyone\",\"Everyone\",\"Everyone\",\"Everyone\",\"Everyone\",\"Everyone\",\"Everyone\",\"Teen\",\"Everyone\",\"Teen\",\"Everyone\",\"Everyone\",\"Everyone\",\"Teen\",\"Everyone\",\"Everyone\",\"Everyone\",\"Everyone\",\"Everyone\",\"Everyone\",\"Everyone\",\"Everyone\",\"Teen\",\"Everyone\",\"Everyone\",\"Everyone\",\"Everyone\",\"Everyone\",\"Teen\",\"Everyone\",\"Everyone\",\"Everyone\",\"Teen\",\"Everyone\",\"Everyone\",\"Everyone\",\"Everyone\",\"Everyone\",\"Everyone\",\"Everyone\",\"Everyone\",\"Everyone\",\"Everyone\",\"Everyone\",\"Everyone\",\"Everyone\",\"Everyone\",\"Teen\",\"Everyone\",\"Everyone\",\"Everyone\",\"Everyone\",\"Everyone\",\"Everyone\",\"Everyone\",\"Everyone\",\"Everyone\",\"Everyone\",\"Everyone\",\"Everyone\",\"Everyone\",\"Teen\",\"Everyone\",\"Everyone\",\"Everyone 10+\",\"Everyone\",\"Everyone\",\"Everyone\",\"Everyone\",\"Everyone\",\"Everyone\",\"Everyone\",\"Everyone\",\"Teen\",\"Teen\",\"Teen\",\"Everyone\",\"Everyone\",\"Everyone\",\"Everyone\",\"Everyone\",\"Teen\",\"Teen\",\"Everyone\",\"Everyone\",\"Everyone\",\"Everyone\",\"Everyone\",\"Everyone\",\"Everyone\",\"Teen\",\"Teen\",\"Everyone\",\"Teen\",\"Teen\",\"Everyone\",\"Everyone\",\"Everyone\",\"Everyone\",\"Everyone\",\"Everyone\",\"Everyone\",\"Everyone\",\"Everyone\",\"Everyone\",\"Everyone\",\"Everyone\",\"Mature 17+\",\"Everyone\",\"Mature 17+\",\"Everyone\",\"Everyone\",\"Everyone\",\"Everyone\",\"Everyone\",\"Everyone\",\"Everyone\",\"Everyone\",\"Everyone\",\"Everyone\",\"Everyone\",\"Everyone\",\"Everyone\",\"Everyone\",\"Everyone\",\"Everyone\",\"Everyone\",\"Everyone\",\"Everyone\",\"Everyone\",\"Everyone\",\"Everyone\",\"Everyone\",\"Everyone\",\"Everyone\",\"Everyone\",\"Everyone\",\"Everyone\",\"Everyone\",\"Everyone\",\"Everyone\",\"Everyone\",\"Mature 17+\",\"Everyone\",\"Everyone\",\"Teen\",\"Everyone\",\"Everyone\",\"Everyone\",\"Everyone\",\"Everyone 10+\",\"Everyone\",\"Teen\",\"Teen\",\"Mature 17+\",\"Everyone 10+\",\"Everyone\",\"Everyone\",\"Teen\",\"Everyone 10+\",\"Everyone\",\"Everyone\",\"Everyone\",\"Teen\",\"Everyone\",\"Everyone\",\"Everyone\",\"Everyone\",\"Everyone\",\"Everyone\",\"Teen\",\"Teen\",\"Teen\",\"Everyone\",\"Everyone\",\"Everyone\",\"Everyone\",\"Teen\",\"Everyone\",\"Everyone\",\"Teen\",\"Teen\",\"Mature 17+\",\"Everyone\",\"Everyone\",\"Everyone\",\"Everyone\",\"Everyone\",\"Everyone\",\"Everyone\",\"Everyone\",\"Everyone\",\"Mature 17+\",\"Everyone\"],\"xbins\":{\"end\":6,\"size\":1,\"start\":0.5},\"type\":\"histogram\"}],                        {\"template\":{\"data\":{\"barpolar\":[{\"marker\":{\"line\":{\"color\":\"#E5ECF6\",\"width\":0.5},\"pattern\":{\"fillmode\":\"overlay\",\"size\":10,\"solidity\":0.2}},\"type\":\"barpolar\"}],\"bar\":[{\"error_x\":{\"color\":\"#2a3f5f\"},\"error_y\":{\"color\":\"#2a3f5f\"},\"marker\":{\"line\":{\"color\":\"#E5ECF6\",\"width\":0.5},\"pattern\":{\"fillmode\":\"overlay\",\"size\":10,\"solidity\":0.2}},\"type\":\"bar\"}],\"carpet\":[{\"aaxis\":{\"endlinecolor\":\"#2a3f5f\",\"gridcolor\":\"white\",\"linecolor\":\"white\",\"minorgridcolor\":\"white\",\"startlinecolor\":\"#2a3f5f\"},\"baxis\":{\"endlinecolor\":\"#2a3f5f\",\"gridcolor\":\"white\",\"linecolor\":\"white\",\"minorgridcolor\":\"white\",\"startlinecolor\":\"#2a3f5f\"},\"type\":\"carpet\"}],\"choropleth\":[{\"colorbar\":{\"outlinewidth\":0,\"ticks\":\"\"},\"type\":\"choropleth\"}],\"contourcarpet\":[{\"colorbar\":{\"outlinewidth\":0,\"ticks\":\"\"},\"type\":\"contourcarpet\"}],\"contour\":[{\"colorbar\":{\"outlinewidth\":0,\"ticks\":\"\"},\"colorscale\":[[0.0,\"#0d0887\"],[0.1111111111111111,\"#46039f\"],[0.2222222222222222,\"#7201a8\"],[0.3333333333333333,\"#9c179e\"],[0.4444444444444444,\"#bd3786\"],[0.5555555555555556,\"#d8576b\"],[0.6666666666666666,\"#ed7953\"],[0.7777777777777778,\"#fb9f3a\"],[0.8888888888888888,\"#fdca26\"],[1.0,\"#f0f921\"]],\"type\":\"contour\"}],\"heatmapgl\":[{\"colorbar\":{\"outlinewidth\":0,\"ticks\":\"\"},\"colorscale\":[[0.0,\"#0d0887\"],[0.1111111111111111,\"#46039f\"],[0.2222222222222222,\"#7201a8\"],[0.3333333333333333,\"#9c179e\"],[0.4444444444444444,\"#bd3786\"],[0.5555555555555556,\"#d8576b\"],[0.6666666666666666,\"#ed7953\"],[0.7777777777777778,\"#fb9f3a\"],[0.8888888888888888,\"#fdca26\"],[1.0,\"#f0f921\"]],\"type\":\"heatmapgl\"}],\"heatmap\":[{\"colorbar\":{\"outlinewidth\":0,\"ticks\":\"\"},\"colorscale\":[[0.0,\"#0d0887\"],[0.1111111111111111,\"#46039f\"],[0.2222222222222222,\"#7201a8\"],[0.3333333333333333,\"#9c179e\"],[0.4444444444444444,\"#bd3786\"],[0.5555555555555556,\"#d8576b\"],[0.6666666666666666,\"#ed7953\"],[0.7777777777777778,\"#fb9f3a\"],[0.8888888888888888,\"#fdca26\"],[1.0,\"#f0f921\"]],\"type\":\"heatmap\"}],\"histogram2dcontour\":[{\"colorbar\":{\"outlinewidth\":0,\"ticks\":\"\"},\"colorscale\":[[0.0,\"#0d0887\"],[0.1111111111111111,\"#46039f\"],[0.2222222222222222,\"#7201a8\"],[0.3333333333333333,\"#9c179e\"],[0.4444444444444444,\"#bd3786\"],[0.5555555555555556,\"#d8576b\"],[0.6666666666666666,\"#ed7953\"],[0.7777777777777778,\"#fb9f3a\"],[0.8888888888888888,\"#fdca26\"],[1.0,\"#f0f921\"]],\"type\":\"histogram2dcontour\"}],\"histogram2d\":[{\"colorbar\":{\"outlinewidth\":0,\"ticks\":\"\"},\"colorscale\":[[0.0,\"#0d0887\"],[0.1111111111111111,\"#46039f\"],[0.2222222222222222,\"#7201a8\"],[0.3333333333333333,\"#9c179e\"],[0.4444444444444444,\"#bd3786\"],[0.5555555555555556,\"#d8576b\"],[0.6666666666666666,\"#ed7953\"],[0.7777777777777778,\"#fb9f3a\"],[0.8888888888888888,\"#fdca26\"],[1.0,\"#f0f921\"]],\"type\":\"histogram2d\"}],\"histogram\":[{\"marker\":{\"pattern\":{\"fillmode\":\"overlay\",\"size\":10,\"solidity\":0.2}},\"type\":\"histogram\"}],\"mesh3d\":[{\"colorbar\":{\"outlinewidth\":0,\"ticks\":\"\"},\"type\":\"mesh3d\"}],\"parcoords\":[{\"line\":{\"colorbar\":{\"outlinewidth\":0,\"ticks\":\"\"}},\"type\":\"parcoords\"}],\"pie\":[{\"automargin\":true,\"type\":\"pie\"}],\"scatter3d\":[{\"line\":{\"colorbar\":{\"outlinewidth\":0,\"ticks\":\"\"}},\"marker\":{\"colorbar\":{\"outlinewidth\":0,\"ticks\":\"\"}},\"type\":\"scatter3d\"}],\"scattercarpet\":[{\"marker\":{\"colorbar\":{\"outlinewidth\":0,\"ticks\":\"\"}},\"type\":\"scattercarpet\"}],\"scattergeo\":[{\"marker\":{\"colorbar\":{\"outlinewidth\":0,\"ticks\":\"\"}},\"type\":\"scattergeo\"}],\"scattergl\":[{\"marker\":{\"colorbar\":{\"outlinewidth\":0,\"ticks\":\"\"}},\"type\":\"scattergl\"}],\"scattermapbox\":[{\"marker\":{\"colorbar\":{\"outlinewidth\":0,\"ticks\":\"\"}},\"type\":\"scattermapbox\"}],\"scatterpolargl\":[{\"marker\":{\"colorbar\":{\"outlinewidth\":0,\"ticks\":\"\"}},\"type\":\"scatterpolargl\"}],\"scatterpolar\":[{\"marker\":{\"colorbar\":{\"outlinewidth\":0,\"ticks\":\"\"}},\"type\":\"scatterpolar\"}],\"scatter\":[{\"marker\":{\"colorbar\":{\"outlinewidth\":0,\"ticks\":\"\"}},\"type\":\"scatter\"}],\"scatterternary\":[{\"marker\":{\"colorbar\":{\"outlinewidth\":0,\"ticks\":\"\"}},\"type\":\"scatterternary\"}],\"surface\":[{\"colorbar\":{\"outlinewidth\":0,\"ticks\":\"\"},\"colorscale\":[[0.0,\"#0d0887\"],[0.1111111111111111,\"#46039f\"],[0.2222222222222222,\"#7201a8\"],[0.3333333333333333,\"#9c179e\"],[0.4444444444444444,\"#bd3786\"],[0.5555555555555556,\"#d8576b\"],[0.6666666666666666,\"#ed7953\"],[0.7777777777777778,\"#fb9f3a\"],[0.8888888888888888,\"#fdca26\"],[1.0,\"#f0f921\"]],\"type\":\"surface\"}],\"table\":[{\"cells\":{\"fill\":{\"color\":\"#EBF0F8\"},\"line\":{\"color\":\"white\"}},\"header\":{\"fill\":{\"color\":\"#C8D4E3\"},\"line\":{\"color\":\"white\"}},\"type\":\"table\"}]},\"layout\":{\"annotationdefaults\":{\"arrowcolor\":\"#2a3f5f\",\"arrowhead\":0,\"arrowwidth\":1},\"autotypenumbers\":\"strict\",\"coloraxis\":{\"colorbar\":{\"outlinewidth\":0,\"ticks\":\"\"}},\"colorscale\":{\"diverging\":[[0,\"#8e0152\"],[0.1,\"#c51b7d\"],[0.2,\"#de77ae\"],[0.3,\"#f1b6da\"],[0.4,\"#fde0ef\"],[0.5,\"#f7f7f7\"],[0.6,\"#e6f5d0\"],[0.7,\"#b8e186\"],[0.8,\"#7fbc41\"],[0.9,\"#4d9221\"],[1,\"#276419\"]],\"sequential\":[[0.0,\"#0d0887\"],[0.1111111111111111,\"#46039f\"],[0.2222222222222222,\"#7201a8\"],[0.3333333333333333,\"#9c179e\"],[0.4444444444444444,\"#bd3786\"],[0.5555555555555556,\"#d8576b\"],[0.6666666666666666,\"#ed7953\"],[0.7777777777777778,\"#fb9f3a\"],[0.8888888888888888,\"#fdca26\"],[1.0,\"#f0f921\"]],\"sequentialminus\":[[0.0,\"#0d0887\"],[0.1111111111111111,\"#46039f\"],[0.2222222222222222,\"#7201a8\"],[0.3333333333333333,\"#9c179e\"],[0.4444444444444444,\"#bd3786\"],[0.5555555555555556,\"#d8576b\"],[0.6666666666666666,\"#ed7953\"],[0.7777777777777778,\"#fb9f3a\"],[0.8888888888888888,\"#fdca26\"],[1.0,\"#f0f921\"]]},\"colorway\":[\"#636efa\",\"#EF553B\",\"#00cc96\",\"#ab63fa\",\"#FFA15A\",\"#19d3f3\",\"#FF6692\",\"#B6E880\",\"#FF97FF\",\"#FECB52\"],\"font\":{\"color\":\"#2a3f5f\"},\"geo\":{\"bgcolor\":\"white\",\"lakecolor\":\"white\",\"landcolor\":\"#E5ECF6\",\"showlakes\":true,\"showland\":true,\"subunitcolor\":\"white\"},\"hoverlabel\":{\"align\":\"left\"},\"hovermode\":\"closest\",\"mapbox\":{\"style\":\"light\"},\"paper_bgcolor\":\"white\",\"plot_bgcolor\":\"#E5ECF6\",\"polar\":{\"angularaxis\":{\"gridcolor\":\"white\",\"linecolor\":\"white\",\"ticks\":\"\"},\"bgcolor\":\"#E5ECF6\",\"radialaxis\":{\"gridcolor\":\"white\",\"linecolor\":\"white\",\"ticks\":\"\"}},\"scene\":{\"xaxis\":{\"backgroundcolor\":\"#E5ECF6\",\"gridcolor\":\"white\",\"gridwidth\":2,\"linecolor\":\"white\",\"showbackground\":true,\"ticks\":\"\",\"zerolinecolor\":\"white\"},\"yaxis\":{\"backgroundcolor\":\"#E5ECF6\",\"gridcolor\":\"white\",\"gridwidth\":2,\"linecolor\":\"white\",\"showbackground\":true,\"ticks\":\"\",\"zerolinecolor\":\"white\"},\"zaxis\":{\"backgroundcolor\":\"#E5ECF6\",\"gridcolor\":\"white\",\"gridwidth\":2,\"linecolor\":\"white\",\"showbackground\":true,\"ticks\":\"\",\"zerolinecolor\":\"white\"}},\"shapedefaults\":{\"line\":{\"color\":\"#2a3f5f\"}},\"ternary\":{\"aaxis\":{\"gridcolor\":\"white\",\"linecolor\":\"white\",\"ticks\":\"\"},\"baxis\":{\"gridcolor\":\"white\",\"linecolor\":\"white\",\"ticks\":\"\"},\"bgcolor\":\"#E5ECF6\",\"caxis\":{\"gridcolor\":\"white\",\"linecolor\":\"white\",\"ticks\":\"\"}},\"title\":{\"x\":0.05},\"xaxis\":{\"automargin\":true,\"gridcolor\":\"white\",\"linecolor\":\"white\",\"ticks\":\"\",\"title\":{\"standoff\":15},\"zerolinecolor\":\"white\",\"zerolinewidth\":2},\"yaxis\":{\"automargin\":true,\"gridcolor\":\"white\",\"linecolor\":\"white\",\"ticks\":\"\",\"title\":{\"standoff\":15},\"zerolinecolor\":\"white\",\"zerolinewidth\":2}}}},                        {\"responsive\": true}                    ).then(function(){\n",
              "                            \n",
              "var gd = document.getElementById('3fa92e8e-7deb-411f-a1cd-663a4e1372fd');\n",
              "var x = new MutationObserver(function (mutations, observer) {{\n",
              "        var display = window.getComputedStyle(gd).display;\n",
              "        if (!display || display === 'none') {{\n",
              "            console.log([gd, 'removed!']);\n",
              "            Plotly.purge(gd);\n",
              "            observer.disconnect();\n",
              "        }}\n",
              "}});\n",
              "\n",
              "// Listen for the removal of the full notebook cells\n",
              "var notebookContainer = gd.closest('#notebook-container');\n",
              "if (notebookContainer) {{\n",
              "    x.observe(notebookContainer, {childList: true});\n",
              "}}\n",
              "\n",
              "// Listen for the clearing of the current output cell\n",
              "var outputEl = gd.closest('.output');\n",
              "if (outputEl) {{\n",
              "    x.observe(outputEl, {childList: true});\n",
              "}}\n",
              "\n",
              "                        })                };                            </script>        </div>\n",
              "</body>\n",
              "</html>"
            ]
          },
          "metadata": {}
        }
      ]
    },
    {
      "cell_type": "markdown",
      "source": [
        "## Top Content Rating in teen of paid and free type app."
      ],
      "metadata": {
        "id": "w3kE_98VrDH-"
      }
    },
    {
      "cell_type": "code",
      "source": [
        "paid_play_store=play_store[play_store['Content Rating']=='Teen']"
      ],
      "metadata": {
        "id": "vTMg2BJzrp5x"
      },
      "execution_count": null,
      "outputs": []
    },
    {
      "cell_type": "code",
      "source": [
        "paid_play_store.groupby('Type')['App'].count().sort_values(ascending= False).plot.bar(figsize = (20,10))"
      ],
      "metadata": {
        "colab": {
          "base_uri": "https://localhost:8080/",
          "height": 540
        },
        "id": "YuGuZL5yrxQo",
        "outputId": "e17a02b8-162f-443a-d2f4-46ee0544751e"
      },
      "execution_count": null,
      "outputs": [
        {
          "output_type": "execute_result",
          "data": {
            "text/plain": [
              "<matplotlib.axes._subplots.AxesSubplot at 0x7ff9cc737dc0>"
            ]
          },
          "metadata": {},
          "execution_count": 65
        },
        {
          "output_type": "display_data",
          "data": {
            "text/plain": [
              "<Figure size 1440x720 with 1 Axes>"
            ],
            "image/png": "[encoded data removed]"
          },
          "metadata": {
            "needs_background": "light"
          }
        }
      ]
    },
    {
      "cell_type": "markdown",
      "source": [
        "## Highest number of rating"
      ],
      "metadata": {
        "id": "ncmt6ncXs4cC"
      }
    },
    {
      "cell_type": "code",
      "source": [
        "Dor_graph = sns.countplot(play_store['Rating'])\n",
        "plt.rcParams['figure.figsize'] = (20, 10)\n",
        "plt.title('Count of Ratings')\n",
        "plt.show()"
      ],
      "metadata": {
        "colab": {
          "base_uri": "https://localhost:8080/",
          "height": 710
        },
        "id": "n0AXcAKqr8qL",
        "outputId": "b1dc0486-5aaa-4e07-8757-521236bc423d"
      },
      "execution_count": null,
      "outputs": [
        {
          "output_type": "stream",
          "name": "stderr",
          "text": [
            "/usr/local/lib/python3.8/dist-packages/seaborn/_decorators.py:36: FutureWarning:\n",
            "\n",
            "Pass the following variable as a keyword arg: x. From version 0.12, the only valid positional argument will be `data`, and passing other arguments without an explicit keyword will result in an error or misinterpretation.\n",
            "\n"
          ]
        },
        {
          "output_type": "display_data",
          "data": {
            "text/plain": [
              "<Figure size 1080x720 with 1 Axes>"
            ],
            "image/png": "[encoded data removed]"
          },
          "metadata": {}
        }
      ]
    },
    {
      "cell_type": "code",
      "source": [
        "play_store.columns"
      ],
      "metadata": {
        "colab": {
          "base_uri": "https://localhost:8080/"
        },
        "id": "-seR17pgSbm2",
        "outputId": "79eea438-c39b-473c-b884-333db8f05a39"
      },
      "execution_count": null,
      "outputs": [
        {
          "output_type": "execute_result",
          "data": {
            "text/plain": [
              "Index(['App', 'Category', 'Rating', 'Reviews', 'Size', 'Installs', 'Type',\n",
              "       'Price', 'Content Rating', 'Genres', 'Last Updated', 'Current Ver',\n",
              "       'Android Ver'],\n",
              "      dtype='object')"
            ]
          },
          "metadata": {},
          "execution_count": 9
        }
      ]
    },
    {
      "cell_type": "markdown",
      "source": [
        "## Content Rating v/s rating"
      ],
      "metadata": {
        "id": "FrRkqX55Q0gB"
      }
    },
    {
      "cell_type": "code",
      "source": [
        "sns.barplot(x=play_store[\"Content Rating\"], y=play_store[\"Rating\"])\n",
        "sns.set(rc={'figure.figsize':(9,6)})"
      ],
      "metadata": {
        "colab": {
          "base_uri": "https://localhost:8080/",
          "height": 502
        },
        "id": "_BxVQ4v7Q973",
        "outputId": "9f2d46ed-44d0-48f9-e972-69a3234a10d7"
      },
      "execution_count": null,
      "outputs": [
        {
          "output_type": "display_data",
          "data": {
            "text/plain": [
              "<Figure size 648x576 with 1 Axes>"
            ],
            "image/png": "[encoded data removed]"
          },
          "metadata": {}
        }
      ]
    },
    {
      "cell_type": "markdown",
      "source": [
        "## Average Rate Distribution & app rating with different category\n",
        "   "
      ],
      "metadata": {
        "id": "2O1-Hqk3tD9o"
      }
    },
    {
      "cell_type": "code",
      "source": [
        "## general distribution of rating\n",
        "rating_distribution = [go.Histogram(\n",
        "        x = play_store.Rating,\n",
        "        xbins = {'start': 1, 'size': 0.1, 'end' :5})]\n",
        "\n",
        "print('Average app rating = ', np.mean(play_store['Rating']))\n",
        "plotly.offline.iplot(rating_distribution, filename='overall_rating_distribution')"
      ],
      "metadata": {
        "colab": {
          "base_uri": "https://localhost:8080/",
          "height": 559
        },
        "id": "LZ8zoaCYtovg",
        "outputId": "c018c88d-461d-4c7d-c1d3-1a29d71179f9"
      },
      "execution_count": null,
      "outputs": [
        {
          "output_type": "stream",
          "name": "stdout",
          "text": [
            "Average app rating =  4.173243045387993\n"
          ]
        },
        {
          "output_type": "display_data",
          "data": {
            "text/html": [
              "<html>\n",
              "<head><meta charset=\"utf-8\" /></head>\n",
              "<body>\n",
              "    <div>            <script src=\"https://cdnjs.cloudflare.com/ajax/libs/mathjax/2.7.5/MathJax.js?config=TeX-AMS-MML_SVG\"></script><script type=\"text/javascript\">if (window.MathJax) {MathJax.Hub.Config({SVG: {font: \"STIX-Web\"}});}</script>                <script type=\"text/javascript\">window.PlotlyConfig = {MathJaxConfig: 'local'};</script>\n",
              "        <script src=\"https://cdn.plot.ly/plotly-2.8.3.min.js\"></script>                <div id=\"67a807b4-e910-4711-b45d-833a81f95956\" class=\"plotly-graph-div\" style=\"height:525px; width:100%;\"></div>            <script type=\"text/javascript\">                                    window.PLOTLYENV=window.PLOTLYENV || {};                                    if (document.getElementById(\"67a807b4-e910-4711-b45d-833a81f95956\")) {                    Plotly.newPlot(                        \"67a807b4-e910-4711-b45d-833a81f95956\",                        [{\"x\":[4.1,3.9,4.7,4.5,4.3,4.4,3.8,4.1,4.4,4.7,4.4,4.4,4.2,4.6,4.4,3.2,4.7,4.5,4.3,4.6,4.0,4.1,4.7,4.7,4.8,4.7,4.1,3.9,4.1,4.2,4.1,4.5,4.2,4.7,3.8,4.7,4.1,4.7,4.0,4.2,4.5,4.4,3.8,4.2,4.7,4.6,4.2,4.3,4.2,4.0,3.8,4.6,3.9,4.3,4.9,4.4,4.2,4.0,3.9,4.6,4.9,4.3,4.6,4.9,3.9,4.0,4.3,3.9,4.2,4.8,3.6,4.2,4.8,4.8,4.6,4.5,4.3,4.5,4.9,3.9,4.4,4.0,4.3,3.7,4.4,4.3,3.2,4.6,4.6,4.5,3.7,4.6,4.6,4.6,4.0,4.4,4.0,4.7,4.9,4.7,3.9,3.9,4.2,4.6,4.3,4.7,4.7,4.8,4.2,4.3,4.5,4.1,4.2,4.5,4.4,4.0,4.1,4.1,4.4,4.6,4.5,3.9,4.4,4.6,3.8,4.0,4.3,4.5,4.1,3.7,4.7,4.2,4.6,4.5,4.6,4.4,4.2,4.5,4.5,4.5,4.5,4.4,4.5,4.6,4.8,3.9,4.6,4.2,4.1,4.7,4.2,4.3,3.3,4.6,4.8,4.7,4.1,4.6,4.1,4.6,4.7,4.5,3.9,4.4,4.3,4.2,4.5,4.4,3.4,4.9,4.6,4.4,4.4,4.4,4.4,3.5,4.4,4.1,4.3,4.4,4.3,4.3,4.1,4.4,4.3,3.9,4.8,4.5,4.4,4.0,4.3,4.0,4.2,4.5,4.2,4.2,4.6,4.1,4.6,3.1,3.9,4.3,4.1,4.4,4.1,4.1,4.5,4.4,4.4,4.3,4.4,4.6,4.2,4.4,4.7,3.8,3.9,4.3,4.4,4.7,4.5,4.2,4.7,4.8,4.2,4.3,4.4,4.1,3.8,4.3,3.8,3.5,4.1,4.6,4.3,4.5,4.1,4.5,4.6,4.0,4.2,4.4,4.0,4.2,4.2,4.1,3.8,3.9,3.9,4.5,4.5,4.6,4.7,4.7,4.8,3.9,4.1,4.4,4.6,4.5,4.7,4.4,4.5,3.9,3.2,3.2,4.1,4.5,4.2,4.2,3.7,4.5,4.6,4.5,4.7,4.4,3.5,3.3,4.5,4.4,4.2,5.0,4.4,4.7,4.4,4.4,4.6,4.0,4.4,4.3,4.3,4.4,4.3,4.0,4.3,4.3,4.4,4.3,4.3,4.3,4.3,4.3,4.0,4.5,4.3,3.7,4.5,3.9,4.4,3.6,4.4,4.2,4.4,4.1,4.4,4.3,4.2,4.2,4.4,4.4,3.9,4.2,4.4,4.6,4.3,4.3,4.4,3.7,4.3,3.9,4.5,3.7,4.3,4.0,4.1,4.2,4.2,4.1,4.4,4.1,4.3,4.3,4.5,4.3,4.2,4.2,4.5,4.3,4.3,4.3,4.2,4.6,4.2,4.5,4.1,4.2,4.1,4.3,4.1,4.2,4.0,4.2,4.2,4.3,4.4,4.2,4.4,4.2,4.8,4.4,4.4,4.4,4.0,4.5,4.4,4.1,4.2,4.5,4.3,4.5,4.0,4.2,4.5,4.6,4.1,4.0,4.2,4.6,4.1,4.3,4.2,4.3,4.1,4.6,4.2,2.6,3.5,4.0,4.1,3.7,4.1,4.2,4.5,4.4,4.2,4.0,4.1,3.1,4.4,4.2,4.1,3.9,4.3,4.4,3.5,4.0,3.3,4.5,4.4,4.1,3.9,3.9,3.6,4.0,3.6,3.4,4.2,4.1,3.4,3.0,4.6,4.1,3.9,1.9,3.5,2.5,3.9,3.4,3.5,4.4,3.8,4.2,2.5,2.8,4.1,4.2,3.5,4.3,3.3,4.1,4.2,3.5,4.2,4.4,4.1,4.2,4.3,3.0,4.0,3.3,4.1,3.7,4.0,4.0,4.1,3.3,4.4,4.3,3.4,4.0,3.6,4.2,3.5,4.0,4.1,4.4,4.2,4.1,4.2,3.9,4.1,3.9,4.0,4.2,4.5,3.9,3.6,4.4,3.5,4.4,4.8,4.6,4.7,4.8,2.7,5.0,4.8,5.0,4.8,4.9,3.0,4.7,1.0,5.0,4.7,5.0,5.0,3.0,4.1,5.0,3.7,4.5,4.2,4.3,4.4,3.4,4.7,4.8,4.7,3.5,4.7,3.8,2.9,4.7,4.6,4.7,4.6,4.7,4.5,4.7,4.8,4.6,4.6,4.6,4.2,4.9,3.8,4.2,4.4,4.4,4.3,4.5,4.4,4.6,3.9,4.4,4.3,4.4,4.2,4.4,4.0,4.2,3.8,4.5,4.7,4.5,4.3,4.2,4.3,4.7,4.7,4.6,4.5,4.4,4.6,4.5,4.5,4.4,4.4,4.2,4.5,4.1,4.0,4.1,4.3,4.3,4.3,4.6,4.1,4.6,4.7,4.7,4.3,4.7,4.6,4.6,4.6,4.3,4.2,4.0,4.5,4.2,4.1,4.4,4.0,4.5,4.4,4.0,4.2,4.3,4.2,4.5,4.2,4.6,4.2,4.7,4.4,4.4,4.0,4.6,4.4,4.3,4.1,4.2,4.3,4.3,4.3,4.0,4.2,4.0,4.0,3.8,4.1,3.9,4.1,4.5,4.4,4.0,4.4,4.5,4.3,4.5,4.2,3.5,4.8,4.4,4.1,4.9,4.7,4.7,4.7,4.4,4.0,4.2,4.3,4.5,3.5,4.2,3.1,4.6,4.2,4.3,4.3,4.1,3.8,3.4,4.3,4.4,4.4,4.0,3.7,3.9,4.5,4.4,4.3,4.2,4.2,4.5,4.7,4.5,4.5,3.4,4.2,4.3,4.2,4.6,4.1,4.2,4.2,4.3,4.4,3.9,4.1,4.3,4.6,3.6,4.3,4.3,4.1,4.1,4.2,3.9,4.2,3.7,4.5,3.7,3.8,4.3,3.0,4.1,4.2,4.1,3.9,4.0,4.4,4.2,4.0,3.9,4.0,4.2,4.0,4.3,3.9,4.5,4.1,4.5,3.6,3.8,3.7,3.8,3.7,4.1,3.7,3.9,3.9,3.9,4.1,3.9,4.2,4.3,4.6,4.3,4.6,4.5,4.6,3.9,4.2,4.4,4.2,4.3,4.6,4.3,4.5,4.0,4.0,4.5,4.5,4.0,4.0,4.2,4.4,4.6,4.6,4.1,4.6,4.4,4.6,4.9,4.5,4.6,4.7,4.3,4.2,4.3,5.0,4.4,5.0,4.5,4.5,4.8,4.4,5.0,3.7,4.1,4.8,4.6,4.4,4.4,3.6,3.7,3.8,4.2,4.2,4.2,3.3,3.4,4.3,4.2,4.7,4.1,4.7,4.0,3.6,4.0,3.6,4.3,4.2,4.2,4.1,4.0,4.1,4.4,4.7,4.5,4.3,4.6,4.3,4.0,4.5,4.5,3.6,4.2,4.1,3.5,4.4,4.0,4.5,4.2,4.6,4.2,4.8,4.5,4.2,4.3,4.4,4.4,4.6,4.6,4.6,4.4,4.3,4.2,4.2,3.8,4.5,4.6,4.6,4.7,4.6,4.6,3.8,4.3,4.3,4.5,4.6,4.6,4.7,4.5,4.4,3.9,4.5,4.6,4.1,4.5,4.4,4.5,4.6,4.2,4.4,4.1,3.9,4.5,3.7,4.1,4.4,4.6,4.3,4.3,4.4,4.3,4.4,4.1,4.4,4.2,4.3,4.3,3.9,4.1,4.1,4.2,4.5,4.7,4.4,4.6,4.6,4.3,4.0,4.4,4.6,4.2,4.1,3.6,4.1,4.6,4.7,4.7,4.7,4.7,4.1,3.4,3.8,3.7,4.2,3.1,3.5,4.7,4.5,4.2,4.3,4.0,4.5,4.6,4.7,4.1,4.3,3.8,4.4,4.3,4.2,4.3,3.8,4.3,3.7,4.5,3.6,4.8,3.3,4.7,4.6,4.6,3.4,4.6,4.0,4.1,4.5,4.4,4.5,4.0,4.1,4.5,4.6,4.1,4.5,4.6,4.5,4.3,3.6,4.4,4.6,4.1,4.3,3.9,4.1,4.3,4.7,4.6,4.4,4.2,4.5,4.2,4.5,4.5,4.3,4.0,4.8,4.0,4.9,4.8,4.9,4.8,4.4,3.3,4.7,4.6,4.8,4.8,4.8,4.5,4.4,4.5,4.5,4.5,4.8,3.9,4.6,4.5,4.5,4.7,4.7,4.4,4.2,3.9,4.2,4.4,4.6,4.6,4.2,4.5,4.7,4.5,4.5,3.7,4.5,4.6,4.6,4.7,4.5,4.5,4.6,4.0,4.3,4.4,4.5,4.2,4.6,4.9,4.5,4.6,4.5,4.6,4.6,4.5,4.5,4.4,3.9,4.6,4.4,4.5,4.5,4.4,4.4,4.4,4.2,4.5,4.5,4.4,4.3,4.6,4.6,4.9,4.4,4.3,4.1,4.6,4.8,4.5,4.7,4.6,4.3,4.6,4.3,4.6,4.6,4.5,4.6,4.6,4.5,4.1,4.5,4.6,4.5,4.8,4.8,4.5,4.1,4.4,4.2,4.5,4.3,4.6,4.0,4.6,4.6,4.4,4.7,4.4,4.4,4.4,4.5,4.0,4.6,4.1,4.0,4.4,4.4,4.1,3.5,4.3,4.5,4.2,4.5,4.1,4.5,3.7,4.3,4.5,4.6,4.7,4.6,4.0,4.4,4.8,4.2,4.1,4.4,4.3,4.5,4.8,4.2,4.5,4.1,4.1,4.0,4.3,4.5,4.6,3.7,3.7,4.2,4.5,4.3,3.9,4.6,4.3,4.4,4.6,4.5,3.8,4.4,4.7,3.4,4.3,4.3,4.0,4.0,3.8,4.3,3.6,3.8,4.5,4.6,4.5,4.7,4.3,3.7,4.2,3.4,3.9,4.0,4.0,4.0,4.0,4.1,3.9,4.4,4.4,4.3,4.1,3.9,4.4,4.6,4.1,3.8,4.6,3.5,4.7,4.3,4.5,4.4,3.4,4.3,4.3,4.6,4.6,4.2,4.6,4.4,3.9,4.5,3.8,4.3,3.7,5.0,3.2,4.5,4.7,4.0,4.1,3.8,4.7,4.5,4.2,4.1,3.1,4.1,4.1,4.3,4.0,4.6,4.4,4.4,4.3,4.6,3.2,4.5,4.6,4.6,4.3,3.0,4.4,4.4,4.3,3.5,4.3,4.5,3.7,4.5,4.2,4.3,4.6,4.5,3.9,4.3,3.3,4.7,4.2,3.2,4.4,3.5,3.7,3.8,3.8,3.7,4.6,4.0,3.6,3.8,4.1,4.7,3.9,4.1,4.6,4.2,4.6,4.2,4.4,4.6,4.1,3.9,4.0,4.1,4.1,4.1,4.1,4.4,4.3,4.4,4.2,4.4,4.3,4.1,4.0,4.2,4.1,3.9,4.4,4.6,4.5,4.5,4.8,4.4,4.5,4.5,4.6,4.5,4.5,4.5,4.4,4.7,4.5,4.2,4.4,4.6,4.3,4.3,4.2,4.6,4.4,4.4,4.5,4.4,4.3,4.6,4.3,4.2,4.2,4.5,4.5,4.5,4.7,4.7,4.5,4.4,4.3,3.8,4.6,4.6,4.4,4.3,4.1,4.3,4.4,4.6,4.3,4.4,4.7,4.5,4.4,4.6,4.5,4.4,4.6,4.5,4.7,4.6,4.7,4.5,4.8,4.5,4.7,4.5,4.3,4.5,4.5,4.6,4.7,4.6,4.4,4.5,4.6,4.5,4.5,4.4,4.2,4.5,4.7,4.1,4.4,4.2,4.4,4.7,4.3,4.7,4.2,4.3,4.4,4.1,4.1,4.2,4.7,4.6,4.5,3.1,4.1,3.4,4.4,4.3,4.6,4.4,4.3,4.6,4.2,4.5,4.2,4.5,4.4,4.6,4.5,4.3,4.6,4.4,4.4,4.5,4.6,4.6,4.6,4.1,4.5,4.6,4.4,4.7,4.6,4.3,4.5,4.6,4.2,4.5,4.8,4.1,4.3,4.4,4.0,4.2,4.0,4.2,4.5,4.7,4.2,4.4,4.6,4.9,4.4,4.5,4.6,4.2,4.5,4.6,4.6,4.6,4.3,4.6,4.3,4.3,4.6,4.5,4.2,4.7,4.3,4.0,4.4,4.3,4.6,4.7,4.4,4.4,4.3,4.2,4.5,4.5,4.5,4.6,4.3,4.5,4.4,4.6,4.5,4.5,4.6,4.6,4.3,4.5,4.7,4.5,4.7,4.7,4.6,4.4,4.3,4.5,4.3,4.4,4.2,4.4,4.7,4.2,4.1,4.5,4.5,4.5,4.1,4.3,4.5,4.4,4.5,4.6,4.0,4.3,4.5,4.6,4.5,4.5,4.4,4.7,4.4,4.4,4.6,4.2,4.6,4.6,4.6,4.3,4.6,4.4,4.3,4.7,4.4,4.4,4.5,4.6,4.5,4.3,4.7,4.5,4.5,4.4,4.3,4.6,4.2,4.5,4.3,4.5,4.4,4.4,4.8,4.4,4.3,4.6,4.5,4.5,4.5,4.0,4.6,4.5,4.5,4.4,4.5,4.5,4.2,4.3,4.5,4.2,4.3,4.4,4.6,4.5,4.2,4.5,4.6,4.6,4.1,4.5,4.6,4.6,4.5,4.3,3.8,4.5,4.1,4.8,3.9,4.5,4.4,4.3,4.2,3.0,4.1,4.5,4.6,4.3,4.3,4.5,4.2,4.2,4.4,4.5,4.1,4.2,4.1,4.7,4.3,4.4,4.4,4.3,4.3,4.2,4.2,4.3,4.3,4.1,4.2,4.5,4.3,4.5,4.1,4.2,4.4,4.0,4.1,4.4,4.1,4.0,4.3,4.6,4.3,4.7,4.3,4.4,4.2,4.7,3.9,4.1,4.1,4.1,4.2,4.4,4.3,4.5,4.3,4.3,4.1,4.1,4.1,4.6,4.1,4.4,4.4,4.3,4.0,4.8,3.8,4.7,4.5,4.8,4.4,4.8,4.2,4.2,4.0,4.7,4.7,3.9,4.5,4.1,4.4,3.9,4.4,3.6,4.4,4.1,3.6,4.6,4.3,4.5,4.4,4.1,3.9,4.1,3.9,4.2,3.8,4.3,3.9,4.0,4.0,4.0,4.3,4.3,4.2,4.3,4.2,4.6,4.1,4.5,4.5,4.3,4.2,4.4,4.6,4.5,4.8,4.5,3.2,4.6,4.5,4.1,4.6,4.5,4.4,4.4,4.4,3.8,4.6,2.5,4.0,5.0,4.3,3.4,3.4,4.3,4.4,4.4,4.2,5.0,4.1,3.9,4.6,4.2,4.4,4.2,3.6,4.5,4.7,4.6,4.5,4.2,4.2,4.3,4.4,4.1,4.4,4.6,4.4,4.2,4.5,2.6,4.6,4.8,4.2,4.7,3.0,3.5,4.6,4.8,4.2,4.6,4.4,4.8,4.0,3.7,4.2,4.8,4.7,3.5,3.9,4.2,4.8,2.7,4.2,4.7,4.6,4.5,4.7,4.7,4.5,4.7,4.0,3.4,3.5,3.0,4.7,4.6,4.2,4.8,4.5,4.2,3.8,3.0,4.4,4.5,4.0,3.6,4.4,4.7,3.6,4.5,4.1,4.6,4.7,4.7,2.8,4.3,4.6,4.3,3.4,4.0,4.8,4.2,3.0,4.5,3.7,4.5,4.5,3.6,4.4,4.4,4.5,4.1,4.6,4.3,4.3,4.7,4.5,4.2,4.4,3.9,4.2,4.1,4.1,3.5,4.2,4.0,4.3,4.3,2.3,4.5,4.3,3.1,4.4,2.9,3.1,3.7,4.0,3.8,4.4,4.3,3.7,5.0,3.0,3.7,3.7,5.0,5.0,5.0,5.0,5.0,5.0,5.0,5.0,5.0,4.3,4.9,5.0,4.9,4.6,5.0,4.0,5.0,2.6,4.3,4.7,2.5,4.5,4.3,4.4,4.5,3.8,4.0,4.5,3.7,4.3,4.4,3.8,4.3,3.8,5.0,3.6,4.0,4.3,4.7,5.0,4.7,4.6,3.1,4.4,5.0,3.6,2.8,4.4,4.6,4.2,3.8,3.5,4.1,4.5,4.3,4.4,4.4,4.2,4.0,4.3,4.6,4.4,4.2,4.4,4.4,4.3,4.6,4.4,4.5,4.6,4.6,4.6,4.4,4.5,4.5,4.3,4.4,4.6,4.3,4.8,4.2,4.6,4.0,4.6,4.3,3.6,4.0,4.5,4.4,4.5,4.2,4.5,4.3,4.2,4.2,4.3,4.3,4.1,4.5,4.3,4.2,4.1,4.3,4.2,4.1,4.1,3.7,3.9,3.7,3.6,4.1,4.1,4.1,4.3,4.3,4.2,4.5,4.1,3.8,4.4,4.0,4.2,4.0,4.4,4.0,4.4,4.1,4.3,4.0,4.4,4.2,4.0,4.5,4.6,4.3,4.2,4.3,4.6,4.4,4.4,4.5,4.3,4.2,4.2,4.4,4.6,4.2,3.6,4.5,4.4,3.8,4.7,3.6,4.2,3.6,4.3,4.4,4.5,4.1,4.3,4.3,4.7,4.3,4.2,4.2,4.3,4.2,4.3,4.6,4.4,4.3,3.8,4.6,4.5,4.1,4.4,4.3,3.8,4.0,3.3,4.1,4.1,4.2,4.1,4.4,4.1,4.2,4.5,4.3,4.1,4.5,4.4,4.6,4.5,4.6,4.7,4.3,4.4,4.4,4.7,4.1,4.2,4.5,4.2,4.3,4.1,4.6,4.2,4.2,4.2,4.2,4.0,4.4,4.0,4.5,3.9,4.5,4.2,4.3,4.4,4.5,4.6,4.3,4.7,4.4,4.0,4.5,4.1,4.4,4.5,4.4,4.3,3.8,4.5,4.1,4.6,4.8,4.0,4.7,4.7,4.1,4.5,3.6,4.5,4.7,4.7,4.5,4.2,4.5,4.4,4.5,4.5,4.4,3.7,4.3,4.5,4.4,3.3,4.3,4.4,4.5,4.4,4.2,4.5,4.7,4.5,4.6,4.6,4.4,4.3,4.3,4.6,4.4,4.5,4.5,4.2,4.0,4.4,4.7,4.3,4.6,4.4,4.5,4.3,4.3,4.4,4.4,4.6,4.3,4.2,4.3,3.9,4.3,4.4,4.2,4.3,4.3,4.3,4.1,4.4,4.3,4.0,4.0,4.0,4.4,4.3,4.1,4.2,3.9,4.4,4.4,4.1,4.0,4.3,4.2,4.0,4.1,4.1,4.0,4.3,4.5,4.0,4.4,4.1,4.3,4.3,4.2,4.3,4.4,3.8,4.4,4.4,4.6,4.0,4.2,4.6,4.1,4.2,4.6,4.6,4.4,4.7,4.4,4.3,4.5,4.2,3.8,4.4,4.6,4.2,4.5,4.5,4.2,4.1,4.3,4.0,4.3,4.5,4.2,4.3,4.4,4.2,4.1,4.4,4.7,4.6,4.2,4.3,4.3,4.5,4.6,4.5,4.4,4.7,4.2,4.3,4.2,3.9,3.9,4.2,4.3,4.6,4.3,4.0,4.0,4.0,4.6,4.3,4.2,4.3,4.4,4.0,4.6,4.7,4.3,4.0,4.5,4.7,4.4,4.8,3.3,4.3,3.9,4.4,3.9,4.4,4.4,4.1,4.0,3.1,2.9,4.0,4.5,4.3,4.1,4.3,4.5,4.6,4.4,4.2,4.3,3.4,4.6,4.2,4.0,4.1,4.0,4.6,4.5,4.4,3.5,4.0,4.8,4.1,4.6,4.3,4.6,4.5,4.3,4.5,4.0,4.6,4.1,3.5,4.5,3.9,4.6,4.6,4.5,4.5,4.4,4.0,4.2,4.2,4.5,4.1,4.2,4.4,4.4,4.1,4.3,4.5,4.5,4.4,4.5,4.7,4.4,4.1,4.4,4.4,4.3,4.0,4.7,4.3,4.6,3.9,3.6,4.0,4.1,4.2,3.9,4.3,3.1,3.7,3.4,4.4,3.6,3.3,3.7,3.0,3.6,4.8,3.9,3.8,4.3,4.5,3.4,3.7,4.4,4.1,4.5,4.0,3.9,4.4,4.8,4.3,3.7,4.2,3.5,4.3,4.7,4.3,4.1,3.1,4.3,4.1,4.2,4.3,4.3,4.3,4.6,4.4,4.2,4.2,4.4,4.4,4.4,4.4,4.4,3.7,4.4,3.6,4.4,4.0,4.1,4.4,4.4,4.3,4.2,4.3,4.3,4.2,4.4,4.1,4.6,4.4,4.1,4.5,4.5,4.2,4.2,4.2,4.5,4.7,4.0,4.2,4.1,4.4,4.4,4.2,4.2,4.1,4.5,4.6,4.1,4.2,4.1,4.0,4.6,3.1,4.6,4.5,3.2,4.3,4.6,4.4,4.6,4.5,4.6,4.4,4.2,4.4,3.1,3.6,4.1,4.2,3.5,3.9,3.0,3.9,4.5,3.4,4.4,3.4,4.3,3.7,3.5,3.8,3.6,3.1,3.8,4.2,4.0,4.3,4.3,4.5,4.5,4.5,4.4,4.4,4.3,4.2,4.7,4.4,4.3,4.4,4.3,4.5,4.7,4.5,4.6,4.7,4.6,4.8,3.9,4.5,4.6,4.5,4.4,4.5,4.0,4.3,4.0,4.4,4.1,4.3,4.1,4.3,4.2,4.2,4.2,4.2,4.3,4.5,4.4,4.5,4.1,4.4,4.5,4.3,4.4,4.1,4.4,4.2,4.1,4.6,4.5,4.3,4.1,4.1,4.2,4.1,4.6,4.5,4.0,3.5,4.4,4.4,4.4,4.1,4.2,4.6,4.4,4.6,4.6,4.5,4.7,4.4,4.5,4.6,4.6,4.0,4.6,4.5,4.7,4.7,4.4,4.3,4.7,4.1,4.7,4.4,4.6,4.5,4.4,4.4,4.3,4.3,4.6,4.7,4.3,4.5,4.6,4.4,4.5,4.7,4.3,3.7,4.7,4.5,4.4,4.3,4.8,4.6,4.1,4.7,4.1,4.2,4.3,4.2,4.0,4.2,3.9,4.3,4.1,4.2,4.4,4.3,4.3,4.4,4.3,4.1,4.2,4.1,4.1,4.2,4.1,4.4,4.1,4.3,4.6,4.1,4.6,4.2,4.1,4.2,4.5,4.3,4.2,4.0,4.2,4.2,4.4,4.4,4.3,4.3,4.6,4.5,4.1,4.3,4.4,4.2,4.2,4.1,4.5,4.7,4.3,4.4,4.4,3.8,4.4,4.3,4.2,4.5,3.2,4.5,4.2,4.4,4.7,4.4,4.0,4.4,4.0,4.6,4.5,4.2,4.0,4.4,4.5,3.9,4.2,4.3,4.2,4.2,4.4,4.7,4.6,3.1,4.4,4.1,4.5,4.6,4.3,3.9,4.5,4.3,3.7,4.5,4.4,4.0,4.0,4.4,4.7,4.6,4.2,4.5,4.6,4.0,4.5,4.4,4.3,4.5,4.5,4.4,4.6,4.3,4.5,4.3,4.1,4.2,4.2,4.6,4.2,4.3,4.3,4.5,4.2,4.6,4.4,4.3,4.6,4.2,4.2,4.2,4.0,4.3,4.6,4.3,4.0,4.2,4.2,4.5,4.2,4.4,4.6,4.3,4.6,4.4,4.6,4.6,4.1,4.4,4.1,4.3,4.1,4.1,4.5,3.9,3.8,4.6,4.7,4.0,4.7,4.1,3.7,4.1,3.7,4.6,4.4,4.6,4.1,4.4,4.7,4.4,4.8,4.0,4.9,4.8,4.4,4.7,4.2,4.6,4.6,4.5,4.6,4.1,3.8,4.8,4.8,4.5,4.0,4.4,4.7,3.9,4.4,4.4,4.5,4.4,4.8,4.4,4.8,4.5,4.7,4.5,3.5,4.4,4.3,4.4,4.2,4.6,4.4,4.4,3.9,4.3,4.5,4.2,3.7,4.2,3.9,3.6,4.5,4.3,4.3,4.2,4.6,4.5,4.5,4.2,3.9,4.8,3.8,4.5,4.5,4.2,4.0,4.2,4.3,4.3,4.2,4.3,3.6,3.9,4.8,3.9,3.7,4.6,4.4,4.4,4.2,4.1,3.8,4.4,4.5,4.6,4.7,4.3,4.5,4.3,3.7,3.9,3.6,4.5,4.4,3.8,4.6,4.2,4.3,3.8,4.4,3.1,4.6,4.1,4.5,4.0,4.5,4.3,3.7,3.9,3.5,3.3,4.3,4.4,4.4,4.5,4.4,4.3,4.5,4.3,4.6,4.1,4.2,3.5,4.0,3.8,4.3,4.3,4.1,4.3,4.5,4.4,4.0,4.1,4.6,4.3,3.9,4.5,4.7,4.3,4.5,3.1,4.7,3.8,4.0,4.2,4.0,4.2,3.4,4.6,4.5,4.0,4.4,4.2,4.1,4.4,4.0,3.7,4.6,4.5,4.6,4.5,3.9,4.3,4.4,4.3,4.4,3.6,4.5,3.6,4.1,4.4,4.1,4.2,4.7,3.9,3.9,4.4,4.6,4.0,4.3,4.2,4.3,4.0,4.1,4.6,4.5,4.2,4.3,4.2,4.2,4.0,4.2,4.3,3.9,4.0,4.5,4.1,4.5,4.6,4.2,4.1,4.4,4.4,4.2,4.5,4.2,4.4,4.4,4.0,4.3,4.4,4.2,4.3,4.1,4.4,4.3,4.4,4.2,4.7,4.3,4.5,3.7,4.3,4.2,4.1,4.5,4.8,4.3,4.7,4.3,4.2,3.7,4.6,4.5,4.3,4.5,4.2,4.2,4.3,4.3,4.4,3.7,4.4,4.4,4.2,3.5,4.2,4.2,4.2,3.9,4.3,3.7,4.3,4.3,4.6,4.6,3.9,4.6,4.1,4.8,4.3,4.4,3.3,4.2,3.8,3.7,4.5,4.1,4.4,3.7,4.8,4.3,4.1,4.5,4.4,4.3,3.8,4.5,3.7,4.5,4.6,4.3,4.4,4.3,4.3,4.4,4.2,4.9,4.6,4.6,3.4,3.8,4.7,4.6,3.8,4.4,3.9,4.1,4.5,3.7,4.4,3.8,3.1,5.0,4.4,4.3,2.9,3.1,3.3,4.1,4.4,4.5,4.3,4.3,2.2,4.2,4.5,3.9,4.1,3.3,4.5,4.1,4.8,4.1,4.5,4.5,4.3,4.4,4.7,4.4,4.2,4.2,4.5,4.6,4.7,4.8,4.7,4.7,1.7,4.5,4.0,3.6,2.0,4.7,4.1,4.3,4.3,4.5,4.4,4.6,3.7,4.5,4.0,4.8,4.0,4.7,4.8,4.6,4.3,4.2,4.8,4.2,4.2,4.5,4.6,4.5,4.3,4.8,4.2,4.4,4.5,4.2,4.6,4.6,4.5,4.5,4.5,4.4,4.1,4.6,4.5,4.5,4.3,4.3,3.3,3.7,4.5,4.4,3.1,4.0,3.9,4.4,4.8,3.6,3.4,4.7,4.4,4.4,4.5,4.3,4.5,4.0,4.3,4.5,4.0,4.2,4.3,4.6,4.4,4.3,4.2,4.3,4.3,4.6,3.6,4.2,4.2,4.4,4.3,4.9,4.5,4.2,3.8,4.2,1.0,4.4,4.0,4.4,4.4,4.5,3.4,3.8,3.7,4.1,4.4,4.2,4.5,4.3,4.2,3.6,4.4,4.6,4.5,4.4,4.2,4.3,1.8,3.8,4.4,3.0,3.4,4.6,3.7,3.0,4.6,3.1,4.3,4.3,3.8,4.5,3.6,4.2,4.5,4.2,3.3,4.3,4.2,3.8,2.9,4.5,4.3,4.9,4.4,4.4,4.4,2.9,4.2,4.0,4.3,4.3,3.9,4.0,4.6,3.7,4.0,4.6,4.4,4.5,3.0,3.1,4.5,4.5,4.5,4.1,4.6,4.2,3.9,3.9,3.9,4.2,3.7,2.8,4.1,4.4,2.7,4.7,4.2,4.4,4.0,4.0,4.7,4.3,4.4,4.0,4.3,4.2,4.6,3.3,2.3,4.2,4.1,3.2,3.5,4.6,4.1,4.1,4.1,4.7,3.5,3.9,4.1,4.7,4.6,4.5,4.7,4.9,4.3,4.1,4.4,4.2,4.1,4.6,4.3,4.4,4.5,4.6,4.8,4.3,4.8,4.8,3.7,4.1,3.7,4.2,4.5,4.6,4.9,4.4,4.6,4.0,4.8,4.3,4.4,4.2,4.6,4.8,4.0,4.3,4.7,4.3,4.0,4.0,4.0,4.1,4.6,3.1,4.9,4.5,4.0,4.0,3.6,4.5,4.2,4.3,3.9,4.3,4.3,4.4,4.3,4.4,4.3,4.4,3.5,4.4,4.4,4.5,4.4,4.4,3.9,3.9,4.3,4.9,3.7,3.3,3.8,3.5,4.2,3.5,3.6,3.9,4.2,4.2,4.0,3.2,2.4,4.5,4.1,4.2,3.7,4.3,4.2,4.1,3.9,3.8,4.4,3.4,4.0,4.4,3.3,4.8,4.5,3.4,4.3,4.3,4.1,4.0,4.4,3.8,4.4,3.8,4.2,3.8,4.8,4.7,4.3,3.5,3.9,4.2,4.6,4.7,4.5,3.8,4.5,3.7,3.5,4.1,3.9,4.1,4.6,4.4,4.6,4.0,4.4,4.4,4.4,4.0,3.8,3.9,3.7,4.2,4.1,4.3,4.3,4.1,4.4,3.8,4.3,3.8,4.5,3.8,3.9,4.0,4.3,4.4,4.6,5.0,4.4,4.4,4.2,4.0,4.2,4.6,4.1,3.9,4.6,4.4,3.9,4.6,4.5,3.0,3.6,4.4,4.6,4.3,5.0,4.5,4.1,4.1,4.5,4.8,4.5,4.0,4.8,3.7,4.5,4.7,2.7,2.9,4.2,4.4,4.2,3.4,2.6,4.1,4.3,4.2,4.4,4.0,4.4,4.1,4.8,2.2,3.8,3.1,3.1,3.8,3.8,4.3,3.6,4.0,4.4,4.6,4.5,1.8,4.7,3.9,4.4,3.6,4.4,3.9,3.9,3.8,4.2,4.1,4.4,4.4,5.0,4.1,4.5,4.3,3.9,3.5,3.2,3.3,4.8,4.5,3.7,4.8,4.7,4.3,3.8,4.1,4.7,4.2,4.2,4.6,4.6,4.2,4.1,3.5,4.1,4.4,4.5,4.1,4.5,4.3,4.4,4.3,4.3,3.8,3.9,4.1,4.8,4.0,4.3,4.0,3.7,3.3,4.1,3.0,4.1,3.0,3.8,4.0,4.6,4.1,3.6,4.7,3.5,3.1,3.9,4.2,4.4,4.4,3.3,4.8,4.2,4.5,3.8,4.1,4.2,4.2,4.0,4.2,3.8,4.5,3.7,4.3,4.5,4.1,4.2,4.5,4.0,4.3,4.7,4.1,3.2,3.9,4.1,3.4,3.0,4.6,4.6,4.1,3.1,3.4,4.2,4.2,3.0,2.4,4.1,2.9,4.0,4.0,3.8,2.4,4.4,3.7,4.3,4.6,4.2,4.8,3.6,3.2,4.0,3.5,4.4,2.5,3.9,4.4,4.2,4.2,4.3,4.1,4.2,4.2,3.9,3.9,3.8,4.5,4.2,3.7,4.3,4.6,3.3,3.6,4.1,3.8,3.3,4.5,4.8,4.6,4.3,4.5,4.2,3.8,4.7,4.2,4.3,4.7,4.7,3.6,4.2,4.0,4.3,4.7,4.6,4.8,3.8,4.2,3.2,4.3,4.3,4.4,1.9,2.5,4.2,4.3,4.0,4.5,4.8,4.2,4.7,4.4,4.4,4.4,4.6,4.6,4.2,4.0,4.2,4.5,4.7,4.2,4.4,3.2,4.1,4.0,4.7,4.6,4.6,4.7,4.8,4.6,4.2,4.3,3.3,4.7,4.5,4.0,4.5,4.2,4.6,4.2,4.7,4.7,4.2,4.3,4.3,4.5,4.4,4.5,4.6,4.3,3.8,4.5,4.5,3.9,4.0,2.7,4.5,4.0,2.9,4.6,4.4,4.6,4.4,4.4,4.2,4.8,4.3,4.6,4.6,4.1,4.4,4.5,4.4,4.2,4.5,4.6,4.5,4.6,4.0,4.5,4.2,3.9,4.7,4.5,4.3,4.2,3.9,4.1,2.2,4.2,4.2,2.8,3.9,4.3,4.8,4.3,4.1,4.2,4.4,4.1,4.6,4.3,4.3,3.8,4.8,3.8,3.9,4.3,4.3,4.3,4.1,4.2,4.5,4.6,3.8,4.7,4.5,4.7,4.5,4.8,4.6,4.3,4.8,3.4,4.6,4.5,4.4,4.4,4.6,4.2,4.3,4.3,3.8,3.9,4.3,4.8,4.2,4.5,4.8,4.6,4.2,4.2,4.0,4.3,4.8,4.1,4.7,4.8,4.0,3.5,3.8,3.5,3.3,3.7,3.3,3.4,1.8,1.6,1.9,3.6,3.4,3.2,2.5,4.7,2.6,2.8,3.9,4.2,3.9,4.0,3.5,3.1,3.7,3.6,3.4,4.0,3.7,1.7,2.4,4.3,3.3,4.1,4.1,3.4,3.0,3.0,2.2,3.7,3.7,4.8,3.7,3.6,3.7,4.4,3.8,3.7,3.7,4.8,4.2,4.1,4.1,4.3,3.9,3.8,4.0,4.5,4.6,4.1,4.4,3.7,3.9,3.9,4.5,4.5,4.4,4.3,4.5,4.7,4.7,4.1,3.3,4.2,4.1,3.4,4.3,4.9,4.5,4.1,4.4,4.4,3.4,4.1,4.1,3.5,3.8,4.6,5.0,4.2,3.9,3.7,4.3,1.9,4.2,4.2,4.0,4.4,4.2,4.5,4.3,4.4,4.0,4.2,4.3,4.0,4.3,3.9,4.0,3.7,4.1,3.9,4.2,4.4,4.5,3.9,3.9,4.2,4.5,4.1,4.7,4.4,4.7,4.7,4.0,3.9,3.8,3.9,4.4,4.5,3.8,3.5,4.2,4.7,2.0,4.3,2.8,3.9,3.4,4.5,4.7,2.0,4.4,4.7,3.3,4.1,4.2,4.4,3.7,3.9,5.0,4.1,4.8,4.0,4.1,3.8,4.6,4.3,4.1,4.1,4.4,4.2,4.1,4.3,4.3,4.0,4.5,4.1,3.8,4.5,4.1,3.9,3.7,4.5,4.4,3.4,2.3,4.7,3.4,4.7,5.0,3.6,5.0,4.3,5.0,4.1,4.1,4.5,3.4,2.9,4.6,5.0,3.9,3.9,5.0,4.1,5.0,3.0,4.0,1.0,4.0,4.0,3.8,3.5,2.6,3.4,4.5,3.4,3.8,3.0,4.4,4.0,3.9,4.6,3.8,3.8,4.0,3.6,4.4,3.1,4.2,4.6,4.0,5.0,3.3,4.1,3.6,3.2,4.4,4.0,4.4,4.5,4.3,4.7,4.4,4.4,4.4,3.7,3.3,3.7,3.0,2.6,3.5,3.9,4.6,3.8,4.4,4.5,4.5,4.7,4.4,5.0,2.8,4.6,2.8,5.0,5.0,2.8,3.8,4.1,4.8,5.0,5.0,4.4,5.0,4.1,4.8,4.8,4.0,5.0,4.6,5.0,4.5,5.0,4.4,4.0,3.9,4.1,4.8,4.3,3.9,4.5,3.7,4.3,4.2,3.7,3.8,4.6,3.3,3.0,3.9,3.9,4.1,4.6,4.4,3.8,4.4,4.9,3.6,4.3,3.6,4.1,3.4,4.5,4.7,4.5,4.4,4.3,4.6,4.2,4.8,4.6,4.8,4.6,4.6,4.6,4.1,4.7,4.7,4.8,3.6,4.7,4.6,4.5,4.7,4.5,4.3,4.5,4.8,4.7,4.7,4.7,4.7,4.7,4.7,4.7,4.6,4.7,4.7,4.6,3.8,3.9,4.0,3.8,4.1,2.9,3.8,3.5,4.2,4.6,4.4,4.4,4.1,3.9,3.6,4.0,3.8,4.3,4.6,3.6,3.9,4.0,4.2,4.2,4.2,4.5,4.7,3.5,4.5,4.6,4.2,4.1,4.5,4.2,4.5,4.4,3.7,4.4,4.3,4.3,4.5,3.8,4.5,4.5,4.4,4.7,3.5,4.9,4.0,4.1,4.2,4.4,4.1,4.6,4.6,4.7,4.5,4.4,4.4,4.2,4.4,4.0,4.2,4.2,4.2,4.8,3.7,3.4,4.3,4.3,4.6,4.2,4.6,4.1,4.6,4.3,4.4,4.7,4.2,3.8,4.3,3.7,4.3,2.9,4.3,4.3,4.0,3.3,4.1,5.0,3.9,4.6,4.0,3.6,4.0,4.5,2.9,4.2,4.5,4.6,4.7,4.2,4.7,4.7,3.9,4.7,3.7,4.8,4.0,4.6,4.4,4.7,3.6,4.4,4.6,2.9,4.5,5.0,3.7,3.7,4.2,3.0,5.0,4.4,4.7,4.3,3.9,4.4,4.3,4.6,4.5,3.9,4.7,5.0,5.0,5.0,2.7,4.6,4.4,4.1,3.8,4.4,4.6,4.1,4.5,4.2,4.7,4.3,4.3,4.2,3.8,4.0,4.6,4.3,4.3,4.3,4.7,4.4,3.8,4.6,4.6,4.5,4.5,3.8,4.3,4.3,3.7,3.2,4.0,3.8,4.4,3.8,3.4,2.9,4.5,3.7,3.8,4.1,4.1,3.7,3.6,3.0,4.1,3.8,4.2,4.4,4.5,3.6,3.6,3.7,3.9,4.2,4.1,4.5,2.8,2.6,4.3,4.4,4.1,4.0,4.3,3.9,3.5,3.7,4.3,4.3,4.1,4.2,4.3,4.3,4.1,4.4,4.4,4.4,4.3,2.4,4.5,4.5,4.5,4.4,4.6,3.4,3.9,4.3,4.4,4.5,4.4,4.0,4.3,4.2,4.0,4.4,4.6,4.0,4.4,3.5,4.6,4.0,4.0,4.1,4.1,3.3,3.9,4.1,4.2,4.0,4.5,3.8,3.5,4.3,4.6,4.7,3.8,4.7,4.8,3.2,4.5,3.9,3.6,3.7,4.4,4.1,4.0,3.1,4.0,2.8,3.7,2.7,3.9,3.6,4.5,3.5,4.0,3.8,3.6,4.2,4.4,4.0,4.7,4.1,4.0,4.7,3.8,5.0,4.4,4.0,3.8,4.1,4.3,4.5,4.4,3.4,4.1,4.1,3.8,4.3,4.4,4.4,3.3,3.3,4.4,3.7,3.4,2.3,3.3,2.7,4.6,3.5,3.4,4.3,4.1,4.7,4.4,3.8,3.0,4.4,4.2,4.5,3.5,4.5,4.5,4.5,4.0,4.8,4.3,1.7,4.3,4.2,4.2,4.3,4.0,4.2,4.6,4.1,4.6,4.1,4.0,3.3,4.1,4.0,4.4,4.2,3.8,3.1,5.0,4.2,4.7,4.4,4.6,4.4,2.9,2.7,4.6,4.0,4.8,5.0,3.9,4.2,4.1,4.7,4.2,4.2,3.7,4.1,4.1,3.8,4.6,4.4,4.2,4.4,4.6,5.0,4.5,3.5,3.9,4.4,3.0,3.1,4.4,3.0,3.7,3.7,3.9,4.8,4.6,4.6,4.5,4.3,5.0,4.3,4.7,4.0,3.8,5.0,4.8,4.5,4.3,3.7,4.3,3.8,4.5,4.6,4.1,4.2,5.0,3.3,3.6,4.0,4.0,4.0,4.2,4.3,4.2,4.5,4.3,4.6,4.4,4.2,4.2,4.2,3.4,3.2,4.0,4.6,3.2,4.4,4.0,4.7,3.7,3.9,4.2,4.1,3.5,4.8,4.3,3.9,3.5,4.3,4.4,4.8,3.9,3.8,4.2,4.0,4.0,4.4,4.7,4.5,4.3,4.3,4.1,2.1,3.7,4.4,4.2,2.1,2.4,4.1,3.1,5.0,3.5,4.2,4.7,4.8,4.5,4.6,4.6,4.9,4.8,4.0,3.9,4.1,4.1,4.5,4.2,4.0,4.4,1.9,3.7,4.2,4.0,4.3,2.5,4.4,4.7,4.6,4.4,4.3,4.4,3.6,3.8,4.4,4.4,3.0,3.7,5.0,4.2,4.8,4.4,4.1,4.7,4.7,3.3,4.0,1.0,4.4,4.2,4.4,4.6,4.3,4.4,3.7,2.9,4.0,3.3,4.2,4.5,2.3,5.0,3.6,3.9,4.4,4.2,4.8,4.3,4.2,4.4,4.3,4.0,1.4,3.3,4.3,4.6,4.7,4.2,3.9,3.4,4.3,4.8,4.8,4.5,3.3,4.2,4.9,4.2,4.6,4.1,4.6,4.0,4.2,5.0,4.1,3.7,4.1,3.8,4.7,3.5,4.0,4.2,3.3,3.7,3.4,3.7,5.0,4.4,5.0,4.8,4.4,4.9,4.0,4.4,4.5,4.9,4.4,5.0,4.8,4.6,4.3,3.8,4.3,4.3,4.1,4.5,4.2,3.8,4.3,4.4,4.2,4.2,3.8,4.2,4.0,4.2,4.3,4.3,4.4,4.1,4.5,4.2,4.3,4.4,4.5,4.3,4.0,3.4,4.4,3.8,3.0,4.1,4.4,4.1,4.1,4.1,4.5,4.1,2.2,3.9,4.0,4.3,3.9,4.0,4.2,4.2,3.6,4.3,4.4,2.6,4.1,3.5,4.2,3.7,4.5,2.4,2.9,4.2,4.2,4.0,2.6,4.4,4.8,4.7,4.4,4.6,2.7,3.8,1.7,4.6,3.3,4.6,2.3,4.5,4.8,5.0,4.1,4.9,3.0,4.8,4.5,3.4,4.0,3.7,2.2,4.8,5.0,4.5,4.3,3.8,4.5,4.5,4.8,4.5,4.4,3.9,4.3,4.3,4.0,4.1,3.7,3.4,4.5,4.4,4.4,2.4,4.1,4.6,4.3,4.3,4.7,4.2,4.3,4.3,4.7,4.2,4.1,4.6,4.7,4.3,4.5,4.6,2.9,4.0,3.0,3.9,4.8,3.9,4.0,5.0,4.0,5.0,4.5,4.8,4.6,4.2,3.4,2.6,2.4,4.6,3.3,4.1,4.6,3.9,4.0,3.4,4.5,4.0,5.0,3.6,3.5,4.6,4.9,3.7,5.0,4.0,3.9,5.0,4.0,4.9,4.4,3.6,4.7,4.3,3.9,4.5,4.6,4.3,4.6,4.5,4.2,4.5,4.0,4.2,4.7,4.4,4.2,4.0,2.3,4.5,3.6,4.4,3.9,3.9,4.8,4.2,3.7,4.0,1.0,4.4,4.2,4.7,3.6,4.1,3.3,5.0,4.3,4.7,4.0,4.4,4.6,5.0,4.3,4.3,3.8,4.1,4.6,4.0,4.7,3.6,4.5,4.0,4.1,4.0,3.8,4.5,2.8,4.2,4.8,5.0,5.0,4.3,4.3,4.5,4.5,5.0,3.8,4.4,5.0,4.7,4.7,2.2,4.6,4.6,4.7,4.6,4.4,3.8,3.6,4.9,4.8,4.4,5.0,4.8,4.6,5.0,4.6,5.0,4.0,4.3,4.5,4.0,3.2,4.6,4.2,4.8,3.0,4.3,3.9,3.9,4.8,3.5,4.4,4.1,4.2,4.7,4.0,4.4,4.2,5.0,3.5,3.8,4.5,4.1,4.3,4.3,4.4,4.0,4.3,4.0,4.9,4.7,4.3,4.2,4.1,3.2,3.9,4.2,4.1,4.9,3.7,3.5,4.9,3.3,4.9,3.4,4.5,4.3,5.0,3.5,4.4,3.7,4.8,4.3,4.9,5.0,4.3,4.3,4.4,1.0,4.5,4.0,5.0,4.9,4.7,3.9,3.2,3.5,3.7,3.0,4.2,4.0,4.1,4.0,3.1,4.4,3.2,3.9,4.2,4.7,4.0,4.0,3.7,4.1,4.4,4.0,3.9,3.6,4.6,4.4,1.9,4.3,4.5,4.1,3.8,4.1,4.6,3.7,3.9,4.4,4.5,4.4,3.5,4.3,4.5,4.5,4.4,4.2,4.3,3.6,4.0,3.8,4.4,3.9,4.1,4.3,3.5,4.3,4.7,4.5,3.8,4.5,4.2,4.3,4.1,4.6,4.5,3.0,2.6,3.4,4.0,3.4,3.7,4.5,3.9,4.0,4.5,4.0,4.4,1.8,4.3,5.0,5.0,3.2,4.2,4.6,3.8,3.9,4.2,4.0,3.8,4.1,3.9,4.4,2.1,1.8,4.2,2.0,3.4,3.6,3.7,4.7,4.5,4.6,3.6,4.4,4.6,2.3,3.0,5.0,4.5,4.4,4.5,4.8,4.3,3.7,4.5,4.3,4.4,3.4,4.5,1.6,4.5,3.8,4.3,4.3,3.0,4.0,4.8,4.0,4.5,4.7,1.9,4.9,4.4,4.7,4.9,4.8,4.5,4.6,4.5,5.0,3.9,4.3,4.8,4.3,4.6,4.1,4.5,4.3,3.8,2.4,4.3,2.8,4.5,4.6,4.1,4.2,4.6,4.3,4.6,5.0,5.0,3.9,4.2,3.9,4.2,3.5,4.0,3.7,3.8,4.3,4.5,4.6,4.5,4.3,4.4,4.6,3.9,3.9,3.1,3.9,4.4,4.4,4.4,4.6,3.9,4.6,2.5,4.6,2.8,4.0,3.4,3.8,4.5,4.8,3.3,3.9,3.5,4.5,4.0,3.6,4.7,3.9,5.0,4.6,3.9,4.9,3.6,3.7,3.9,2.7,3.8,2.8,3.5,4.1,4.7,4.3,4.5,4.1,4.8,3.4,5.0,4.3,4.4,1.8,4.2,3.3,5.0,4.8,4.5,5.0,4.5,4.7,4.6,4.5,3.5,3.5,2.9,5.0,4.8,4.7,4.3,4.1,5.0,5.0,4.0,4.3,4.1,5.0,5.0,4.0,3.5,4.1,4.6,4.1,4.2,2.2,4.3,4.7,3.8,4.1,3.1,4.2,3.0,4.8,3.7,3.1,4.6,2.9,4.2,4.7,4.5,2.8,4.4,4.4,4.1,4.6,3.0,4.1,4.4,4.5,4.5,3.6,2.0,4.0,4.5,4.0,4.3,4.5,4.8,4.5,4.2,4.5,4.6,3.9,4.3,3.9,4.3,3.7,4.7,4.3,1.7,4.5,4.7,5.0,4.6,2.9,4.8,2.3,3.8,4.2,4.4,4.0,4.1,3.4,4.3,4.0,4.2,4.1,4.7,4.2,3.9,3.8,4.1,4.2,3.8,4.7,3.7,4.3,4.0,4.2,4.6,4.7,4.3,4.2,3.5,4.7,4.7,4.5,4.5,4.7,4.6,4.6,4.9,4.2,4.3,4.4,4.5,4.3,4.4,4.4,3.0,4.8,4.7,4.6,4.0,3.7,3.5,2.7,4.7,4.1,4.5,4.6,4.5,4.4,4.3,4.4,4.5,4.6,4.6,3.1,4.7,4.6,4.7,4.4,4.8,4.1,4.3,4.4,4.7,4.0,3.4,4.6,2.8,3.1,3.9,4.2,4.1,4.2,3.3,4.4,4.4,4.6,4.4,4.5,4.1,2.2,4.2,4.8,3.2,4.3,4.6,4.4,4.5,3.4,3.3,4.2,2.4,3.2,3.1,3.8,4.8,3.7,4.2,3.7,3.0,3.9,4.0,5.0,4.0,2.7,3.1,4.1,4.0,3.8,3.8,4.3,3.5,4.5,3.9,4.5,3.3,4.1,5.0,3.7,4.8,1.5,5.0,4.6,5.0,4.7,4.7,5.0,4.5,5.0,5.0,4.2,1.0,4.5,4.2,5.0,4.2,4.4,3.9,4.6,3.8,4.0,4.6,3.4,5.0,4.6,5.0,3.0,3.8,4.2,4.3,4.4,3.2,3.5,4.4,4.5,3.7,5.0,4.5,4.5,4.1,3.4,4.1,5.0,4.2,4.1,4.1,4.2,4.3,5.0,4.4,4.3,4.5,4.8,4.4,4.4,4.7,4.3,4.4,4.6,2.8,5.0,4.4,2.0,5.0,4.4,5.0,3.4,4.4,3.4,3.3,1.5,5.0,4.3,4.3,2.2,4.6,5.0,4.7,4.7,3.5,4.3,3.6,4.3,3.6,2.6,4.7,4.5,4.0,4.6,5.0,4.2,4.2,4.7,4.5,3.6,3.8,4.2,3.8,3.5,4.1,5.0,4.2,4.1,3.6,4.3,4.1,4.4,4.0,5.0,5.0,3.8,4.3,4.7,4.5,4.4,4.7,3.7,4.3,4.0,3.9,4.9,3.5,3.5,4.4,4.2,4.3,4.7,4.5,4.4,4.2,4.4,3.3,4.9,4.5,4.7,4.7,3.9,4.7,4.7,4.4,4.8,4.8,4.0,3.7,5.0,3.0,3.9,4.6,4.6,4.3,4.2,5.0,4.5,4.2,1.0,4.6,4.1,4.7,4.4,4.8,4.2,5.0,4.6,4.5,5.0,2.9,4.4,3.0,4.5,2.4,4.3,3.9,1.9,4.4,5.0,4.0,4.7,3.9,5.0,4.2,4.2,2.8,4.2,1.0,3.9,4.1,4.1,3.2,5.0,5.0,4.3,4.1,3.8,4.0,4.2,5.0,4.1,5.0,4.1,3.5,3.9,4.2,3.8,3.7,2.8,4.7,4.3,4.1,4.7,4.2,4.0,3.2,4.6,5.0,4.4,4.5,4.0,4.6,4.7,4.1,4.5,4.3,5.0,5.0,4.2,4.0,5.0,2.7,4.1,4.4,4.3,4.1,4.7,4.4,3.6,4.0,4.1,4.0,4.1,4.0,5.0,3.6,4.1,4.3,4.1,2.6,2.7,3.8,5.0,4.2,5.0,2.6,4.4,4.3,4.7,2.8,4.1,3.6,4.0,5.0,5.0,4.7,4.7,4.7,4.6,4.6,4.6,4.6,3.8,4.1,3.4,4.5,4.5,4.5,4.0,4.7,4.4,4.4,4.7,4.7,4.2,4.2,4.0,3.6,4.7,4.4,4.3,4.4,4.4,4.4,4.3,3.3,3.6,4.5,4.3,3.6,4.3,4.4,4.1,4.2,4.8,4.2,3.7,4.5,4.1,4.6,4.5,4.7,4.3,4.3,4.6,4.1,4.2,4.3,4.2,4.3,3.6,4.2,4.2,4.0,4.6,4.3,4.4,4.5,4.3,4.2,4.7,4.6,4.5,4.1,4.5,3.4,4.2,3.9,4.4,4.1,4.3,3.9,4.0,5.0,4.2,4.3,4.5,4.5,4.5,3.5,3.6,1.9,4.3,3.2,1.6,4.2,4.9,4.4,3.6,3.4,4.7,2.9,4.3,4.4,4.3,4.6,4.6,4.2,3.5,2.9,4.4,4.7,4.5,4.4,2.0,4.7,4.4,4.4,4.4,4.5,3.5,4.2,3.7,4.4,3.4,4.3,3.6,4.6,4.6,4.2,4.3,3.8,1.4,4.4,4.0,4.6,3.9,3.8,4.7,4.2,4.3,4.1,4.3,4.2,3.6,4.6,4.3,5.0,5.0,5.0,4.5,3.8,3.9,4.8,4.1,4.0,4.8,4.8,4.4,4.1,4.4,4.3,3.7,4.3,4.3,2.7,4.4,4.5,4.2,3.7,5.0,4.2,3.9,4.5,3.5,4.7,4.2,4.4,4.7,4.6,4.0,2.5,3.8,4.7,4.5,4.6,4.6,5.0,3.9,5.0,2.3,3.6,4.0,3.7,4.2,4.1,4.4,4.6,4.2,4.4,4.3,4.0,4.5,3.9,3.7,4.6,3.8,4.7,3.4,4.5,4.1,4.3,4.6,4.3,4.3,4.0,3.5,2.3,3.9,4.1,4.5,4.6,4.4,3.1,4.3,3.3,5.0,4.2,3.8,3.3,5.0,1.0,4.5,4.6,4.3,4.4,4.1,4.5,4.2,3.7,4.1,3.9,4.5,3.6,3.2,3.5,3.7,4.6,4.8,4.1,4.4,4.3,4.0,3.1,4.2,4.1,3.5,4.3,3.8,4.3,4.8,2.3,4.3,4.4,3.6,5.0,4.3,4.2,4.3,4.7,3.9,4.4,4.4,4.3,2.6,4.3,3.8,4.2,4.2,4.1,4.0,4.4,4.7,2.6,4.3,5.0,3.7,4.3,4.1,4.3,3.8,4.5,5.0,3.9,3.8,4.6,4.6,4.7,5.0,4.5,3.5,3.3,4.8,3.9,4.5,3.4,5.0,5.0,4.8,3.6,4.3,4.0,4.5,4.6,4.7,3.8,3.4,4.7,4.0,4.6,2.0,4.3,2.0,3.6,4.7,3.5,4.0,3.5,4.3,4.1,4.6,3.8,4.3,3.8,1.0,3.8,3.3,4.8,3.0,4.0,3.6,3.8,4.3,3.9,4.2,4.0,4.6,4.6,4.5,3.7,4.4,4.6,3.9,4.4,4.5,4.5,4.3,3.7,3.9,3.9,4.3,4.1,4.1,4.4,4.4,4.2,4.5,4.6,4.4,4.4,4.4,3.8,2.6,4.2,4.4,4.2,4.0,4.2,4.0,4.4,4.5,3.2,4.3,3.4,2.3,4.4,4.3,4.3,3.6,4.6,4.2,4.0,3.2,1.7,2.2,3.8,4.8,4.4,4.5,4.8,4.6,3.7,4.4,3.5,3.8,3.8,4.3,4.6,4.5,3.7,4.8,4.3,5.0,3.9,3.0,5.0,4.4,4.6,3.9,3.3,4.1,3.0,4.2,4.2,4.2,4.0,3.2,4.6,3.2,4.1,3.3,4.4,4.0,4.2,4.1,4.3,3.3,4.7,4.4,3.1,3.1,3.3,3.9,3.4,3.9,4.4,3.9,3.7,4.5,4.7,4.6,5.0,3.0,3.9,5.0,3.9,3.8,3.6,3.9,3.8,4.8,4.5,4.0,4.7,4.8,4.7,4.7,4.5,4.0,3.2,4.7,4.5,4.5,4.9,4.2,5.0,5.0,5.0,4.2,4.7,4.5,4.5,4.5,3.8,4.5,4.3,3.9,3.9,4.2,4.5,4.1,4.1,4.6,3.3,4.5,2.2,4.4,3.9,4.5,2.8,3.3,3.1,3.2,4.4,4.1,5.0,3.8,4.3,4.6,3.7,4.9,4.3,5.0,2.9,4.4,4.4,4.6,4.5,4.0,3.5,4.8,4.8,3.5,4.6,4.4,4.3,4.7,4.4,4.0,3.5,4.6,3.9,3.5,4.6,4.2,4.6,4.0,4.2,3.8,4.1,4.1,4.2,4.0,3.6,3.3,4.7,4.5,3.9,4.3,3.9,4.3,3.1,4.4,3.7,4.6,4.6,2.7,4.1,4.2,1.9,4.6,4.2,4.4,4.2,3.9,2.4,5.0,3.9,3.7,5.0,4.0,3.0,4.1,4.8,4.5,3.5,4.5,4.5,4.3,4.4,4.4,4.2,4.5,4.3,4.3,4.2,4.9,4.1,1.4,4.0,5.0,4.2,4.3,3.8,4.1,4.2,4.1,4.3,3.6,4.3,4.6,4.4,5.0,4.4,4.5,4.7,5.0,3.4,3.1,4.5,5.0,4.3,4.4,4.3,4.0,4.5,4.0,4.1,3.8,4.6,4.1,4.3,4.3,4.2,4.3,4.4,3.9,4.5,3.5,4.2,4.1,4.1,4.7,4.5,3.3,4.2,4.6,4.3,4.3,4.0,4.7,5.0,5.0,4.9,4.3,4.5,4.1,4.3,4.5,3.9,3.7,4.2,3.6,3.6,2.1,4.7,3.2,3.0,4.3,3.0,4.3,3.9,3.3,4.3,4.0,3.7,2.8,4.4,5.0,3.9,4.2,4.8,4.0,3.0,4.5,2.6,5.0,5.0,4.1,4.5,5.0,4.7,4.5,4.4,4.4,4.3,4.2,3.0,4.1,4.2,4.2,4.0,4.3,4.1,3.6,4.3,5.0,3.9,4.1,3.8,5.0,3.7,4.3,4.2,4.3,2.5,4.3,4.3,4.2,4.6,4.0,2.9,4.5,3.8,4.7,3.9,4.5,4.2,4.4,4.8,4.2,4.5,4.5,4.6,4.1,4.3,4.7,4.4,4.2,4.3,4.5,4.8,4.5,4.6,4.7,4.4,4.1,4.3,4.2,4.2,3.6,2.8,3.9,3.8,4.4,3.7,2.7,3.8,3.2,3.9,2.3,4.1,4.3,3.1,4.6,4.1,4.4,3.2,4.5,3.7,4.4,4.5,5.0,4.8,4.6,4.0,4.1,4.1,4.8,4.3,2.8,4.7,4.5,4.2,4.3,3.8,3.8,4.2,3.8,4.0,4.0,4.6,4.0,4.3,4.3,3.9,5.0,4.0,4.1,3.9,4.2,4.3,4.5,4.4,4.1,4.5,4.6,4.1,3.9,4.7,3.9,4.3,2.9,4.4,3.7,4.4,4.1,2.8,4.9,3.4,2.8,2.5,4.7,3.1,3.2,4.3,3.9,3.6,3.2,3.5,3.3,2.4,4.4,2.8,5.0,4.4,5.0,3.3,2.9,4.1,4.6,2.2,4.3,5.0,2.5,3.0,3.7,5.0,5.0,4.1,4.1,2.6,4.6,4.5,4.5,3.3,4.4,4.7,4.7,4.0,4.5,4.3,4.6,4.7,4.4,4.0,4.2,4.1,4.3,4.7,4.1,3.1,4.0,4.4,4.4,4.6,4.0,4.6,4.3,4.3,3.9,4.5,4.7,4.3,4.6,4.2,4.3,4.2,4.1,4.6,4.4,3.7,4.4,3.9,4.3,4.3,4.5,4.5,4.5,4.7,4.3,4.4,4.5,4.3,4.3,4.2,4.2,4.3,4.2,4.7,4.1,4.3,4.1,3.8,4.5,4.1,4.3,4.5,4.1,4.4,4.3,4.4,4.3,4.1,4.6,4.7,4.2,3.7,4.7,4.4,4.7,4.2,4.6,4.5,4.8,3.7,4.3,4.2,4.1,2.3,4.3,4.6,4.5,4.0,4.2,4.6,4.2,4.5,4.4,4.0,2.8,3.8,4.1,3.8,3.4,4.5,4.3,3.1,4.6,3.3,3.9,4.2,4.9,3.9,3.7,4.6,4.4,4.0,4.2,4.6,4.4,4.6,4.5,3.7,4.1,4.2,4.0,4.5,4.6,4.5,4.4,3.3,4.2,4.2,4.0,4.0,4.0,3.5,4.5,3.9,3.9,4.1,4.4,4.2,4.4,4.3,4.1,4.0,4.3,4.5,4.6,3.7,3.8,3.4,4.3,3.8,4.7,4.4,4.4,4.1,4.4,4.0,3.9,4.3,4.2,3.3,4.0,4.6,4.1,4.1,3.4,3.4,4.1,4.0,3.4,3.2,3.8,3.8,3.9,3.6,3.8,3.9,3.2,1.0,4.6,3.6,4.9,2.6,3.9,3.5,3.2,3.3,3.8,3.9,4.6,1.8,4.3,3.9,4.8,3.7,4.0,4.1,4.6,4.0,4.8,4.0,3.5,3.0,4.6,1.6,3.8,1.7,4.6,5.0,4.6,4.4,4.5,3.8,4.0,4.1,5.0,5.0,1.0,4.4,4.7,4.6,2.4,4.5,4.4,4.3,5.0,4.1,3.8,3.9,3.1,4.7,3.5,4.5,4.6,4.5,4.5,4.4,4.4,4.2,4.6,4.5,3.8,4.3,4.6,4.3,3.6,4.2,4.7,4.3,4.7,4.8,3.1,4.5,4.4,4.5,4.5,4.7,4.1,4.4,4.3,4.6,3.4,4.7,3.6,3.7,2.1,2.0,3.5,4.3,2.4,4.5,2.8,4.5,2.8,3.9,3.2,3.1,2.4,4.6,2.9,4.0,3.7,2.3,2.9,4.6,4.3,5.0,4.2,4.6,4.5,4.2,4.8,3.5,4.6,3.5,3.6,5.0,3.0,2.9,3.7,4.6,4.2,3.2,2.5,4.4,4.3,2.7,4.0,4.5,3.4,4.3,4.3,4.3,4.0,4.9,3.4,4.9,4.3,4.7,4.8,4.3,4.3,4.0,3.5,5.0,4.7,4.2,4.4,4.2,5.0,5.0,2.0,3.7,3.9,4.5,3.1,4.5,4.7,4.4,3.8,4.2,4.5,4.5,4.6,4.2,4.5,4.2,4.2,4.1,4.3,5.0,4.6,4.0,4.4,4.5,3.6,4.6,4.0,4.6,4.5,4.5,4.8,5.0,4.4,4.0,3.5,5.0,4.0,4.2,4.0,3.9,4.5,3.6,4.2,3.0,3.0,4.0,3.4,4.9,4.0,4.4,4.1,4.4,4.0,4.5,4.2,3.9,3.6,5.0,4.4,3.6,4.7,4.2,4.5,4.7,4.3,4.2,4.4,4.7,4.4,4.1,4.5,4.1,4.0,4.3,4.2,4.2,4.1,4.2,5.0,4.0,4.0,4.5,4.1,4.7,4.4,4.9,3.6,4.2,4.4,4.5,4.2,4.2,4.5,4.4,4.4,4.5,3.9,4.3,4.4,4.5,4.0,4.5,4.0,4.4,4.3,2.5,4.4,3.8,4.4,4.2,4.1,4.2,3.9,4.5,4.1,4.4,4.3,4.5,3.4,3.4,4.4,4.2,4.4,3.5,4.1,4.6,1.7,3.3,5.0,4.8,4.6,3.3,4.2,3.5,3.7,5.0,4.6,4.1,3.5,5.0,3.7,4.0,4.2,4.5,3.8,2.5,4.0,4.0,4.1,3.4,3.6,3.4,3.9,4.6,4.3,4.7,5.0,3.9,3.9,4.2,4.3,3.5,4.1,4.2,4.4,4.5,3.8,3.4,3.9,4.5,3.0,4.1,4.6,3.9,4.7,4.5,3.4,5.0,5.0,5.0,4.0,4.0,4.9,5.0,4.6,4.8,4.1,4.1,4.7,5.0,4.4,3.3,4.0,3.5,2.8,3.6,3.2,3.6,3.7,3.3,3.1,4.1,3.1,3.5,3.6,5.0,2.3,3.1,2.9,3.0,2.9,3.9,5.0,3.4,5.0,4.8,4.2,5.0,4.3,4.6,4.7,4.4,4.8,4.1,4.6,4.6,4.0,2.9,4.1,4.2,4.3,4.4,2.4,4.2,3.1,3.0,4.7,3.4,4.7,4.7,4.2,5.0,4.5,3.3,4.4,4.2,4.2,4.7,4.3,4.8,4.2,4.0,4.2,4.1,4.6,4.6,3.8,4.4,4.0,3.9,3.5,5.0,4.6,3.6,4.2,3.8,3.4,3.8,4.2,4.2,3.7,4.0,4.4,4.5,3.7,4.2,3.9,4.0,3.7,4.2,4.0,3.9,4.1,4.3,4.5,4.5,3.3,4.4,4.2,4.2,4.1,4.1,4.4,4.1,3.9,3.9,4.4,3.8,3.0,3.4,4.3,5.0,4.1,2.4,3.9,4.0,3.0,4.4,3.4,2.9,5.0,4.5,3.7,3.0,4.0,3.2,3.6,3.2,3.7,4.7,4.4,3.9,4.3,4.9,2.6,5.0,4.1,4.0,4.1,3.3,4.2,4.0,4.3,4.4,5.0,4.3,4.4,3.9,4.3,4.0,3.8,4.5,3.8,4.4,4.3,4.7,3.9,4.2,3.8,4.3,3.8,4.2,4.5,4.2,3.6,4.0,3.5,4.4,3.5,4.1,4.8,4.4,4.3,4.0,4.2,4.4,3.5,4.3,4.7,5.0,3.8,5.0,4.8,4.9,4.3,5.0,4.9,4.9,4.9,4.5,4.5,5.0,5.0,3.0,4.9,5.0,5.0,4.1,4.1,4.3,4.3,4.1,4.7,4.9,5.0,5.0,4.6,4.2,3.7,5.0,4.3,4.0,4.3,4.0,4.0,3.1,3.4,4.2,4.2,4.1,3.4,4.0,3.9,4.8,4.1,4.3,4.3,4.4,4.4,4.5,4.5,4.8,4.4,4.5,4.6,4.6,4.5,4.7,4.5,4.2,4.2,4.7,4.1,4.1,4.6,4.4,4.5,3.8,3.9,3.5,3.8,4.2,4.6,3.7,3.6,3.4,4.0,4.3,4.5,4.4,4.5,4.1,4.4,4.3,4.5,4.5,4.5,4.3,4.1,4.6,4.3,4.0,4.4,4.4,4.6,4.6,4.3,4.3,4.2,4.5,4.0,4.6,3.8,4.3,4.3,4.9,4.0,4.5,4.5,4.2,4.4,4.4,4.0,4.3,4.4,4.4,4.0,4.7,4.2,4.4,4.1,4.3,3.5,4.7,2.6,4.2,5.0,4.3,4.4,4.3,4.3,4.5,4.6,4.6,4.7,4.2,4.5,4.3,4.5,3.5,4.3,4.6,4.5,4.4,3.4,4.3,3.8,4.5,5.0,4.9,5.0,4.2,4.3,4.4,2.3,4.7,4.4,4.3,4.4,4.0,3.6,4.1,4.6,3.9,4.4,3.7,3.9,4.3,4.1,3.6,3.5,3.9,3.9,3.8,4.0,4.5,3.6,3.9,4.3,4.0,4.2,3.7,3.9,4.2,3.5,4.0,3.8,4.1,4.2,4.1,4.4,3.7,4.7,3.8,4.0,4.2,3.8,3.9,4.0,3.1,5.0,3.5,4.1,4.5,4.7,4.1,3.9,4.0,4.3,3.1,4.2,4.4,3.2,3.3,4.3,4.7,4.3,4.2,4.7,4.3,4.2,4.2,4.2,4.1,4.2,4.3,4.4,4.3,3.5,4.3,1.8,4.2,4.2,4.6,4.0,4.3,5.0,3.8,4.3,3.0,5.0,4.7,4.6,4.4,4.7,5.0,4.8,3.0,4.6,4.6,4.6,4.5,4.3,4.2,4.7,4.9,4.3,4.4,3.6,4.6,4.5,3.9,4.3,4.8,3.7,4.5,4.3,4.4,4.0,4.7,4.3,4.5,4.2,4.2,4.5,4.2,4.1,4.2,4.6,4.5,3.9,3.6,4.6,3.4,4.2,3.4,3.6,4.2,3.5,4.3,3.9,4.3,3.6,3.9,4.3,3.7,3.8,4.1,4.1,4.7,4.1,1.9,3.6,3.8,4.5,2.7,4.5,5.0,4.0,4.2,4.4,4.0,3.1,5.0,4.7,3.7,3.9,3.0,4.2,3.0,4.2,3.7,4.6,4.5,4.6,4.7,4.3,2.3,2.8,2.8,3.6,3.0,3.2,3.5,3.8,3.5,4.2,4.5,3.4,3.0,4.4,4.0,4.3,4.1,3.6,3.7,4.2,3.7,4.3,3.3,4.4,3.5,4.0,4.9,4.0,4.6,3.6,3.9,3.9,4.0,4.2,4.4,4.3,3.7,4.3,3.4,3.5,4.2,4.2,3.6,3.9,3.8,3.8,4.0,4.5,3.8,4.9,3.8,3.5,3.0,4.5,4.7,3.8,3.3,4.0,3.7,3.9,3.5,4.4,4.0,4.0,4.6,4.4,4.5,4.3,4.4,4.3,4.1,4.2,2.7,4.2,2.3,3.9,4.1,2.9,3.3,4.2,2.9,3.5,2.8,4.3,3.5,4.6,4.2,4.2,3.7,4.7,3.9,4.3,4.4,4.0,4.4,3.7,4.3,3.5,4.3,4.0,4.5,4.2,4.3,4.1,2.5,2.7,1.2,4.7,4.9,4.7,4.4,4.7,4.0,4.7,4.3,4.7,4.4,4.6,4.4,4.4,4.4,4.6,3.1,4.3,3.7,4.1,4.2,4.4,4.1,3.6,4.4,3.8,4.0,3.2,2.8,3.1,2.9,4.1,3.3,3.5,4.2,2.8,2.1,4.4,4.4,4.2,4.1,3.3,3.5,4.7,3.1,4.3,4.1,4.2,2.5,3.9,3.0,3.2,4.3,4.3,4.2,4.3,2.2,3.9,2.8,4.4,4.6,4.4,3.9,2.9,4.1,5.0,4.6,3.7,4.4,3.9,3.6,3.4,4.3,4.4,4.3,4.3,4.5,4.3,4.1,4.4,3.5,4.1,3.8,4.2,4.3,4.5,4.0,4.3,3.4,4.0,4.3,4.7,4.5,4.3,4.1,4.1,4.4,3.8,3.9,4.2,4.2,3.7,4.3,4.2,3.6,4.3,4.3,4.3,4.5,4.3,4.7,3.8,4.0,4.1,3.9,4.3,3.4,4.2,4.5,4.4,4.2,4.7,4.6,4.4,4.4,4.8,4.6,4.3,4.4,4.4,3.3,4.5,4.6,4.3,4.9,4.3,4.5,4.9,3.7,4.5,4.6,4.5,4.1,4.8,5.0,3.4,4.5,4.5,4.5,4.5,4.5,4.5,4.1,4.1,3.6,4.7,4.6,4.9,4.6,4.1,4.5,3.9,3.9,4.6,3.8,4.7,3.9,4.1,3.9,4.0,4.3,4.0,4.4,4.1,5.0,4.8,4.6,5.0,4.2,4.7,4.0,4.4,4.9,3.5,4.1,4.2,4.4,4.5,3.1,4.5,4.6,4.3,4.4,4.6,4.3,4.8,2.8,4.1,1.0,3.0,5.0,5.0,4.1,4.4,3.0,3.8,3.9,5.0,4.5,5.0,3.3,4.5,4.9,4.3,4.5,4.1,4.8,3.8,4.1,3.9,4.2,4.2,4.8,4.1,4.1,4.0,3.9,4.1,4.1,4.2,3.7,3.9,3.9,3.6,3.7,3.6,4.3,3.9,4.5,2.6,4.4,1.0,4.2,4.8,5.0,4.3,4.4,4.5,4.9,5.0,4.2,4.2,4.0,2.1,4.2,2.5,4.4,4.4,4.6,4.4,4.2,4.5,3.3,3.9,4.5,4.1,4.8,4.6,4.4,3.8,3.7,4.2,3.7,4.3,4.5,3.5,4.0,4.5,2.9,3.9,3.6,4.6,2.1,4.7,4.5,4.1,4.5,3.7,2.9,4.0,4.2,3.7,3.6,3.9,3.4,3.5,3.4,3.9,3.0,3.6,3.2,4.1,4.1,4.2,4.2,4.7,4.6,4.5,4.3,4.5,4.5,4.4,4.3,4.2,3.7,4.3,4.0,3.5,4.2,4.4,4.2,4.4,3.8,3.9,4.0,3.8,3.6,4.2,3.8,3.7,4.0,4.2,4.4,4.4,4.9,5.0,4.8,4.0,4.0,4.9,3.8,4.9,1.5,5.0,4.8,3.9,3.7,4.6,4.7,4.6,4.3,4.2,4.6,4.7,4.6,2.0,3.6,3.2,3.8,4.0,3.8,3.8,4.4,4.4,4.4,3.8,4.3,4.6,1.0,3.2,4.7,4.3,4.5,4.1,4.9,4.1,4.2,3.5,4.2,5.0,3.8,4.7,4.5,5.0,3.3,5.0,4.0,4.5,3.2,4.5,4.2,3.7,3.8,5.0,4.1,2.9,4.7,5.0,3.2,3.8,3.8,4.6,4.6,4.4,4.8,4.2,3.3,3.9,4.5,3.9,4.3,4.4,3.9,3.4,4.6,4.2,4.8,5.0,5.0,3.8,2.9,4.6,3.8,4.1,4.5,4.2,2.5,3.5,4.6,4.4,4.6,4.3,4.2,4.2,4.1,4.2,4.3,4.5,4.4,5.0,4.6,5.0,3.4,4.6,4.5,3.8,4.1,4.4,4.4,4.4,4.2,4.2,3.9,4.2,5.0,4.0,4.3,4.6,3.6,4.4,4.1,4.2,4.3,3.9,4.3,3.5,4.0,3.8,3.6,4.3,4.2,5.0,3.4,3.5,3.7,4.2,3.6,4.2,4.3,4.4,2.7,4.1,4.4,4.5,3.4,2.9,4.8,4.0,3.9,5.0,3.9,4.0,3.6,4.1,4.3,3.8,4.2,4.3,4.2,4.2,4.1,4.0,4.1,4.0,4.2,4.4,4.2,4.7,4.6,4.7,4.1,4.9,4.0,4.3,4.2,4.3,4.7,4.8,4.1,4.0,4.2,4.0,3.3,5.0,4.0,4.2,3.4,4.6,3.8,3.8,4.8,4.0,4.5,5.0,4.5,4.5],\"xbins\":{\"end\":5,\"size\":0.1,\"start\":1},\"type\":\"histogram\"}],                        {\"template\":{\"data\":{\"barpolar\":[{\"marker\":{\"line\":{\"color\":\"#E5ECF6\",\"width\":0.5},\"pattern\":{\"fillmode\":\"overlay\",\"size\":10,\"solidity\":0.2}},\"type\":\"barpolar\"}],\"bar\":[{\"error_x\":{\"color\":\"#2a3f5f\"},\"error_y\":{\"color\":\"#2a3f5f\"},\"marker\":{\"line\":{\"color\":\"#E5ECF6\",\"width\":0.5},\"pattern\":{\"fillmode\":\"overlay\",\"size\":10,\"solidity\":0.2}},\"type\":\"bar\"}],\"carpet\":[{\"aaxis\":{\"endlinecolor\":\"#2a3f5f\",\"gridcolor\":\"white\",\"linecolor\":\"white\",\"minorgridcolor\":\"white\",\"startlinecolor\":\"#2a3f5f\"},\"baxis\":{\"endlinecolor\":\"#2a3f5f\",\"gridcolor\":\"white\",\"linecolor\":\"white\",\"minorgridcolor\":\"white\",\"startlinecolor\":\"#2a3f5f\"},\"type\":\"carpet\"}],\"choropleth\":[{\"colorbar\":{\"outlinewidth\":0,\"ticks\":\"\"},\"type\":\"choropleth\"}],\"contourcarpet\":[{\"colorbar\":{\"outlinewidth\":0,\"ticks\":\"\"},\"type\":\"contourcarpet\"}],\"contour\":[{\"colorbar\":{\"outlinewidth\":0,\"ticks\":\"\"},\"colorscale\":[[0.0,\"#0d0887\"],[0.1111111111111111,\"#46039f\"],[0.2222222222222222,\"#7201a8\"],[0.3333333333333333,\"#9c179e\"],[0.4444444444444444,\"#bd3786\"],[0.5555555555555556,\"#d8576b\"],[0.6666666666666666,\"#ed7953\"],[0.7777777777777778,\"#fb9f3a\"],[0.8888888888888888,\"#fdca26\"],[1.0,\"#f0f921\"]],\"type\":\"contour\"}],\"heatmapgl\":[{\"colorbar\":{\"outlinewidth\":0,\"ticks\":\"\"},\"colorscale\":[[0.0,\"#0d0887\"],[0.1111111111111111,\"#46039f\"],[0.2222222222222222,\"#7201a8\"],[0.3333333333333333,\"#9c179e\"],[0.4444444444444444,\"#bd3786\"],[0.5555555555555556,\"#d8576b\"],[0.6666666666666666,\"#ed7953\"],[0.7777777777777778,\"#fb9f3a\"],[0.8888888888888888,\"#fdca26\"],[1.0,\"#f0f921\"]],\"type\":\"heatmapgl\"}],\"heatmap\":[{\"colorbar\":{\"outlinewidth\":0,\"ticks\":\"\"},\"colorscale\":[[0.0,\"#0d0887\"],[0.1111111111111111,\"#46039f\"],[0.2222222222222222,\"#7201a8\"],[0.3333333333333333,\"#9c179e\"],[0.4444444444444444,\"#bd3786\"],[0.5555555555555556,\"#d8576b\"],[0.6666666666666666,\"#ed7953\"],[0.7777777777777778,\"#fb9f3a\"],[0.8888888888888888,\"#fdca26\"],[1.0,\"#f0f921\"]],\"type\":\"heatmap\"}],\"histogram2dcontour\":[{\"colorbar\":{\"outlinewidth\":0,\"ticks\":\"\"},\"colorscale\":[[0.0,\"#0d0887\"],[0.1111111111111111,\"#46039f\"],[0.2222222222222222,\"#7201a8\"],[0.3333333333333333,\"#9c179e\"],[0.4444444444444444,\"#bd3786\"],[0.5555555555555556,\"#d8576b\"],[0.6666666666666666,\"#ed7953\"],[0.7777777777777778,\"#fb9f3a\"],[0.8888888888888888,\"#fdca26\"],[1.0,\"#f0f921\"]],\"type\":\"histogram2dcontour\"}],\"histogram2d\":[{\"colorbar\":{\"outlinewidth\":0,\"ticks\":\"\"},\"colorscale\":[[0.0,\"#0d0887\"],[0.1111111111111111,\"#46039f\"],[0.2222222222222222,\"#7201a8\"],[0.3333333333333333,\"#9c179e\"],[0.4444444444444444,\"#bd3786\"],[0.5555555555555556,\"#d8576b\"],[0.6666666666666666,\"#ed7953\"],[0.7777777777777778,\"#fb9f3a\"],[0.8888888888888888,\"#fdca26\"],[1.0,\"#f0f921\"]],\"type\":\"histogram2d\"}],\"histogram\":[{\"marker\":{\"pattern\":{\"fillmode\":\"overlay\",\"size\":10,\"solidity\":0.2}},\"type\":\"histogram\"}],\"mesh3d\":[{\"colorbar\":{\"outlinewidth\":0,\"ticks\":\"\"},\"type\":\"mesh3d\"}],\"parcoords\":[{\"line\":{\"colorbar\":{\"outlinewidth\":0,\"ticks\":\"\"}},\"type\":\"parcoords\"}],\"pie\":[{\"automargin\":true,\"type\":\"pie\"}],\"scatter3d\":[{\"line\":{\"colorbar\":{\"outlinewidth\":0,\"ticks\":\"\"}},\"marker\":{\"colorbar\":{\"outlinewidth\":0,\"ticks\":\"\"}},\"type\":\"scatter3d\"}],\"scattercarpet\":[{\"marker\":{\"colorbar\":{\"outlinewidth\":0,\"ticks\":\"\"}},\"type\":\"scattercarpet\"}],\"scattergeo\":[{\"marker\":{\"colorbar\":{\"outlinewidth\":0,\"ticks\":\"\"}},\"type\":\"scattergeo\"}],\"scattergl\":[{\"marker\":{\"colorbar\":{\"outlinewidth\":0,\"ticks\":\"\"}},\"type\":\"scattergl\"}],\"scattermapbox\":[{\"marker\":{\"colorbar\":{\"outlinewidth\":0,\"ticks\":\"\"}},\"type\":\"scattermapbox\"}],\"scatterpolargl\":[{\"marker\":{\"colorbar\":{\"outlinewidth\":0,\"ticks\":\"\"}},\"type\":\"scatterpolargl\"}],\"scatterpolar\":[{\"marker\":{\"colorbar\":{\"outlinewidth\":0,\"ticks\":\"\"}},\"type\":\"scatterpolar\"}],\"scatter\":[{\"marker\":{\"colorbar\":{\"outlinewidth\":0,\"ticks\":\"\"}},\"type\":\"scatter\"}],\"scatterternary\":[{\"marker\":{\"colorbar\":{\"outlinewidth\":0,\"ticks\":\"\"}},\"type\":\"scatterternary\"}],\"surface\":[{\"colorbar\":{\"outlinewidth\":0,\"ticks\":\"\"},\"colorscale\":[[0.0,\"#0d0887\"],[0.1111111111111111,\"#46039f\"],[0.2222222222222222,\"#7201a8\"],[0.3333333333333333,\"#9c179e\"],[0.4444444444444444,\"#bd3786\"],[0.5555555555555556,\"#d8576b\"],[0.6666666666666666,\"#ed7953\"],[0.7777777777777778,\"#fb9f3a\"],[0.8888888888888888,\"#fdca26\"],[1.0,\"#f0f921\"]],\"type\":\"surface\"}],\"table\":[{\"cells\":{\"fill\":{\"color\":\"#EBF0F8\"},\"line\":{\"color\":\"white\"}},\"header\":{\"fill\":{\"color\":\"#C8D4E3\"},\"line\":{\"color\":\"white\"}},\"type\":\"table\"}]},\"layout\":{\"annotationdefaults\":{\"arrowcolor\":\"#2a3f5f\",\"arrowhead\":0,\"arrowwidth\":1},\"autotypenumbers\":\"strict\",\"coloraxis\":{\"colorbar\":{\"outlinewidth\":0,\"ticks\":\"\"}},\"colorscale\":{\"diverging\":[[0,\"#8e0152\"],[0.1,\"#c51b7d\"],[0.2,\"#de77ae\"],[0.3,\"#f1b6da\"],[0.4,\"#fde0ef\"],[0.5,\"#f7f7f7\"],[0.6,\"#e6f5d0\"],[0.7,\"#b8e186\"],[0.8,\"#7fbc41\"],[0.9,\"#4d9221\"],[1,\"#276419\"]],\"sequential\":[[0.0,\"#0d0887\"],[0.1111111111111111,\"#46039f\"],[0.2222222222222222,\"#7201a8\"],[0.3333333333333333,\"#9c179e\"],[0.4444444444444444,\"#bd3786\"],[0.5555555555555556,\"#d8576b\"],[0.6666666666666666,\"#ed7953\"],[0.7777777777777778,\"#fb9f3a\"],[0.8888888888888888,\"#fdca26\"],[1.0,\"#f0f921\"]],\"sequentialminus\":[[0.0,\"#0d0887\"],[0.1111111111111111,\"#46039f\"],[0.2222222222222222,\"#7201a8\"],[0.3333333333333333,\"#9c179e\"],[0.4444444444444444,\"#bd3786\"],[0.5555555555555556,\"#d8576b\"],[0.6666666666666666,\"#ed7953\"],[0.7777777777777778,\"#fb9f3a\"],[0.8888888888888888,\"#fdca26\"],[1.0,\"#f0f921\"]]},\"colorway\":[\"#636efa\",\"#EF553B\",\"#00cc96\",\"#ab63fa\",\"#FFA15A\",\"#19d3f3\",\"#FF6692\",\"#B6E880\",\"#FF97FF\",\"#FECB52\"],\"font\":{\"color\":\"#2a3f5f\"},\"geo\":{\"bgcolor\":\"white\",\"lakecolor\":\"white\",\"landcolor\":\"#E5ECF6\",\"showlakes\":true,\"showland\":true,\"subunitcolor\":\"white\"},\"hoverlabel\":{\"align\":\"left\"},\"hovermode\":\"closest\",\"mapbox\":{\"style\":\"light\"},\"paper_bgcolor\":\"white\",\"plot_bgcolor\":\"#E5ECF6\",\"polar\":{\"angularaxis\":{\"gridcolor\":\"white\",\"linecolor\":\"white\",\"ticks\":\"\"},\"bgcolor\":\"#E5ECF6\",\"radialaxis\":{\"gridcolor\":\"white\",\"linecolor\":\"white\",\"ticks\":\"\"}},\"scene\":{\"xaxis\":{\"backgroundcolor\":\"#E5ECF6\",\"gridcolor\":\"white\",\"gridwidth\":2,\"linecolor\":\"white\",\"showbackground\":true,\"ticks\":\"\",\"zerolinecolor\":\"white\"},\"yaxis\":{\"backgroundcolor\":\"#E5ECF6\",\"gridcolor\":\"white\",\"gridwidth\":2,\"linecolor\":\"white\",\"showbackground\":true,\"ticks\":\"\",\"zerolinecolor\":\"white\"},\"zaxis\":{\"backgroundcolor\":\"#E5ECF6\",\"gridcolor\":\"white\",\"gridwidth\":2,\"linecolor\":\"white\",\"showbackground\":true,\"ticks\":\"\",\"zerolinecolor\":\"white\"}},\"shapedefaults\":{\"line\":{\"color\":\"#2a3f5f\"}},\"ternary\":{\"aaxis\":{\"gridcolor\":\"white\",\"linecolor\":\"white\",\"ticks\":\"\"},\"baxis\":{\"gridcolor\":\"white\",\"linecolor\":\"white\",\"ticks\":\"\"},\"bgcolor\":\"#E5ECF6\",\"caxis\":{\"gridcolor\":\"white\",\"linecolor\":\"white\",\"ticks\":\"\"}},\"title\":{\"x\":0.05},\"xaxis\":{\"automargin\":true,\"gridcolor\":\"white\",\"linecolor\":\"white\",\"ticks\":\"\",\"title\":{\"standoff\":15},\"zerolinecolor\":\"white\",\"zerolinewidth\":2},\"yaxis\":{\"automargin\":true,\"gridcolor\":\"white\",\"linecolor\":\"white\",\"ticks\":\"\",\"title\":{\"standoff\":15},\"zerolinecolor\":\"white\",\"zerolinewidth\":2}}}},                        {\"responsive\": true}                    ).then(function(){\n",
              "                            \n",
              "var gd = document.getElementById('67a807b4-e910-4711-b45d-833a81f95956');\n",
              "var x = new MutationObserver(function (mutations, observer) {{\n",
              "        var display = window.getComputedStyle(gd).display;\n",
              "        if (!display || display === 'none') {{\n",
              "            console.log([gd, 'removed!']);\n",
              "            Plotly.purge(gd);\n",
              "            observer.disconnect();\n",
              "        }}\n",
              "}});\n",
              "\n",
              "// Listen for the removal of the full notebook cells\n",
              "var notebookContainer = gd.closest('#notebook-container');\n",
              "if (notebookContainer) {{\n",
              "    x.observe(notebookContainer, {childList: true});\n",
              "}}\n",
              "\n",
              "// Listen for the clearing of the current output cell\n",
              "var outputEl = gd.closest('.output');\n",
              "if (outputEl) {{\n",
              "    x.observe(outputEl, {childList: true});\n",
              "}}\n",
              "\n",
              "                        })                };                            </script>        </div>\n",
              "</body>\n",
              "</html>"
            ]
          },
          "metadata": {}
        }
      ]
    },
    {
      "cell_type": "code",
      "source": [
        "topcat = play_store.groupby('Category').filter(lambda x: len(x) >= 170).reset_index()\n",
        "topcat.head()\n",
        "sns.set_style(\"darkgrid\")\n",
        "fig, ax = plt.subplots()\n",
        "fig.set_size_inches(11.7, 8.27)\n",
        "plt.title(\"App Ratings Across Major Categories\", fontsize=16)\n",
        "ax = sns.boxplot(x='Category', y='Rating', data=topcat, palette='Set1', showmeans=True)\n",
        "ax.set_xticklabels(ax.get_xticklabels(), rotation=90, ha=\"right\")"
      ],
      "metadata": {
        "colab": {
          "base_uri": "https://localhost:8080/",
          "height": 936
        },
        "id": "WX5-EAogt3GW",
        "outputId": "d2249d51-03a6-430d-fe95-10d01f33f226"
      },
      "execution_count": null,
      "outputs": [
        {
          "output_type": "execute_result",
          "data": {
            "text/plain": [
              "[Text(0, 0, 'BUSINESS'),\n",
              " Text(0, 0, 'COMMUNICATION'),\n",
              " Text(0, 0, 'FINANCE'),\n",
              " Text(0, 0, 'HEALTH_AND_FITNESS'),\n",
              " Text(0, 0, 'LIFESTYLE'),\n",
              " Text(0, 0, 'GAME'),\n",
              " Text(0, 0, 'FAMILY'),\n",
              " Text(0, 0, 'MEDICAL'),\n",
              " Text(0, 0, 'SOCIAL'),\n",
              " Text(0, 0, 'SHOPPING'),\n",
              " Text(0, 0, 'PHOTOGRAPHY'),\n",
              " Text(0, 0, 'SPORTS'),\n",
              " Text(0, 0, 'TRAVEL_AND_LOCAL'),\n",
              " Text(0, 0, 'TOOLS'),\n",
              " Text(0, 0, 'PERSONALIZATION'),\n",
              " Text(0, 0, 'PRODUCTIVITY'),\n",
              " Text(0, 0, 'NEWS_AND_MAGAZINES')]"
            ]
          },
          "metadata": {},
          "execution_count": 69
        },
        {
          "output_type": "display_data",
          "data": {
            "text/plain": [
              "<Figure size 842.4x595.44 with 1 Axes>"
            ],
            "image/png": "[encoded data removed]"
          },
          "metadata": {}
        }
      ]
    },
    {
      "cell_type": "markdown",
      "source": [
        "\n",
        "## Revenue generated by Top Categories"
      ],
      "metadata": {
        "id": "zPrF1vHUukfh"
      }
    },
    {
      "cell_type": "code",
      "source": [
        "#Revenue = Price * Installs\n",
        "play_store['Revenue'] = play_store['Price'] * play_store['Installs']"
      ],
      "metadata": {
        "id": "GQboOe3kuxdu"
      },
      "execution_count": null,
      "outputs": []
    },
    {
      "cell_type": "code",
      "source": [
        "play_store.sort_values(by=\"Revenue\",ascending=False).head()"
      ],
      "metadata": {
        "colab": {
          "base_uri": "https://localhost:8080/",
          "height": 461
        },
        "id": "jmICiC_Fu4Ta",
        "outputId": "64d60076-f703-40a9-c335-4ed55f803b2c"
      },
      "execution_count": null,
      "outputs": [
        {
          "output_type": "execute_result",
          "data": {
            "text/plain": [
              "                                App   Category  Rating  Reviews  Size  \\\n",
              "1743                      Minecraft     FAMILY     4.5  2376564   NaN   \n",
              "4396                      I am rich  LIFESTYLE     3.8     3547   1.8   \n",
              "4400              I Am Rich Premium    FINANCE     4.1     1867   4.7   \n",
              "3208                  Hitman Sniper       GAME     4.6   408292  29.0   \n",
              "6370  Grand Theft Auto: San Andreas       GAME     4.4   348962  26.0   \n",
              "\n",
              "        Installs  Type   Price Content Rating                     Genres  \\\n",
              "1743  10000000.0  Paid    6.99   Everyone 10+  Arcade;Action & Adventure   \n",
              "4396    100000.0  Paid  399.99       Everyone                  Lifestyle   \n",
              "4400     50000.0  Paid  399.99       Everyone                    Finance   \n",
              "3208  10000000.0  Paid    0.99     Mature 17+                     Action   \n",
              "6370   1000000.0  Paid    6.99     Mature 17+                     Action   \n",
              "\n",
              "           Last Updated Current Ver         Android Ver     Revenue  \n",
              "1743      July 24, 2018     1.5.2.1  Varies with device  69900000.0  \n",
              "4396   January 12, 2018         2.0        4.0.3 and up  39999000.0  \n",
              "4400  November 12, 2017         1.6          4.0 and up  19999500.0  \n",
              "3208      July 12, 2018  1.7.110758          4.1 and up   9900000.0  \n",
              "6370     March 21, 2015        1.08          3.0 and up   6990000.0  "
            ],
            "text/html": [
              "\n",
              "  <div id=\"df-b8a1d136-725c-4dd9-ab72-1f6ec0f38477\">\n",
              "    <div class=\"colab-df-container\">\n",
              "      <div>\n",
              "<style scoped>\n",
              "    .dataframe tbody tr th:only-of-type {\n",
              "        vertical-align: middle;\n",
              "    }\n",
              "\n",
              "    .dataframe tbody tr th {\n",
              "        vertical-align: top;\n",
              "    }\n",
              "\n",
              "    .dataframe thead th {\n",
              "        text-align: right;\n",
              "    }\n",
              "</style>\n",
              "<table border=\"1\" class=\"dataframe\">\n",
              "  <thead>\n",
              "    <tr style=\"text-align: right;\">\n",
              "      <th></th>\n",
              "      <th>App</th>\n",
              "      <th>Category</th>\n",
              "      <th>Rating</th>\n",
              "      <th>Reviews</th>\n",
              "      <th>Size</th>\n",
              "      <th>Installs</th>\n",
              "      <th>Type</th>\n",
              "      <th>Price</th>\n",
              "      <th>Content Rating</th>\n",
              "      <th>Genres</th>\n",
              "      <th>Last Updated</th>\n",
              "      <th>Current Ver</th>\n",
              "      <th>Android Ver</th>\n",
              "      <th>Revenue</th>\n",
              "    </tr>\n",
              "  </thead>\n",
              "  <tbody>\n",
              "    <tr>\n",
              "      <th>1743</th>\n",
              "      <td>Minecraft</td>\n",
              "      <td>FAMILY</td>\n",
              "      <td>4.5</td>\n",
              "      <td>2376564</td>\n",
              "      <td>NaN</td>\n",
              "      <td>10000000.0</td>\n",
              "      <td>Paid</td>\n",
              "      <td>6.99</td>\n",
              "      <td>Everyone 10+</td>\n",
              "      <td>Arcade;Action &amp; Adventure</td>\n",
              "      <td>July 24, 2018</td>\n",
              "      <td>1.5.2.1</td>\n",
              "      <td>Varies with device</td>\n",
              "      <td>69900000.0</td>\n",
              "    </tr>\n",
              "    <tr>\n",
              "      <th>4396</th>\n",
              "      <td>I am rich</td>\n",
              "      <td>LIFESTYLE</td>\n",
              "      <td>3.8</td>\n",
              "      <td>3547</td>\n",
              "      <td>1.8</td>\n",
              "      <td>100000.0</td>\n",
              "      <td>Paid</td>\n",
              "      <td>399.99</td>\n",
              "      <td>Everyone</td>\n",
              "      <td>Lifestyle</td>\n",
              "      <td>January 12, 2018</td>\n",
              "      <td>2.0</td>\n",
              "      <td>4.0.3 and up</td>\n",
              "      <td>39999000.0</td>\n",
              "    </tr>\n",
              "    <tr>\n",
              "      <th>4400</th>\n",
              "      <td>I Am Rich Premium</td>\n",
              "      <td>FINANCE</td>\n",
              "      <td>4.1</td>\n",
              "      <td>1867</td>\n",
              "      <td>4.7</td>\n",
              "      <td>50000.0</td>\n",
              "      <td>Paid</td>\n",
              "      <td>399.99</td>\n",
              "      <td>Everyone</td>\n",
              "      <td>Finance</td>\n",
              "      <td>November 12, 2017</td>\n",
              "      <td>1.6</td>\n",
              "      <td>4.0 and up</td>\n",
              "      <td>19999500.0</td>\n",
              "    </tr>\n",
              "    <tr>\n",
              "      <th>3208</th>\n",
              "      <td>Hitman Sniper</td>\n",
              "      <td>GAME</td>\n",
              "      <td>4.6</td>\n",
              "      <td>408292</td>\n",
              "      <td>29.0</td>\n",
              "      <td>10000000.0</td>\n",
              "      <td>Paid</td>\n",
              "      <td>0.99</td>\n",
              "      <td>Mature 17+</td>\n",
              "      <td>Action</td>\n",
              "      <td>July 12, 2018</td>\n",
              "      <td>1.7.110758</td>\n",
              "      <td>4.1 and up</td>\n",
              "      <td>9900000.0</td>\n",
              "    </tr>\n",
              "    <tr>\n",
              "      <th>6370</th>\n",
              "      <td>Grand Theft Auto: San Andreas</td>\n",
              "      <td>GAME</td>\n",
              "      <td>4.4</td>\n",
              "      <td>348962</td>\n",
              "      <td>26.0</td>\n",
              "      <td>1000000.0</td>\n",
              "      <td>Paid</td>\n",
              "      <td>6.99</td>\n",
              "      <td>Mature 17+</td>\n",
              "      <td>Action</td>\n",
              "      <td>March 21, 2015</td>\n",
              "      <td>1.08</td>\n",
              "      <td>3.0 and up</td>\n",
              "      <td>6990000.0</td>\n",
              "    </tr>\n",
              "  </tbody>\n",
              "</table>\n",
              "</div>\n",
              "      <button class=\"colab-df-convert\" onclick=\"convertToInteractive('df-b8a1d136-725c-4dd9-ab72-1f6ec0f38477')\"\n",
              "              title=\"Convert this dataframe to an interactive table.\"\n",
              "              style=\"display:none;\">\n",
              "        \n",
              "  <svg xmlns=\"http://www.w3.org/2000/svg\" height=\"24px\"viewBox=\"0 0 24 24\"\n",
              "       width=\"24px\">\n",
              "    <path d=\"M0 0h24v24H0V0z\" fill=\"none\"/>\n",
              "    <path d=\"M18.56 5.44l.94 2.06.94-2.06 2.06-.94-2.06-.94-.94-2.06-.94 2.06-2.06.94zm-11 1L8.5 8.5l.94-2.06 2.06-.94-2.06-.94L8.5 2.5l-.94 2.06-2.06.94zm10 10l.94 2.06.94-2.06 2.06-.94-2.06-.94-.94-2.06-.94 2.06-2.06.94z\"/><path d=\"M17.41 7.96l-1.37-1.37c-.4-.4-.92-.59-1.43-.59-.52 0-1.04.2-1.43.59L10.3 9.45l-7.72 7.72c-.78.78-.78 2.05 0 2.83L4 21.41c.39.39.9.59 1.41.59.51 0 1.02-.2 1.41-.59l7.78-7.78 2.81-2.81c.8-.78.8-2.07 0-2.86zM5.41 20L4 18.59l7.72-7.72 1.47 1.35L5.41 20z\"/>\n",
              "  </svg>\n",
              "      </button>\n",
              "      \n",
              "  <style>\n",
              "    .colab-df-container {\n",
              "      display:flex;\n",
              "      flex-wrap:wrap;\n",
              "      gap: 12px;\n",
              "    }\n",
              "\n",
              "    .colab-df-convert {\n",
              "      background-color: #E8F0FE;\n",
              "      border: none;\n",
              "      border-radius: 50%;\n",
              "      cursor: pointer;\n",
              "      display: none;\n",
              "      fill: #1967D2;\n",
              "      height: 32px;\n",
              "      padding: 0 0 0 0;\n",
              "      width: 32px;\n",
              "    }\n",
              "\n",
              "    .colab-df-convert:hover {\n",
              "      background-color: #E2EBFA;\n",
              "      box-shadow: 0px 1px 2px rgba(60, 64, 67, 0.3), 0px 1px 3px 1px rgba(60, 64, 67, 0.15);\n",
              "      fill: #174EA6;\n",
              "    }\n",
              "\n",
              "    [theme=dark] .colab-df-convert {\n",
              "      background-color: #3B4455;\n",
              "      fill: #D2E3FC;\n",
              "    }\n",
              "\n",
              "    [theme=dark] .colab-df-convert:hover {\n",
              "      background-color: #434B5C;\n",
              "      box-shadow: 0px 1px 3px 1px rgba(0, 0, 0, 0.15);\n",
              "      filter: drop-shadow(0px 1px 2px rgba(0, 0, 0, 0.3));\n",
              "      fill: #FFFFFF;\n",
              "    }\n",
              "  </style>\n",
              "\n",
              "      <script>\n",
              "        const buttonEl =\n",
              "          document.querySelector('#df-b8a1d136-725c-4dd9-ab72-1f6ec0f38477 button.colab-df-convert');\n",
              "        buttonEl.style.display =\n",
              "          google.colab.kernel.accessAllowed ? 'block' : 'none';\n",
              "\n",
              "        async function convertToInteractive(key) {\n",
              "          const element = document.querySelector('#df-b8a1d136-725c-4dd9-ab72-1f6ec0f38477');\n",
              "          const dataTable =\n",
              "            await google.colab.kernel.invokeFunction('convertToInteractive',\n",
              "                                                     [key], {});\n",
              "          if (!dataTable) return;\n",
              "\n",
              "          const docLinkHtml = 'Like what you see? Visit the ' +\n",
              "            '<a target=\"_blank\" href=https://colab.research.google.com/notebooks/data_table.ipynb>data table notebook</a>'\n",
              "            + ' to learn more about interactive tables.';\n",
              "          element.innerHTML = '';\n",
              "          dataTable['output_type'] = 'display_data';\n",
              "          await google.colab.output.renderOutput(dataTable, element);\n",
              "          const docLink = document.createElement('div');\n",
              "          docLink.innerHTML = docLinkHtml;\n",
              "          element.appendChild(docLink);\n",
              "        }\n",
              "      </script>\n",
              "    </div>\n",
              "  </div>\n",
              "  "
            ]
          },
          "metadata": {},
          "execution_count": 71
        }
      ]
    },
    {
      "cell_type": "code",
      "source": [
        "play_store[[\"App\",\"Revenue\",\"Category\"]]"
      ],
      "metadata": {
        "colab": {
          "base_uri": "https://localhost:8080/",
          "height": 424
        },
        "id": "kgk5OSlqvEu8",
        "outputId": "536c3118-7539-43b5-95f1-e062d21216d1"
      },
      "execution_count": null,
      "outputs": [
        {
          "output_type": "execute_result",
          "data": {
            "text/plain": [
              "                                                    App  Revenue  \\\n",
              "0        Photo Editor & Candy Camera & Grid & ScrapBook      0.0   \n",
              "1                                   Coloring book moana      0.0   \n",
              "2     U Launcher Lite – FREE Live Cool Themes, Hide ...      0.0   \n",
              "3                                 Sketch - Draw & Paint      0.0   \n",
              "4                 Pixel Draw - Number Art Coloring Book      0.0   \n",
              "...                                                 ...      ...   \n",
              "9652                                      FR Calculator      0.0   \n",
              "9654                                   Sya9a Maroc - FR      0.0   \n",
              "9655                   Fr. Mike Schmitz Audio Teachings      0.0   \n",
              "9657                      The SCP Foundation DB fr nn5n      0.0   \n",
              "9658      iHoroscope - 2018 Daily Horoscope & Astrology      0.0   \n",
              "\n",
              "                 Category  \n",
              "0          ART_AND_DESIGN  \n",
              "1          ART_AND_DESIGN  \n",
              "2          ART_AND_DESIGN  \n",
              "3          ART_AND_DESIGN  \n",
              "4          ART_AND_DESIGN  \n",
              "...                   ...  \n",
              "9652               FAMILY  \n",
              "9654               FAMILY  \n",
              "9655               FAMILY  \n",
              "9657  BOOKS_AND_REFERENCE  \n",
              "9658            LIFESTYLE  \n",
              "\n",
              "[8196 rows x 3 columns]"
            ],
            "text/html": [
              "\n",
              "  <div id=\"df-fe977cf9-48ff-4e7a-a4ec-651d04aef77e\">\n",
              "    <div class=\"colab-df-container\">\n",
              "      <div>\n",
              "<style scoped>\n",
              "    .dataframe tbody tr th:only-of-type {\n",
              "        vertical-align: middle;\n",
              "    }\n",
              "\n",
              "    .dataframe tbody tr th {\n",
              "        vertical-align: top;\n",
              "    }\n",
              "\n",
              "    .dataframe thead th {\n",
              "        text-align: right;\n",
              "    }\n",
              "</style>\n",
              "<table border=\"1\" class=\"dataframe\">\n",
              "  <thead>\n",
              "    <tr style=\"text-align: right;\">\n",
              "      <th></th>\n",
              "      <th>App</th>\n",
              "      <th>Revenue</th>\n",
              "      <th>Category</th>\n",
              "    </tr>\n",
              "  </thead>\n",
              "  <tbody>\n",
              "    <tr>\n",
              "      <th>0</th>\n",
              "      <td>Photo Editor &amp; Candy Camera &amp; Grid &amp; ScrapBook</td>\n",
              "      <td>0.0</td>\n",
              "      <td>ART_AND_DESIGN</td>\n",
              "    </tr>\n",
              "    <tr>\n",
              "      <th>1</th>\n",
              "      <td>Coloring book moana</td>\n",
              "      <td>0.0</td>\n",
              "      <td>ART_AND_DESIGN</td>\n",
              "    </tr>\n",
              "    <tr>\n",
              "      <th>2</th>\n",
              "      <td>U Launcher Lite – FREE Live Cool Themes, Hide ...</td>\n",
              "      <td>0.0</td>\n",
              "      <td>ART_AND_DESIGN</td>\n",
              "    </tr>\n",
              "    <tr>\n",
              "      <th>3</th>\n",
              "      <td>Sketch - Draw &amp; Paint</td>\n",
              "      <td>0.0</td>\n",
              "      <td>ART_AND_DESIGN</td>\n",
              "    </tr>\n",
              "    <tr>\n",
              "      <th>4</th>\n",
              "      <td>Pixel Draw - Number Art Coloring Book</td>\n",
              "      <td>0.0</td>\n",
              "      <td>ART_AND_DESIGN</td>\n",
              "    </tr>\n",
              "    <tr>\n",
              "      <th>...</th>\n",
              "      <td>...</td>\n",
              "      <td>...</td>\n",
              "      <td>...</td>\n",
              "    </tr>\n",
              "    <tr>\n",
              "      <th>9652</th>\n",
              "      <td>FR Calculator</td>\n",
              "      <td>0.0</td>\n",
              "      <td>FAMILY</td>\n",
              "    </tr>\n",
              "    <tr>\n",
              "      <th>9654</th>\n",
              "      <td>Sya9a Maroc - FR</td>\n",
              "      <td>0.0</td>\n",
              "      <td>FAMILY</td>\n",
              "    </tr>\n",
              "    <tr>\n",
              "      <th>9655</th>\n",
              "      <td>Fr. Mike Schmitz Audio Teachings</td>\n",
              "      <td>0.0</td>\n",
              "      <td>FAMILY</td>\n",
              "    </tr>\n",
              "    <tr>\n",
              "      <th>9657</th>\n",
              "      <td>The SCP Foundation DB fr nn5n</td>\n",
              "      <td>0.0</td>\n",
              "      <td>BOOKS_AND_REFERENCE</td>\n",
              "    </tr>\n",
              "    <tr>\n",
              "      <th>9658</th>\n",
              "      <td>iHoroscope - 2018 Daily Horoscope &amp; Astrology</td>\n",
              "      <td>0.0</td>\n",
              "      <td>LIFESTYLE</td>\n",
              "    </tr>\n",
              "  </tbody>\n",
              "</table>\n",
              "<p>8196 rows × 3 columns</p>\n",
              "</div>\n",
              "      <button class=\"colab-df-convert\" onclick=\"convertToInteractive('df-fe977cf9-48ff-4e7a-a4ec-651d04aef77e')\"\n",
              "              title=\"Convert this dataframe to an interactive table.\"\n",
              "              style=\"display:none;\">\n",
              "        \n",
              "  <svg xmlns=\"http://www.w3.org/2000/svg\" height=\"24px\"viewBox=\"0 0 24 24\"\n",
              "       width=\"24px\">\n",
              "    <path d=\"M0 0h24v24H0V0z\" fill=\"none\"/>\n",
              "    <path d=\"M18.56 5.44l.94 2.06.94-2.06 2.06-.94-2.06-.94-.94-2.06-.94 2.06-2.06.94zm-11 1L8.5 8.5l.94-2.06 2.06-.94-2.06-.94L8.5 2.5l-.94 2.06-2.06.94zm10 10l.94 2.06.94-2.06 2.06-.94-2.06-.94-.94-2.06-.94 2.06-2.06.94z\"/><path d=\"M17.41 7.96l-1.37-1.37c-.4-.4-.92-.59-1.43-.59-.52 0-1.04.2-1.43.59L10.3 9.45l-7.72 7.72c-.78.78-.78 2.05 0 2.83L4 21.41c.39.39.9.59 1.41.59.51 0 1.02-.2 1.41-.59l7.78-7.78 2.81-2.81c.8-.78.8-2.07 0-2.86zM5.41 20L4 18.59l7.72-7.72 1.47 1.35L5.41 20z\"/>\n",
              "  </svg>\n",
              "      </button>\n",
              "      \n",
              "  <style>\n",
              "    .colab-df-container {\n",
              "      display:flex;\n",
              "      flex-wrap:wrap;\n",
              "      gap: 12px;\n",
              "    }\n",
              "\n",
              "    .colab-df-convert {\n",
              "      background-color: #E8F0FE;\n",
              "      border: none;\n",
              "      border-radius: 50%;\n",
              "      cursor: pointer;\n",
              "      display: none;\n",
              "      fill: #1967D2;\n",
              "      height: 32px;\n",
              "      padding: 0 0 0 0;\n",
              "      width: 32px;\n",
              "    }\n",
              "\n",
              "    .colab-df-convert:hover {\n",
              "      background-color: #E2EBFA;\n",
              "      box-shadow: 0px 1px 2px rgba(60, 64, 67, 0.3), 0px 1px 3px 1px rgba(60, 64, 67, 0.15);\n",
              "      fill: #174EA6;\n",
              "    }\n",
              "\n",
              "    [theme=dark] .colab-df-convert {\n",
              "      background-color: #3B4455;\n",
              "      fill: #D2E3FC;\n",
              "    }\n",
              "\n",
              "    [theme=dark] .colab-df-convert:hover {\n",
              "      background-color: #434B5C;\n",
              "      box-shadow: 0px 1px 3px 1px rgba(0, 0, 0, 0.15);\n",
              "      filter: drop-shadow(0px 1px 2px rgba(0, 0, 0, 0.3));\n",
              "      fill: #FFFFFF;\n",
              "    }\n",
              "  </style>\n",
              "\n",
              "      <script>\n",
              "        const buttonEl =\n",
              "          document.querySelector('#df-fe977cf9-48ff-4e7a-a4ec-651d04aef77e button.colab-df-convert');\n",
              "        buttonEl.style.display =\n",
              "          google.colab.kernel.accessAllowed ? 'block' : 'none';\n",
              "\n",
              "        async function convertToInteractive(key) {\n",
              "          const element = document.querySelector('#df-fe977cf9-48ff-4e7a-a4ec-651d04aef77e');\n",
              "          const dataTable =\n",
              "            await google.colab.kernel.invokeFunction('convertToInteractive',\n",
              "                                                     [key], {});\n",
              "          if (!dataTable) return;\n",
              "\n",
              "          const docLinkHtml = 'Like what you see? Visit the ' +\n",
              "            '<a target=\"_blank\" href=https://colab.research.google.com/notebooks/data_table.ipynb>data table notebook</a>'\n",
              "            + ' to learn more about interactive tables.';\n",
              "          element.innerHTML = '';\n",
              "          dataTable['output_type'] = 'display_data';\n",
              "          await google.colab.output.renderOutput(dataTable, element);\n",
              "          const docLink = document.createElement('div');\n",
              "          docLink.innerHTML = docLinkHtml;\n",
              "          element.appendChild(docLink);\n",
              "        }\n",
              "      </script>\n",
              "    </div>\n",
              "  </div>\n",
              "  "
            ]
          },
          "metadata": {},
          "execution_count": 73
        }
      ]
    },
    {
      "cell_type": "code",
      "source": [
        "revenue_category = play_store.groupby(\"Category\",as_index=False)[\"Revenue\"].sum().sort_values(by=\"Revenue\",ascending=False).head(15)\n",
        "revenue_category"
      ],
      "metadata": {
        "colab": {
          "base_uri": "https://localhost:8080/",
          "height": 520
        },
        "id": "XRjsXZWyvFrD",
        "outputId": "d4e40934-982d-41d7-c44b-f81217fce2c9"
      },
      "execution_count": null,
      "outputs": [
        {
          "output_type": "execute_result",
          "data": {
            "text/plain": [
              "               Category       Revenue\n",
              "11               FAMILY  1.136738e+08\n",
              "18            LIFESTYLE  5.758394e+07\n",
              "14                 GAME  4.068784e+07\n",
              "12              FINANCE  2.572664e+07\n",
              "24          PHOTOGRAPHY  8.546050e+06\n",
              "23      PERSONALIZATION  6.796310e+06\n",
              "20              MEDICAL  5.872355e+06\n",
              "29                TOOLS  5.462910e+06\n",
              "28               SPORTS  4.706154e+06\n",
              "25         PRODUCTIVITY  4.304452e+06\n",
              "6         COMMUNICATION  4.247100e+06\n",
              "32              WEATHER  4.179885e+06\n",
              "8             EDUCATION  2.403980e+06\n",
              "15   HEALTH_AND_FITNESS  1.420270e+06\n",
              "19  MAPS_AND_NAVIGATION  1.240789e+06"
            ],
            "text/html": [
              "\n",
              "  <div id=\"df-fbfef14e-67b5-4140-9654-465875bfbb14\">\n",
              "    <div class=\"colab-df-container\">\n",
              "      <div>\n",
              "<style scoped>\n",
              "    .dataframe tbody tr th:only-of-type {\n",
              "        vertical-align: middle;\n",
              "    }\n",
              "\n",
              "    .dataframe tbody tr th {\n",
              "        vertical-align: top;\n",
              "    }\n",
              "\n",
              "    .dataframe thead th {\n",
              "        text-align: right;\n",
              "    }\n",
              "</style>\n",
              "<table border=\"1\" class=\"dataframe\">\n",
              "  <thead>\n",
              "    <tr style=\"text-align: right;\">\n",
              "      <th></th>\n",
              "      <th>Category</th>\n",
              "      <th>Revenue</th>\n",
              "    </tr>\n",
              "  </thead>\n",
              "  <tbody>\n",
              "    <tr>\n",
              "      <th>11</th>\n",
              "      <td>FAMILY</td>\n",
              "      <td>1.136738e+08</td>\n",
              "    </tr>\n",
              "    <tr>\n",
              "      <th>18</th>\n",
              "      <td>LIFESTYLE</td>\n",
              "      <td>5.758394e+07</td>\n",
              "    </tr>\n",
              "    <tr>\n",
              "      <th>14</th>\n",
              "      <td>GAME</td>\n",
              "      <td>4.068784e+07</td>\n",
              "    </tr>\n",
              "    <tr>\n",
              "      <th>12</th>\n",
              "      <td>FINANCE</td>\n",
              "      <td>2.572664e+07</td>\n",
              "    </tr>\n",
              "    <tr>\n",
              "      <th>24</th>\n",
              "      <td>PHOTOGRAPHY</td>\n",
              "      <td>8.546050e+06</td>\n",
              "    </tr>\n",
              "    <tr>\n",
              "      <th>23</th>\n",
              "      <td>PERSONALIZATION</td>\n",
              "      <td>6.796310e+06</td>\n",
              "    </tr>\n",
              "    <tr>\n",
              "      <th>20</th>\n",
              "      <td>MEDICAL</td>\n",
              "      <td>5.872355e+06</td>\n",
              "    </tr>\n",
              "    <tr>\n",
              "      <th>29</th>\n",
              "      <td>TOOLS</td>\n",
              "      <td>5.462910e+06</td>\n",
              "    </tr>\n",
              "    <tr>\n",
              "      <th>28</th>\n",
              "      <td>SPORTS</td>\n",
              "      <td>4.706154e+06</td>\n",
              "    </tr>\n",
              "    <tr>\n",
              "      <th>25</th>\n",
              "      <td>PRODUCTIVITY</td>\n",
              "      <td>4.304452e+06</td>\n",
              "    </tr>\n",
              "    <tr>\n",
              "      <th>6</th>\n",
              "      <td>COMMUNICATION</td>\n",
              "      <td>4.247100e+06</td>\n",
              "    </tr>\n",
              "    <tr>\n",
              "      <th>32</th>\n",
              "      <td>WEATHER</td>\n",
              "      <td>4.179885e+06</td>\n",
              "    </tr>\n",
              "    <tr>\n",
              "      <th>8</th>\n",
              "      <td>EDUCATION</td>\n",
              "      <td>2.403980e+06</td>\n",
              "    </tr>\n",
              "    <tr>\n",
              "      <th>15</th>\n",
              "      <td>HEALTH_AND_FITNESS</td>\n",
              "      <td>1.420270e+06</td>\n",
              "    </tr>\n",
              "    <tr>\n",
              "      <th>19</th>\n",
              "      <td>MAPS_AND_NAVIGATION</td>\n",
              "      <td>1.240789e+06</td>\n",
              "    </tr>\n",
              "  </tbody>\n",
              "</table>\n",
              "</div>\n",
              "      <button class=\"colab-df-convert\" onclick=\"convertToInteractive('df-fbfef14e-67b5-4140-9654-465875bfbb14')\"\n",
              "              title=\"Convert this dataframe to an interactive table.\"\n",
              "              style=\"display:none;\">\n",
              "        \n",
              "  <svg xmlns=\"http://www.w3.org/2000/svg\" height=\"24px\"viewBox=\"0 0 24 24\"\n",
              "       width=\"24px\">\n",
              "    <path d=\"M0 0h24v24H0V0z\" fill=\"none\"/>\n",
              "    <path d=\"M18.56 5.44l.94 2.06.94-2.06 2.06-.94-2.06-.94-.94-2.06-.94 2.06-2.06.94zm-11 1L8.5 8.5l.94-2.06 2.06-.94-2.06-.94L8.5 2.5l-.94 2.06-2.06.94zm10 10l.94 2.06.94-2.06 2.06-.94-2.06-.94-.94-2.06-.94 2.06-2.06.94z\"/><path d=\"M17.41 7.96l-1.37-1.37c-.4-.4-.92-.59-1.43-.59-.52 0-1.04.2-1.43.59L10.3 9.45l-7.72 7.72c-.78.78-.78 2.05 0 2.83L4 21.41c.39.39.9.59 1.41.59.51 0 1.02-.2 1.41-.59l7.78-7.78 2.81-2.81c.8-.78.8-2.07 0-2.86zM5.41 20L4 18.59l7.72-7.72 1.47 1.35L5.41 20z\"/>\n",
              "  </svg>\n",
              "      </button>\n",
              "      \n",
              "  <style>\n",
              "    .colab-df-container {\n",
              "      display:flex;\n",
              "      flex-wrap:wrap;\n",
              "      gap: 12px;\n",
              "    }\n",
              "\n",
              "    .colab-df-convert {\n",
              "      background-color: #E8F0FE;\n",
              "      border: none;\n",
              "      border-radius: 50%;\n",
              "      cursor: pointer;\n",
              "      display: none;\n",
              "      fill: #1967D2;\n",
              "      height: 32px;\n",
              "      padding: 0 0 0 0;\n",
              "      width: 32px;\n",
              "    }\n",
              "\n",
              "    .colab-df-convert:hover {\n",
              "      background-color: #E2EBFA;\n",
              "      box-shadow: 0px 1px 2px rgba(60, 64, 67, 0.3), 0px 1px 3px 1px rgba(60, 64, 67, 0.15);\n",
              "      fill: #174EA6;\n",
              "    }\n",
              "\n",
              "    [theme=dark] .colab-df-convert {\n",
              "      background-color: #3B4455;\n",
              "      fill: #D2E3FC;\n",
              "    }\n",
              "\n",
              "    [theme=dark] .colab-df-convert:hover {\n",
              "      background-color: #434B5C;\n",
              "      box-shadow: 0px 1px 3px 1px rgba(0, 0, 0, 0.15);\n",
              "      filter: drop-shadow(0px 1px 2px rgba(0, 0, 0, 0.3));\n",
              "      fill: #FFFFFF;\n",
              "    }\n",
              "  </style>\n",
              "\n",
              "      <script>\n",
              "        const buttonEl =\n",
              "          document.querySelector('#df-fbfef14e-67b5-4140-9654-465875bfbb14 button.colab-df-convert');\n",
              "        buttonEl.style.display =\n",
              "          google.colab.kernel.accessAllowed ? 'block' : 'none';\n",
              "\n",
              "        async function convertToInteractive(key) {\n",
              "          const element = document.querySelector('#df-fbfef14e-67b5-4140-9654-465875bfbb14');\n",
              "          const dataTable =\n",
              "            await google.colab.kernel.invokeFunction('convertToInteractive',\n",
              "                                                     [key], {});\n",
              "          if (!dataTable) return;\n",
              "\n",
              "          const docLinkHtml = 'Like what you see? Visit the ' +\n",
              "            '<a target=\"_blank\" href=https://colab.research.google.com/notebooks/data_table.ipynb>data table notebook</a>'\n",
              "            + ' to learn more about interactive tables.';\n",
              "          element.innerHTML = '';\n",
              "          dataTable['output_type'] = 'display_data';\n",
              "          await google.colab.output.renderOutput(dataTable, element);\n",
              "          const docLink = document.createElement('div');\n",
              "          docLink.innerHTML = docLinkHtml;\n",
              "          element.appendChild(docLink);\n",
              "        }\n",
              "      </script>\n",
              "    </div>\n",
              "  </div>\n",
              "  "
            ]
          },
          "metadata": {},
          "execution_count": 74
        }
      ]
    },
    {
      "cell_type": "code",
      "source": [
        "sns.barplot(x=revenue_category[\"Revenue\"],y=revenue_category[\"Category\"],data=revenue_category)\n",
        "plt.title(\"Revenue generated by Top Category\",fontsize=20)\n",
        "plt.show()"
      ],
      "metadata": {
        "colab": {
          "base_uri": "https://localhost:8080/",
          "height": 616
        },
        "id": "02dzhkM1vLmr",
        "outputId": "012a9daa-3221-447c-bd53-e39cfe274405"
      },
      "execution_count": null,
      "outputs": [
        {
          "output_type": "display_data",
          "data": {
            "text/plain": [
              "<Figure size 1080x720 with 1 Axes>"
            ],
            "image/png": "[encoded data removed]"
          },
          "metadata": {}
        }
      ]
    },
    {
      "cell_type": "code",
      "source": [],
      "metadata": {
        "id": "H9LpBOfWvOq_"
      },
      "execution_count": null,
      "outputs": []
    },
    {
      "cell_type": "markdown",
      "source": [
        "## Average sentiment "
      ],
      "metadata": {
        "id": "rZ_iQT4WvkDe"
      }
    },
    {
      "cell_type": "code",
      "source": [
        "user_review_df = user_review['Sentiment'].value_counts()\n",
        "user_review_df"
      ],
      "metadata": {
        "colab": {
          "base_uri": "https://localhost:8080/"
        },
        "id": "d8HuAEW3v6-x",
        "outputId": "297c320b-082a-487b-f7f2-446c8698d705"
      },
      "execution_count": null,
      "outputs": [
        {
          "output_type": "execute_result",
          "data": {
            "text/plain": [
              "Positive    23998\n",
              "Negative     8271\n",
              "Neutral      5163\n",
              "Name: Sentiment, dtype: int64"
            ]
          },
          "metadata": {},
          "execution_count": 76
        }
      ]
    },
    {
      "cell_type": "code",
      "source": [
        "user_review['Sentiment'].value_counts().plot(kind='pie', explode= (0.1,0.1,0.1),shadow=True,autopct='%1.2f%%', pctdistance=1.1, labeldistance=1.3)"
      ],
      "metadata": {
        "colab": {
          "base_uri": "https://localhost:8080/",
          "height": 290
        },
        "id": "s8pXNvGnv7p_",
        "outputId": "1c7d21e3-a761-4d05-ccee-4ddb9ab96940"
      },
      "execution_count": null,
      "outputs": [
        {
          "output_type": "execute_result",
          "data": {
            "text/plain": [
              "<matplotlib.axes._subplots.AxesSubplot at 0x7f4d99e43370>"
            ]
          },
          "metadata": {},
          "execution_count": 12
        },
        {
          "output_type": "display_data",
          "data": {
            "text/plain": [
              "<Figure size 432x288 with 1 Axes>"
            ],
            "image/png": "[encoded data removed]"
          },
          "metadata": {}
        }
      ]
    },
    {
      "cell_type": "code",
      "source": [],
      "metadata": {
        "id": "zeLbJfZQwBnE"
      },
      "execution_count": null,
      "outputs": []
    },
    {
      "cell_type": "markdown",
      "source": [
        "## Compare the age and sentiments"
      ],
      "metadata": {
        "id": "qqcVVNj6wOOL"
      }
    },
    {
      "cell_type": "code",
      "source": [
        " # now we will merge both data for more analysis.\n",
        "merge_df = play_store.merge(user_review, on=\"App\")\n",
        "merge_df.head()"
      ],
      "metadata": {
        "colab": {
          "base_uri": "https://localhost:8080/",
          "height": 461
        },
        "id": "14Ul89jnwgU3",
        "outputId": "4f3cfa53-c2dd-4462-8bad-5a0e6ac1da72"
      },
      "execution_count": null,
      "outputs": [
        {
          "output_type": "execute_result",
          "data": {
            "text/plain": [
              "                   App        Category  Rating  Reviews  Size  Installs  Type  \\\n",
              "0  Coloring book moana  ART_AND_DESIGN     3.9      967  14.0  500000.0  Free   \n",
              "1  Coloring book moana  ART_AND_DESIGN     3.9      967  14.0  500000.0  Free   \n",
              "2  Coloring book moana  ART_AND_DESIGN     3.9      967  14.0  500000.0  Free   \n",
              "3  Coloring book moana  ART_AND_DESIGN     3.9      967  14.0  500000.0  Free   \n",
              "4  Coloring book moana  ART_AND_DESIGN     3.9      967  14.0  500000.0  Free   \n",
              "\n",
              "   Price Content Rating                     Genres      Last Updated  \\\n",
              "0    0.0       Everyone  Art & Design;Pretend Play  January 15, 2018   \n",
              "1    0.0       Everyone  Art & Design;Pretend Play  January 15, 2018   \n",
              "2    0.0       Everyone  Art & Design;Pretend Play  January 15, 2018   \n",
              "3    0.0       Everyone  Art & Design;Pretend Play  January 15, 2018   \n",
              "4    0.0       Everyone  Art & Design;Pretend Play  January 15, 2018   \n",
              "\n",
              "  Current Ver   Android Ver  Revenue  \\\n",
              "0       2.0.0  4.0.3 and up      0.0   \n",
              "1       2.0.0  4.0.3 and up      0.0   \n",
              "2       2.0.0  4.0.3 and up      0.0   \n",
              "3       2.0.0  4.0.3 and up      0.0   \n",
              "4       2.0.0  4.0.3 and up      0.0   \n",
              "\n",
              "                                   Translated_Review Sentiment  \\\n",
              "0  A kid's excessive ads. The types ads allowed a...  Negative   \n",
              "1                                         It bad >:(  Negative   \n",
              "2                                               like   Neutral   \n",
              "3                                                NaN       NaN   \n",
              "4                           I love colors inspyering  Positive   \n",
              "\n",
              "   Sentiment_Polarity  Sentiment_Subjectivity  \n",
              "0              -0.250                1.000000  \n",
              "1              -0.725                0.833333  \n",
              "2               0.000                0.000000  \n",
              "3                 NaN                     NaN  \n",
              "4               0.500                0.600000  "
            ],
            "text/html": [
              "\n",
              "  <div id=\"df-4d7e1550-9225-4180-83a3-20e8ba353582\">\n",
              "    <div class=\"colab-df-container\">\n",
              "      <div>\n",
              "<style scoped>\n",
              "    .dataframe tbody tr th:only-of-type {\n",
              "        vertical-align: middle;\n",
              "    }\n",
              "\n",
              "    .dataframe tbody tr th {\n",
              "        vertical-align: top;\n",
              "    }\n",
              "\n",
              "    .dataframe thead th {\n",
              "        text-align: right;\n",
              "    }\n",
              "</style>\n",
              "<table border=\"1\" class=\"dataframe\">\n",
              "  <thead>\n",
              "    <tr style=\"text-align: right;\">\n",
              "      <th></th>\n",
              "      <th>App</th>\n",
              "      <th>Category</th>\n",
              "      <th>Rating</th>\n",
              "      <th>Reviews</th>\n",
              "      <th>Size</th>\n",
              "      <th>Installs</th>\n",
              "      <th>Type</th>\n",
              "      <th>Price</th>\n",
              "      <th>Content Rating</th>\n",
              "      <th>Genres</th>\n",
              "      <th>Last Updated</th>\n",
              "      <th>Current Ver</th>\n",
              "      <th>Android Ver</th>\n",
              "      <th>Revenue</th>\n",
              "      <th>Translated_Review</th>\n",
              "      <th>Sentiment</th>\n",
              "      <th>Sentiment_Polarity</th>\n",
              "      <th>Sentiment_Subjectivity</th>\n",
              "    </tr>\n",
              "  </thead>\n",
              "  <tbody>\n",
              "    <tr>\n",
              "      <th>0</th>\n",
              "      <td>Coloring book moana</td>\n",
              "      <td>ART_AND_DESIGN</td>\n",
              "      <td>3.9</td>\n",
              "      <td>967</td>\n",
              "      <td>14.0</td>\n",
              "      <td>500000.0</td>\n",
              "      <td>Free</td>\n",
              "      <td>0.0</td>\n",
              "      <td>Everyone</td>\n",
              "      <td>Art &amp; Design;Pretend Play</td>\n",
              "      <td>January 15, 2018</td>\n",
              "      <td>2.0.0</td>\n",
              "      <td>4.0.3 and up</td>\n",
              "      <td>0.0</td>\n",
              "      <td>A kid's excessive ads. The types ads allowed a...</td>\n",
              "      <td>Negative</td>\n",
              "      <td>-0.250</td>\n",
              "      <td>1.000000</td>\n",
              "    </tr>\n",
              "    <tr>\n",
              "      <th>1</th>\n",
              "      <td>Coloring book moana</td>\n",
              "      <td>ART_AND_DESIGN</td>\n",
              "      <td>3.9</td>\n",
              "      <td>967</td>\n",
              "      <td>14.0</td>\n",
              "      <td>500000.0</td>\n",
              "      <td>Free</td>\n",
              "      <td>0.0</td>\n",
              "      <td>Everyone</td>\n",
              "      <td>Art &amp; Design;Pretend Play</td>\n",
              "      <td>January 15, 2018</td>\n",
              "      <td>2.0.0</td>\n",
              "      <td>4.0.3 and up</td>\n",
              "      <td>0.0</td>\n",
              "      <td>It bad &gt;:(</td>\n",
              "      <td>Negative</td>\n",
              "      <td>-0.725</td>\n",
              "      <td>0.833333</td>\n",
              "    </tr>\n",
              "    <tr>\n",
              "      <th>2</th>\n",
              "      <td>Coloring book moana</td>\n",
              "      <td>ART_AND_DESIGN</td>\n",
              "      <td>3.9</td>\n",
              "      <td>967</td>\n",
              "      <td>14.0</td>\n",
              "      <td>500000.0</td>\n",
              "      <td>Free</td>\n",
              "      <td>0.0</td>\n",
              "      <td>Everyone</td>\n",
              "      <td>Art &amp; Design;Pretend Play</td>\n",
              "      <td>January 15, 2018</td>\n",
              "      <td>2.0.0</td>\n",
              "      <td>4.0.3 and up</td>\n",
              "      <td>0.0</td>\n",
              "      <td>like</td>\n",
              "      <td>Neutral</td>\n",
              "      <td>0.000</td>\n",
              "      <td>0.000000</td>\n",
              "    </tr>\n",
              "    <tr>\n",
              "      <th>3</th>\n",
              "      <td>Coloring book moana</td>\n",
              "      <td>ART_AND_DESIGN</td>\n",
              "      <td>3.9</td>\n",
              "      <td>967</td>\n",
              "      <td>14.0</td>\n",
              "      <td>500000.0</td>\n",
              "      <td>Free</td>\n",
              "      <td>0.0</td>\n",
              "      <td>Everyone</td>\n",
              "      <td>Art &amp; Design;Pretend Play</td>\n",
              "      <td>January 15, 2018</td>\n",
              "      <td>2.0.0</td>\n",
              "      <td>4.0.3 and up</td>\n",
              "      <td>0.0</td>\n",
              "      <td>NaN</td>\n",
              "      <td>NaN</td>\n",
              "      <td>NaN</td>\n",
              "      <td>NaN</td>\n",
              "    </tr>\n",
              "    <tr>\n",
              "      <th>4</th>\n",
              "      <td>Coloring book moana</td>\n",
              "      <td>ART_AND_DESIGN</td>\n",
              "      <td>3.9</td>\n",
              "      <td>967</td>\n",
              "      <td>14.0</td>\n",
              "      <td>500000.0</td>\n",
              "      <td>Free</td>\n",
              "      <td>0.0</td>\n",
              "      <td>Everyone</td>\n",
              "      <td>Art &amp; Design;Pretend Play</td>\n",
              "      <td>January 15, 2018</td>\n",
              "      <td>2.0.0</td>\n",
              "      <td>4.0.3 and up</td>\n",
              "      <td>0.0</td>\n",
              "      <td>I love colors inspyering</td>\n",
              "      <td>Positive</td>\n",
              "      <td>0.500</td>\n",
              "      <td>0.600000</td>\n",
              "    </tr>\n",
              "  </tbody>\n",
              "</table>\n",
              "</div>\n",
              "      <button class=\"colab-df-convert\" onclick=\"convertToInteractive('df-4d7e1550-9225-4180-83a3-20e8ba353582')\"\n",
              "              title=\"Convert this dataframe to an interactive table.\"\n",
              "              style=\"display:none;\">\n",
              "        \n",
              "  <svg xmlns=\"http://www.w3.org/2000/svg\" height=\"24px\"viewBox=\"0 0 24 24\"\n",
              "       width=\"24px\">\n",
              "    <path d=\"M0 0h24v24H0V0z\" fill=\"none\"/>\n",
              "    <path d=\"M18.56 5.44l.94 2.06.94-2.06 2.06-.94-2.06-.94-.94-2.06-.94 2.06-2.06.94zm-11 1L8.5 8.5l.94-2.06 2.06-.94-2.06-.94L8.5 2.5l-.94 2.06-2.06.94zm10 10l.94 2.06.94-2.06 2.06-.94-2.06-.94-.94-2.06-.94 2.06-2.06.94z\"/><path d=\"M17.41 7.96l-1.37-1.37c-.4-.4-.92-.59-1.43-.59-.52 0-1.04.2-1.43.59L10.3 9.45l-7.72 7.72c-.78.78-.78 2.05 0 2.83L4 21.41c.39.39.9.59 1.41.59.51 0 1.02-.2 1.41-.59l7.78-7.78 2.81-2.81c.8-.78.8-2.07 0-2.86zM5.41 20L4 18.59l7.72-7.72 1.47 1.35L5.41 20z\"/>\n",
              "  </svg>\n",
              "      </button>\n",
              "      \n",
              "  <style>\n",
              "    .colab-df-container {\n",
              "      display:flex;\n",
              "      flex-wrap:wrap;\n",
              "      gap: 12px;\n",
              "    }\n",
              "\n",
              "    .colab-df-convert {\n",
              "      background-color: #E8F0FE;\n",
              "      border: none;\n",
              "      border-radius: 50%;\n",
              "      cursor: pointer;\n",
              "      display: none;\n",
              "      fill: #1967D2;\n",
              "      height: 32px;\n",
              "      padding: 0 0 0 0;\n",
              "      width: 32px;\n",
              "    }\n",
              "\n",
              "    .colab-df-convert:hover {\n",
              "      background-color: #E2EBFA;\n",
              "      box-shadow: 0px 1px 2px rgba(60, 64, 67, 0.3), 0px 1px 3px 1px rgba(60, 64, 67, 0.15);\n",
              "      fill: #174EA6;\n",
              "    }\n",
              "\n",
              "    [theme=dark] .colab-df-convert {\n",
              "      background-color: #3B4455;\n",
              "      fill: #D2E3FC;\n",
              "    }\n",
              "\n",
              "    [theme=dark] .colab-df-convert:hover {\n",
              "      background-color: #434B5C;\n",
              "      box-shadow: 0px 1px 3px 1px rgba(0, 0, 0, 0.15);\n",
              "      filter: drop-shadow(0px 1px 2px rgba(0, 0, 0, 0.3));\n",
              "      fill: #FFFFFF;\n",
              "    }\n",
              "  </style>\n",
              "\n",
              "      <script>\n",
              "        const buttonEl =\n",
              "          document.querySelector('#df-4d7e1550-9225-4180-83a3-20e8ba353582 button.colab-df-convert');\n",
              "        buttonEl.style.display =\n",
              "          google.colab.kernel.accessAllowed ? 'block' : 'none';\n",
              "\n",
              "        async function convertToInteractive(key) {\n",
              "          const element = document.querySelector('#df-4d7e1550-9225-4180-83a3-20e8ba353582');\n",
              "          const dataTable =\n",
              "            await google.colab.kernel.invokeFunction('convertToInteractive',\n",
              "                                                     [key], {});\n",
              "          if (!dataTable) return;\n",
              "\n",
              "          const docLinkHtml = 'Like what you see? Visit the ' +\n",
              "            '<a target=\"_blank\" href=https://colab.research.google.com/notebooks/data_table.ipynb>data table notebook</a>'\n",
              "            + ' to learn more about interactive tables.';\n",
              "          element.innerHTML = '';\n",
              "          dataTable['output_type'] = 'display_data';\n",
              "          await google.colab.output.renderOutput(dataTable, element);\n",
              "          const docLink = document.createElement('div');\n",
              "          docLink.innerHTML = docLinkHtml;\n",
              "          element.appendChild(docLink);\n",
              "        }\n",
              "      </script>\n",
              "    </div>\n",
              "  </div>\n",
              "  "
            ]
          },
          "metadata": {},
          "execution_count": 81
        }
      ]
    },
    {
      "cell_type": "code",
      "source": [
        "avs = sns.countplot(merge_df[\"Content Rating\"],hue=merge_df['Sentiment'],palette=\"Set3\")\n",
        "plt.title(\"Age vs Sentiment\",size=15)\n",
        "for p in avs.patches:\n",
        "    avs.annotate(p.get_height(),(p.get_x() + p.get_width()/2,p.get_height()),ha='center',size= 12)\n",
        "plt.show()"
      ],
      "metadata": {
        "colab": {
          "base_uri": "https://localhost:8080/",
          "height": 712
        },
        "id": "R2u-WjRHwTf6",
        "outputId": "bb294f3e-5a1e-456d-bf94-4c6ea3139179"
      },
      "execution_count": null,
      "outputs": [
        {
          "output_type": "stream",
          "name": "stderr",
          "text": [
            "/usr/local/lib/python3.8/dist-packages/seaborn/_decorators.py:36: FutureWarning:\n",
            "\n",
            "Pass the following variable as a keyword arg: x. From version 0.12, the only valid positional argument will be `data`, and passing other arguments without an explicit keyword will result in an error or misinterpretation.\n",
            "\n"
          ]
        },
        {
          "output_type": "display_data",
          "data": {
            "text/plain": [
              "<Figure size 1080x720 with 1 Axes>"
            ],
            "image/png": "[encoded data removed]"
          },
          "metadata": {}
        }
      ]
    },
    {
      "cell_type": "code",
      "source": [],
      "metadata": {
        "id": "JfGy0hFSxJCQ"
      },
      "execution_count": null,
      "outputs": []
    },
    {
      "cell_type": "markdown",
      "source": [
        "## Corelation of both the data set"
      ],
      "metadata": {
        "id": "Pwyxgzs7xNLv"
      }
    },
    {
      "cell_type": "code",
      "source": [
        "sns.heatmap(merge_df.corr(),annot = True,cmap='Greens')\n",
        "plt.title(\"Correlation on merge datas\",fontsize=20)\n",
        "plt.show()"
      ],
      "metadata": {
        "colab": {
          "base_uri": "https://localhost:8080/",
          "height": 718
        },
        "id": "ZWgHdEh3xl9e",
        "outputId": "6e72764d-b175-4279-bbd5-6a11620f12e4"
      },
      "execution_count": null,
      "outputs": [
        {
          "output_type": "display_data",
          "data": {
            "text/plain": [
              "<Figure size 1080x720 with 2 Axes>"
            ],
            "image/png": "[encoded data removed]"
          },
          "metadata": {}
        }
      ]
    },
    {
      "cell_type": "markdown",
      "source": [
        "## paid apps v/s free apps"
      ],
      "metadata": {
        "id": "3zEPEQ3FZMAM"
      }
    },
    {
      "cell_type": "code",
      "source": [
        "play_store_df = play_store['Type'].value_counts()\n",
        "play_store_df"
      ],
      "metadata": {
        "colab": {
          "base_uri": "https://localhost:8080/"
        },
        "id": "qqQvpiqPX_Gj",
        "outputId": "eabf70e9-33cc-496b-940c-2f1528c60014"
      },
      "execution_count": null,
      "outputs": [
        {
          "output_type": "execute_result",
          "data": {
            "text/plain": [
              "Free    10039\n",
              "Paid      800\n",
              "0           1\n",
              "Name: Type, dtype: int64"
            ]
          },
          "metadata": {},
          "execution_count": 8
        }
      ]
    },
    {
      "cell_type": "code",
      "source": [
        "play_store['Type'].value_counts().plot(kind='pie', explode= (0.2,0.2,0.2), shadow=True,autopct='%1.2f%%', pctdistance=1.3, labeldistance=1.6)"
      ],
      "metadata": {
        "colab": {
          "base_uri": "https://localhost:8080/",
          "height": 265
        },
        "id": "BWaDG4E8YUpf",
        "outputId": "dd889845-2e08-411c-dcee-284bc8baee0f"
      },
      "execution_count": null,
      "outputs": [
        {
          "output_type": "execute_result",
          "data": {
            "text/plain": [
              "<matplotlib.axes._subplots.AxesSubplot at 0x7f4d99d34cd0>"
            ]
          },
          "metadata": {},
          "execution_count": 15
        },
        {
          "output_type": "display_data",
          "data": {
            "text/plain": [
              "<Figure size 432x288 with 1 Axes>"
            ],
            "image/png": "[encoded data removed]"
          },
          "metadata": {}
        }
      ]
    },
    {
      "cell_type": "markdown",
      "source": [
        "## **Conclusion**\n",
        "\n",
        "*  Top free app by size is POST BANK of Finance category.\n",
        "*  TEEN contains the most values in the content rating with the total number of 912 values.\n",
        "*  Most of the content rating given by teen is for the free apps that is something around 850.\n",
        "* Most of the apps ratings are between 4.2 and 4.6. Maximum numbers of apps rated is 4.3 followed by 4.4\n",
        "* Every Category under Content Rating is getting rating of 4+ which is good.\n",
        "* Average rating of apps on Google Play Store is {4.17}\n",
        "*  The Health and Fitness and Books and Reference produce the best apps with 50% apps having a rating greater than 4.5. Interestingly, half of the Dating apps have a rating lower than the average.\n",
        "*  The Category who generated the highest revenue is 'Family' followed by 'Lifestyle' and 'Game'.\n",
        "*  More than 50% of the total sentiments are positive in the dataset user review.\n",
        "*  That most sentiments are from 'everyone'(20028) which is positive.\n",
        "* 92.61% of the apps are free in the PlayStore app."
      ],
      "metadata": {
        "id": "RQvSxmrTxxM9"
      }
    }
  ]
}